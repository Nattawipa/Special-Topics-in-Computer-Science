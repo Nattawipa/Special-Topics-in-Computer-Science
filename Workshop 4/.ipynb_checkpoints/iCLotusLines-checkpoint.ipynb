{
 "cells": [
  {
   "cell_type": "markdown",
   "metadata": {
    "colab_type": "text",
    "id": "GuYm73-CFHsm"
   },
   "source": [
    "# iCLotus Store Simulation\n",
    "\n",
    "At iCLotus Store, we have the highest number of customer complaints in decade. Based on the exploratory data analytics, we have found that most of the complaints came from the long wait line at the cashier. Based on this data, we estimated that if a customer waits over 10 minutes at the line, the customer develops the dissatisfaction. This dissatisfaction costs the store overall about 10฿. If they open a cashier line, it cost 100฿ per hour. Note that, all cashier lines open from the first customer to the last customer. \n",
    "\n",
    "The question is how many cashier lines should we open to minimize the operation costs vs the customer dissatisfaction costs."
   ]
  },
  {
   "cell_type": "code",
   "execution_count": 2,
   "metadata": {
    "colab": {},
    "colab_type": "code",
    "id": "kD3yam4w_pmt"
   },
   "outputs": [],
   "source": [
    "import numpy as np\n",
    "import matplotlib.pyplot as plt"
   ]
  },
  {
   "cell_type": "markdown",
   "metadata": {
    "colab_type": "text",
    "id": "YmL1bTefOVFx"
   },
   "source": [
    "For this simulation, we assume that there are 100000 customers at the store. We want to test simulate the costs of operation and the cost of customer dissatisfaction for these customers based on the number of open lines. Note that, iCLotus has the maximum of 20 cashier lines. "
   ]
  },
  {
   "cell_type": "code",
   "execution_count": 3,
   "metadata": {
    "colab": {},
    "colab_type": "code",
    "id": "IALTp4GwHQ1T"
   },
   "outputs": [],
   "source": [
    "n = 100000\n",
    "lineCosts = 100\n",
    "counters = 20\n",
    "maxWT = 10\n",
    "wtCost = 10\n",
    "totalLC = np.zeros(counters)\n"
   ]
  },
  {
   "cell_type": "markdown",
   "metadata": {
    "colab_type": "text",
    "id": "T1gGNhAkPeHL"
   },
   "source": [
    "Assuming that the customers enter the cashier line one after another at random time according to the Gamma distribution. Specifically, the next customer will enter the lines with the Gamma distribution with the mean of 0.5 minute. Then, the customer chooses a line at random (uniform distribution). In addition, the service times of each customer is also generated at random according to the Gamma distribution. We set the mean of the service time at around 3.5 minutes. \n",
    "\n",
    "If there is no customer ahead of the current customer at the line, the customer can be serviced right away. The maximum operation duration of a line is the operation time of all the lines.\n"
   ]
  },
  {
   "cell_type": "code",
   "execution_count": 0,
   "metadata": {
    "colab": {},
    "colab_type": "code",
    "id": "ZD9y19xTH78-"
   },
   "outputs": [],
   "source": [
    "for i in range(1, counters+1):\n",
    "  maxlinedur = list()\n",
    "  countersCus = list()\n",
    "  counterCost = np.zeros(i)\n",
    "  maxD = np.zeros(i)\n",
    "  countersCus = list()  \n",
    "  for j in range(i):\n",
    "    countersCus.append(list())\n",
    "\n",
    "  cc = np.random.choice(range(1,i+1), size=n, replace=True)\n",
    "  iatimes = np.random.gamma(0.2517,scale=1.854,size=n-1)\n",
    "  sertimes = np.random.gamma(6.917,scale=0.492,size=n)\n",
    "  arrtimes = np.cumsum(iatimes)\n",
    "  arrtimes = np.insert(arrtimes,0,0)\n",
    "  arrivaltimeat = list()\n",
    "  servicetimeat = list()\n",
    "  \n",
    "  for j in range(i):\n",
    "    arrivaltimeat.append(list())\n",
    "    servicetimeat.append(list())\n",
    "\n",
    "  for j in range(n):\n",
    "    countersCus[cc[j]-1].append(j)\n",
    "    arrivaltimeat[cc[j]-1].append(arrtimes[j])\n",
    "    servicetimeat[cc[j]-1].append(sertimes[j])\n",
    "  \n",
    "  #print('Round: {} cc size {}'.format(i, len(cc)))\n",
    "  cost = 0\n",
    "  for k in range(i):\n",
    "    T = np.zeros(len(countersCus[k]))# service start time\n",
    "    D = np.zeros(len(countersCus[k]))# duration time\n",
    "    W = np.zeros(len(countersCus[k]))# wait time\n",
    "\n",
    "    T[0] = arrivaltimeat[k][0]\n",
    "    D[0] = T[0] + servicetimeat[k][0]\n",
    "    W[0] = 0\n",
    "\n",
    "    for t in range(1,len(countersCus[k])):\n",
    "      T[t] = max(D[t-1], arrivaltimeat[k][t])\n",
    "      D[t] = T[t] + servicetimeat[k][t]\n",
    "      W[t] = T[t] - arrivaltimeat[k][t]\n",
    "      if W[t] > maxWT:\n",
    "        counterCost[i-1] = counterCost[i-1] + 1\n",
    "    #print('AT {}'.format(max(arrivaltimeat[k])))\n",
    "    #print('ST {}'.format(np.mean(servicetimeat[k])))\n",
    "    #print(T)\n",
    "    #print(D)\n",
    "    #print(max(W))\n",
    "    maxD[k] = max(D)\n",
    "  #print('Round: {} has {} customers.'.format(i, counterCost[i-1]))\n",
    "  #print(max(maxD),counterCost[i-1])  \n",
    "  totalLC[i-1] = wtCost*counterCost[i-1] + (i*lineCosts*max(maxD)/(60))"
   ]
  },
  {
   "cell_type": "code",
   "execution_count": 0,
   "metadata": {
    "colab": {
     "base_uri": "https://localhost:8080/",
     "height": 312
    },
    "colab_type": "code",
    "id": "FDM0lLxIYPWS",
    "outputId": "bb001ad1-0082-4614-93f4-3baf134097e9"
   },
   "outputs": [
    {
     "data": {
      "text/plain": [
       "Text(0.5, 1.0, 'The simulation result for the decision on the number of cashier lines.')"
      ]
     },
     "execution_count": 60,
     "metadata": {
      "tags": []
     },
     "output_type": "execute_result"
    },
    {
     "data": {
      "image/png": "[encoded data removed]",
      "text/plain": [
       "<Figure size 432x288 with 1 Axes>"
      ]
     },
     "metadata": {
      "tags": []
     },
     "output_type": "display_data"
    }
   ],
   "source": [
    "plt.plot(range(1,counters+1), totalLC)\n",
    "plt.xlabel('Number of cashier lines')\n",
    "plt.ylabel('Total operation costs')\n",
    "plt.title('The simulation result for the decision on the number of cashier lines.')"
   ]
  },
  {
   "cell_type": "markdown",
   "metadata": {
    "colab_type": "text",
    "id": "j_p9nHNxVUuL"
   },
   "source": [
    "# Decision Decision Decision\n",
    "\n",
    "Based on this result, the optimal number of cashier lines is 11. \n",
    "\n",
    "Ex1: Can you convert the code above into function, so that we can give the Gamma distributions, the parameters: {n, lineCosts, counters, maxWT, wtCost} and that it will return the optimal number of lines.\n",
    "\n"
   ]
  },
  {
   "cell_type": "markdown",
   "metadata": {},
   "source": [
    "Ex2: If we change the Gamma Distribution, its shape and scale, for both the arrival time and the survice time, what happen? Can you explain the results?"
   ]
  },
  {
   "cell_type": "markdown",
   "metadata": {},
   "source": [
    "Ex3: What are the correlation among the parameters, {n, lineCosts, counters, maxWT, wtCost}, to the optimal value?"
   ]
  },
  {
   "cell_type": "code",
   "execution_count": 5,
   "metadata": {},
   "outputs": [
    {
     "data": {
      "text/plain": [
       "(array([3.4510e+03, 2.4998e+04, 3.4911e+04, 2.2729e+04, 9.6950e+03,\n",
       "        3.1470e+03, 8.2900e+02, 1.9600e+02, 3.7000e+01, 7.0000e+00]),\n",
       " array([ 0.33993023,  1.45847961,  2.57702899,  3.69557838,  4.81412776,\n",
       "         5.93267714,  7.05122652,  8.1697759 ,  9.28832529, 10.40687467,\n",
       "        11.52542405]),\n",
       " <a list of 10 Patch objects>)"
      ]
     },
     "execution_count": 5,
     "metadata": {},
     "output_type": "execute_result"
    },
    {
     "data": {
      "image/png": "[encoded data removed]",
      "text/plain": [
       "<Figure size 432x288 with 1 Axes>"
      ]
     },
     "metadata": {
      "needs_background": "light"
     },
     "output_type": "display_data"
    }
   ],
   "source": [
    "sertimes = np.random.gamma(6.917,scale=0.492,size=n)\n",
    "plt.hist(sertimes)"
   ]
  },
  {
   "cell_type": "code",
   "execution_count": null,
   "metadata": {},
   "outputs": [],
   "source": []
  }
 ],
 "metadata": {
  "colab": {
   "collapsed_sections": [],
   "name": "iCLotusLines.ipynb",
   "provenance": []
  },
  "kernelspec": {
   "display_name": "Python 3",
   "language": "python",
   "name": "python3"
  },
  "language_info": {
   "codemirror_mode": {
    "name": "ipython",
    "version": 3
   },
   "file_extension": ".py",
   "mimetype": "text/x-python",
   "name": "python",
   "nbconvert_exporter": "python",
   "pygments_lexer": "ipython3",
   "version": "3.7.6"
  }
 },
 "nbformat": 4,
 "nbformat_minor": 1
}
