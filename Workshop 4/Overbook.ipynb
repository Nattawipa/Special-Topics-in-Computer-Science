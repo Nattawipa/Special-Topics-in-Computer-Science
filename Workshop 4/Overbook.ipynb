{
 "cells": [
  {
   "cell_type": "markdown",
   "metadata": {},
   "source": [
    "# Overbooking\n",
    "\n",
    "This workbook illustrates how the simulation model can solve the optimization problem."
   ]
  },
  {
   "cell_type": "code",
   "execution_count": 31,
   "metadata": {
    "colab": {},
    "colab_type": "code",
    "id": "al1wwadKv2NP"
   },
   "outputs": [],
   "source": [
    "import numpy as np\n",
    "import matplotlib.pyplot as plt\n"
   ]
  },
  {
   "cell_type": "markdown",
   "metadata": {},
   "source": [
    "We set the rate of the customer not showing up to 0.1. We set the number of iteration to 10000 trials.  "
   ]
  },
  {
   "cell_type": "code",
   "execution_count": 32,
   "metadata": {
    "colab": {},
    "colab_type": "code",
    "id": "vJdjeFpIwEo2"
   },
   "outputs": [],
   "source": [
    "iteration = 10000\n",
    "P = 0.1"
   ]
  },
  {
   "cell_type": "markdown",
   "metadata": {},
   "source": [
    "We explore the number of overbooking ticket from 0 to 20. Note that, this is only for the case of plane with 100 seats."
   ]
  },
  {
   "cell_type": "code",
   "execution_count": 37,
   "metadata": {
    "colab": {},
    "colab_type": "code",
    "id": "FX2VMytm0kq8"
   },
   "outputs": [],
   "source": [
    "X = np.array(range(0,21))"
   ]
  },
  {
   "cell_type": "code",
   "execution_count": 38,
   "metadata": {
    "colab": {},
    "colab_type": "code",
    "id": "dcPYm5eq1NSs"
   },
   "outputs": [],
   "source": [
    "ERs = list()"
   ]
  },
  {
   "cell_type": "markdown",
   "metadata": {},
   "source": [
    "What is the Binomial Distribution? What are its mean and standard diviation? Can you explain it in your own words below?\n",
    "\n",
    "ANS:"
   ]
  },
  {
   "cell_type": "code",
   "execution_count": 51,
   "metadata": {
    "colab": {},
    "colab_type": "code",
    "id": "GKjly2ZJ1Rsj"
   },
   "outputs": [],
   "source": [
    "X = np.array(range(0,21))\n",
    "ERs = list()\n",
    "seats = 100\n",
    "price = 2000\n",
    "cost = 2500\n",
    "for x in X:\n",
    "  success = np.random.binomial(seats+x, 1-P, iteration).mean()\n",
    "  R = price*(seats+x)\n",
    "  tCost = cost*(success-seats)\n",
    "  if tCost > 0:\n",
    "    ER = R - tCost\n",
    "  else:\n",
    "    ER = R\n",
    "  ERs.append(ER)"
   ]
  },
  {
   "cell_type": "code",
   "execution_count": 52,
   "metadata": {
    "colab": {
     "base_uri": "https://localhost:8080/",
     "height": 312
    },
    "colab_type": "code",
    "executionInfo": {
     "elapsed": 1267,
     "status": "ok",
     "timestamp": 1583905625386,
     "user": {
      "displayName": "Apirak Hoonlor",
      "photoUrl": "",
      "userId": "09538319415670710831"
     },
     "user_tz": -420
    },
    "id": "N3BPMb6u4Tpk",
    "outputId": "89ea9436-bba8-44f8-fc1a-97256bc0ac90"
   },
   "outputs": [
    {
     "data": {
      "text/plain": [
       "Text(0.5, 1.0, 'The Expected Revenue from Ticket sells and Compensation costs VS Number of Overbooking sales')"
      ]
     },
     "execution_count": 52,
     "metadata": {},
     "output_type": "execute_result"
    },
    {
     "data": {
      "image/png": "[encoded data removed]",
      "text/plain": [
       "<Figure size 432x288 with 1 Axes>"
      ]
     },
     "metadata": {
      "needs_background": "light"
     },
     "output_type": "display_data"
    }
   ],
   "source": [
    "plt.plot(X, ERs)\n",
    "plt.xlabel('Number of Overbooking ticket')\n",
    "plt.ylabel('Expected Revenue')\n",
    "plt.title('The Expected Revenue from Ticket sells and Compensation costs VS Number of Overbooking sales')"
   ]
  },
  {
   "cell_type": "markdown",
   "metadata": {
    "colab_type": "text",
    "id": "VWLhVlyB9UOO"
   },
   "source": [
    "# This is for a particular aircraft, pricing, and rate of no-show customer\n",
    "\n",
    "Ex 1: Write a function to simulate for the optimal number of overbooking tickets with Number of seats, Pricing for each ticket, Cost of compensation, rate of no-show. "
   ]
  },
  {
   "cell_type": "markdown",
   "metadata": {},
   "source": [
    "Ex 2: Is there is a relationship (correlation) between those numbers in Ex1?"
   ]
  }
 ],
 "metadata": {
  "colab": {
   "authorship_tag": "ABX9TyOHv/VWo+8auwBRVwktVEGG",
   "collapsed_sections": [],
   "name": "Overbook.ipynb",
   "provenance": []
  },
  "kernelspec": {
   "display_name": "Python 3",
   "language": "python",
   "name": "python3"
  },
  "language_info": {
   "codemirror_mode": {
    "name": "ipython",
    "version": 3
   },
   "file_extension": ".py",
   "mimetype": "text/x-python",
   "name": "python",
   "nbconvert_exporter": "python",
   "pygments_lexer": "ipython3",
   "version": "3.7.6"
  }
 },
 "nbformat": 4,
 "nbformat_minor": 1
}
