{
 "cells": [
  {
   "cell_type": "markdown",
   "metadata": {},
   "source": [
    "## ☯ Load & prepare the dataset \n",
    "### Read File"
   ]
  },
  {
   "cell_type": "code",
   "execution_count": 22,
   "metadata": {},
   "outputs": [
    {
     "data": {
      "text/html": [
       "<div>\n",
       "<style scoped>\n",
       "    .dataframe tbody tr th:only-of-type {\n",
       "        vertical-align: middle;\n",
       "    }\n",
       "\n",
       "    .dataframe tbody tr th {\n",
       "        vertical-align: top;\n",
       "    }\n",
       "\n",
       "    .dataframe thead th {\n",
       "        text-align: right;\n",
       "    }\n",
       "</style>\n",
       "<table border=\"1\" class=\"dataframe\">\n",
       "  <thead>\n",
       "    <tr style=\"text-align: right;\">\n",
       "      <th></th>\n",
       "      <th>target</th>\n",
       "      <th>age</th>\n",
       "      <th>sex</th>\n",
       "      <th>num1</th>\n",
       "      <th>num2</th>\n",
       "      <th>num3</th>\n",
       "      <th>num4</th>\n",
       "      <th>num5</th>\n",
       "      <th>ord1</th>\n",
       "      <th>ord2</th>\n",
       "      <th>ord3</th>\n",
       "      <th>ord4</th>\n",
       "      <th>ord5</th>\n",
       "      <th>ord6</th>\n",
       "    </tr>\n",
       "  </thead>\n",
       "  <tbody>\n",
       "    <tr>\n",
       "      <th>0</th>\n",
       "      <td>-1</td>\n",
       "      <td>69</td>\n",
       "      <td>1</td>\n",
       "      <td>160.0</td>\n",
       "      <td>286.0</td>\n",
       "      <td>108.0</td>\n",
       "      <td>1.5</td>\n",
       "      <td>2.0</td>\n",
       "      <td>0.0</td>\n",
       "      <td>0.0</td>\n",
       "      <td>0.0</td>\n",
       "      <td>1.0</td>\n",
       "      <td>1</td>\n",
       "      <td>3</td>\n",
       "    </tr>\n",
       "    <tr>\n",
       "      <th>1</th>\n",
       "      <td>-1</td>\n",
       "      <td>69</td>\n",
       "      <td>1</td>\n",
       "      <td>120.0</td>\n",
       "      <td>229.0</td>\n",
       "      <td>129.0</td>\n",
       "      <td>2.6</td>\n",
       "      <td>3.0</td>\n",
       "      <td>NaN</td>\n",
       "      <td>NaN</td>\n",
       "      <td>NaN</td>\n",
       "      <td>1.0</td>\n",
       "      <td>1</td>\n",
       "      <td>2</td>\n",
       "    </tr>\n",
       "    <tr>\n",
       "      <th>2</th>\n",
       "      <td>-1</td>\n",
       "      <td>64</td>\n",
       "      <td>0</td>\n",
       "      <td>140.0</td>\n",
       "      <td>268.0</td>\n",
       "      <td>160.0</td>\n",
       "      <td>3.6</td>\n",
       "      <td>2.0</td>\n",
       "      <td>0.0</td>\n",
       "      <td>0.0</td>\n",
       "      <td>0.0</td>\n",
       "      <td>0.0</td>\n",
       "      <td>0</td>\n",
       "      <td>2</td>\n",
       "    </tr>\n",
       "    <tr>\n",
       "      <th>3</th>\n",
       "      <td>-1</td>\n",
       "      <td>65</td>\n",
       "      <td>1</td>\n",
       "      <td>130.0</td>\n",
       "      <td>254.0</td>\n",
       "      <td>147.0</td>\n",
       "      <td>1.4</td>\n",
       "      <td>3.0</td>\n",
       "      <td>0.0</td>\n",
       "      <td>0.0</td>\n",
       "      <td>0.0</td>\n",
       "      <td>0.0</td>\n",
       "      <td>1</td>\n",
       "      <td>1</td>\n",
       "    </tr>\n",
       "    <tr>\n",
       "      <th>4</th>\n",
       "      <td>-1</td>\n",
       "      <td>53</td>\n",
       "      <td>M</td>\n",
       "      <td>140.0</td>\n",
       "      <td>203.0</td>\n",
       "      <td>155.0</td>\n",
       "      <td>3.1</td>\n",
       "      <td>3.0</td>\n",
       "      <td>0.0</td>\n",
       "      <td>1.0</td>\n",
       "      <td>0.0</td>\n",
       "      <td>1.0</td>\n",
       "      <td>0</td>\n",
       "      <td>0</td>\n",
       "    </tr>\n",
       "    <tr>\n",
       "      <th>...</th>\n",
       "      <td>...</td>\n",
       "      <td>...</td>\n",
       "      <td>...</td>\n",
       "      <td>...</td>\n",
       "      <td>...</td>\n",
       "      <td>...</td>\n",
       "      <td>...</td>\n",
       "      <td>...</td>\n",
       "      <td>...</td>\n",
       "      <td>...</td>\n",
       "      <td>...</td>\n",
       "      <td>...</td>\n",
       "      <td>...</td>\n",
       "      <td>...</td>\n",
       "    </tr>\n",
       "    <tr>\n",
       "      <th>298</th>\n",
       "      <td>1</td>\n",
       "      <td>56</td>\n",
       "      <td>M</td>\n",
       "      <td>120.0</td>\n",
       "      <td>240.0</td>\n",
       "      <td>169.0</td>\n",
       "      <td>0.0</td>\n",
       "      <td>2.0</td>\n",
       "      <td>1.0</td>\n",
       "      <td>NaN</td>\n",
       "      <td>1.0</td>\n",
       "      <td>NaN</td>\n",
       "      <td>0</td>\n",
       "      <td>0</td>\n",
       "    </tr>\n",
       "    <tr>\n",
       "      <th>299</th>\n",
       "      <td>1</td>\n",
       "      <td>55</td>\n",
       "      <td>M</td>\n",
       "      <td>132.0</td>\n",
       "      <td>342.0</td>\n",
       "      <td>166.0</td>\n",
       "      <td>1.2</td>\n",
       "      <td>2.0</td>\n",
       "      <td>1.0</td>\n",
       "      <td>NaN</td>\n",
       "      <td>1.0</td>\n",
       "      <td>NaN</td>\n",
       "      <td>2</td>\n",
       "      <td>0</td>\n",
       "    </tr>\n",
       "    <tr>\n",
       "      <th>300</th>\n",
       "      <td>1</td>\n",
       "      <td>41</td>\n",
       "      <td>M</td>\n",
       "      <td>120.0</td>\n",
       "      <td>157.0</td>\n",
       "      <td>182.0</td>\n",
       "      <td>0.0</td>\n",
       "      <td>2.0</td>\n",
       "      <td>1.0</td>\n",
       "      <td>NaN</td>\n",
       "      <td>1.0</td>\n",
       "      <td>NaN</td>\n",
       "      <td>2</td>\n",
       "      <td>0</td>\n",
       "    </tr>\n",
       "    <tr>\n",
       "      <th>301</th>\n",
       "      <td>1</td>\n",
       "      <td>38</td>\n",
       "      <td>M</td>\n",
       "      <td>138.0</td>\n",
       "      <td>175.0</td>\n",
       "      <td>173.0</td>\n",
       "      <td>0.0</td>\n",
       "      <td>2.0</td>\n",
       "      <td>2.0</td>\n",
       "      <td>NaN</td>\n",
       "      <td>1.0</td>\n",
       "      <td>NaN</td>\n",
       "      <td>2</td>\n",
       "      <td>4</td>\n",
       "    </tr>\n",
       "    <tr>\n",
       "      <th>302</th>\n",
       "      <td>1</td>\n",
       "      <td>38</td>\n",
       "      <td>M</td>\n",
       "      <td>138.0</td>\n",
       "      <td>175.0</td>\n",
       "      <td>173.0</td>\n",
       "      <td>0.0</td>\n",
       "      <td>2.0</td>\n",
       "      <td>2.0</td>\n",
       "      <td>NaN</td>\n",
       "      <td>1.0</td>\n",
       "      <td>NaN</td>\n",
       "      <td>2</td>\n",
       "      <td>4</td>\n",
       "    </tr>\n",
       "  </tbody>\n",
       "</table>\n",
       "<p>303 rows × 14 columns</p>\n",
       "</div>"
      ],
      "text/plain": [
       "     target  age sex   num1   num2   num3  num4  num5  ord1  ord2  ord3  ord4  \\\n",
       "0        -1   69   1  160.0  286.0  108.0   1.5   2.0   0.0   0.0   0.0   1.0   \n",
       "1        -1   69   1  120.0  229.0  129.0   2.6   3.0   NaN   NaN   NaN   1.0   \n",
       "2        -1   64   0  140.0  268.0  160.0   3.6   2.0   0.0   0.0   0.0   0.0   \n",
       "3        -1   65   1  130.0  254.0  147.0   1.4   3.0   0.0   0.0   0.0   0.0   \n",
       "4        -1   53   M  140.0  203.0  155.0   3.1   3.0   0.0   1.0   0.0   1.0   \n",
       "..      ...  ...  ..    ...    ...    ...   ...   ...   ...   ...   ...   ...   \n",
       "298       1   56   M  120.0  240.0  169.0   0.0   2.0   1.0   NaN   1.0   NaN   \n",
       "299       1   55   M  132.0  342.0  166.0   1.2   2.0   1.0   NaN   1.0   NaN   \n",
       "300       1   41   M  120.0  157.0  182.0   0.0   2.0   1.0   NaN   1.0   NaN   \n",
       "301       1   38   M  138.0  175.0  173.0   0.0   2.0   2.0   NaN   1.0   NaN   \n",
       "302       1   38   M  138.0  175.0  173.0   0.0   2.0   2.0   NaN   1.0   NaN   \n",
       "\n",
       "     ord5  ord6  \n",
       "0       1     3  \n",
       "1       1     2  \n",
       "2       0     2  \n",
       "3       1     1  \n",
       "4       0     0  \n",
       "..    ...   ...  \n",
       "298     0     0  \n",
       "299     2     0  \n",
       "300     2     0  \n",
       "301     2     4  \n",
       "302     2     4  \n",
       "\n",
       "[303 rows x 14 columns]"
      ]
     },
     "execution_count": 22,
     "metadata": {},
     "output_type": "execute_result"
    }
   ],
   "source": [
    "import pandas as pd\n",
    "import matplotlib.pyplot as plt\n",
    "import seaborn as sns\n",
    "import numpy as np\n",
    "\n",
    "df = pd.read_csv ('hw1_std.csv')\n",
    "\n",
    "df"
   ]
  },
  {
   "cell_type": "code",
   "execution_count": 23,
   "metadata": {},
   "outputs": [
    {
     "data": {
      "text/plain": [
       "target       0.995345\n",
       "age         95.971368\n",
       "num1       304.037860\n",
       "num2      2673.904337\n",
       "num3       517.635440\n",
       "num4         1.356066\n",
       "num5         0.371274\n",
       "ord1         1.065554\n",
       "ord2         0.131177\n",
       "ord3         0.276518\n",
       "ord4         0.224862\n",
       "ord5         0.379735\n",
       "ord6         1.045724\n",
       "dtype: float64"
      ]
     },
     "execution_count": 23,
     "metadata": {},
     "output_type": "execute_result"
    }
   ],
   "source": [
    "df.var()"
   ]
  },
  {
   "cell_type": "markdown",
   "metadata": {},
   "source": [
    "### Clean Data\n",
    "- Check null value in each column"
   ]
  },
  {
   "cell_type": "code",
   "execution_count": 24,
   "metadata": {},
   "outputs": [
    {
     "data": {
      "text/plain": [
       "target     0\n",
       "age        0\n",
       "sex        0\n",
       "num1       3\n",
       "num2       3\n",
       "num3       3\n",
       "num4       3\n",
       "num5       2\n",
       "ord1       1\n",
       "ord2      12\n",
       "ord3       1\n",
       "ord4      11\n",
       "ord5       0\n",
       "ord6       0\n",
       "dtype: int64"
      ]
     },
     "execution_count": 24,
     "metadata": {},
     "output_type": "execute_result"
    }
   ],
   "source": [
    "df.isnull().sum()"
   ]
  },
  {
   "cell_type": "markdown",
   "metadata": {},
   "source": [
    "- Replace all missing values ' Nan ' with ' 0 ' "
   ]
  },
  {
   "cell_type": "code",
   "execution_count": 25,
   "metadata": {},
   "outputs": [
    {
     "data": {
      "text/html": [
       "<div>\n",
       "<style scoped>\n",
       "    .dataframe tbody tr th:only-of-type {\n",
       "        vertical-align: middle;\n",
       "    }\n",
       "\n",
       "    .dataframe tbody tr th {\n",
       "        vertical-align: top;\n",
       "    }\n",
       "\n",
       "    .dataframe thead th {\n",
       "        text-align: right;\n",
       "    }\n",
       "</style>\n",
       "<table border=\"1\" class=\"dataframe\">\n",
       "  <thead>\n",
       "    <tr style=\"text-align: right;\">\n",
       "      <th></th>\n",
       "      <th>target</th>\n",
       "      <th>age</th>\n",
       "      <th>sex</th>\n",
       "      <th>num1</th>\n",
       "      <th>num2</th>\n",
       "      <th>num3</th>\n",
       "      <th>num4</th>\n",
       "      <th>num5</th>\n",
       "      <th>ord1</th>\n",
       "      <th>ord2</th>\n",
       "      <th>ord3</th>\n",
       "      <th>ord4</th>\n",
       "      <th>ord5</th>\n",
       "      <th>ord6</th>\n",
       "    </tr>\n",
       "  </thead>\n",
       "  <tbody>\n",
       "    <tr>\n",
       "      <th>0</th>\n",
       "      <td>-1</td>\n",
       "      <td>69</td>\n",
       "      <td>1</td>\n",
       "      <td>160.0</td>\n",
       "      <td>286.0</td>\n",
       "      <td>108.0</td>\n",
       "      <td>1.5</td>\n",
       "      <td>2.0</td>\n",
       "      <td>0.0</td>\n",
       "      <td>0.0</td>\n",
       "      <td>0.0</td>\n",
       "      <td>1.0</td>\n",
       "      <td>1</td>\n",
       "      <td>3</td>\n",
       "    </tr>\n",
       "    <tr>\n",
       "      <th>1</th>\n",
       "      <td>-1</td>\n",
       "      <td>69</td>\n",
       "      <td>1</td>\n",
       "      <td>120.0</td>\n",
       "      <td>229.0</td>\n",
       "      <td>129.0</td>\n",
       "      <td>2.6</td>\n",
       "      <td>3.0</td>\n",
       "      <td>0.0</td>\n",
       "      <td>0.0</td>\n",
       "      <td>0.0</td>\n",
       "      <td>1.0</td>\n",
       "      <td>1</td>\n",
       "      <td>2</td>\n",
       "    </tr>\n",
       "    <tr>\n",
       "      <th>2</th>\n",
       "      <td>-1</td>\n",
       "      <td>64</td>\n",
       "      <td>0</td>\n",
       "      <td>140.0</td>\n",
       "      <td>268.0</td>\n",
       "      <td>160.0</td>\n",
       "      <td>3.6</td>\n",
       "      <td>2.0</td>\n",
       "      <td>0.0</td>\n",
       "      <td>0.0</td>\n",
       "      <td>0.0</td>\n",
       "      <td>0.0</td>\n",
       "      <td>0</td>\n",
       "      <td>2</td>\n",
       "    </tr>\n",
       "    <tr>\n",
       "      <th>3</th>\n",
       "      <td>-1</td>\n",
       "      <td>65</td>\n",
       "      <td>1</td>\n",
       "      <td>130.0</td>\n",
       "      <td>254.0</td>\n",
       "      <td>147.0</td>\n",
       "      <td>1.4</td>\n",
       "      <td>3.0</td>\n",
       "      <td>0.0</td>\n",
       "      <td>0.0</td>\n",
       "      <td>0.0</td>\n",
       "      <td>0.0</td>\n",
       "      <td>1</td>\n",
       "      <td>1</td>\n",
       "    </tr>\n",
       "    <tr>\n",
       "      <th>4</th>\n",
       "      <td>-1</td>\n",
       "      <td>53</td>\n",
       "      <td>M</td>\n",
       "      <td>140.0</td>\n",
       "      <td>203.0</td>\n",
       "      <td>155.0</td>\n",
       "      <td>3.1</td>\n",
       "      <td>3.0</td>\n",
       "      <td>0.0</td>\n",
       "      <td>1.0</td>\n",
       "      <td>0.0</td>\n",
       "      <td>1.0</td>\n",
       "      <td>0</td>\n",
       "      <td>0</td>\n",
       "    </tr>\n",
       "    <tr>\n",
       "      <th>...</th>\n",
       "      <td>...</td>\n",
       "      <td>...</td>\n",
       "      <td>...</td>\n",
       "      <td>...</td>\n",
       "      <td>...</td>\n",
       "      <td>...</td>\n",
       "      <td>...</td>\n",
       "      <td>...</td>\n",
       "      <td>...</td>\n",
       "      <td>...</td>\n",
       "      <td>...</td>\n",
       "      <td>...</td>\n",
       "      <td>...</td>\n",
       "      <td>...</td>\n",
       "    </tr>\n",
       "    <tr>\n",
       "      <th>298</th>\n",
       "      <td>1</td>\n",
       "      <td>56</td>\n",
       "      <td>M</td>\n",
       "      <td>120.0</td>\n",
       "      <td>240.0</td>\n",
       "      <td>169.0</td>\n",
       "      <td>0.0</td>\n",
       "      <td>2.0</td>\n",
       "      <td>1.0</td>\n",
       "      <td>0.0</td>\n",
       "      <td>1.0</td>\n",
       "      <td>0.0</td>\n",
       "      <td>0</td>\n",
       "      <td>0</td>\n",
       "    </tr>\n",
       "    <tr>\n",
       "      <th>299</th>\n",
       "      <td>1</td>\n",
       "      <td>55</td>\n",
       "      <td>M</td>\n",
       "      <td>132.0</td>\n",
       "      <td>342.0</td>\n",
       "      <td>166.0</td>\n",
       "      <td>1.2</td>\n",
       "      <td>2.0</td>\n",
       "      <td>1.0</td>\n",
       "      <td>0.0</td>\n",
       "      <td>1.0</td>\n",
       "      <td>0.0</td>\n",
       "      <td>2</td>\n",
       "      <td>0</td>\n",
       "    </tr>\n",
       "    <tr>\n",
       "      <th>300</th>\n",
       "      <td>1</td>\n",
       "      <td>41</td>\n",
       "      <td>M</td>\n",
       "      <td>120.0</td>\n",
       "      <td>157.0</td>\n",
       "      <td>182.0</td>\n",
       "      <td>0.0</td>\n",
       "      <td>2.0</td>\n",
       "      <td>1.0</td>\n",
       "      <td>0.0</td>\n",
       "      <td>1.0</td>\n",
       "      <td>0.0</td>\n",
       "      <td>2</td>\n",
       "      <td>0</td>\n",
       "    </tr>\n",
       "    <tr>\n",
       "      <th>301</th>\n",
       "      <td>1</td>\n",
       "      <td>38</td>\n",
       "      <td>M</td>\n",
       "      <td>138.0</td>\n",
       "      <td>175.0</td>\n",
       "      <td>173.0</td>\n",
       "      <td>0.0</td>\n",
       "      <td>2.0</td>\n",
       "      <td>2.0</td>\n",
       "      <td>0.0</td>\n",
       "      <td>1.0</td>\n",
       "      <td>0.0</td>\n",
       "      <td>2</td>\n",
       "      <td>4</td>\n",
       "    </tr>\n",
       "    <tr>\n",
       "      <th>302</th>\n",
       "      <td>1</td>\n",
       "      <td>38</td>\n",
       "      <td>M</td>\n",
       "      <td>138.0</td>\n",
       "      <td>175.0</td>\n",
       "      <td>173.0</td>\n",
       "      <td>0.0</td>\n",
       "      <td>2.0</td>\n",
       "      <td>2.0</td>\n",
       "      <td>0.0</td>\n",
       "      <td>1.0</td>\n",
       "      <td>0.0</td>\n",
       "      <td>2</td>\n",
       "      <td>4</td>\n",
       "    </tr>\n",
       "  </tbody>\n",
       "</table>\n",
       "<p>303 rows × 14 columns</p>\n",
       "</div>"
      ],
      "text/plain": [
       "     target  age sex   num1   num2   num3  num4  num5  ord1  ord2  ord3  ord4  \\\n",
       "0        -1   69   1  160.0  286.0  108.0   1.5   2.0   0.0   0.0   0.0   1.0   \n",
       "1        -1   69   1  120.0  229.0  129.0   2.6   3.0   0.0   0.0   0.0   1.0   \n",
       "2        -1   64   0  140.0  268.0  160.0   3.6   2.0   0.0   0.0   0.0   0.0   \n",
       "3        -1   65   1  130.0  254.0  147.0   1.4   3.0   0.0   0.0   0.0   0.0   \n",
       "4        -1   53   M  140.0  203.0  155.0   3.1   3.0   0.0   1.0   0.0   1.0   \n",
       "..      ...  ...  ..    ...    ...    ...   ...   ...   ...   ...   ...   ...   \n",
       "298       1   56   M  120.0  240.0  169.0   0.0   2.0   1.0   0.0   1.0   0.0   \n",
       "299       1   55   M  132.0  342.0  166.0   1.2   2.0   1.0   0.0   1.0   0.0   \n",
       "300       1   41   M  120.0  157.0  182.0   0.0   2.0   1.0   0.0   1.0   0.0   \n",
       "301       1   38   M  138.0  175.0  173.0   0.0   2.0   2.0   0.0   1.0   0.0   \n",
       "302       1   38   M  138.0  175.0  173.0   0.0   2.0   2.0   0.0   1.0   0.0   \n",
       "\n",
       "     ord5  ord6  \n",
       "0       1     3  \n",
       "1       1     2  \n",
       "2       0     2  \n",
       "3       1     1  \n",
       "4       0     0  \n",
       "..    ...   ...  \n",
       "298     0     0  \n",
       "299     2     0  \n",
       "300     2     0  \n",
       "301     2     4  \n",
       "302     2     4  \n",
       "\n",
       "[303 rows x 14 columns]"
      ]
     },
     "execution_count": 25,
     "metadata": {},
     "output_type": "execute_result"
    }
   ],
   "source": [
    "df.fillna(value=0, inplace=True)\n",
    "\n",
    "df"
   ]
  },
  {
   "cell_type": "markdown",
   "metadata": {},
   "source": [
    "-  Re-check null value in each column"
   ]
  },
  {
   "cell_type": "code",
   "execution_count": 26,
   "metadata": {},
   "outputs": [
    {
     "data": {
      "text/plain": [
       "target    0\n",
       "age       0\n",
       "sex       0\n",
       "num1      0\n",
       "num2      0\n",
       "num3      0\n",
       "num4      0\n",
       "num5      0\n",
       "ord1      0\n",
       "ord2      0\n",
       "ord3      0\n",
       "ord4      0\n",
       "ord5      0\n",
       "ord6      0\n",
       "dtype: int64"
      ]
     },
     "execution_count": 26,
     "metadata": {},
     "output_type": "execute_result"
    }
   ],
   "source": [
    "df.isnull().sum()"
   ]
  },
  {
   "cell_type": "markdown",
   "metadata": {},
   "source": [
    "- Find duplicate rows and eliminate duplicate row"
   ]
  },
  {
   "cell_type": "code",
   "execution_count": 27,
   "metadata": {},
   "outputs": [
    {
     "data": {
      "text/html": [
       "<div>\n",
       "<style scoped>\n",
       "    .dataframe tbody tr th:only-of-type {\n",
       "        vertical-align: middle;\n",
       "    }\n",
       "\n",
       "    .dataframe tbody tr th {\n",
       "        vertical-align: top;\n",
       "    }\n",
       "\n",
       "    .dataframe thead th {\n",
       "        text-align: right;\n",
       "    }\n",
       "</style>\n",
       "<table border=\"1\" class=\"dataframe\">\n",
       "  <thead>\n",
       "    <tr style=\"text-align: right;\">\n",
       "      <th></th>\n",
       "      <th>target</th>\n",
       "      <th>age</th>\n",
       "      <th>sex</th>\n",
       "      <th>num1</th>\n",
       "      <th>num2</th>\n",
       "      <th>num3</th>\n",
       "      <th>num4</th>\n",
       "      <th>num5</th>\n",
       "      <th>ord1</th>\n",
       "      <th>ord2</th>\n",
       "      <th>ord3</th>\n",
       "      <th>ord4</th>\n",
       "      <th>ord5</th>\n",
       "      <th>ord6</th>\n",
       "    </tr>\n",
       "  </thead>\n",
       "  <tbody>\n",
       "    <tr>\n",
       "      <th>0</th>\n",
       "      <td>-1</td>\n",
       "      <td>69</td>\n",
       "      <td>1</td>\n",
       "      <td>160.0</td>\n",
       "      <td>286.0</td>\n",
       "      <td>108.0</td>\n",
       "      <td>1.5</td>\n",
       "      <td>2.0</td>\n",
       "      <td>0.0</td>\n",
       "      <td>0.0</td>\n",
       "      <td>0.0</td>\n",
       "      <td>1.0</td>\n",
       "      <td>1</td>\n",
       "      <td>3</td>\n",
       "    </tr>\n",
       "    <tr>\n",
       "      <th>1</th>\n",
       "      <td>-1</td>\n",
       "      <td>69</td>\n",
       "      <td>1</td>\n",
       "      <td>120.0</td>\n",
       "      <td>229.0</td>\n",
       "      <td>129.0</td>\n",
       "      <td>2.6</td>\n",
       "      <td>3.0</td>\n",
       "      <td>0.0</td>\n",
       "      <td>0.0</td>\n",
       "      <td>0.0</td>\n",
       "      <td>1.0</td>\n",
       "      <td>1</td>\n",
       "      <td>2</td>\n",
       "    </tr>\n",
       "    <tr>\n",
       "      <th>2</th>\n",
       "      <td>-1</td>\n",
       "      <td>64</td>\n",
       "      <td>0</td>\n",
       "      <td>140.0</td>\n",
       "      <td>268.0</td>\n",
       "      <td>160.0</td>\n",
       "      <td>3.6</td>\n",
       "      <td>2.0</td>\n",
       "      <td>0.0</td>\n",
       "      <td>0.0</td>\n",
       "      <td>0.0</td>\n",
       "      <td>0.0</td>\n",
       "      <td>0</td>\n",
       "      <td>2</td>\n",
       "    </tr>\n",
       "    <tr>\n",
       "      <th>3</th>\n",
       "      <td>-1</td>\n",
       "      <td>65</td>\n",
       "      <td>1</td>\n",
       "      <td>130.0</td>\n",
       "      <td>254.0</td>\n",
       "      <td>147.0</td>\n",
       "      <td>1.4</td>\n",
       "      <td>3.0</td>\n",
       "      <td>0.0</td>\n",
       "      <td>0.0</td>\n",
       "      <td>0.0</td>\n",
       "      <td>0.0</td>\n",
       "      <td>1</td>\n",
       "      <td>1</td>\n",
       "    </tr>\n",
       "    <tr>\n",
       "      <th>4</th>\n",
       "      <td>-1</td>\n",
       "      <td>53</td>\n",
       "      <td>M</td>\n",
       "      <td>140.0</td>\n",
       "      <td>203.0</td>\n",
       "      <td>155.0</td>\n",
       "      <td>3.1</td>\n",
       "      <td>3.0</td>\n",
       "      <td>0.0</td>\n",
       "      <td>1.0</td>\n",
       "      <td>0.0</td>\n",
       "      <td>1.0</td>\n",
       "      <td>0</td>\n",
       "      <td>0</td>\n",
       "    </tr>\n",
       "    <tr>\n",
       "      <th>...</th>\n",
       "      <td>...</td>\n",
       "      <td>...</td>\n",
       "      <td>...</td>\n",
       "      <td>...</td>\n",
       "      <td>...</td>\n",
       "      <td>...</td>\n",
       "      <td>...</td>\n",
       "      <td>...</td>\n",
       "      <td>...</td>\n",
       "      <td>...</td>\n",
       "      <td>...</td>\n",
       "      <td>...</td>\n",
       "      <td>...</td>\n",
       "      <td>...</td>\n",
       "    </tr>\n",
       "    <tr>\n",
       "      <th>297</th>\n",
       "      <td>1</td>\n",
       "      <td>56</td>\n",
       "      <td>M</td>\n",
       "      <td>130.0</td>\n",
       "      <td>221.0</td>\n",
       "      <td>163.0</td>\n",
       "      <td>0.0</td>\n",
       "      <td>3.0</td>\n",
       "      <td>1.0</td>\n",
       "      <td>0.0</td>\n",
       "      <td>0.0</td>\n",
       "      <td>0.0</td>\n",
       "      <td>2</td>\n",
       "      <td>0</td>\n",
       "    </tr>\n",
       "    <tr>\n",
       "      <th>298</th>\n",
       "      <td>1</td>\n",
       "      <td>56</td>\n",
       "      <td>M</td>\n",
       "      <td>120.0</td>\n",
       "      <td>240.0</td>\n",
       "      <td>169.0</td>\n",
       "      <td>0.0</td>\n",
       "      <td>2.0</td>\n",
       "      <td>1.0</td>\n",
       "      <td>0.0</td>\n",
       "      <td>1.0</td>\n",
       "      <td>0.0</td>\n",
       "      <td>0</td>\n",
       "      <td>0</td>\n",
       "    </tr>\n",
       "    <tr>\n",
       "      <th>299</th>\n",
       "      <td>1</td>\n",
       "      <td>55</td>\n",
       "      <td>M</td>\n",
       "      <td>132.0</td>\n",
       "      <td>342.0</td>\n",
       "      <td>166.0</td>\n",
       "      <td>1.2</td>\n",
       "      <td>2.0</td>\n",
       "      <td>1.0</td>\n",
       "      <td>0.0</td>\n",
       "      <td>1.0</td>\n",
       "      <td>0.0</td>\n",
       "      <td>2</td>\n",
       "      <td>0</td>\n",
       "    </tr>\n",
       "    <tr>\n",
       "      <th>300</th>\n",
       "      <td>1</td>\n",
       "      <td>41</td>\n",
       "      <td>M</td>\n",
       "      <td>120.0</td>\n",
       "      <td>157.0</td>\n",
       "      <td>182.0</td>\n",
       "      <td>0.0</td>\n",
       "      <td>2.0</td>\n",
       "      <td>1.0</td>\n",
       "      <td>0.0</td>\n",
       "      <td>1.0</td>\n",
       "      <td>0.0</td>\n",
       "      <td>2</td>\n",
       "      <td>0</td>\n",
       "    </tr>\n",
       "    <tr>\n",
       "      <th>301</th>\n",
       "      <td>1</td>\n",
       "      <td>38</td>\n",
       "      <td>M</td>\n",
       "      <td>138.0</td>\n",
       "      <td>175.0</td>\n",
       "      <td>173.0</td>\n",
       "      <td>0.0</td>\n",
       "      <td>2.0</td>\n",
       "      <td>2.0</td>\n",
       "      <td>0.0</td>\n",
       "      <td>1.0</td>\n",
       "      <td>0.0</td>\n",
       "      <td>2</td>\n",
       "      <td>4</td>\n",
       "    </tr>\n",
       "  </tbody>\n",
       "</table>\n",
       "<p>302 rows × 14 columns</p>\n",
       "</div>"
      ],
      "text/plain": [
       "     target  age sex   num1   num2   num3  num4  num5  ord1  ord2  ord3  ord4  \\\n",
       "0        -1   69   1  160.0  286.0  108.0   1.5   2.0   0.0   0.0   0.0   1.0   \n",
       "1        -1   69   1  120.0  229.0  129.0   2.6   3.0   0.0   0.0   0.0   1.0   \n",
       "2        -1   64   0  140.0  268.0  160.0   3.6   2.0   0.0   0.0   0.0   0.0   \n",
       "3        -1   65   1  130.0  254.0  147.0   1.4   3.0   0.0   0.0   0.0   0.0   \n",
       "4        -1   53   M  140.0  203.0  155.0   3.1   3.0   0.0   1.0   0.0   1.0   \n",
       "..      ...  ...  ..    ...    ...    ...   ...   ...   ...   ...   ...   ...   \n",
       "297       1   56   M  130.0  221.0  163.0   0.0   3.0   1.0   0.0   0.0   0.0   \n",
       "298       1   56   M  120.0  240.0  169.0   0.0   2.0   1.0   0.0   1.0   0.0   \n",
       "299       1   55   M  132.0  342.0  166.0   1.2   2.0   1.0   0.0   1.0   0.0   \n",
       "300       1   41   M  120.0  157.0  182.0   0.0   2.0   1.0   0.0   1.0   0.0   \n",
       "301       1   38   M  138.0  175.0  173.0   0.0   2.0   2.0   0.0   1.0   0.0   \n",
       "\n",
       "     ord5  ord6  \n",
       "0       1     3  \n",
       "1       1     2  \n",
       "2       0     2  \n",
       "3       1     1  \n",
       "4       0     0  \n",
       "..    ...   ...  \n",
       "297     2     0  \n",
       "298     0     0  \n",
       "299     2     0  \n",
       "300     2     0  \n",
       "301     2     4  \n",
       "\n",
       "[302 rows x 14 columns]"
      ]
     },
     "execution_count": 27,
     "metadata": {},
     "output_type": "execute_result"
    }
   ],
   "source": [
    "df[df.duplicated(keep=False)==True]\n",
    "\n",
    "df.drop_duplicates(keep='first')"
   ]
  },
  {
   "cell_type": "markdown",
   "metadata": {},
   "source": [
    "### Data Processing\n",
    "- Convert all variable in 'sex' column to become type of number (F,M --> 0,1)"
   ]
  },
  {
   "cell_type": "code",
   "execution_count": 28,
   "metadata": {},
   "outputs": [
    {
     "name": "stdout",
     "output_type": "stream",
     "text": [
      "     target  age sex   num1   num2   num3  num4  num5  ord1  ord2  ord3  ord4  \\\n",
      "0        -1   69   1  160.0  286.0  108.0   1.5   2.0   0.0   0.0   0.0   1.0   \n",
      "1        -1   69   1  120.0  229.0  129.0   2.6   3.0   0.0   0.0   0.0   1.0   \n",
      "2        -1   64   0  140.0  268.0  160.0   3.6   2.0   0.0   0.0   0.0   0.0   \n",
      "3        -1   65   1  130.0  254.0  147.0   1.4   3.0   0.0   0.0   0.0   0.0   \n",
      "4        -1   53   1  140.0  203.0  155.0   3.1   3.0   0.0   1.0   0.0   1.0   \n",
      "..      ...  ...  ..    ...    ...    ...   ...   ...   ...   ...   ...   ...   \n",
      "298       1   56   1  120.0  240.0  169.0   0.0   2.0   1.0   0.0   1.0   0.0   \n",
      "299       1   55   1  132.0  342.0  166.0   1.2   2.0   1.0   0.0   1.0   0.0   \n",
      "300       1   41   1  120.0  157.0  182.0   0.0   2.0   1.0   0.0   1.0   0.0   \n",
      "301       1   38   1  138.0  175.0  173.0   0.0   2.0   2.0   0.0   1.0   0.0   \n",
      "302       1   38   1  138.0  175.0  173.0   0.0   2.0   2.0   0.0   1.0   0.0   \n",
      "\n",
      "     ord5  ord6  \n",
      "0       1     3  \n",
      "1       1     2  \n",
      "2       0     2  \n",
      "3       1     1  \n",
      "4       0     0  \n",
      "..    ...   ...  \n",
      "298     0     0  \n",
      "299     2     0  \n",
      "300     2     0  \n",
      "301     2     4  \n",
      "302     2     4  \n",
      "\n",
      "[303 rows x 14 columns]\n"
     ]
    }
   ],
   "source": [
    "df['sex'] = df['sex'].replace({'F': '0'}) \n",
    "df['sex'] = df['sex'].replace({'M': '1'}) \n",
    "\n",
    "print(df)"
   ]
  },
  {
   "cell_type": "markdown",
   "metadata": {},
   "source": [
    "### Feature scaling\n",
    "- Scaled on 'target'"
   ]
  },
  {
   "cell_type": "code",
   "execution_count": 29,
   "metadata": {},
   "outputs": [
    {
     "data": {
      "text/html": [
       "<div>\n",
       "<style scoped>\n",
       "    .dataframe tbody tr th:only-of-type {\n",
       "        vertical-align: middle;\n",
       "    }\n",
       "\n",
       "    .dataframe tbody tr th {\n",
       "        vertical-align: top;\n",
       "    }\n",
       "\n",
       "    .dataframe thead th {\n",
       "        text-align: right;\n",
       "    }\n",
       "</style>\n",
       "<table border=\"1\" class=\"dataframe\">\n",
       "  <thead>\n",
       "    <tr style=\"text-align: right;\">\n",
       "      <th></th>\n",
       "      <th>age</th>\n",
       "      <th>sex</th>\n",
       "      <th>num1</th>\n",
       "      <th>num2</th>\n",
       "      <th>num3</th>\n",
       "      <th>num4</th>\n",
       "      <th>num5</th>\n",
       "      <th>ord1</th>\n",
       "      <th>ord2</th>\n",
       "      <th>ord3</th>\n",
       "      <th>ord4</th>\n",
       "      <th>ord5</th>\n",
       "      <th>ord6</th>\n",
       "      <th>label</th>\n",
       "    </tr>\n",
       "  </thead>\n",
       "  <tbody>\n",
       "    <tr>\n",
       "      <th>0</th>\n",
       "      <td>69</td>\n",
       "      <td>1</td>\n",
       "      <td>160.0</td>\n",
       "      <td>286.0</td>\n",
       "      <td>108.0</td>\n",
       "      <td>1.5</td>\n",
       "      <td>2.0</td>\n",
       "      <td>0.0</td>\n",
       "      <td>0.0</td>\n",
       "      <td>0.0</td>\n",
       "      <td>1.0</td>\n",
       "      <td>1</td>\n",
       "      <td>3</td>\n",
       "      <td>0</td>\n",
       "    </tr>\n",
       "    <tr>\n",
       "      <th>1</th>\n",
       "      <td>69</td>\n",
       "      <td>1</td>\n",
       "      <td>120.0</td>\n",
       "      <td>229.0</td>\n",
       "      <td>129.0</td>\n",
       "      <td>2.6</td>\n",
       "      <td>3.0</td>\n",
       "      <td>0.0</td>\n",
       "      <td>0.0</td>\n",
       "      <td>0.0</td>\n",
       "      <td>1.0</td>\n",
       "      <td>1</td>\n",
       "      <td>2</td>\n",
       "      <td>0</td>\n",
       "    </tr>\n",
       "    <tr>\n",
       "      <th>2</th>\n",
       "      <td>64</td>\n",
       "      <td>0</td>\n",
       "      <td>140.0</td>\n",
       "      <td>268.0</td>\n",
       "      <td>160.0</td>\n",
       "      <td>3.6</td>\n",
       "      <td>2.0</td>\n",
       "      <td>0.0</td>\n",
       "      <td>0.0</td>\n",
       "      <td>0.0</td>\n",
       "      <td>0.0</td>\n",
       "      <td>0</td>\n",
       "      <td>2</td>\n",
       "      <td>0</td>\n",
       "    </tr>\n",
       "    <tr>\n",
       "      <th>3</th>\n",
       "      <td>65</td>\n",
       "      <td>1</td>\n",
       "      <td>130.0</td>\n",
       "      <td>254.0</td>\n",
       "      <td>147.0</td>\n",
       "      <td>1.4</td>\n",
       "      <td>3.0</td>\n",
       "      <td>0.0</td>\n",
       "      <td>0.0</td>\n",
       "      <td>0.0</td>\n",
       "      <td>0.0</td>\n",
       "      <td>1</td>\n",
       "      <td>1</td>\n",
       "      <td>0</td>\n",
       "    </tr>\n",
       "    <tr>\n",
       "      <th>4</th>\n",
       "      <td>53</td>\n",
       "      <td>1</td>\n",
       "      <td>140.0</td>\n",
       "      <td>203.0</td>\n",
       "      <td>155.0</td>\n",
       "      <td>3.1</td>\n",
       "      <td>3.0</td>\n",
       "      <td>0.0</td>\n",
       "      <td>1.0</td>\n",
       "      <td>0.0</td>\n",
       "      <td>1.0</td>\n",
       "      <td>0</td>\n",
       "      <td>0</td>\n",
       "      <td>0</td>\n",
       "    </tr>\n",
       "    <tr>\n",
       "      <th>...</th>\n",
       "      <td>...</td>\n",
       "      <td>...</td>\n",
       "      <td>...</td>\n",
       "      <td>...</td>\n",
       "      <td>...</td>\n",
       "      <td>...</td>\n",
       "      <td>...</td>\n",
       "      <td>...</td>\n",
       "      <td>...</td>\n",
       "      <td>...</td>\n",
       "      <td>...</td>\n",
       "      <td>...</td>\n",
       "      <td>...</td>\n",
       "      <td>...</td>\n",
       "    </tr>\n",
       "    <tr>\n",
       "      <th>298</th>\n",
       "      <td>56</td>\n",
       "      <td>1</td>\n",
       "      <td>120.0</td>\n",
       "      <td>240.0</td>\n",
       "      <td>169.0</td>\n",
       "      <td>0.0</td>\n",
       "      <td>2.0</td>\n",
       "      <td>1.0</td>\n",
       "      <td>0.0</td>\n",
       "      <td>1.0</td>\n",
       "      <td>0.0</td>\n",
       "      <td>0</td>\n",
       "      <td>0</td>\n",
       "      <td>1</td>\n",
       "    </tr>\n",
       "    <tr>\n",
       "      <th>299</th>\n",
       "      <td>55</td>\n",
       "      <td>1</td>\n",
       "      <td>132.0</td>\n",
       "      <td>342.0</td>\n",
       "      <td>166.0</td>\n",
       "      <td>1.2</td>\n",
       "      <td>2.0</td>\n",
       "      <td>1.0</td>\n",
       "      <td>0.0</td>\n",
       "      <td>1.0</td>\n",
       "      <td>0.0</td>\n",
       "      <td>2</td>\n",
       "      <td>0</td>\n",
       "      <td>1</td>\n",
       "    </tr>\n",
       "    <tr>\n",
       "      <th>300</th>\n",
       "      <td>41</td>\n",
       "      <td>1</td>\n",
       "      <td>120.0</td>\n",
       "      <td>157.0</td>\n",
       "      <td>182.0</td>\n",
       "      <td>0.0</td>\n",
       "      <td>2.0</td>\n",
       "      <td>1.0</td>\n",
       "      <td>0.0</td>\n",
       "      <td>1.0</td>\n",
       "      <td>0.0</td>\n",
       "      <td>2</td>\n",
       "      <td>0</td>\n",
       "      <td>1</td>\n",
       "    </tr>\n",
       "    <tr>\n",
       "      <th>301</th>\n",
       "      <td>38</td>\n",
       "      <td>1</td>\n",
       "      <td>138.0</td>\n",
       "      <td>175.0</td>\n",
       "      <td>173.0</td>\n",
       "      <td>0.0</td>\n",
       "      <td>2.0</td>\n",
       "      <td>2.0</td>\n",
       "      <td>0.0</td>\n",
       "      <td>1.0</td>\n",
       "      <td>0.0</td>\n",
       "      <td>2</td>\n",
       "      <td>4</td>\n",
       "      <td>1</td>\n",
       "    </tr>\n",
       "    <tr>\n",
       "      <th>302</th>\n",
       "      <td>38</td>\n",
       "      <td>1</td>\n",
       "      <td>138.0</td>\n",
       "      <td>175.0</td>\n",
       "      <td>173.0</td>\n",
       "      <td>0.0</td>\n",
       "      <td>2.0</td>\n",
       "      <td>2.0</td>\n",
       "      <td>0.0</td>\n",
       "      <td>1.0</td>\n",
       "      <td>0.0</td>\n",
       "      <td>2</td>\n",
       "      <td>4</td>\n",
       "      <td>1</td>\n",
       "    </tr>\n",
       "  </tbody>\n",
       "</table>\n",
       "<p>303 rows × 14 columns</p>\n",
       "</div>"
      ],
      "text/plain": [
       "     age sex   num1   num2   num3  num4  num5  ord1  ord2  ord3  ord4  ord5  \\\n",
       "0     69   1  160.0  286.0  108.0   1.5   2.0   0.0   0.0   0.0   1.0     1   \n",
       "1     69   1  120.0  229.0  129.0   2.6   3.0   0.0   0.0   0.0   1.0     1   \n",
       "2     64   0  140.0  268.0  160.0   3.6   2.0   0.0   0.0   0.0   0.0     0   \n",
       "3     65   1  130.0  254.0  147.0   1.4   3.0   0.0   0.0   0.0   0.0     1   \n",
       "4     53   1  140.0  203.0  155.0   3.1   3.0   0.0   1.0   0.0   1.0     0   \n",
       "..   ...  ..    ...    ...    ...   ...   ...   ...   ...   ...   ...   ...   \n",
       "298   56   1  120.0  240.0  169.0   0.0   2.0   1.0   0.0   1.0   0.0     0   \n",
       "299   55   1  132.0  342.0  166.0   1.2   2.0   1.0   0.0   1.0   0.0     2   \n",
       "300   41   1  120.0  157.0  182.0   0.0   2.0   1.0   0.0   1.0   0.0     2   \n",
       "301   38   1  138.0  175.0  173.0   0.0   2.0   2.0   0.0   1.0   0.0     2   \n",
       "302   38   1  138.0  175.0  173.0   0.0   2.0   2.0   0.0   1.0   0.0     2   \n",
       "\n",
       "     ord6  label  \n",
       "0       3      0  \n",
       "1       2      0  \n",
       "2       2      0  \n",
       "3       1      0  \n",
       "4       0      0  \n",
       "..    ...    ...  \n",
       "298     0      1  \n",
       "299     0      1  \n",
       "300     0      1  \n",
       "301     4      1  \n",
       "302     4      1  \n",
       "\n",
       "[303 rows x 14 columns]"
      ]
     },
     "execution_count": 29,
     "metadata": {},
     "output_type": "execute_result"
    }
   ],
   "source": [
    "from sklearn.preprocessing import LabelEncoder\n",
    "\n",
    "#create 'label' transform from ''target\n",
    "label_enc = LabelEncoder()\n",
    "df['label'] = label_enc.fit_transform(df['target'])\n",
    "\n",
    "#drop 'target'\n",
    "data_df = df.drop(columns=['target'])\n",
    "\n",
    "data_df"
   ]
  },
  {
   "cell_type": "code",
   "execution_count": 30,
   "metadata": {},
   "outputs": [
    {
     "name": "stdout",
     "output_type": "stream",
     "text": [
      "(303, 13) (303,)\n"
     ]
    }
   ],
   "source": [
    "X = data_df.drop(columns=['label']).values\n",
    "y = data_df['label'].values\n",
    "\n",
    "print(X.shape, y.shape)"
   ]
  },
  {
   "cell_type": "code",
   "execution_count": 31,
   "metadata": {},
   "outputs": [
    {
     "data": {
      "text/plain": [
       "array(['age', 'sex', 'num1', 'num2', 'num3', 'num4', 'num5', 'ord1',\n",
       "       'ord2', 'ord3', 'ord4', 'ord5', 'ord6'], dtype=object)"
      ]
     },
     "execution_count": 31,
     "metadata": {},
     "output_type": "execute_result"
    }
   ],
   "source": [
    "feature_names = data_df.drop(columns=['label']).columns.values\n",
    "feature_names"
   ]
  },
  {
   "cell_type": "markdown",
   "metadata": {},
   "source": [
    "## ☯ Train/Valid/Test split or Cross-validation \n",
    "Train/Valid/Test split"
   ]
  },
  {
   "cell_type": "code",
   "execution_count": 32,
   "metadata": {},
   "outputs": [
    {
     "name": "stdout",
     "output_type": "stream",
     "text": [
      "Training set: (242, 13), (242,)\n",
      "Validation set: (30, 13), (30,)\n",
      "Test set: (31, 13), (31,)\n"
     ]
    }
   ],
   "source": [
    "from sklearn.model_selection import train_test_split\n",
    "\n",
    "X_train, X_test, y_train, y_test = train_test_split(\n",
    "    X, y, \n",
    "    random_state=42,\n",
    "    test_size=0.20)\n",
    "\n",
    "X_valid, X_test, y_valid, y_test = train_test_split(\n",
    "    X_test, y_test,\n",
    "    random_state=42,\n",
    "    test_size=0.50)\n",
    "\n",
    "print(f'Training set: {X_train.shape}, {y_train.shape}')\n",
    "print(f'Validation set: {X_valid.shape}, {y_valid.shape}')\n",
    "print(f'Test set: {X_test.shape}, {y_test.shape}')"
   ]
  },
  {
   "cell_type": "markdown",
   "metadata": {},
   "source": [
    "## ☯ Feature Selection "
   ]
  },
  {
   "cell_type": "code",
   "execution_count": 33,
   "metadata": {},
   "outputs": [
    {
     "data": {
      "text/plain": [
       "<seaborn.axisgrid.FacetGrid at 0x1ec69538cd0>"
      ]
     },
     "execution_count": 33,
     "metadata": {},
     "output_type": "execute_result"
    },
    {
     "data": {
      "image/png": "[encoded data removed]",
      "text/plain": [
       "<Figure size 402.375x360 with 1 Axes>"
      ]
     },
     "metadata": {
      "needs_background": "light"
     },
     "output_type": "display_data"
    },
    {
     "data": {
      "image/png": "[encoded data removed]",
      "text/plain": [
       "<Figure size 402.375x360 with 1 Axes>"
      ]
     },
     "metadata": {
      "needs_background": "light"
     },
     "output_type": "display_data"
    },
    {
     "data": {
      "image/png": "[encoded data removed]",
      "text/plain": [
       "<Figure size 402.375x360 with 1 Axes>"
      ]
     },
     "metadata": {
      "needs_background": "light"
     },
     "output_type": "display_data"
    },
    {
     "data": {
      "image/png": "[encoded data removed]",
      "text/plain": [
       "<Figure size 402.375x360 with 1 Axes>"
      ]
     },
     "metadata": {
      "needs_background": "light"
     },
     "output_type": "display_data"
    },
    {
     "data": {
      "image/png": "[encoded data removed]",
      "text/plain": [
       "<Figure size 402.375x360 with 1 Axes>"
      ]
     },
     "metadata": {
      "needs_background": "light"
     },
     "output_type": "display_data"
    },
    {
     "data": {
      "image/png": "[encoded data removed]",
      "text/plain": [
       "<Figure size 402.375x360 with 1 Axes>"
      ]
     },
     "metadata": {
      "needs_background": "light"
     },
     "output_type": "display_data"
    },
    {
     "data": {
      "image/png": "[encoded data removed]",
      "text/plain": [
       "<Figure size 402.375x360 with 1 Axes>"
      ]
     },
     "metadata": {
      "needs_background": "light"
     },
     "output_type": "display_data"
    },
    {
     "data": {
      "image/png": "[encoded data removed]",
      "text/plain": [
       "<Figure size 402.375x360 with 1 Axes>"
      ]
     },
     "metadata": {
      "needs_background": "light"
     },
     "output_type": "display_data"
    },
    {
     "data": {
      "image/png": "[encoded data removed]",
      "text/plain": [
       "<Figure size 402.375x360 with 1 Axes>"
      ]
     },
     "metadata": {
      "needs_background": "light"
     },
     "output_type": "display_data"
    },
    {
     "data": {
      "image/png": "[encoded data removed]",
      "text/plain": [
       "<Figure size 402.375x360 with 1 Axes>"
      ]
     },
     "metadata": {
      "needs_background": "light"
     },
     "output_type": "display_data"
    },
    {
     "data": {
      "image/png": "[encoded data removed]",
      "text/plain": [
       "<Figure size 402.375x360 with 1 Axes>"
      ]
     },
     "metadata": {
      "needs_background": "light"
     },
     "output_type": "display_data"
    },
    {
     "data": {
      "image/png": "[encoded data removed]",
      "text/plain": [
       "<Figure size 402.375x360 with 1 Axes>"
      ]
     },
     "metadata": {
      "needs_background": "light"
     },
     "output_type": "display_data"
    },
    {
     "data": {
      "image/png": "[encoded data removed]",
      "text/plain": [
       "<Figure size 402.375x360 with 1 Axes>"
      ]
     },
     "metadata": {
      "needs_background": "light"
     },
     "output_type": "display_data"
    }
   ],
   "source": [
    "sns.catplot( data = df, hue='label', x='age', kind='count', palette='Set1')\n",
    "\n",
    "sns.catplot( data = df, hue='label', x='sex', kind='count', palette='Set1')\n",
    "\n",
    "sns.catplot( data = df, hue='label', x='num1', kind='count', palette='Set1')\n",
    "\n",
    "sns.catplot( data = df, hue='label', x='num2', kind='count', palette='Set1')\n",
    "\n",
    "sns.catplot( data = df, hue='label', x='num3', kind='count', palette='Set1')\n",
    "\n",
    "sns.catplot( data = df, hue='label', x='num4', kind='count', palette='Set1')\n",
    "\n",
    "sns.catplot( data = df, hue='label', x='num5', kind='count', palette='Set1')\n",
    "\n",
    "sns.catplot( data = df, hue='label', x='ord1', kind='count', palette='Set1')\n",
    "\n",
    "sns.catplot( data = df, hue='label', x='ord2', kind='count', palette='Set1')\n",
    "\n",
    "sns.catplot( data = df, hue='label', x='ord3', kind='count', palette='Set1')\n",
    "\n",
    "sns.catplot( data = df, hue='label', x='ord4', kind='count', palette='Set1')\n",
    "\n",
    "sns.catplot( data = df, hue='label', x='ord5', kind='count', palette='Set1')\n",
    "\n",
    "sns.catplot( data = df, hue='label', x='ord6', kind='count', palette='Set1')"
   ]
  },
  {
   "cell_type": "code",
   "execution_count": 34,
   "metadata": {},
   "outputs": [
    {
     "name": "stdout",
     "output_type": "stream",
     "text": [
      "feature_names:      label sex  num5  ord1  ord2  ord3  ord4  ord5  ord6\n",
      "0        0   1   2.0   0.0   0.0   0.0   1.0     1     3\n",
      "1        0   1   3.0   0.0   0.0   0.0   1.0     1     2\n",
      "2        0   0   2.0   0.0   0.0   0.0   0.0     0     2\n",
      "3        0   1   3.0   0.0   0.0   0.0   0.0     1     1\n",
      "4        0   1   3.0   0.0   1.0   0.0   1.0     0     0\n",
      "..     ...  ..   ...   ...   ...   ...   ...   ...   ...\n",
      "298      1   1   2.0   1.0   0.0   1.0   0.0     0     0\n",
      "299      1   1   2.0   1.0   0.0   1.0   0.0     2     0\n",
      "300      1   1   2.0   1.0   0.0   1.0   0.0     2     0\n",
      "301      1   1   2.0   2.0   0.0   1.0   0.0     2     4\n",
      "302      1   1   2.0   2.0   0.0   1.0   0.0     2     4\n",
      "\n",
      "[303 rows x 9 columns]\n"
     ]
    }
   ],
   "source": [
    "feature_names = data_df[['label','sex','num5','ord1','ord2','ord3','ord4','ord5','ord6']]\n",
    "\n",
    "print(f'feature_names: {feature_names}')"
   ]
  },
  {
   "cell_type": "markdown",
   "metadata": {},
   "source": [
    "# (̶◉͛‿◉̶) Model Seection (̶◉͛‿◉̶) \n",
    "## Decision Tree"
   ]
  },
  {
   "cell_type": "code",
   "execution_count": 35,
   "metadata": {},
   "outputs": [
    {
     "name": "stdout",
     "output_type": "stream",
     "text": [
      "Accuracy: 0.6774193548387096\n"
     ]
    }
   ],
   "source": [
    "# Create a decision tree model, named model, using DecisionTreeClassifier from sklearn.tree\n",
    "from sklearn.tree import DecisionTreeClassifier\n",
    "model = DecisionTreeClassifier()\n",
    "\n",
    "# Model with the training set X_train and y_train.\n",
    "model.fit(X_train, y_train)\n",
    "\n",
    "# Make sure that the predictions are stored in y_pred.\n",
    "y_pred = model.predict(X_test)\n",
    "\n",
    "# Accuracy which is the closeness of a measured value to a standard or known value.\n",
    "print(\"Accuracy:\", np.mean(y_pred == y_test))"
   ]
  },
  {
   "cell_type": "code",
   "execution_count": null,
   "metadata": {},
   "outputs": [],
   "source": [
    "#save model\n",
    "import joblib\n",
    "joblib.dump(model,'model.joblib')"
   ]
  },
  {
   "cell_type": "markdown",
   "metadata": {},
   "source": [
    "## Random Forest"
   ]
  },
  {
   "cell_type": "code",
   "execution_count": 36,
   "metadata": {},
   "outputs": [
    {
     "name": "stdout",
     "output_type": "stream",
     "text": [
      "Accuracy: 0.8709677419354839\n"
     ]
    }
   ],
   "source": [
    "# Create a random forest model, named model, using RandomForest from sklearn.tree\n",
    "from sklearn.ensemble import RandomForestClassifier\n",
    "\n",
    "#Create a Gaussian Classifier\n",
    "clf = RandomForestClassifier(n_estimators=100)\n",
    "\n",
    "#Train the model using the training sets y_pred=clf.predict(X_test)\n",
    "clf.fit(X_train,y_train)\n",
    "\n",
    "y_pred = clf.predict(X_test)\n",
    "\n",
    "#Import scikit-learn metrics module for accuracy calculation\n",
    "from sklearn import metrics\n",
    "\n",
    "# Model Accuracy, how often is the classifier correct?\n",
    "print(\"Accuracy:\", metrics.accuracy_score(y_test, y_pred))"
   ]
  },
  {
   "cell_type": "markdown",
   "metadata": {},
   "source": [
    "## Logistic Regression"
   ]
  },
  {
   "cell_type": "code",
   "execution_count": 37,
   "metadata": {},
   "outputs": [
    {
     "name": "stdout",
     "output_type": "stream",
     "text": [
      "Accuracy: 0.8677685950413223\n"
     ]
    }
   ],
   "source": [
    "# Create a logistic regression model, named model, using LogisticRegression from sklearn.tree\n",
    "from sklearn.linear_model import LogisticRegression\n",
    "\n",
    "model = LogisticRegression(solver = 'liblinear', random_state = 42)\n",
    "\n",
    "model.fit(X_train,y_train)\n",
    "\n",
    "print(\"Accuracy:\", model.score(X_train,y_train))"
   ]
  },
  {
   "cell_type": "markdown",
   "metadata": {},
   "source": [
    "## ** OPTUNA **"
   ]
  },
  {
   "cell_type": "code",
   "execution_count": 38,
   "metadata": {},
   "outputs": [
    {
     "name": "stderr",
     "output_type": "stream",
     "text": [
      "\u001b[32m[I 2021-03-08 23:49:57,798]\u001b[0m A new study created in memory with name: no-name-02bd29b4-1e1e-4082-970f-0a781edf0a5e\u001b[0m\n",
      "\u001b[32m[I 2021-03-08 23:49:57,801]\u001b[0m Trial 0 finished with value: 108.2249736248237 and parameters: {'x': -8.403123262983272}. Best is trial 0 with value: 108.2249736248237.\u001b[0m\n",
      "\u001b[32m[I 2021-03-08 23:49:57,803]\u001b[0m Trial 1 finished with value: 16.99152752930748 and parameters: {'x': -2.122078059584447}. Best is trial 1 with value: 16.99152752930748.\u001b[0m\n",
      "\u001b[32m[I 2021-03-08 23:49:57,805]\u001b[0m Trial 2 finished with value: 61.66466204935641 and parameters: {'x': 9.852685021657013}. Best is trial 1 with value: 16.99152752930748.\u001b[0m\n",
      "\u001b[32m[I 2021-03-08 23:49:57,807]\u001b[0m Trial 3 finished with value: 49.45458180233799 and parameters: {'x': -5.032395168243746}. Best is trial 1 with value: 16.99152752930748.\u001b[0m\n",
      "\u001b[32m[I 2021-03-08 23:49:57,808]\u001b[0m Trial 4 finished with value: 69.17610419335836 and parameters: {'x': -6.3172173347435345}. Best is trial 1 with value: 16.99152752930748.\u001b[0m\n",
      "\u001b[32m[I 2021-03-08 23:49:57,810]\u001b[0m Trial 5 finished with value: 41.01656952357882 and parameters: {'x': 8.404417969150579}. Best is trial 1 with value: 16.99152752930748.\u001b[0m\n",
      "\u001b[32m[I 2021-03-08 23:49:57,812]\u001b[0m Trial 6 finished with value: 0.028491193985648353 and parameters: {'x': 1.8312066530172224}. Best is trial 6 with value: 0.028491193985648353.\u001b[0m\n",
      "\u001b[32m[I 2021-03-08 23:49:57,813]\u001b[0m Trial 7 finished with value: 3.2863886027412863 and parameters: {'x': 0.18716007249915023}. Best is trial 6 with value: 0.028491193985648353.\u001b[0m\n",
      "\u001b[32m[I 2021-03-08 23:49:57,815]\u001b[0m Trial 8 finished with value: 38.6263962157603 and parameters: {'x': 8.215013774382186}. Best is trial 6 with value: 0.028491193985648353.\u001b[0m\n",
      "\u001b[32m[I 2021-03-08 23:49:57,818]\u001b[0m Trial 9 finished with value: 120.7661461473845 and parameters: {'x': -8.989365138504795}. Best is trial 6 with value: 0.028491193985648353.\u001b[0m\n",
      "\u001b[32m[I 2021-03-08 23:49:57,825]\u001b[0m Trial 10 finished with value: 5.957557515917505 and parameters: {'x': 4.440810831653593}. Best is trial 6 with value: 0.028491193985648353.\u001b[0m\n",
      "\u001b[32m[I 2021-03-08 23:49:57,831]\u001b[0m Trial 11 finished with value: 0.2547284584176461 and parameters: {'x': 2.5047063090725596}. Best is trial 6 with value: 0.028491193985648353.\u001b[0m\n",
      "\u001b[32m[I 2021-03-08 23:49:57,837]\u001b[0m Trial 12 finished with value: 1.125157856382166 and parameters: {'x': 3.0607345833818025}. Best is trial 6 with value: 0.028491193985648353.\u001b[0m\n",
      "\u001b[32m[I 2021-03-08 23:49:57,843]\u001b[0m Trial 13 finished with value: 2.222097023993678 and parameters: {'x': 3.4906699916459303}. Best is trial 6 with value: 0.028491193985648353.\u001b[0m\n",
      "\u001b[32m[I 2021-03-08 23:49:57,849]\u001b[0m Trial 14 finished with value: 6.688460609916611 and parameters: {'x': -0.5862058328595214}. Best is trial 6 with value: 0.028491193985648353.\u001b[0m\n",
      "\u001b[32m[I 2021-03-08 23:49:57,856]\u001b[0m Trial 15 finished with value: 10.133817262000935 and parameters: {'x': 5.1833657128895725}. Best is trial 6 with value: 0.028491193985648353.\u001b[0m\n",
      "\u001b[32m[I 2021-03-08 23:49:57,862]\u001b[0m Trial 16 finished with value: 0.8677164674344299 and parameters: {'x': 1.0684870009310499}. Best is trial 6 with value: 0.028491193985648353.\u001b[0m\n",
      "\u001b[32m[I 2021-03-08 23:49:57,869]\u001b[0m Trial 17 finished with value: 28.367527652899074 and parameters: {'x': -3.326117502731147}. Best is trial 6 with value: 0.028491193985648353.\u001b[0m\n",
      "\u001b[32m[I 2021-03-08 23:49:57,876]\u001b[0m Trial 18 finished with value: 19.60779790990582 and parameters: {'x': 6.4280693208108}. Best is trial 6 with value: 0.028491193985648353.\u001b[0m\n",
      "\u001b[32m[I 2021-03-08 23:49:57,880]\u001b[0m Trial 19 finished with value: 0.04054940885568925 and parameters: {'x': 1.7986311621534026}. Best is trial 6 with value: 0.028491193985648353.\u001b[0m\n",
      "\u001b[32m[I 2021-03-08 23:49:57,888]\u001b[0m Trial 20 finished with value: 15.630432512196062 and parameters: {'x': -1.9535341799706327}. Best is trial 6 with value: 0.028491193985648353.\u001b[0m\n",
      "\u001b[32m[I 2021-03-08 23:49:57,895]\u001b[0m Trial 21 finished with value: 0.016559716842649667 and parameters: {'x': 2.128684563342499}. Best is trial 21 with value: 0.016559716842649667.\u001b[0m\n",
      "\u001b[32m[I 2021-03-08 23:49:57,901]\u001b[0m Trial 22 finished with value: 0.3465426171564384 and parameters: {'x': 1.4113212954790717}. Best is trial 21 with value: 0.016559716842649667.\u001b[0m\n",
      "\u001b[32m[I 2021-03-08 23:49:57,907]\u001b[0m Trial 23 finished with value: 16.939281841196983 and parameters: {'x': 6.11573588088412}. Best is trial 21 with value: 0.016559716842649667.\u001b[0m\n",
      "\u001b[32m[I 2021-03-08 23:49:57,914]\u001b[0m Trial 24 finished with value: 0.008537098973733682 and parameters: {'x': 1.9076035770511992}. Best is trial 24 with value: 0.008537098973733682.\u001b[0m\n",
      "\u001b[32m[I 2021-03-08 23:49:57,919]\u001b[0m Trial 25 finished with value: 6.280827263624926 and parameters: {'x': -0.5061578688552175}. Best is trial 24 with value: 0.008537098973733682.\u001b[0m\n",
      "\u001b[32m[I 2021-03-08 23:49:57,924]\u001b[0m Trial 26 finished with value: 2.3417651801831427 and parameters: {'x': 3.530282712502217}. Best is trial 24 with value: 0.008537098973733682.\u001b[0m\n",
      "\u001b[32m[I 2021-03-08 23:49:57,929]\u001b[0m Trial 27 finished with value: 16.18264248893556 and parameters: {'x': -2.022765527461867}. Best is trial 24 with value: 0.008537098973733682.\u001b[0m\n",
      "\u001b[32m[I 2021-03-08 23:49:57,935]\u001b[0m Trial 28 finished with value: 1.936963082781781 and parameters: {'x': 0.6082517890143415}. Best is trial 24 with value: 0.008537098973733682.\u001b[0m\n",
      "\u001b[32m[I 2021-03-08 23:49:57,942]\u001b[0m Trial 29 finished with value: 10.363604481634978 and parameters: {'x': 5.2192552681691735}. Best is trial 24 with value: 0.008537098973733682.\u001b[0m\n",
      "\u001b[32m[I 2021-03-08 23:49:57,947]\u001b[0m Trial 30 finished with value: 31.08251524669142 and parameters: {'x': -3.575169526273745}. Best is trial 24 with value: 0.008537098973733682.\u001b[0m\n",
      "\u001b[32m[I 2021-03-08 23:49:57,954]\u001b[0m Trial 31 finished with value: 0.0002607433773244876 and parameters: {'x': 1.9838524498042431}. Best is trial 31 with value: 0.0002607433773244876.\u001b[0m\n",
      "\u001b[32m[I 2021-03-08 23:49:57,959]\u001b[0m Trial 32 finished with value: 0.047204997470775716 and parameters: {'x': 1.782732889118542}. Best is trial 31 with value: 0.0002607433773244876.\u001b[0m\n",
      "\u001b[32m[I 2021-03-08 23:49:57,965]\u001b[0m Trial 33 finished with value: 6.870655425844491 and parameters: {'x': -0.6211935117126496}. Best is trial 31 with value: 0.0002607433773244876.\u001b[0m\n",
      "\u001b[32m[I 2021-03-08 23:49:57,970]\u001b[0m Trial 34 finished with value: 3.6512912457466284 and parameters: {'x': 3.910835222029003}. Best is trial 31 with value: 0.0002607433773244876.\u001b[0m\n",
      "\u001b[32m[I 2021-03-08 23:49:57,976]\u001b[0m Trial 35 finished with value: 0.33404101955119136 and parameters: {'x': 2.5779628184850574}. Best is trial 31 with value: 0.0002607433773244876.\u001b[0m\n",
      "\u001b[32m[I 2021-03-08 23:49:57,982]\u001b[0m Trial 36 finished with value: 26.515268887963337 and parameters: {'x': 7.149297902429353}. Best is trial 31 with value: 0.0002607433773244876.\u001b[0m\n",
      "\u001b[32m[I 2021-03-08 23:49:57,993]\u001b[0m Trial 37 finished with value: 6.896193721197872 and parameters: {'x': 4.626060494580784}. Best is trial 31 with value: 0.0002607433773244876.\u001b[0m\n",
      "\u001b[32m[I 2021-03-08 23:49:58,003]\u001b[0m Trial 38 finished with value: 2.147222164226967 and parameters: {'x': 0.5346597104334546}. Best is trial 31 with value: 0.0002607433773244876.\u001b[0m\n",
      "\u001b[32m[I 2021-03-08 23:49:58,011]\u001b[0m Trial 39 finished with value: 10.107620521834178 and parameters: {'x': -1.1792484209061391}. Best is trial 31 with value: 0.0002607433773244876.\u001b[0m\n",
      "\u001b[32m[I 2021-03-08 23:49:58,018]\u001b[0m Trial 40 finished with value: 88.22409910139149 and parameters: {'x': -7.392768447129498}. Best is trial 31 with value: 0.0002607433773244876.\u001b[0m\n",
      "\u001b[32m[I 2021-03-08 23:49:58,023]\u001b[0m Trial 41 finished with value: 0.005763372690946633 and parameters: {'x': 2.075916880144976}. Best is trial 31 with value: 0.0002607433773244876.\u001b[0m\n",
      "\u001b[32m[I 2021-03-08 23:49:58,031]\u001b[0m Trial 42 finished with value: 0.058023966269526 and parameters: {'x': 2.2408816436956664}. Best is trial 31 with value: 0.0002607433773244876.\u001b[0m\n",
      "\u001b[32m[I 2021-03-08 23:49:58,040]\u001b[0m Trial 43 finished with value: 2.423104037445672 and parameters: {'x': 0.4433677256828856}. Best is trial 31 with value: 0.0002607433773244876.\u001b[0m\n",
      "\u001b[32m[I 2021-03-08 23:49:58,046]\u001b[0m Trial 44 finished with value: 0.8222575127840397 and parameters: {'x': 2.9067841599763637}. Best is trial 31 with value: 0.0002607433773244876.\u001b[0m\n"
     ]
    },
    {
     "name": "stderr",
     "output_type": "stream",
     "text": [
      "\u001b[32m[I 2021-03-08 23:49:58,053]\u001b[0m Trial 45 finished with value: 0.4063602903851837 and parameters: {'x': 1.362536047775889}. Best is trial 31 with value: 0.0002607433773244876.\u001b[0m\n",
      "\u001b[32m[I 2021-03-08 23:49:58,060]\u001b[0m Trial 46 finished with value: 3.0636386933527455 and parameters: {'x': 3.750325310721623}. Best is trial 31 with value: 0.0002607433773244876.\u001b[0m\n",
      "\u001b[32m[I 2021-03-08 23:49:58,068]\u001b[0m Trial 47 finished with value: 6.144569450319459 and parameters: {'x': 4.478824207223953}. Best is trial 31 with value: 0.0002607433773244876.\u001b[0m\n",
      "\u001b[32m[I 2021-03-08 23:49:58,075]\u001b[0m Trial 48 finished with value: 0.10848449345542054 and parameters: {'x': 2.329369842965959}. Best is trial 31 with value: 0.0002607433773244876.\u001b[0m\n",
      "\u001b[32m[I 2021-03-08 23:49:58,081]\u001b[0m Trial 49 finished with value: 27.641330733822887 and parameters: {'x': -3.25750232846576}. Best is trial 31 with value: 0.0002607433773244876.\u001b[0m\n",
      "\u001b[32m[I 2021-03-08 23:49:58,088]\u001b[0m Trial 50 finished with value: 4.578144969386626 and parameters: {'x': -0.13966001256896554}. Best is trial 31 with value: 0.0002607433773244876.\u001b[0m\n",
      "\u001b[32m[I 2021-03-08 23:49:58,094]\u001b[0m Trial 51 finished with value: 0.025064996110221494 and parameters: {'x': 1.8416807146610954}. Best is trial 31 with value: 0.0002607433773244876.\u001b[0m\n",
      "\u001b[32m[I 2021-03-08 23:49:58,102]\u001b[0m Trial 52 finished with value: 0.7325345119212647 and parameters: {'x': 1.1441176997266127}. Best is trial 31 with value: 0.0002607433773244876.\u001b[0m\n",
      "\u001b[32m[I 2021-03-08 23:49:58,109]\u001b[0m Trial 53 finished with value: 0.7039211362154534 and parameters: {'x': 2.8390000811772627}. Best is trial 31 with value: 0.0002607433773244876.\u001b[0m\n",
      "\u001b[32m[I 2021-03-08 23:49:58,115]\u001b[0m Trial 54 finished with value: 10.101676412511452 and parameters: {'x': -1.178313454099745}. Best is trial 31 with value: 0.0002607433773244876.\u001b[0m\n",
      "\u001b[32m[I 2021-03-08 23:49:58,122]\u001b[0m Trial 55 finished with value: 0.03718002792848964 and parameters: {'x': 1.8071787669148192}. Best is trial 31 with value: 0.0002607433773244876.\u001b[0m\n",
      "\u001b[32m[I 2021-03-08 23:49:58,132]\u001b[0m Trial 56 finished with value: 12.23874136716337 and parameters: {'x': 5.498391254157169}. Best is trial 31 with value: 0.0002607433773244876.\u001b[0m\n",
      "\u001b[32m[I 2021-03-08 23:49:58,141]\u001b[0m Trial 57 finished with value: 2.097733662132067 and parameters: {'x': 3.4483555026760753}. Best is trial 31 with value: 0.0002607433773244876.\u001b[0m\n",
      "\u001b[32m[I 2021-03-08 23:49:58,152]\u001b[0m Trial 58 finished with value: 1.1263549993864337 and parameters: {'x': 0.9387012676034925}. Best is trial 31 with value: 0.0002607433773244876.\u001b[0m\n",
      "\u001b[32m[I 2021-03-08 23:49:58,164]\u001b[0m Trial 59 finished with value: 4.551628641590433 and parameters: {'x': -0.1334546260913152}. Best is trial 31 with value: 0.0002607433773244876.\u001b[0m\n",
      "\u001b[32m[I 2021-03-08 23:49:58,176]\u001b[0m Trial 60 finished with value: 0.004907308322398078 and parameters: {'x': 2.0700521828524856}. Best is trial 31 with value: 0.0002607433773244876.\u001b[0m\n",
      "\u001b[32m[I 2021-03-08 23:49:58,184]\u001b[0m Trial 61 finished with value: 0.025137406269090647 and parameters: {'x': 1.8414521956345953}. Best is trial 31 with value: 0.0002607433773244876.\u001b[0m\n",
      "\u001b[32m[I 2021-03-08 23:49:58,190]\u001b[0m Trial 62 finished with value: 0.07747023304549809 and parameters: {'x': 2.2783347499783275}. Best is trial 31 with value: 0.0002607433773244876.\u001b[0m\n",
      "\u001b[32m[I 2021-03-08 23:49:58,198]\u001b[0m Trial 63 finished with value: 0.3538443371313562 and parameters: {'x': 1.4051518369101605}. Best is trial 31 with value: 0.0002607433773244876.\u001b[0m\n",
      "\u001b[32m[I 2021-03-08 23:49:58,206]\u001b[0m Trial 64 finished with value: 4.822183503791482 and parameters: {'x': 4.1959470630667495}. Best is trial 31 with value: 0.0002607433773244876.\u001b[0m\n",
      "\u001b[32m[I 2021-03-08 23:49:58,213]\u001b[0m Trial 65 finished with value: 0.9046441640377506 and parameters: {'x': 2.951127837904953}. Best is trial 31 with value: 0.0002607433773244876.\u001b[0m\n",
      "\u001b[32m[I 2021-03-08 23:49:58,220]\u001b[0m Trial 66 finished with value: 3.154435469022326 and parameters: {'x': 0.22392695279098218}. Best is trial 31 with value: 0.0002607433773244876.\u001b[0m\n",
      "\u001b[32m[I 2021-03-08 23:49:58,228]\u001b[0m Trial 67 finished with value: 10.177947498415154 and parameters: {'x': -1.1902895634119413}. Best is trial 31 with value: 0.0002607433773244876.\u001b[0m\n",
      "\u001b[32m[I 2021-03-08 23:49:58,234]\u001b[0m Trial 68 finished with value: 2.2553595415297094 and parameters: {'x': 3.5017854512312034}. Best is trial 31 with value: 0.0002607433773244876.\u001b[0m\n",
      "\u001b[32m[I 2021-03-08 23:49:58,241]\u001b[0m Trial 69 finished with value: 0.00627158109582376 and parameters: {'x': 1.9208066852832655}. Best is trial 31 with value: 0.0002607433773244876.\u001b[0m\n",
      "\u001b[32m[I 2021-03-08 23:49:58,248]\u001b[0m Trial 70 finished with value: 1.485680806973345 and parameters: {'x': 0.7811149328286342}. Best is trial 31 with value: 0.0002607433773244876.\u001b[0m\n",
      "\u001b[32m[I 2021-03-08 23:49:58,255]\u001b[0m Trial 71 finished with value: 0.0035240831171730737 and parameters: {'x': 1.9406360116133268}. Best is trial 31 with value: 0.0002607433773244876.\u001b[0m\n",
      "\u001b[32m[I 2021-03-08 23:49:58,262]\u001b[0m Trial 72 finished with value: 1.3416763437369676 and parameters: {'x': 3.158307534179489}. Best is trial 31 with value: 0.0002607433773244876.\u001b[0m\n",
      "\u001b[32m[I 2021-03-08 23:49:58,269]\u001b[0m Trial 73 finished with value: 0.02145499218450888 and parameters: {'x': 2.146475227204155}. Best is trial 31 with value: 0.0002607433773244876.\u001b[0m\n",
      "\u001b[32m[I 2021-03-08 23:49:58,277]\u001b[0m Trial 74 finished with value: 0.20135854090650285 and parameters: {'x': 2.448729919780822}. Best is trial 31 with value: 0.0002607433773244876.\u001b[0m\n",
      "\u001b[32m[I 2021-03-08 23:49:58,285]\u001b[0m Trial 75 finished with value: 0.5535458494721399 and parameters: {'x': 1.255993380760534}. Best is trial 31 with value: 0.0002607433773244876.\u001b[0m\n",
      "\u001b[32m[I 2021-03-08 23:49:58,292]\u001b[0m Trial 76 finished with value: 0.0252291292254599 and parameters: {'x': 1.8411631993980617}. Best is trial 31 with value: 0.0002607433773244876.\u001b[0m\n",
      "\u001b[32m[I 2021-03-08 23:49:58,298]\u001b[0m Trial 77 finished with value: 4.444104911314371 and parameters: {'x': 4.108104577888481}. Best is trial 31 with value: 0.0002607433773244876.\u001b[0m\n",
      "\u001b[32m[I 2021-03-08 23:49:58,305]\u001b[0m Trial 78 finished with value: 8.050701042693218 and parameters: {'x': 4.837375731674115}. Best is trial 31 with value: 0.0002607433773244876.\u001b[0m\n",
      "\u001b[32m[I 2021-03-08 23:49:58,310]\u001b[0m Trial 79 finished with value: 7.10115288873784 and parameters: {'x': -0.6647988458301763}. Best is trial 31 with value: 0.0002607433773244876.\u001b[0m\n",
      "\u001b[32m[I 2021-03-08 23:49:58,318]\u001b[0m Trial 80 finished with value: 1.8482502705063804 and parameters: {'x': 0.640496314640383}. Best is trial 31 with value: 0.0002607433773244876.\u001b[0m\n",
      "\u001b[32m[I 2021-03-08 23:49:58,324]\u001b[0m Trial 81 finished with value: 0.01716599472110742 and parameters: {'x': 2.131019062434088}. Best is trial 31 with value: 0.0002607433773244876.\u001b[0m\n",
      "\u001b[32m[I 2021-03-08 23:49:58,332]\u001b[0m Trial 82 finished with value: 0.15669036955110321 and parameters: {'x': 2.39584134391332}. Best is trial 31 with value: 0.0002607433773244876.\u001b[0m\n",
      "\u001b[32m[I 2021-03-08 23:49:58,339]\u001b[0m Trial 83 finished with value: 1.7513274780221006 and parameters: {'x': 3.3233772999496782}. Best is trial 31 with value: 0.0002607433773244876.\u001b[0m\n",
      "\u001b[32m[I 2021-03-08 23:49:58,346]\u001b[0m Trial 84 finished with value: 0.3487471470236606 and parameters: {'x': 2.590548175023563}. Best is trial 31 with value: 0.0002607433773244876.\u001b[0m\n",
      "\u001b[32m[I 2021-03-08 23:49:58,355]\u001b[0m Trial 85 finished with value: 0.2375173651634647 and parameters: {'x': 1.5126424668034106}. Best is trial 31 with value: 0.0002607433773244876.\u001b[0m\n",
      "\u001b[32m[I 2021-03-08 23:49:58,361]\u001b[0m Trial 86 finished with value: 3.067999460197614 and parameters: {'x': 0.24842943042604926}. Best is trial 31 with value: 0.0002607433773244876.\u001b[0m\n",
      "\u001b[32m[I 2021-03-08 23:49:58,369]\u001b[0m Trial 87 finished with value: 0.012073164220631743 and parameters: {'x': 2.1098779514763164}. Best is trial 31 with value: 0.0002607433773244876.\u001b[0m\n",
      "\u001b[32m[I 2021-03-08 23:49:58,376]\u001b[0m Trial 88 finished with value: 3.518237591881663 and parameters: {'x': 3.8756965617822257}. Best is trial 31 with value: 0.0002607433773244876.\u001b[0m\n",
      "\u001b[32m[I 2021-03-08 23:49:58,383]\u001b[0m Trial 89 finished with value: 1.302924688470471 and parameters: {'x': 0.8585427347156307}. Best is trial 31 with value: 0.0002607433773244876.\u001b[0m\n"
     ]
    },
    {
     "name": "stderr",
     "output_type": "stream",
     "text": [
      "\u001b[32m[I 2021-03-08 23:49:58,388]\u001b[0m Trial 90 finished with value: 0.8517716123304236 and parameters: {'x': 2.9229147373026523}. Best is trial 31 with value: 0.0002607433773244876.\u001b[0m\n",
      "\u001b[32m[I 2021-03-08 23:49:58,395]\u001b[0m Trial 91 finished with value: 0.011407157997792532 and parameters: {'x': 1.893195702343995}. Best is trial 31 with value: 0.0002607433773244876.\u001b[0m\n",
      "\u001b[32m[I 2021-03-08 23:49:58,402]\u001b[0m Trial 92 finished with value: 0.339367864330312 and parameters: {'x': 1.4174471145635685}. Best is trial 31 with value: 0.0002607433773244876.\u001b[0m\n",
      "\u001b[32m[I 2021-03-08 23:49:58,407]\u001b[0m Trial 93 finished with value: 0.014212210649283847 and parameters: {'x': 2.1192149766148694}. Best is trial 31 with value: 0.0002607433773244876.\u001b[0m\n",
      "\u001b[32m[I 2021-03-08 23:49:58,413]\u001b[0m Trial 94 finished with value: 0.5361270255327892 and parameters: {'x': 2.7322069553977135}. Best is trial 31 with value: 0.0002607433773244876.\u001b[0m\n",
      "\u001b[32m[I 2021-03-08 23:49:58,420]\u001b[0m Trial 95 finished with value: 4.442529324935836 and parameters: {'x': -0.10773084736544014}. Best is trial 31 with value: 0.0002607433773244876.\u001b[0m\n",
      "\u001b[32m[I 2021-03-08 23:49:58,427]\u001b[0m Trial 96 finished with value: 59.48293350450107 and parameters: {'x': 9.71251797433893}. Best is trial 31 with value: 0.0002607433773244876.\u001b[0m\n",
      "\u001b[32m[I 2021-03-08 23:49:58,433]\u001b[0m Trial 97 finished with value: 0.9967756490542744 and parameters: {'x': 1.0016134771270826}. Best is trial 31 with value: 0.0002607433773244876.\u001b[0m\n",
      "\u001b[32m[I 2021-03-08 23:49:58,441]\u001b[0m Trial 98 finished with value: 0.11045994796621031 and parameters: {'x': 1.6676448466381026}. Best is trial 31 with value: 0.0002607433773244876.\u001b[0m\n",
      "\u001b[32m[I 2021-03-08 23:49:58,447]\u001b[0m Trial 99 finished with value: 2.9334833545043426 and parameters: {'x': 3.7127414733415964}. Best is trial 31 with value: 0.0002607433773244876.\u001b[0m\n"
     ]
    },
    {
     "data": {
      "text/plain": [
       "{'x': 1.9838524498042431}"
      ]
     },
     "execution_count": 38,
     "metadata": {},
     "output_type": "execute_result"
    }
   ],
   "source": [
    "import optuna\n",
    "\n",
    "def objective(trial):\n",
    "    x = trial.suggest_uniform('x', -10, 10)\n",
    "    return (x - 2) ** 2\n",
    "\n",
    "study = optuna.create_study()\n",
    "study.optimize(objective, n_trials = 100)\n",
    "\n",
    "study.best_params"
   ]
  },
  {
   "cell_type": "code",
   "execution_count": 39,
   "metadata": {},
   "outputs": [
    {
     "name": "stderr",
     "output_type": "stream",
     "text": [
      "\u001b[32m[I 2021-03-08 23:49:58,465]\u001b[0m A new study created in memory with name: no-name-00756faa-e5a5-44d1-9ebe-393f7ccfb97c\u001b[0m\n",
      "\u001b[32m[I 2021-03-08 23:50:00,550]\u001b[0m Trial 0 finished with value: 0.96 and parameters: {'classifier': 'RandomForest', 'rf_max_depth': 23, 'dt_max_depth': 36}. Best is trial 0 with value: 0.96.\u001b[0m\n",
      "\u001b[32m[I 2021-03-08 23:50:01,535]\u001b[0m Trial 1 finished with value: 0.32 and parameters: {'classifier': 'LogisticRegression', 'lr_c': 2.6141933085865383e-10}. Best is trial 0 with value: 0.96.\u001b[0m\n",
      "\u001b[32m[I 2021-03-08 23:50:02,459]\u001b[0m Trial 2 finished with value: 0.9666666666666667 and parameters: {'classifier': 'RandomForest', 'rf_max_depth': 6, 'dt_max_depth': 19}. Best is trial 2 with value: 0.9666666666666667.\u001b[0m\n",
      "\u001b[32m[I 2021-03-08 23:50:02,508]\u001b[0m Trial 3 finished with value: 0.9666666666666667 and parameters: {'classifier': 'LogisticRegression', 'lr_c': 18137942.525341995}. Best is trial 2 with value: 0.9666666666666667.\u001b[0m\n",
      "\u001b[32m[I 2021-03-08 23:50:02,569]\u001b[0m Trial 4 finished with value: 0.9733333333333333 and parameters: {'classifier': 'LogisticRegression', 'lr_c': 2.6795699064641405}. Best is trial 4 with value: 0.9733333333333333.\u001b[0m\n",
      "\u001b[32m[I 2021-03-08 23:50:02,585]\u001b[0m Trial 5 finished with value: 0.96 and parameters: {'classifier': 'RandomForest', 'rf_max_depth': 22, 'dt_max_depth': 21}. Best is trial 4 with value: 0.9733333333333333.\u001b[0m\n",
      "\u001b[32m[I 2021-03-08 23:50:02,614]\u001b[0m Trial 6 finished with value: 0.32 and parameters: {'classifier': 'LogisticRegression', 'lr_c': 3.0155102942837256e-06}. Best is trial 4 with value: 0.9733333333333333.\u001b[0m\n",
      "\u001b[32m[I 2021-03-08 23:50:02,708]\u001b[0m Trial 7 finished with value: 0.9666666666666667 and parameters: {'classifier': 'DecisionTree', 'dt_max_depth': 24}. Best is trial 4 with value: 0.9733333333333333.\u001b[0m\n",
      "\u001b[32m[I 2021-03-08 23:50:02,724]\u001b[0m Trial 8 finished with value: 0.9666666666666667 and parameters: {'classifier': 'DecisionTree', 'dt_max_depth': 5}. Best is trial 4 with value: 0.9733333333333333.\u001b[0m\n",
      "\u001b[32m[I 2021-03-08 23:50:02,747]\u001b[0m Trial 9 finished with value: 0.32 and parameters: {'classifier': 'LogisticRegression', 'lr_c': 1.3738129765125394e-08}. Best is trial 4 with value: 0.9733333333333333.\u001b[0m\n",
      "\u001b[32m[I 2021-03-08 23:50:02,866]\u001b[0m Trial 10 finished with value: 0.9733333333333333 and parameters: {'classifier': 'LogisticRegression', 'lr_c': 2188.69439699977}. Best is trial 4 with value: 0.9733333333333333.\u001b[0m\n",
      "\u001b[32m[I 2021-03-08 23:50:02,935]\u001b[0m Trial 11 finished with value: 0.9733333333333333 and parameters: {'classifier': 'LogisticRegression', 'lr_c': 1310.8170421523162}. Best is trial 4 with value: 0.9733333333333333.\u001b[0m\n",
      "\u001b[32m[I 2021-03-08 23:50:03,362]\u001b[0m Trial 12 finished with value: 0.9733333333333333 and parameters: {'classifier': 'LogisticRegression', 'lr_c': 1.646250705606215}. Best is trial 4 with value: 0.9733333333333333.\u001b[0m\n",
      "\u001b[32m[I 2021-03-08 23:50:04,457]\u001b[0m Trial 13 finished with value: 0.9733333333333333 and parameters: {'classifier': 'LogisticRegression', 'lr_c': 79937.25765873553}. Best is trial 4 with value: 0.9733333333333333.\u001b[0m\n",
      "\u001b[32m[I 2021-03-08 23:50:04,573]\u001b[0m Trial 14 finished with value: 0.8466666666666667 and parameters: {'classifier': 'LogisticRegression', 'lr_c': 0.007811164609908071}. Best is trial 4 with value: 0.9733333333333333.\u001b[0m\n",
      "\u001b[32m[I 2021-03-08 23:50:04,603]\u001b[0m Trial 15 finished with value: 0.96 and parameters: {'classifier': 'DecisionTree', 'dt_max_depth': 42}. Best is trial 4 with value: 0.9733333333333333.\u001b[0m\n",
      "\u001b[32m[I 2021-03-08 23:50:04,661]\u001b[0m Trial 16 finished with value: 0.9733333333333333 and parameters: {'classifier': 'LogisticRegression', 'lr_c': 3012080514.9587564}. Best is trial 4 with value: 0.9733333333333333.\u001b[0m\n",
      "\u001b[32m[I 2021-03-08 23:50:04,720]\u001b[0m Trial 17 finished with value: 0.9733333333333333 and parameters: {'classifier': 'LogisticRegression', 'lr_c': 312556333.1001352}. Best is trial 4 with value: 0.9733333333333333.\u001b[0m\n",
      "\u001b[32m[I 2021-03-08 23:50:04,783]\u001b[0m Trial 18 finished with value: 0.9666666666666667 and parameters: {'classifier': 'LogisticRegression', 'lr_c': 23509767.76676213}. Best is trial 4 with value: 0.9733333333333333.\u001b[0m\n",
      "\u001b[32m[I 2021-03-08 23:50:04,904]\u001b[0m Trial 19 finished with value: 0.9333333333333332 and parameters: {'classifier': 'DecisionTree', 'dt_max_depth': 2}. Best is trial 4 with value: 0.9733333333333333.\u001b[0m\n",
      "\u001b[32m[I 2021-03-08 23:50:05,024]\u001b[0m Trial 20 finished with value: 0.9666666666666667 and parameters: {'classifier': 'RandomForest', 'rf_max_depth': 2, 'dt_max_depth': 12}. Best is trial 4 with value: 0.9733333333333333.\u001b[0m\n",
      "\u001b[32m[I 2021-03-08 23:50:05,102]\u001b[0m Trial 21 finished with value: 0.9733333333333333 and parameters: {'classifier': 'LogisticRegression', 'lr_c': 4078551648.3264227}. Best is trial 4 with value: 0.9733333333333333.\u001b[0m\n",
      "\u001b[32m[I 2021-03-08 23:50:05,159]\u001b[0m Trial 22 finished with value: 0.9733333333333333 and parameters: {'classifier': 'LogisticRegression', 'lr_c': 9066665950.644003}. Best is trial 4 with value: 0.9733333333333333.\u001b[0m\n",
      "\u001b[32m[I 2021-03-08 23:50:05,242]\u001b[0m Trial 23 finished with value: 0.9733333333333333 and parameters: {'classifier': 'LogisticRegression', 'lr_c': 40819.749300424955}. Best is trial 4 with value: 0.9733333333333333.\u001b[0m\n",
      "\u001b[32m[I 2021-03-08 23:50:05,298]\u001b[0m Trial 24 finished with value: 0.9666666666666667 and parameters: {'classifier': 'LogisticRegression', 'lr_c': 24165890.15944842}. Best is trial 4 with value: 0.9733333333333333.\u001b[0m\n",
      "\u001b[32m[I 2021-03-08 23:50:05,334]\u001b[0m Trial 25 finished with value: 0.7933333333333333 and parameters: {'classifier': 'LogisticRegression', 'lr_c': 0.004584123525451089}. Best is trial 4 with value: 0.9733333333333333.\u001b[0m\n",
      "\u001b[32m[I 2021-03-08 23:50:05,416]\u001b[0m Trial 26 finished with value: 0.9733333333333333 and parameters: {'classifier': 'LogisticRegression', 'lr_c': 1217.7554363831098}. Best is trial 4 with value: 0.9733333333333333.\u001b[0m\n",
      "\u001b[32m[I 2021-03-08 23:50:05,503]\u001b[0m Trial 27 finished with value: 0.9733333333333333 and parameters: {'classifier': 'LogisticRegression', 'lr_c': 184461.84608668}. Best is trial 4 with value: 0.9733333333333333.\u001b[0m\n",
      "\u001b[32m[I 2021-03-08 23:50:05,617]\u001b[0m Trial 28 finished with value: 0.9733333333333333 and parameters: {'classifier': 'LogisticRegression', 'lr_c': 95911.0278964121}. Best is trial 4 with value: 0.9733333333333333.\u001b[0m\n",
      "\u001b[32m[I 2021-03-08 23:50:05,645]\u001b[0m Trial 29 finished with value: 0.96 and parameters: {'classifier': 'RandomForest', 'rf_max_depth': 2, 'dt_max_depth': 33}. Best is trial 4 with value: 0.9733333333333333.\u001b[0m\n",
      "\u001b[32m[I 2021-03-08 23:50:05,738]\u001b[0m Trial 30 finished with value: 0.9733333333333333 and parameters: {'classifier': 'LogisticRegression', 'lr_c': 294.3142768893652}. Best is trial 4 with value: 0.9733333333333333.\u001b[0m\n",
      "\u001b[32m[I 2021-03-08 23:50:05,803]\u001b[0m Trial 31 finished with value: 0.9733333333333333 and parameters: {'classifier': 'LogisticRegression', 'lr_c': 7501858689.707663}. Best is trial 4 with value: 0.9733333333333333.\u001b[0m\n",
      "\u001b[32m[I 2021-03-08 23:50:05,859]\u001b[0m Trial 32 finished with value: 0.9733333333333333 and parameters: {'classifier': 'LogisticRegression', 'lr_c': 6333404481.898631}. Best is trial 4 with value: 0.9733333333333333.\u001b[0m\n",
      "\u001b[32m[I 2021-03-08 23:50:05,971]\u001b[0m Trial 33 finished with value: 0.9733333333333333 and parameters: {'classifier': 'LogisticRegression', 'lr_c': 218795.4373505181}. Best is trial 4 with value: 0.9733333333333333.\u001b[0m\n",
      "\u001b[32m[I 2021-03-08 23:50:06,067]\u001b[0m Trial 34 finished with value: 0.98 and parameters: {'classifier': 'LogisticRegression', 'lr_c': 39.316277506555686}. Best is trial 34 with value: 0.98.\u001b[0m\n",
      "\u001b[32m[I 2021-03-08 23:50:06,188]\u001b[0m Trial 35 finished with value: 0.98 and parameters: {'classifier': 'LogisticRegression', 'lr_c': 24.177764697647568}. Best is trial 34 with value: 0.98.\u001b[0m\n",
      "\u001b[32m[I 2021-03-08 23:50:06,222]\u001b[0m Trial 36 finished with value: 0.9666666666666667 and parameters: {'classifier': 'RandomForest', 'rf_max_depth': 6, 'dt_max_depth': 29}. Best is trial 34 with value: 0.98.\u001b[0m\n",
      "\u001b[32m[I 2021-03-08 23:50:06,302]\u001b[0m Trial 37 finished with value: 0.98 and parameters: {'classifier': 'LogisticRegression', 'lr_c': 33.02621847804583}. Best is trial 34 with value: 0.98.\u001b[0m\n"
     ]
    },
    {
     "name": "stderr",
     "output_type": "stream",
     "text": [
      "\u001b[32m[I 2021-03-08 23:50:06,389]\u001b[0m Trial 38 finished with value: 0.98 and parameters: {'classifier': 'LogisticRegression', 'lr_c': 29.191479419545725}. Best is trial 34 with value: 0.98.\u001b[0m\n",
      "\u001b[32m[I 2021-03-08 23:50:06,410]\u001b[0m Trial 39 finished with value: 0.96 and parameters: {'classifier': 'DecisionTree', 'dt_max_depth': 42}. Best is trial 34 with value: 0.98.\u001b[0m\n",
      "\u001b[32m[I 2021-03-08 23:50:06,465]\u001b[0m Trial 40 finished with value: 0.9466666666666667 and parameters: {'classifier': 'LogisticRegression', 'lr_c': 0.057340877526092675}. Best is trial 34 with value: 0.98.\u001b[0m\n",
      "\u001b[32m[I 2021-03-08 23:50:06,579]\u001b[0m Trial 41 finished with value: 0.98 and parameters: {'classifier': 'LogisticRegression', 'lr_c': 47.75577820866938}. Best is trial 34 with value: 0.98.\u001b[0m\n",
      "\u001b[32m[I 2021-03-08 23:50:06,649]\u001b[0m Trial 42 finished with value: 0.98 and parameters: {'classifier': 'LogisticRegression', 'lr_c': 23.695776359084974}. Best is trial 34 with value: 0.98.\u001b[0m\n",
      "\u001b[32m[I 2021-03-08 23:50:06,719]\u001b[0m Trial 43 finished with value: 0.9666666666666667 and parameters: {'classifier': 'LogisticRegression', 'lr_c': 0.6082929071653121}. Best is trial 34 with value: 0.98.\u001b[0m\n",
      "\u001b[32m[I 2021-03-08 23:50:06,802]\u001b[0m Trial 44 finished with value: 0.98 and parameters: {'classifier': 'LogisticRegression', 'lr_c': 27.023880193098556}. Best is trial 34 with value: 0.98.\u001b[0m\n",
      "\u001b[32m[I 2021-03-08 23:50:06,833]\u001b[0m Trial 45 finished with value: 0.7400000000000001 and parameters: {'classifier': 'LogisticRegression', 'lr_c': 0.0003806489367793151}. Best is trial 34 with value: 0.98.\u001b[0m\n",
      "\u001b[32m[I 2021-03-08 23:50:06,900]\u001b[0m Trial 46 finished with value: 0.98 and parameters: {'classifier': 'LogisticRegression', 'lr_c': 33.51923008128415}. Best is trial 34 with value: 0.98.\u001b[0m\n",
      "\u001b[32m[I 2021-03-08 23:50:06,921]\u001b[0m Trial 47 finished with value: 0.96 and parameters: {'classifier': 'RandomForest', 'rf_max_depth': 12, 'dt_max_depth': 11}. Best is trial 34 with value: 0.98.\u001b[0m\n",
      "\u001b[32m[I 2021-03-08 23:50:06,971]\u001b[0m Trial 48 finished with value: 0.9466666666666667 and parameters: {'classifier': 'LogisticRegression', 'lr_c': 0.18089685682307277}. Best is trial 34 with value: 0.98.\u001b[0m\n",
      "\u001b[32m[I 2021-03-08 23:50:07,052]\u001b[0m Trial 49 finished with value: 0.98 and parameters: {'classifier': 'LogisticRegression', 'lr_c': 3.6227341283705123}. Best is trial 34 with value: 0.98.\u001b[0m\n",
      "\u001b[32m[I 2021-03-08 23:50:07,073]\u001b[0m Trial 50 finished with value: 0.9666666666666667 and parameters: {'classifier': 'DecisionTree', 'dt_max_depth': 12}. Best is trial 34 with value: 0.98.\u001b[0m\n",
      "\u001b[32m[I 2021-03-08 23:50:07,142]\u001b[0m Trial 51 finished with value: 0.98 and parameters: {'classifier': 'LogisticRegression', 'lr_c': 7.111506639284487}. Best is trial 34 with value: 0.98.\u001b[0m\n",
      "\u001b[32m[I 2021-03-08 23:50:07,231]\u001b[0m Trial 52 finished with value: 0.98 and parameters: {'classifier': 'LogisticRegression', 'lr_c': 22.915859400055815}. Best is trial 34 with value: 0.98.\u001b[0m\n",
      "\u001b[32m[I 2021-03-08 23:50:07,321]\u001b[0m Trial 53 finished with value: 0.9733333333333333 and parameters: {'classifier': 'LogisticRegression', 'lr_c': 6768.18223105612}. Best is trial 34 with value: 0.98.\u001b[0m\n",
      "\u001b[32m[I 2021-03-08 23:50:07,408]\u001b[0m Trial 54 finished with value: 0.98 and parameters: {'classifier': 'LogisticRegression', 'lr_c': 3.434698712457958}. Best is trial 34 with value: 0.98.\u001b[0m\n",
      "\u001b[32m[I 2021-03-08 23:50:07,495]\u001b[0m Trial 55 finished with value: 0.9733333333333333 and parameters: {'classifier': 'LogisticRegression', 'lr_c': 149.78016684432944}. Best is trial 34 with value: 0.98.\u001b[0m\n",
      "\u001b[32m[I 2021-03-08 23:50:07,568]\u001b[0m Trial 56 finished with value: 0.98 and parameters: {'classifier': 'LogisticRegression', 'lr_c': 5.376242430671429}. Best is trial 34 with value: 0.98.\u001b[0m\n",
      "\u001b[32m[I 2021-03-08 23:50:07,618]\u001b[0m Trial 57 finished with value: 0.9066666666666666 and parameters: {'classifier': 'LogisticRegression', 'lr_c': 0.03532303089547951}. Best is trial 34 with value: 0.98.\u001b[0m\n",
      "\u001b[32m[I 2021-03-08 23:50:07,711]\u001b[0m Trial 58 finished with value: 0.9733333333333333 and parameters: {'classifier': 'LogisticRegression', 'lr_c': 1.6710878865283818}. Best is trial 34 with value: 0.98.\u001b[0m\n",
      "\u001b[32m[I 2021-03-08 23:50:07,784]\u001b[0m Trial 59 finished with value: 0.9733333333333333 and parameters: {'classifier': 'LogisticRegression', 'lr_c': 596.6632684790845}. Best is trial 34 with value: 0.98.\u001b[0m\n",
      "\u001b[32m[I 2021-03-08 23:50:07,812]\u001b[0m Trial 60 finished with value: 0.7333333333333334 and parameters: {'classifier': 'LogisticRegression', 'lr_c': 0.0010981599728012235}. Best is trial 34 with value: 0.98.\u001b[0m\n",
      "\u001b[32m[I 2021-03-08 23:50:07,903]\u001b[0m Trial 61 finished with value: 0.9733333333333333 and parameters: {'classifier': 'LogisticRegression', 'lr_c': 8053.705208076601}. Best is trial 34 with value: 0.98.\u001b[0m\n",
      "\u001b[32m[I 2021-03-08 23:50:07,974]\u001b[0m Trial 62 finished with value: 0.98 and parameters: {'classifier': 'LogisticRegression', 'lr_c': 78.89141260038664}. Best is trial 34 with value: 0.98.\u001b[0m\n",
      "\u001b[32m[I 2021-03-08 23:50:08,034]\u001b[0m Trial 63 finished with value: 0.9733333333333333 and parameters: {'classifier': 'LogisticRegression', 'lr_c': 96.0607481644281}. Best is trial 34 with value: 0.98.\u001b[0m\n",
      "\u001b[32m[I 2021-03-08 23:50:08,110]\u001b[0m Trial 64 finished with value: 0.9733333333333333 and parameters: {'classifier': 'LogisticRegression', 'lr_c': 0.948960260001206}. Best is trial 34 with value: 0.98.\u001b[0m\n",
      "\u001b[32m[I 2021-03-08 23:50:08,181]\u001b[0m Trial 65 finished with value: 0.9733333333333333 and parameters: {'classifier': 'LogisticRegression', 'lr_c': 10.330158438016795}. Best is trial 34 with value: 0.98.\u001b[0m\n",
      "\u001b[32m[I 2021-03-08 23:50:08,235]\u001b[0m Trial 66 finished with value: 0.96 and parameters: {'classifier': 'LogisticRegression', 'lr_c': 0.36065470622485335}. Best is trial 34 with value: 0.98.\u001b[0m\n",
      "\u001b[32m[I 2021-03-08 23:50:08,256]\u001b[0m Trial 67 finished with value: 0.9533333333333333 and parameters: {'classifier': 'DecisionTree', 'dt_max_depth': 37}. Best is trial 34 with value: 0.98.\u001b[0m\n",
      "\u001b[32m[I 2021-03-08 23:50:08,323]\u001b[0m Trial 68 finished with value: 0.98 and parameters: {'classifier': 'LogisticRegression', 'lr_c': 3.1847499413879654}. Best is trial 34 with value: 0.98.\u001b[0m\n",
      "\u001b[32m[I 2021-03-08 23:50:08,351]\u001b[0m Trial 69 finished with value: 0.9666666666666667 and parameters: {'classifier': 'RandomForest', 'rf_max_depth': 3, 'dt_max_depth': 27}. Best is trial 34 with value: 0.98.\u001b[0m\n",
      "\u001b[32m[I 2021-03-08 23:50:08,428]\u001b[0m Trial 70 finished with value: 0.9733333333333333 and parameters: {'classifier': 'LogisticRegression', 'lr_c': 5094.305231844473}. Best is trial 34 with value: 0.98.\u001b[0m\n",
      "\u001b[32m[I 2021-03-08 23:50:08,481]\u001b[0m Trial 71 finished with value: 0.98 and parameters: {'classifier': 'LogisticRegression', 'lr_c': 28.298373967767212}. Best is trial 34 with value: 0.98.\u001b[0m\n",
      "\u001b[32m[I 2021-03-08 23:50:08,546]\u001b[0m Trial 72 finished with value: 0.98 and parameters: {'classifier': 'LogisticRegression', 'lr_c': 3.2465888281636044}. Best is trial 34 with value: 0.98.\u001b[0m\n",
      "\u001b[32m[I 2021-03-08 23:50:08,609]\u001b[0m Trial 73 finished with value: 0.9733333333333333 and parameters: {'classifier': 'LogisticRegression', 'lr_c': 463.75998554371466}. Best is trial 34 with value: 0.98.\u001b[0m\n",
      "\u001b[32m[I 2021-03-08 23:50:08,645]\u001b[0m Trial 74 finished with value: 0.9466666666666667 and parameters: {'classifier': 'LogisticRegression', 'lr_c': 0.10158231108904205}. Best is trial 34 with value: 0.98.\u001b[0m\n",
      "\u001b[32m[I 2021-03-08 23:50:08,706]\u001b[0m Trial 75 finished with value: 0.9733333333333333 and parameters: {'classifier': 'LogisticRegression', 'lr_c': 160.9765945403836}. Best is trial 34 with value: 0.98.\u001b[0m\n",
      "\u001b[32m[I 2021-03-08 23:50:08,743]\u001b[0m Trial 76 finished with value: 0.88 and parameters: {'classifier': 'LogisticRegression', 'lr_c': 0.01584028035831329}. Best is trial 34 with value: 0.98.\u001b[0m\n",
      "\u001b[32m[I 2021-03-08 23:50:08,794]\u001b[0m Trial 77 finished with value: 0.9733333333333333 and parameters: {'classifier': 'LogisticRegression', 'lr_c': 10.10191233588263}. Best is trial 34 with value: 0.98.\u001b[0m\n",
      "\u001b[32m[I 2021-03-08 23:50:08,874]\u001b[0m Trial 78 finished with value: 0.98 and parameters: {'classifier': 'LogisticRegression', 'lr_c': 5.5996366743460255}. Best is trial 34 with value: 0.98.\u001b[0m\n",
      "\u001b[32m[I 2021-03-08 23:50:08,942]\u001b[0m Trial 79 finished with value: 0.9733333333333333 and parameters: {'classifier': 'LogisticRegression', 'lr_c': 1240.1772185688671}. Best is trial 34 with value: 0.98.\u001b[0m\n"
     ]
    },
    {
     "name": "stderr",
     "output_type": "stream",
     "text": [
      "\u001b[32m[I 2021-03-08 23:50:09,011]\u001b[0m Trial 80 finished with value: 0.98 and parameters: {'classifier': 'LogisticRegression', 'lr_c': 60.69132982901492}. Best is trial 34 with value: 0.98.\u001b[0m\n",
      "\u001b[32m[I 2021-03-08 23:50:09,088]\u001b[0m Trial 81 finished with value: 0.98 and parameters: {'classifier': 'LogisticRegression', 'lr_c': 41.44933124374857}. Best is trial 34 with value: 0.98.\u001b[0m\n",
      "\u001b[32m[I 2021-03-08 23:50:09,189]\u001b[0m Trial 82 finished with value: 0.98 and parameters: {'classifier': 'LogisticRegression', 'lr_c': 60.40141224659532}. Best is trial 34 with value: 0.98.\u001b[0m\n",
      "\u001b[32m[I 2021-03-08 23:50:09,255]\u001b[0m Trial 83 finished with value: 0.9733333333333333 and parameters: {'classifier': 'LogisticRegression', 'lr_c': 0.7652490812908961}. Best is trial 34 with value: 0.98.\u001b[0m\n",
      "\u001b[32m[I 2021-03-08 23:50:09,353]\u001b[0m Trial 84 finished with value: 0.9733333333333333 and parameters: {'classifier': 'LogisticRegression', 'lr_c': 25371.91406119598}. Best is trial 34 with value: 0.98.\u001b[0m\n",
      "\u001b[32m[I 2021-03-08 23:50:09,392]\u001b[0m Trial 85 finished with value: 0.32 and parameters: {'classifier': 'LogisticRegression', 'lr_c': 1.3381080754623147e-10}. Best is trial 34 with value: 0.98.\u001b[0m\n",
      "\u001b[32m[I 2021-03-08 23:50:09,461]\u001b[0m Trial 86 finished with value: 0.98 and parameters: {'classifier': 'LogisticRegression', 'lr_c': 16.530350724221154}. Best is trial 34 with value: 0.98.\u001b[0m\n",
      "\u001b[32m[I 2021-03-08 23:50:09,484]\u001b[0m Trial 87 finished with value: 0.96 and parameters: {'classifier': 'DecisionTree', 'dt_max_depth': 16}. Best is trial 34 with value: 0.98.\u001b[0m\n",
      "\u001b[32m[I 2021-03-08 23:50:09,568]\u001b[0m Trial 88 finished with value: 0.9733333333333333 and parameters: {'classifier': 'LogisticRegression', 'lr_c': 364.7642734106433}. Best is trial 34 with value: 0.98.\u001b[0m\n",
      "\u001b[32m[I 2021-03-08 23:50:09,598]\u001b[0m Trial 89 finished with value: 0.9333333333333332 and parameters: {'classifier': 'RandomForest', 'rf_max_depth': 14, 'dt_max_depth': 2}. Best is trial 34 with value: 0.98.\u001b[0m\n",
      "\u001b[32m[I 2021-03-08 23:50:09,697]\u001b[0m Trial 90 finished with value: 0.9733333333333333 and parameters: {'classifier': 'LogisticRegression', 'lr_c': 3502.1160926326584}. Best is trial 34 with value: 0.98.\u001b[0m\n",
      "\u001b[32m[I 2021-03-08 23:50:09,789]\u001b[0m Trial 91 finished with value: 0.9733333333333333 and parameters: {'classifier': 'LogisticRegression', 'lr_c': 1.2231457269621844}. Best is trial 34 with value: 0.98.\u001b[0m\n",
      "\u001b[32m[I 2021-03-08 23:50:09,872]\u001b[0m Trial 92 finished with value: 0.98 and parameters: {'classifier': 'LogisticRegression', 'lr_c': 24.151542322908956}. Best is trial 34 with value: 0.98.\u001b[0m\n",
      "\u001b[32m[I 2021-03-08 23:50:09,945]\u001b[0m Trial 93 finished with value: 0.96 and parameters: {'classifier': 'LogisticRegression', 'lr_c': 0.30049978585832543}. Best is trial 34 with value: 0.98.\u001b[0m\n",
      "\u001b[32m[I 2021-03-08 23:50:09,974]\u001b[0m Trial 94 finished with value: 0.32 and parameters: {'classifier': 'LogisticRegression', 'lr_c': 3.602980099123294e-09}. Best is trial 34 with value: 0.98.\u001b[0m\n",
      "\u001b[32m[I 2021-03-08 23:50:10,035]\u001b[0m Trial 95 finished with value: 0.9733333333333333 and parameters: {'classifier': 'LogisticRegression', 'lr_c': 139.01240304994963}. Best is trial 34 with value: 0.98.\u001b[0m\n",
      "\u001b[32m[I 2021-03-08 23:50:10,118]\u001b[0m Trial 96 finished with value: 0.9733333333333333 and parameters: {'classifier': 'LogisticRegression', 'lr_c': 722.7017566493228}. Best is trial 34 with value: 0.98.\u001b[0m\n",
      "\u001b[32m[I 2021-03-08 23:50:10,191]\u001b[0m Trial 97 finished with value: 0.98 and parameters: {'classifier': 'LogisticRegression', 'lr_c': 8.237354147246863}. Best is trial 34 with value: 0.98.\u001b[0m\n",
      "\u001b[32m[I 2021-03-08 23:50:10,250]\u001b[0m Trial 98 finished with value: 0.98 and parameters: {'classifier': 'LogisticRegression', 'lr_c': 45.56977923214818}. Best is trial 34 with value: 0.98.\u001b[0m\n",
      "\u001b[32m[I 2021-03-08 23:50:10,322]\u001b[0m Trial 99 finished with value: 0.98 and parameters: {'classifier': 'LogisticRegression', 'lr_c': 6.48987996071993}. Best is trial 34 with value: 0.98.\u001b[0m\n"
     ]
    },
    {
     "name": "stdout",
     "output_type": "stream",
     "text": [
      "FrozenTrial(number=34, values=[0.98], datetime_start=datetime.datetime(2021, 3, 8, 23, 50, 5, 973599), datetime_complete=datetime.datetime(2021, 3, 8, 23, 50, 6, 66605), params={'classifier': 'LogisticRegression', 'lr_c': 39.316277506555686}, distributions={'classifier': CategoricalDistribution(choices=('RandomForest', 'LogisticRegression', 'DecisionTree')), 'lr_c': LogUniformDistribution(high=10000000000.0, low=1e-10)}, user_attrs={}, system_attrs={}, intermediate_values={}, trial_id=34, state=TrialState.COMPLETE, value=None)\n"
     ]
    }
   ],
   "source": [
    "import sklearn.datasets\n",
    "import sklearn.ensemble\n",
    "import sklearn.model_selection\n",
    "\n",
    "\n",
    "def objective(trial):\n",
    "    iris = sklearn.datasets.load_iris()\n",
    "    x, y = iris.data, iris.target\n",
    "\n",
    "    classifier_name = trial.suggest_categorical(\"classifier\", [\"RandomForest\",\"LogisticRegression\",\"DecisionTree\"])\n",
    "    \n",
    "    # Random Forest Classifier: try to change n_estimators, max_depth, min_samples_leaf. \n",
    "    if classifier_name == \"RandomForest\":\n",
    "    \n",
    "        rf_max_depth = trial.suggest_int(\"rf_max_depth\", 2, 32, log=True)\n",
    "        classifier_obj = sklearn.ensemble.RandomForestClassifier( max_depth = rf_max_depth, n_estimators = 10 )\n",
    "            \n",
    "    #Logistic Regression: try to change C and penalty.\n",
    "    if classifier_name == \"LogisticRegression\": \n",
    "        \n",
    "        lr_c = trial.suggest_float(\"lr_c\", 1e-10, 1e10, log = True)\n",
    "        classifier_obj = LogisticRegression(C = lr_c)\n",
    "        \n",
    "    #Decision Tree\n",
    "    else:\n",
    "        dt_max_depth = trial.suggest_int(\"dt_max_depth\", 2, 42)\n",
    "        classifier_obj = sklearn.tree.DecisionTreeClassifier( max_depth = dt_max_depth)\n",
    "        \n",
    "    # optuna use cross validation    \n",
    "    score = sklearn.model_selection.cross_val_score(classifier_obj, x, y, n_jobs = -1, cv = 3)\n",
    "    accuracy = score.mean()\n",
    "    return accuracy\n",
    "\n",
    "\n",
    "if __name__ == \"__main__\":\n",
    "    study = optuna.create_study(direction=\"maximize\")\n",
    "    study.optimize(objective, n_trials = 100)\n",
    "    print(study.best_trial)"
   ]
  },
  {
   "cell_type": "code",
   "execution_count": 40,
   "metadata": {},
   "outputs": [
    {
     "name": "stdout",
     "output_type": "stream",
     "text": [
      "The best trial is : \n",
      "FrozenTrial(number=34, values=[0.98], datetime_start=datetime.datetime(2021, 3, 8, 23, 50, 5, 973599), datetime_complete=datetime.datetime(2021, 3, 8, 23, 50, 6, 66605), params={'classifier': 'LogisticRegression', 'lr_c': 39.316277506555686}, distributions={'classifier': CategoricalDistribution(choices=('RandomForest', 'LogisticRegression', 'DecisionTree')), 'lr_c': LogUniformDistribution(high=10000000000.0, low=1e-10)}, user_attrs={}, system_attrs={}, intermediate_values={}, trial_id=34, state=TrialState.COMPLETE, value=None)\n"
     ]
    }
   ],
   "source": [
    "print(f\"The best trial is : \\n{study.best_trial}\")"
   ]
  },
  {
   "cell_type": "code",
   "execution_count": 41,
   "metadata": {},
   "outputs": [
    {
     "name": "stdout",
     "output_type": "stream",
     "text": [
      "The best value is : 0.98\n"
     ]
    }
   ],
   "source": [
    "print(f\"The best value is : {study.best_value}\")"
   ]
  },
  {
   "cell_type": "code",
   "execution_count": 42,
   "metadata": {},
   "outputs": [
    {
     "name": "stdout",
     "output_type": "stream",
     "text": [
      "The best parameters are : \n",
      "{'classifier': 'LogisticRegression', 'lr_c': 39.316277506555686}\n"
     ]
    }
   ],
   "source": [
    "print(f\"The best parameters are : \\n{study.best_params}\")"
   ]
  },
  {
   "cell_type": "markdown",
   "metadata": {},
   "source": [
    "# ʕ•́ᴥ•̀ʔっ  QUESTION & ANSWER  ʕ•́ᴥ•̀ʔっ"
   ]
  },
  {
   "cell_type": "markdown",
   "metadata": {},
   "source": [
    "### 1. Why do you choose these features? Any preprocessing techniques you apply? If so, why?"
   ]
  },
  {
   "cell_type": "markdown",
   "metadata": {},
   "source": [
    "I choose {'label','sex','num5','ord1','ord2','ord3','ord4','ord5','ord6'} to be my features because they are all categorical data that can use and most effective with a 'target'. I apply preprocessing technique by convert all variable in 'sex' column to become a same type of data (F,M --> 0,1).\n"
   ]
  },
  {
   "cell_type": "markdown",
   "metadata": {},
   "source": [
    "### 2. Which approach do you choose to evaluate your model: (1) Train/Valid/Test split or (2) cross-validation?Why?"
   ]
  },
  {
   "cell_type": "markdown",
   "metadata": {},
   "source": [
    "I choose Train/Valid/Test split to evaluate my model because it is easy for me to understand, set up both train and test section."
   ]
  },
  {
   "cell_type": "markdown",
   "metadata": {},
   "source": [
    "###  3. Why do you choose this model (e.g., decision tree, logistic regression, etc.)? How do you come up with the hyperparameters for the model (e.g., tree depth, etc.)?"
   ]
  },
  {
   "cell_type": "markdown",
   "metadata": {},
   "source": [
    "I choose 'Logistic Regression' Model because I use 'OPTUNA' to evaluate all 3 models and print out the best model because when I directly print out an accuracy. Both Random Forest Classifier and Logistic Regression give a very similar accuracy. So, I need to use a tools to help me on evaluate that is 'OPTUNA'.   \n",
    "\n",
    "For their hyperparameters for each model I read from a source from an internet that which parameters can be change and I try to play with them.\n"
   ]
  },
  {
   "cell_type": "markdown",
   "metadata": {},
   "source": [
    "### 4. What are the performance metrics that you use to evaluate your model? Why?"
   ]
  },
  {
   "cell_type": "markdown",
   "metadata": {},
   "source": [
    "I use it's accuracy to evaluate a model because it gives us an accurate values to compare each model easily."
   ]
  }
 ],
 "metadata": {
  "kernelspec": {
   "display_name": "Python 3",
   "language": "python",
   "name": "python3"
  },
  "language_info": {
   "codemirror_mode": {
    "name": "ipython",
    "version": 3
   },
   "file_extension": ".py",
   "mimetype": "text/x-python",
   "name": "python",
   "nbconvert_exporter": "python",
   "pygments_lexer": "ipython3",
   "version": "3.8.3"
  }
 },
 "nbformat": 4,
 "nbformat_minor": 4
}
