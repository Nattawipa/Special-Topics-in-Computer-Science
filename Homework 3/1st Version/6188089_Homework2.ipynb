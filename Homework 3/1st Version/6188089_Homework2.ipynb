{
 "cells": [
  {
   "cell_type": "markdown",
   "metadata": {},
   "source": [
    "## ☯ Load & prepare the dataset \n",
    "### Read File"
   ]
  },
  {
   "cell_type": "code",
   "execution_count": 1,
   "metadata": {},
   "outputs": [
    {
     "data": {
      "text/html": [
       "<div>\n",
       "<style scoped>\n",
       "    .dataframe tbody tr th:only-of-type {\n",
       "        vertical-align: middle;\n",
       "    }\n",
       "\n",
       "    .dataframe tbody tr th {\n",
       "        vertical-align: top;\n",
       "    }\n",
       "\n",
       "    .dataframe thead th {\n",
       "        text-align: right;\n",
       "    }\n",
       "</style>\n",
       "<table border=\"1\" class=\"dataframe\">\n",
       "  <thead>\n",
       "    <tr style=\"text-align: right;\">\n",
       "      <th></th>\n",
       "      <th>target</th>\n",
       "      <th>age</th>\n",
       "      <th>sex</th>\n",
       "      <th>num1</th>\n",
       "      <th>num2</th>\n",
       "      <th>num3</th>\n",
       "      <th>num4</th>\n",
       "      <th>num5</th>\n",
       "      <th>ord1</th>\n",
       "      <th>ord2</th>\n",
       "      <th>ord3</th>\n",
       "      <th>ord4</th>\n",
       "      <th>ord5</th>\n",
       "      <th>ord6</th>\n",
       "    </tr>\n",
       "  </thead>\n",
       "  <tbody>\n",
       "    <tr>\n",
       "      <th>0</th>\n",
       "      <td>-1</td>\n",
       "      <td>69</td>\n",
       "      <td>1</td>\n",
       "      <td>160.0</td>\n",
       "      <td>286.0</td>\n",
       "      <td>108.0</td>\n",
       "      <td>1.5</td>\n",
       "      <td>2.0</td>\n",
       "      <td>0.0</td>\n",
       "      <td>0.0</td>\n",
       "      <td>0.0</td>\n",
       "      <td>1.0</td>\n",
       "      <td>1</td>\n",
       "      <td>3</td>\n",
       "    </tr>\n",
       "    <tr>\n",
       "      <th>1</th>\n",
       "      <td>-1</td>\n",
       "      <td>69</td>\n",
       "      <td>1</td>\n",
       "      <td>120.0</td>\n",
       "      <td>229.0</td>\n",
       "      <td>129.0</td>\n",
       "      <td>2.6</td>\n",
       "      <td>3.0</td>\n",
       "      <td>NaN</td>\n",
       "      <td>NaN</td>\n",
       "      <td>NaN</td>\n",
       "      <td>1.0</td>\n",
       "      <td>1</td>\n",
       "      <td>2</td>\n",
       "    </tr>\n",
       "    <tr>\n",
       "      <th>2</th>\n",
       "      <td>-1</td>\n",
       "      <td>64</td>\n",
       "      <td>0</td>\n",
       "      <td>140.0</td>\n",
       "      <td>268.0</td>\n",
       "      <td>160.0</td>\n",
       "      <td>3.6</td>\n",
       "      <td>2.0</td>\n",
       "      <td>0.0</td>\n",
       "      <td>0.0</td>\n",
       "      <td>0.0</td>\n",
       "      <td>0.0</td>\n",
       "      <td>0</td>\n",
       "      <td>2</td>\n",
       "    </tr>\n",
       "    <tr>\n",
       "      <th>3</th>\n",
       "      <td>-1</td>\n",
       "      <td>65</td>\n",
       "      <td>1</td>\n",
       "      <td>130.0</td>\n",
       "      <td>254.0</td>\n",
       "      <td>147.0</td>\n",
       "      <td>1.4</td>\n",
       "      <td>3.0</td>\n",
       "      <td>0.0</td>\n",
       "      <td>0.0</td>\n",
       "      <td>0.0</td>\n",
       "      <td>0.0</td>\n",
       "      <td>1</td>\n",
       "      <td>1</td>\n",
       "    </tr>\n",
       "    <tr>\n",
       "      <th>4</th>\n",
       "      <td>-1</td>\n",
       "      <td>53</td>\n",
       "      <td>M</td>\n",
       "      <td>140.0</td>\n",
       "      <td>203.0</td>\n",
       "      <td>155.0</td>\n",
       "      <td>3.1</td>\n",
       "      <td>3.0</td>\n",
       "      <td>0.0</td>\n",
       "      <td>1.0</td>\n",
       "      <td>0.0</td>\n",
       "      <td>1.0</td>\n",
       "      <td>0</td>\n",
       "      <td>0</td>\n",
       "    </tr>\n",
       "    <tr>\n",
       "      <th>...</th>\n",
       "      <td>...</td>\n",
       "      <td>...</td>\n",
       "      <td>...</td>\n",
       "      <td>...</td>\n",
       "      <td>...</td>\n",
       "      <td>...</td>\n",
       "      <td>...</td>\n",
       "      <td>...</td>\n",
       "      <td>...</td>\n",
       "      <td>...</td>\n",
       "      <td>...</td>\n",
       "      <td>...</td>\n",
       "      <td>...</td>\n",
       "      <td>...</td>\n",
       "    </tr>\n",
       "    <tr>\n",
       "      <th>298</th>\n",
       "      <td>1</td>\n",
       "      <td>56</td>\n",
       "      <td>M</td>\n",
       "      <td>120.0</td>\n",
       "      <td>240.0</td>\n",
       "      <td>169.0</td>\n",
       "      <td>0.0</td>\n",
       "      <td>2.0</td>\n",
       "      <td>1.0</td>\n",
       "      <td>NaN</td>\n",
       "      <td>1.0</td>\n",
       "      <td>NaN</td>\n",
       "      <td>0</td>\n",
       "      <td>0</td>\n",
       "    </tr>\n",
       "    <tr>\n",
       "      <th>299</th>\n",
       "      <td>1</td>\n",
       "      <td>55</td>\n",
       "      <td>M</td>\n",
       "      <td>132.0</td>\n",
       "      <td>342.0</td>\n",
       "      <td>166.0</td>\n",
       "      <td>1.2</td>\n",
       "      <td>2.0</td>\n",
       "      <td>1.0</td>\n",
       "      <td>NaN</td>\n",
       "      <td>1.0</td>\n",
       "      <td>NaN</td>\n",
       "      <td>2</td>\n",
       "      <td>0</td>\n",
       "    </tr>\n",
       "    <tr>\n",
       "      <th>300</th>\n",
       "      <td>1</td>\n",
       "      <td>41</td>\n",
       "      <td>M</td>\n",
       "      <td>120.0</td>\n",
       "      <td>157.0</td>\n",
       "      <td>182.0</td>\n",
       "      <td>0.0</td>\n",
       "      <td>2.0</td>\n",
       "      <td>1.0</td>\n",
       "      <td>NaN</td>\n",
       "      <td>1.0</td>\n",
       "      <td>NaN</td>\n",
       "      <td>2</td>\n",
       "      <td>0</td>\n",
       "    </tr>\n",
       "    <tr>\n",
       "      <th>301</th>\n",
       "      <td>1</td>\n",
       "      <td>38</td>\n",
       "      <td>M</td>\n",
       "      <td>138.0</td>\n",
       "      <td>175.0</td>\n",
       "      <td>173.0</td>\n",
       "      <td>0.0</td>\n",
       "      <td>2.0</td>\n",
       "      <td>2.0</td>\n",
       "      <td>NaN</td>\n",
       "      <td>1.0</td>\n",
       "      <td>NaN</td>\n",
       "      <td>2</td>\n",
       "      <td>4</td>\n",
       "    </tr>\n",
       "    <tr>\n",
       "      <th>302</th>\n",
       "      <td>1</td>\n",
       "      <td>38</td>\n",
       "      <td>M</td>\n",
       "      <td>138.0</td>\n",
       "      <td>175.0</td>\n",
       "      <td>173.0</td>\n",
       "      <td>0.0</td>\n",
       "      <td>2.0</td>\n",
       "      <td>2.0</td>\n",
       "      <td>NaN</td>\n",
       "      <td>1.0</td>\n",
       "      <td>NaN</td>\n",
       "      <td>2</td>\n",
       "      <td>4</td>\n",
       "    </tr>\n",
       "  </tbody>\n",
       "</table>\n",
       "<p>303 rows × 14 columns</p>\n",
       "</div>"
      ],
      "text/plain": [
       "     target  age sex   num1   num2   num3  num4  num5  ord1  ord2  ord3  ord4  \\\n",
       "0        -1   69   1  160.0  286.0  108.0   1.5   2.0   0.0   0.0   0.0   1.0   \n",
       "1        -1   69   1  120.0  229.0  129.0   2.6   3.0   NaN   NaN   NaN   1.0   \n",
       "2        -1   64   0  140.0  268.0  160.0   3.6   2.0   0.0   0.0   0.0   0.0   \n",
       "3        -1   65   1  130.0  254.0  147.0   1.4   3.0   0.0   0.0   0.0   0.0   \n",
       "4        -1   53   M  140.0  203.0  155.0   3.1   3.0   0.0   1.0   0.0   1.0   \n",
       "..      ...  ...  ..    ...    ...    ...   ...   ...   ...   ...   ...   ...   \n",
       "298       1   56   M  120.0  240.0  169.0   0.0   2.0   1.0   NaN   1.0   NaN   \n",
       "299       1   55   M  132.0  342.0  166.0   1.2   2.0   1.0   NaN   1.0   NaN   \n",
       "300       1   41   M  120.0  157.0  182.0   0.0   2.0   1.0   NaN   1.0   NaN   \n",
       "301       1   38   M  138.0  175.0  173.0   0.0   2.0   2.0   NaN   1.0   NaN   \n",
       "302       1   38   M  138.0  175.0  173.0   0.0   2.0   2.0   NaN   1.0   NaN   \n",
       "\n",
       "     ord5  ord6  \n",
       "0       1     3  \n",
       "1       1     2  \n",
       "2       0     2  \n",
       "3       1     1  \n",
       "4       0     0  \n",
       "..    ...   ...  \n",
       "298     0     0  \n",
       "299     2     0  \n",
       "300     2     0  \n",
       "301     2     4  \n",
       "302     2     4  \n",
       "\n",
       "[303 rows x 14 columns]"
      ]
     },
     "execution_count": 1,
     "metadata": {},
     "output_type": "execute_result"
    }
   ],
   "source": [
    "import pandas as pd\n",
    "import matplotlib.pyplot as plt\n",
    "import seaborn as sns\n",
    "import numpy as np\n",
    "\n",
    "df = pd.read_csv ('hw1_std.csv')\n",
    "\n",
    "df"
   ]
  },
  {
   "cell_type": "code",
   "execution_count": 2,
   "metadata": {},
   "outputs": [
    {
     "data": {
      "text/plain": [
       "target       0.995345\n",
       "age         95.971368\n",
       "num1       304.037860\n",
       "num2      2673.904337\n",
       "num3       517.635440\n",
       "num4         1.356066\n",
       "num5         0.371274\n",
       "ord1         1.065554\n",
       "ord2         0.131177\n",
       "ord3         0.276518\n",
       "ord4         0.224862\n",
       "ord5         0.379735\n",
       "ord6         1.045724\n",
       "dtype: float64"
      ]
     },
     "execution_count": 2,
     "metadata": {},
     "output_type": "execute_result"
    }
   ],
   "source": [
    "df.var()"
   ]
  },
  {
   "cell_type": "markdown",
   "metadata": {},
   "source": [
    "### Clean Data\n",
    "- Check null value in each column"
   ]
  },
  {
   "cell_type": "code",
   "execution_count": 3,
   "metadata": {},
   "outputs": [
    {
     "data": {
      "text/plain": [
       "target     0\n",
       "age        0\n",
       "sex        0\n",
       "num1       3\n",
       "num2       3\n",
       "num3       3\n",
       "num4       3\n",
       "num5       2\n",
       "ord1       1\n",
       "ord2      12\n",
       "ord3       1\n",
       "ord4      11\n",
       "ord5       0\n",
       "ord6       0\n",
       "dtype: int64"
      ]
     },
     "execution_count": 3,
     "metadata": {},
     "output_type": "execute_result"
    }
   ],
   "source": [
    "df.isnull().sum()"
   ]
  },
  {
   "cell_type": "markdown",
   "metadata": {},
   "source": [
    "- Replace all missing values ' Nan ' with ' 0 ' "
   ]
  },
  {
   "cell_type": "code",
   "execution_count": 4,
   "metadata": {},
   "outputs": [
    {
     "data": {
      "text/html": [
       "<div>\n",
       "<style scoped>\n",
       "    .dataframe tbody tr th:only-of-type {\n",
       "        vertical-align: middle;\n",
       "    }\n",
       "\n",
       "    .dataframe tbody tr th {\n",
       "        vertical-align: top;\n",
       "    }\n",
       "\n",
       "    .dataframe thead th {\n",
       "        text-align: right;\n",
       "    }\n",
       "</style>\n",
       "<table border=\"1\" class=\"dataframe\">\n",
       "  <thead>\n",
       "    <tr style=\"text-align: right;\">\n",
       "      <th></th>\n",
       "      <th>target</th>\n",
       "      <th>age</th>\n",
       "      <th>sex</th>\n",
       "      <th>num1</th>\n",
       "      <th>num2</th>\n",
       "      <th>num3</th>\n",
       "      <th>num4</th>\n",
       "      <th>num5</th>\n",
       "      <th>ord1</th>\n",
       "      <th>ord2</th>\n",
       "      <th>ord3</th>\n",
       "      <th>ord4</th>\n",
       "      <th>ord5</th>\n",
       "      <th>ord6</th>\n",
       "    </tr>\n",
       "  </thead>\n",
       "  <tbody>\n",
       "    <tr>\n",
       "      <th>0</th>\n",
       "      <td>-1</td>\n",
       "      <td>69</td>\n",
       "      <td>1</td>\n",
       "      <td>160.0</td>\n",
       "      <td>286.0</td>\n",
       "      <td>108.0</td>\n",
       "      <td>1.5</td>\n",
       "      <td>2.0</td>\n",
       "      <td>0.0</td>\n",
       "      <td>0.0</td>\n",
       "      <td>0.0</td>\n",
       "      <td>1.0</td>\n",
       "      <td>1</td>\n",
       "      <td>3</td>\n",
       "    </tr>\n",
       "    <tr>\n",
       "      <th>1</th>\n",
       "      <td>-1</td>\n",
       "      <td>69</td>\n",
       "      <td>1</td>\n",
       "      <td>120.0</td>\n",
       "      <td>229.0</td>\n",
       "      <td>129.0</td>\n",
       "      <td>2.6</td>\n",
       "      <td>3.0</td>\n",
       "      <td>0.0</td>\n",
       "      <td>0.0</td>\n",
       "      <td>0.0</td>\n",
       "      <td>1.0</td>\n",
       "      <td>1</td>\n",
       "      <td>2</td>\n",
       "    </tr>\n",
       "    <tr>\n",
       "      <th>2</th>\n",
       "      <td>-1</td>\n",
       "      <td>64</td>\n",
       "      <td>0</td>\n",
       "      <td>140.0</td>\n",
       "      <td>268.0</td>\n",
       "      <td>160.0</td>\n",
       "      <td>3.6</td>\n",
       "      <td>2.0</td>\n",
       "      <td>0.0</td>\n",
       "      <td>0.0</td>\n",
       "      <td>0.0</td>\n",
       "      <td>0.0</td>\n",
       "      <td>0</td>\n",
       "      <td>2</td>\n",
       "    </tr>\n",
       "    <tr>\n",
       "      <th>3</th>\n",
       "      <td>-1</td>\n",
       "      <td>65</td>\n",
       "      <td>1</td>\n",
       "      <td>130.0</td>\n",
       "      <td>254.0</td>\n",
       "      <td>147.0</td>\n",
       "      <td>1.4</td>\n",
       "      <td>3.0</td>\n",
       "      <td>0.0</td>\n",
       "      <td>0.0</td>\n",
       "      <td>0.0</td>\n",
       "      <td>0.0</td>\n",
       "      <td>1</td>\n",
       "      <td>1</td>\n",
       "    </tr>\n",
       "    <tr>\n",
       "      <th>4</th>\n",
       "      <td>-1</td>\n",
       "      <td>53</td>\n",
       "      <td>M</td>\n",
       "      <td>140.0</td>\n",
       "      <td>203.0</td>\n",
       "      <td>155.0</td>\n",
       "      <td>3.1</td>\n",
       "      <td>3.0</td>\n",
       "      <td>0.0</td>\n",
       "      <td>1.0</td>\n",
       "      <td>0.0</td>\n",
       "      <td>1.0</td>\n",
       "      <td>0</td>\n",
       "      <td>0</td>\n",
       "    </tr>\n",
       "    <tr>\n",
       "      <th>...</th>\n",
       "      <td>...</td>\n",
       "      <td>...</td>\n",
       "      <td>...</td>\n",
       "      <td>...</td>\n",
       "      <td>...</td>\n",
       "      <td>...</td>\n",
       "      <td>...</td>\n",
       "      <td>...</td>\n",
       "      <td>...</td>\n",
       "      <td>...</td>\n",
       "      <td>...</td>\n",
       "      <td>...</td>\n",
       "      <td>...</td>\n",
       "      <td>...</td>\n",
       "    </tr>\n",
       "    <tr>\n",
       "      <th>298</th>\n",
       "      <td>1</td>\n",
       "      <td>56</td>\n",
       "      <td>M</td>\n",
       "      <td>120.0</td>\n",
       "      <td>240.0</td>\n",
       "      <td>169.0</td>\n",
       "      <td>0.0</td>\n",
       "      <td>2.0</td>\n",
       "      <td>1.0</td>\n",
       "      <td>0.0</td>\n",
       "      <td>1.0</td>\n",
       "      <td>0.0</td>\n",
       "      <td>0</td>\n",
       "      <td>0</td>\n",
       "    </tr>\n",
       "    <tr>\n",
       "      <th>299</th>\n",
       "      <td>1</td>\n",
       "      <td>55</td>\n",
       "      <td>M</td>\n",
       "      <td>132.0</td>\n",
       "      <td>342.0</td>\n",
       "      <td>166.0</td>\n",
       "      <td>1.2</td>\n",
       "      <td>2.0</td>\n",
       "      <td>1.0</td>\n",
       "      <td>0.0</td>\n",
       "      <td>1.0</td>\n",
       "      <td>0.0</td>\n",
       "      <td>2</td>\n",
       "      <td>0</td>\n",
       "    </tr>\n",
       "    <tr>\n",
       "      <th>300</th>\n",
       "      <td>1</td>\n",
       "      <td>41</td>\n",
       "      <td>M</td>\n",
       "      <td>120.0</td>\n",
       "      <td>157.0</td>\n",
       "      <td>182.0</td>\n",
       "      <td>0.0</td>\n",
       "      <td>2.0</td>\n",
       "      <td>1.0</td>\n",
       "      <td>0.0</td>\n",
       "      <td>1.0</td>\n",
       "      <td>0.0</td>\n",
       "      <td>2</td>\n",
       "      <td>0</td>\n",
       "    </tr>\n",
       "    <tr>\n",
       "      <th>301</th>\n",
       "      <td>1</td>\n",
       "      <td>38</td>\n",
       "      <td>M</td>\n",
       "      <td>138.0</td>\n",
       "      <td>175.0</td>\n",
       "      <td>173.0</td>\n",
       "      <td>0.0</td>\n",
       "      <td>2.0</td>\n",
       "      <td>2.0</td>\n",
       "      <td>0.0</td>\n",
       "      <td>1.0</td>\n",
       "      <td>0.0</td>\n",
       "      <td>2</td>\n",
       "      <td>4</td>\n",
       "    </tr>\n",
       "    <tr>\n",
       "      <th>302</th>\n",
       "      <td>1</td>\n",
       "      <td>38</td>\n",
       "      <td>M</td>\n",
       "      <td>138.0</td>\n",
       "      <td>175.0</td>\n",
       "      <td>173.0</td>\n",
       "      <td>0.0</td>\n",
       "      <td>2.0</td>\n",
       "      <td>2.0</td>\n",
       "      <td>0.0</td>\n",
       "      <td>1.0</td>\n",
       "      <td>0.0</td>\n",
       "      <td>2</td>\n",
       "      <td>4</td>\n",
       "    </tr>\n",
       "  </tbody>\n",
       "</table>\n",
       "<p>303 rows × 14 columns</p>\n",
       "</div>"
      ],
      "text/plain": [
       "     target  age sex   num1   num2   num3  num4  num5  ord1  ord2  ord3  ord4  \\\n",
       "0        -1   69   1  160.0  286.0  108.0   1.5   2.0   0.0   0.0   0.0   1.0   \n",
       "1        -1   69   1  120.0  229.0  129.0   2.6   3.0   0.0   0.0   0.0   1.0   \n",
       "2        -1   64   0  140.0  268.0  160.0   3.6   2.0   0.0   0.0   0.0   0.0   \n",
       "3        -1   65   1  130.0  254.0  147.0   1.4   3.0   0.0   0.0   0.0   0.0   \n",
       "4        -1   53   M  140.0  203.0  155.0   3.1   3.0   0.0   1.0   0.0   1.0   \n",
       "..      ...  ...  ..    ...    ...    ...   ...   ...   ...   ...   ...   ...   \n",
       "298       1   56   M  120.0  240.0  169.0   0.0   2.0   1.0   0.0   1.0   0.0   \n",
       "299       1   55   M  132.0  342.0  166.0   1.2   2.0   1.0   0.0   1.0   0.0   \n",
       "300       1   41   M  120.0  157.0  182.0   0.0   2.0   1.0   0.0   1.0   0.0   \n",
       "301       1   38   M  138.0  175.0  173.0   0.0   2.0   2.0   0.0   1.0   0.0   \n",
       "302       1   38   M  138.0  175.0  173.0   0.0   2.0   2.0   0.0   1.0   0.0   \n",
       "\n",
       "     ord5  ord6  \n",
       "0       1     3  \n",
       "1       1     2  \n",
       "2       0     2  \n",
       "3       1     1  \n",
       "4       0     0  \n",
       "..    ...   ...  \n",
       "298     0     0  \n",
       "299     2     0  \n",
       "300     2     0  \n",
       "301     2     4  \n",
       "302     2     4  \n",
       "\n",
       "[303 rows x 14 columns]"
      ]
     },
     "execution_count": 4,
     "metadata": {},
     "output_type": "execute_result"
    }
   ],
   "source": [
    "df.fillna(value=0, inplace=True)\n",
    "\n",
    "df"
   ]
  },
  {
   "cell_type": "markdown",
   "metadata": {},
   "source": [
    "-  Re-check null value in each column"
   ]
  },
  {
   "cell_type": "code",
   "execution_count": 5,
   "metadata": {},
   "outputs": [
    {
     "data": {
      "text/plain": [
       "target    0\n",
       "age       0\n",
       "sex       0\n",
       "num1      0\n",
       "num2      0\n",
       "num3      0\n",
       "num4      0\n",
       "num5      0\n",
       "ord1      0\n",
       "ord2      0\n",
       "ord3      0\n",
       "ord4      0\n",
       "ord5      0\n",
       "ord6      0\n",
       "dtype: int64"
      ]
     },
     "execution_count": 5,
     "metadata": {},
     "output_type": "execute_result"
    }
   ],
   "source": [
    "df.isnull().sum()"
   ]
  },
  {
   "cell_type": "markdown",
   "metadata": {},
   "source": [
    "- Find duplicate rows and eliminate duplicate row"
   ]
  },
  {
   "cell_type": "code",
   "execution_count": 6,
   "metadata": {},
   "outputs": [
    {
     "data": {
      "text/html": [
       "<div>\n",
       "<style scoped>\n",
       "    .dataframe tbody tr th:only-of-type {\n",
       "        vertical-align: middle;\n",
       "    }\n",
       "\n",
       "    .dataframe tbody tr th {\n",
       "        vertical-align: top;\n",
       "    }\n",
       "\n",
       "    .dataframe thead th {\n",
       "        text-align: right;\n",
       "    }\n",
       "</style>\n",
       "<table border=\"1\" class=\"dataframe\">\n",
       "  <thead>\n",
       "    <tr style=\"text-align: right;\">\n",
       "      <th></th>\n",
       "      <th>target</th>\n",
       "      <th>age</th>\n",
       "      <th>sex</th>\n",
       "      <th>num1</th>\n",
       "      <th>num2</th>\n",
       "      <th>num3</th>\n",
       "      <th>num4</th>\n",
       "      <th>num5</th>\n",
       "      <th>ord1</th>\n",
       "      <th>ord2</th>\n",
       "      <th>ord3</th>\n",
       "      <th>ord4</th>\n",
       "      <th>ord5</th>\n",
       "      <th>ord6</th>\n",
       "    </tr>\n",
       "  </thead>\n",
       "  <tbody>\n",
       "    <tr>\n",
       "      <th>0</th>\n",
       "      <td>-1</td>\n",
       "      <td>69</td>\n",
       "      <td>1</td>\n",
       "      <td>160.0</td>\n",
       "      <td>286.0</td>\n",
       "      <td>108.0</td>\n",
       "      <td>1.5</td>\n",
       "      <td>2.0</td>\n",
       "      <td>0.0</td>\n",
       "      <td>0.0</td>\n",
       "      <td>0.0</td>\n",
       "      <td>1.0</td>\n",
       "      <td>1</td>\n",
       "      <td>3</td>\n",
       "    </tr>\n",
       "    <tr>\n",
       "      <th>1</th>\n",
       "      <td>-1</td>\n",
       "      <td>69</td>\n",
       "      <td>1</td>\n",
       "      <td>120.0</td>\n",
       "      <td>229.0</td>\n",
       "      <td>129.0</td>\n",
       "      <td>2.6</td>\n",
       "      <td>3.0</td>\n",
       "      <td>0.0</td>\n",
       "      <td>0.0</td>\n",
       "      <td>0.0</td>\n",
       "      <td>1.0</td>\n",
       "      <td>1</td>\n",
       "      <td>2</td>\n",
       "    </tr>\n",
       "    <tr>\n",
       "      <th>2</th>\n",
       "      <td>-1</td>\n",
       "      <td>64</td>\n",
       "      <td>0</td>\n",
       "      <td>140.0</td>\n",
       "      <td>268.0</td>\n",
       "      <td>160.0</td>\n",
       "      <td>3.6</td>\n",
       "      <td>2.0</td>\n",
       "      <td>0.0</td>\n",
       "      <td>0.0</td>\n",
       "      <td>0.0</td>\n",
       "      <td>0.0</td>\n",
       "      <td>0</td>\n",
       "      <td>2</td>\n",
       "    </tr>\n",
       "    <tr>\n",
       "      <th>3</th>\n",
       "      <td>-1</td>\n",
       "      <td>65</td>\n",
       "      <td>1</td>\n",
       "      <td>130.0</td>\n",
       "      <td>254.0</td>\n",
       "      <td>147.0</td>\n",
       "      <td>1.4</td>\n",
       "      <td>3.0</td>\n",
       "      <td>0.0</td>\n",
       "      <td>0.0</td>\n",
       "      <td>0.0</td>\n",
       "      <td>0.0</td>\n",
       "      <td>1</td>\n",
       "      <td>1</td>\n",
       "    </tr>\n",
       "    <tr>\n",
       "      <th>4</th>\n",
       "      <td>-1</td>\n",
       "      <td>53</td>\n",
       "      <td>M</td>\n",
       "      <td>140.0</td>\n",
       "      <td>203.0</td>\n",
       "      <td>155.0</td>\n",
       "      <td>3.1</td>\n",
       "      <td>3.0</td>\n",
       "      <td>0.0</td>\n",
       "      <td>1.0</td>\n",
       "      <td>0.0</td>\n",
       "      <td>1.0</td>\n",
       "      <td>0</td>\n",
       "      <td>0</td>\n",
       "    </tr>\n",
       "    <tr>\n",
       "      <th>...</th>\n",
       "      <td>...</td>\n",
       "      <td>...</td>\n",
       "      <td>...</td>\n",
       "      <td>...</td>\n",
       "      <td>...</td>\n",
       "      <td>...</td>\n",
       "      <td>...</td>\n",
       "      <td>...</td>\n",
       "      <td>...</td>\n",
       "      <td>...</td>\n",
       "      <td>...</td>\n",
       "      <td>...</td>\n",
       "      <td>...</td>\n",
       "      <td>...</td>\n",
       "    </tr>\n",
       "    <tr>\n",
       "      <th>297</th>\n",
       "      <td>1</td>\n",
       "      <td>56</td>\n",
       "      <td>M</td>\n",
       "      <td>130.0</td>\n",
       "      <td>221.0</td>\n",
       "      <td>163.0</td>\n",
       "      <td>0.0</td>\n",
       "      <td>3.0</td>\n",
       "      <td>1.0</td>\n",
       "      <td>0.0</td>\n",
       "      <td>0.0</td>\n",
       "      <td>0.0</td>\n",
       "      <td>2</td>\n",
       "      <td>0</td>\n",
       "    </tr>\n",
       "    <tr>\n",
       "      <th>298</th>\n",
       "      <td>1</td>\n",
       "      <td>56</td>\n",
       "      <td>M</td>\n",
       "      <td>120.0</td>\n",
       "      <td>240.0</td>\n",
       "      <td>169.0</td>\n",
       "      <td>0.0</td>\n",
       "      <td>2.0</td>\n",
       "      <td>1.0</td>\n",
       "      <td>0.0</td>\n",
       "      <td>1.0</td>\n",
       "      <td>0.0</td>\n",
       "      <td>0</td>\n",
       "      <td>0</td>\n",
       "    </tr>\n",
       "    <tr>\n",
       "      <th>299</th>\n",
       "      <td>1</td>\n",
       "      <td>55</td>\n",
       "      <td>M</td>\n",
       "      <td>132.0</td>\n",
       "      <td>342.0</td>\n",
       "      <td>166.0</td>\n",
       "      <td>1.2</td>\n",
       "      <td>2.0</td>\n",
       "      <td>1.0</td>\n",
       "      <td>0.0</td>\n",
       "      <td>1.0</td>\n",
       "      <td>0.0</td>\n",
       "      <td>2</td>\n",
       "      <td>0</td>\n",
       "    </tr>\n",
       "    <tr>\n",
       "      <th>300</th>\n",
       "      <td>1</td>\n",
       "      <td>41</td>\n",
       "      <td>M</td>\n",
       "      <td>120.0</td>\n",
       "      <td>157.0</td>\n",
       "      <td>182.0</td>\n",
       "      <td>0.0</td>\n",
       "      <td>2.0</td>\n",
       "      <td>1.0</td>\n",
       "      <td>0.0</td>\n",
       "      <td>1.0</td>\n",
       "      <td>0.0</td>\n",
       "      <td>2</td>\n",
       "      <td>0</td>\n",
       "    </tr>\n",
       "    <tr>\n",
       "      <th>301</th>\n",
       "      <td>1</td>\n",
       "      <td>38</td>\n",
       "      <td>M</td>\n",
       "      <td>138.0</td>\n",
       "      <td>175.0</td>\n",
       "      <td>173.0</td>\n",
       "      <td>0.0</td>\n",
       "      <td>2.0</td>\n",
       "      <td>2.0</td>\n",
       "      <td>0.0</td>\n",
       "      <td>1.0</td>\n",
       "      <td>0.0</td>\n",
       "      <td>2</td>\n",
       "      <td>4</td>\n",
       "    </tr>\n",
       "  </tbody>\n",
       "</table>\n",
       "<p>302 rows × 14 columns</p>\n",
       "</div>"
      ],
      "text/plain": [
       "     target  age sex   num1   num2   num3  num4  num5  ord1  ord2  ord3  ord4  \\\n",
       "0        -1   69   1  160.0  286.0  108.0   1.5   2.0   0.0   0.0   0.0   1.0   \n",
       "1        -1   69   1  120.0  229.0  129.0   2.6   3.0   0.0   0.0   0.0   1.0   \n",
       "2        -1   64   0  140.0  268.0  160.0   3.6   2.0   0.0   0.0   0.0   0.0   \n",
       "3        -1   65   1  130.0  254.0  147.0   1.4   3.0   0.0   0.0   0.0   0.0   \n",
       "4        -1   53   M  140.0  203.0  155.0   3.1   3.0   0.0   1.0   0.0   1.0   \n",
       "..      ...  ...  ..    ...    ...    ...   ...   ...   ...   ...   ...   ...   \n",
       "297       1   56   M  130.0  221.0  163.0   0.0   3.0   1.0   0.0   0.0   0.0   \n",
       "298       1   56   M  120.0  240.0  169.0   0.0   2.0   1.0   0.0   1.0   0.0   \n",
       "299       1   55   M  132.0  342.0  166.0   1.2   2.0   1.0   0.0   1.0   0.0   \n",
       "300       1   41   M  120.0  157.0  182.0   0.0   2.0   1.0   0.0   1.0   0.0   \n",
       "301       1   38   M  138.0  175.0  173.0   0.0   2.0   2.0   0.0   1.0   0.0   \n",
       "\n",
       "     ord5  ord6  \n",
       "0       1     3  \n",
       "1       1     2  \n",
       "2       0     2  \n",
       "3       1     1  \n",
       "4       0     0  \n",
       "..    ...   ...  \n",
       "297     2     0  \n",
       "298     0     0  \n",
       "299     2     0  \n",
       "300     2     0  \n",
       "301     2     4  \n",
       "\n",
       "[302 rows x 14 columns]"
      ]
     },
     "execution_count": 6,
     "metadata": {},
     "output_type": "execute_result"
    }
   ],
   "source": [
    "df[df.duplicated(keep=False)==True]\n",
    "\n",
    "df.drop_duplicates(keep='first')"
   ]
  },
  {
   "cell_type": "markdown",
   "metadata": {},
   "source": [
    "### Data Processing\n",
    "- Convert all variable in 'sex' column to become type of number (F,M --> 0,1)"
   ]
  },
  {
   "cell_type": "code",
   "execution_count": 7,
   "metadata": {},
   "outputs": [
    {
     "name": "stdout",
     "output_type": "stream",
     "text": [
      "     target  age sex   num1   num2   num3  num4  num5  ord1  ord2  ord3  ord4  \\\n",
      "0        -1   69   1  160.0  286.0  108.0   1.5   2.0   0.0   0.0   0.0   1.0   \n",
      "1        -1   69   1  120.0  229.0  129.0   2.6   3.0   0.0   0.0   0.0   1.0   \n",
      "2        -1   64   0  140.0  268.0  160.0   3.6   2.0   0.0   0.0   0.0   0.0   \n",
      "3        -1   65   1  130.0  254.0  147.0   1.4   3.0   0.0   0.0   0.0   0.0   \n",
      "4        -1   53   1  140.0  203.0  155.0   3.1   3.0   0.0   1.0   0.0   1.0   \n",
      "..      ...  ...  ..    ...    ...    ...   ...   ...   ...   ...   ...   ...   \n",
      "298       1   56   1  120.0  240.0  169.0   0.0   2.0   1.0   0.0   1.0   0.0   \n",
      "299       1   55   1  132.0  342.0  166.0   1.2   2.0   1.0   0.0   1.0   0.0   \n",
      "300       1   41   1  120.0  157.0  182.0   0.0   2.0   1.0   0.0   1.0   0.0   \n",
      "301       1   38   1  138.0  175.0  173.0   0.0   2.0   2.0   0.0   1.0   0.0   \n",
      "302       1   38   1  138.0  175.0  173.0   0.0   2.0   2.0   0.0   1.0   0.0   \n",
      "\n",
      "     ord5  ord6  \n",
      "0       1     3  \n",
      "1       1     2  \n",
      "2       0     2  \n",
      "3       1     1  \n",
      "4       0     0  \n",
      "..    ...   ...  \n",
      "298     0     0  \n",
      "299     2     0  \n",
      "300     2     0  \n",
      "301     2     4  \n",
      "302     2     4  \n",
      "\n",
      "[303 rows x 14 columns]\n"
     ]
    }
   ],
   "source": [
    "df['sex'] = df['sex'].replace({'F': '0'}) \n",
    "df['sex'] = df['sex'].replace({'M': '1'}) \n",
    "\n",
    "print(df)"
   ]
  },
  {
   "cell_type": "markdown",
   "metadata": {},
   "source": [
    "### Feature scaling\n",
    "- Scaled on 'target'"
   ]
  },
  {
   "cell_type": "code",
   "execution_count": 8,
   "metadata": {},
   "outputs": [
    {
     "data": {
      "text/html": [
       "<div>\n",
       "<style scoped>\n",
       "    .dataframe tbody tr th:only-of-type {\n",
       "        vertical-align: middle;\n",
       "    }\n",
       "\n",
       "    .dataframe tbody tr th {\n",
       "        vertical-align: top;\n",
       "    }\n",
       "\n",
       "    .dataframe thead th {\n",
       "        text-align: right;\n",
       "    }\n",
       "</style>\n",
       "<table border=\"1\" class=\"dataframe\">\n",
       "  <thead>\n",
       "    <tr style=\"text-align: right;\">\n",
       "      <th></th>\n",
       "      <th>age</th>\n",
       "      <th>sex</th>\n",
       "      <th>num1</th>\n",
       "      <th>num2</th>\n",
       "      <th>num3</th>\n",
       "      <th>num4</th>\n",
       "      <th>num5</th>\n",
       "      <th>ord1</th>\n",
       "      <th>ord2</th>\n",
       "      <th>ord3</th>\n",
       "      <th>ord4</th>\n",
       "      <th>ord5</th>\n",
       "      <th>ord6</th>\n",
       "      <th>label</th>\n",
       "    </tr>\n",
       "  </thead>\n",
       "  <tbody>\n",
       "    <tr>\n",
       "      <th>0</th>\n",
       "      <td>69</td>\n",
       "      <td>1</td>\n",
       "      <td>160.0</td>\n",
       "      <td>286.0</td>\n",
       "      <td>108.0</td>\n",
       "      <td>1.5</td>\n",
       "      <td>2.0</td>\n",
       "      <td>0.0</td>\n",
       "      <td>0.0</td>\n",
       "      <td>0.0</td>\n",
       "      <td>1.0</td>\n",
       "      <td>1</td>\n",
       "      <td>3</td>\n",
       "      <td>0</td>\n",
       "    </tr>\n",
       "    <tr>\n",
       "      <th>1</th>\n",
       "      <td>69</td>\n",
       "      <td>1</td>\n",
       "      <td>120.0</td>\n",
       "      <td>229.0</td>\n",
       "      <td>129.0</td>\n",
       "      <td>2.6</td>\n",
       "      <td>3.0</td>\n",
       "      <td>0.0</td>\n",
       "      <td>0.0</td>\n",
       "      <td>0.0</td>\n",
       "      <td>1.0</td>\n",
       "      <td>1</td>\n",
       "      <td>2</td>\n",
       "      <td>0</td>\n",
       "    </tr>\n",
       "    <tr>\n",
       "      <th>2</th>\n",
       "      <td>64</td>\n",
       "      <td>0</td>\n",
       "      <td>140.0</td>\n",
       "      <td>268.0</td>\n",
       "      <td>160.0</td>\n",
       "      <td>3.6</td>\n",
       "      <td>2.0</td>\n",
       "      <td>0.0</td>\n",
       "      <td>0.0</td>\n",
       "      <td>0.0</td>\n",
       "      <td>0.0</td>\n",
       "      <td>0</td>\n",
       "      <td>2</td>\n",
       "      <td>0</td>\n",
       "    </tr>\n",
       "    <tr>\n",
       "      <th>3</th>\n",
       "      <td>65</td>\n",
       "      <td>1</td>\n",
       "      <td>130.0</td>\n",
       "      <td>254.0</td>\n",
       "      <td>147.0</td>\n",
       "      <td>1.4</td>\n",
       "      <td>3.0</td>\n",
       "      <td>0.0</td>\n",
       "      <td>0.0</td>\n",
       "      <td>0.0</td>\n",
       "      <td>0.0</td>\n",
       "      <td>1</td>\n",
       "      <td>1</td>\n",
       "      <td>0</td>\n",
       "    </tr>\n",
       "    <tr>\n",
       "      <th>4</th>\n",
       "      <td>53</td>\n",
       "      <td>1</td>\n",
       "      <td>140.0</td>\n",
       "      <td>203.0</td>\n",
       "      <td>155.0</td>\n",
       "      <td>3.1</td>\n",
       "      <td>3.0</td>\n",
       "      <td>0.0</td>\n",
       "      <td>1.0</td>\n",
       "      <td>0.0</td>\n",
       "      <td>1.0</td>\n",
       "      <td>0</td>\n",
       "      <td>0</td>\n",
       "      <td>0</td>\n",
       "    </tr>\n",
       "    <tr>\n",
       "      <th>...</th>\n",
       "      <td>...</td>\n",
       "      <td>...</td>\n",
       "      <td>...</td>\n",
       "      <td>...</td>\n",
       "      <td>...</td>\n",
       "      <td>...</td>\n",
       "      <td>...</td>\n",
       "      <td>...</td>\n",
       "      <td>...</td>\n",
       "      <td>...</td>\n",
       "      <td>...</td>\n",
       "      <td>...</td>\n",
       "      <td>...</td>\n",
       "      <td>...</td>\n",
       "    </tr>\n",
       "    <tr>\n",
       "      <th>298</th>\n",
       "      <td>56</td>\n",
       "      <td>1</td>\n",
       "      <td>120.0</td>\n",
       "      <td>240.0</td>\n",
       "      <td>169.0</td>\n",
       "      <td>0.0</td>\n",
       "      <td>2.0</td>\n",
       "      <td>1.0</td>\n",
       "      <td>0.0</td>\n",
       "      <td>1.0</td>\n",
       "      <td>0.0</td>\n",
       "      <td>0</td>\n",
       "      <td>0</td>\n",
       "      <td>1</td>\n",
       "    </tr>\n",
       "    <tr>\n",
       "      <th>299</th>\n",
       "      <td>55</td>\n",
       "      <td>1</td>\n",
       "      <td>132.0</td>\n",
       "      <td>342.0</td>\n",
       "      <td>166.0</td>\n",
       "      <td>1.2</td>\n",
       "      <td>2.0</td>\n",
       "      <td>1.0</td>\n",
       "      <td>0.0</td>\n",
       "      <td>1.0</td>\n",
       "      <td>0.0</td>\n",
       "      <td>2</td>\n",
       "      <td>0</td>\n",
       "      <td>1</td>\n",
       "    </tr>\n",
       "    <tr>\n",
       "      <th>300</th>\n",
       "      <td>41</td>\n",
       "      <td>1</td>\n",
       "      <td>120.0</td>\n",
       "      <td>157.0</td>\n",
       "      <td>182.0</td>\n",
       "      <td>0.0</td>\n",
       "      <td>2.0</td>\n",
       "      <td>1.0</td>\n",
       "      <td>0.0</td>\n",
       "      <td>1.0</td>\n",
       "      <td>0.0</td>\n",
       "      <td>2</td>\n",
       "      <td>0</td>\n",
       "      <td>1</td>\n",
       "    </tr>\n",
       "    <tr>\n",
       "      <th>301</th>\n",
       "      <td>38</td>\n",
       "      <td>1</td>\n",
       "      <td>138.0</td>\n",
       "      <td>175.0</td>\n",
       "      <td>173.0</td>\n",
       "      <td>0.0</td>\n",
       "      <td>2.0</td>\n",
       "      <td>2.0</td>\n",
       "      <td>0.0</td>\n",
       "      <td>1.0</td>\n",
       "      <td>0.0</td>\n",
       "      <td>2</td>\n",
       "      <td>4</td>\n",
       "      <td>1</td>\n",
       "    </tr>\n",
       "    <tr>\n",
       "      <th>302</th>\n",
       "      <td>38</td>\n",
       "      <td>1</td>\n",
       "      <td>138.0</td>\n",
       "      <td>175.0</td>\n",
       "      <td>173.0</td>\n",
       "      <td>0.0</td>\n",
       "      <td>2.0</td>\n",
       "      <td>2.0</td>\n",
       "      <td>0.0</td>\n",
       "      <td>1.0</td>\n",
       "      <td>0.0</td>\n",
       "      <td>2</td>\n",
       "      <td>4</td>\n",
       "      <td>1</td>\n",
       "    </tr>\n",
       "  </tbody>\n",
       "</table>\n",
       "<p>303 rows × 14 columns</p>\n",
       "</div>"
      ],
      "text/plain": [
       "     age sex   num1   num2   num3  num4  num5  ord1  ord2  ord3  ord4  ord5  \\\n",
       "0     69   1  160.0  286.0  108.0   1.5   2.0   0.0   0.0   0.0   1.0     1   \n",
       "1     69   1  120.0  229.0  129.0   2.6   3.0   0.0   0.0   0.0   1.0     1   \n",
       "2     64   0  140.0  268.0  160.0   3.6   2.0   0.0   0.0   0.0   0.0     0   \n",
       "3     65   1  130.0  254.0  147.0   1.4   3.0   0.0   0.0   0.0   0.0     1   \n",
       "4     53   1  140.0  203.0  155.0   3.1   3.0   0.0   1.0   0.0   1.0     0   \n",
       "..   ...  ..    ...    ...    ...   ...   ...   ...   ...   ...   ...   ...   \n",
       "298   56   1  120.0  240.0  169.0   0.0   2.0   1.0   0.0   1.0   0.0     0   \n",
       "299   55   1  132.0  342.0  166.0   1.2   2.0   1.0   0.0   1.0   0.0     2   \n",
       "300   41   1  120.0  157.0  182.0   0.0   2.0   1.0   0.0   1.0   0.0     2   \n",
       "301   38   1  138.0  175.0  173.0   0.0   2.0   2.0   0.0   1.0   0.0     2   \n",
       "302   38   1  138.0  175.0  173.0   0.0   2.0   2.0   0.0   1.0   0.0     2   \n",
       "\n",
       "     ord6  label  \n",
       "0       3      0  \n",
       "1       2      0  \n",
       "2       2      0  \n",
       "3       1      0  \n",
       "4       0      0  \n",
       "..    ...    ...  \n",
       "298     0      1  \n",
       "299     0      1  \n",
       "300     0      1  \n",
       "301     4      1  \n",
       "302     4      1  \n",
       "\n",
       "[303 rows x 14 columns]"
      ]
     },
     "execution_count": 8,
     "metadata": {},
     "output_type": "execute_result"
    }
   ],
   "source": [
    "from sklearn.preprocessing import LabelEncoder\n",
    "\n",
    "#create 'label' transform from ''target\n",
    "label_enc = LabelEncoder()\n",
    "df['label'] = label_enc.fit_transform(df['target'])\n",
    "\n",
    "#drop 'target'\n",
    "data_df = df.drop(columns=['target'])\n",
    "\n",
    "data_df"
   ]
  },
  {
   "cell_type": "code",
   "execution_count": 9,
   "metadata": {},
   "outputs": [
    {
     "name": "stdout",
     "output_type": "stream",
     "text": [
      "(303, 13) (303,)\n"
     ]
    }
   ],
   "source": [
    "X = data_df.drop(columns=['label']).values\n",
    "y = data_df['label'].values\n",
    "\n",
    "print(X.shape, y.shape)"
   ]
  },
  {
   "cell_type": "code",
   "execution_count": 10,
   "metadata": {},
   "outputs": [
    {
     "data": {
      "text/plain": [
       "array(['age', 'sex', 'num1', 'num2', 'num3', 'num4', 'num5', 'ord1',\n",
       "       'ord2', 'ord3', 'ord4', 'ord5', 'ord6'], dtype=object)"
      ]
     },
     "execution_count": 10,
     "metadata": {},
     "output_type": "execute_result"
    }
   ],
   "source": [
    "feature_names = data_df.drop(columns=['label']).columns.values\n",
    "feature_names"
   ]
  },
  {
   "cell_type": "markdown",
   "metadata": {},
   "source": [
    "## ☯ Train/Valid/Test split or Cross-validation \n",
    "Train/Valid/Test split"
   ]
  },
  {
   "cell_type": "code",
   "execution_count": 11,
   "metadata": {},
   "outputs": [
    {
     "name": "stdout",
     "output_type": "stream",
     "text": [
      "Training set: (242, 13), (242,)\n",
      "Validation set: (30, 13), (30,)\n",
      "Test set: (31, 13), (31,)\n"
     ]
    }
   ],
   "source": [
    "from sklearn.model_selection import train_test_split\n",
    "\n",
    "X_train, X_test, y_train, y_test = train_test_split(\n",
    "    X, y, \n",
    "    random_state=42,\n",
    "    test_size=0.20)\n",
    "\n",
    "X_valid, X_test, y_valid, y_test = train_test_split(\n",
    "    X_test, y_test,\n",
    "    random_state=42,\n",
    "    test_size=0.50)\n",
    "\n",
    "print(f'Training set: {X_train.shape}, {y_train.shape}')\n",
    "print(f'Validation set: {X_valid.shape}, {y_valid.shape}')\n",
    "print(f'Test set: {X_test.shape}, {y_test.shape}')"
   ]
  },
  {
   "cell_type": "markdown",
   "metadata": {},
   "source": [
    "## ☯ Feature Selection "
   ]
  },
  {
   "cell_type": "code",
   "execution_count": 12,
   "metadata": {},
   "outputs": [
    {
     "data": {
      "text/plain": [
       "<seaborn.axisgrid.FacetGrid at 0x164090b19d0>"
      ]
     },
     "execution_count": 12,
     "metadata": {},
     "output_type": "execute_result"
    },
    {
     "data": {
      "image/png": "[encoded data removed]",
      "text/plain": [
       "<Figure size 402.375x360 with 1 Axes>"
      ]
     },
     "metadata": {
      "needs_background": "light"
     },
     "output_type": "display_data"
    },
    {
     "data": {
      "image/png": "[encoded data removed]",
      "text/plain": [
       "<Figure size 402.375x360 with 1 Axes>"
      ]
     },
     "metadata": {
      "needs_background": "light"
     },
     "output_type": "display_data"
    },
    {
     "data": {
      "image/png": "[encoded data removed]",
      "text/plain": [
       "<Figure size 402.375x360 with 1 Axes>"
      ]
     },
     "metadata": {
      "needs_background": "light"
     },
     "output_type": "display_data"
    },
    {
     "data": {
      "image/png": "[encoded data removed]",
      "text/plain": [
       "<Figure size 402.375x360 with 1 Axes>"
      ]
     },
     "metadata": {
      "needs_background": "light"
     },
     "output_type": "display_data"
    },
    {
     "data": {
      "image/png": "[encoded data removed]",
      "text/plain": [
       "<Figure size 402.375x360 with 1 Axes>"
      ]
     },
     "metadata": {
      "needs_background": "light"
     },
     "output_type": "display_data"
    },
    {
     "data": {
      "image/png": "[encoded data removed]",
      "text/plain": [
       "<Figure size 402.375x360 with 1 Axes>"
      ]
     },
     "metadata": {
      "needs_background": "light"
     },
     "output_type": "display_data"
    },
    {
     "data": {
      "image/png": "[encoded data removed]",
      "text/plain": [
       "<Figure size 402.375x360 with 1 Axes>"
      ]
     },
     "metadata": {
      "needs_background": "light"
     },
     "output_type": "display_data"
    },
    {
     "data": {
      "image/png": "[encoded data removed]",
      "text/plain": [
       "<Figure size 402.375x360 with 1 Axes>"
      ]
     },
     "metadata": {
      "needs_background": "light"
     },
     "output_type": "display_data"
    },
    {
     "data": {
      "image/png": "[encoded data removed]",
      "text/plain": [
       "<Figure size 402.375x360 with 1 Axes>"
      ]
     },
     "metadata": {
      "needs_background": "light"
     },
     "output_type": "display_data"
    },
    {
     "data": {
      "image/png": "[encoded data removed]",
      "text/plain": [
       "<Figure size 402.375x360 with 1 Axes>"
      ]
     },
     "metadata": {
      "needs_background": "light"
     },
     "output_type": "display_data"
    },
    {
     "data": {
      "image/png": "[encoded data removed]",
      "text/plain": [
       "<Figure size 402.375x360 with 1 Axes>"
      ]
     },
     "metadata": {
      "needs_background": "light"
     },
     "output_type": "display_data"
    },
    {
     "data": {
      "image/png": "[encoded data removed]",
      "text/plain": [
       "<Figure size 402.375x360 with 1 Axes>"
      ]
     },
     "metadata": {
      "needs_background": "light"
     },
     "output_type": "display_data"
    },
    {
     "data": {
      "image/png": "[encoded data removed]",
      "text/plain": [
       "<Figure size 402.375x360 with 1 Axes>"
      ]
     },
     "metadata": {
      "needs_background": "light"
     },
     "output_type": "display_data"
    }
   ],
   "source": [
    "sns.catplot( data = df, hue='label', x='age', kind='count', palette='Set1')\n",
    "\n",
    "sns.catplot( data = df, hue='label', x='sex', kind='count', palette='Set1')\n",
    "\n",
    "sns.catplot( data = df, hue='label', x='num1', kind='count', palette='Set1')\n",
    "\n",
    "sns.catplot( data = df, hue='label', x='num2', kind='count', palette='Set1')\n",
    "\n",
    "sns.catplot( data = df, hue='label', x='num3', kind='count', palette='Set1')\n",
    "\n",
    "sns.catplot( data = df, hue='label', x='num4', kind='count', palette='Set1')\n",
    "\n",
    "sns.catplot( data = df, hue='label', x='num5', kind='count', palette='Set1')\n",
    "\n",
    "sns.catplot( data = df, hue='label', x='ord1', kind='count', palette='Set1')\n",
    "\n",
    "sns.catplot( data = df, hue='label', x='ord2', kind='count', palette='Set1')\n",
    "\n",
    "sns.catplot( data = df, hue='label', x='ord3', kind='count', palette='Set1')\n",
    "\n",
    "sns.catplot( data = df, hue='label', x='ord4', kind='count', palette='Set1')\n",
    "\n",
    "sns.catplot( data = df, hue='label', x='ord5', kind='count', palette='Set1')\n",
    "\n",
    "sns.catplot( data = df, hue='label', x='ord6', kind='count', palette='Set1')"
   ]
  },
  {
   "cell_type": "code",
   "execution_count": 13,
   "metadata": {},
   "outputs": [
    {
     "name": "stdout",
     "output_type": "stream",
     "text": [
      "feature_names:      label sex  num5  ord1  ord2  ord3  ord4  ord5  ord6\n",
      "0        0   1   2.0   0.0   0.0   0.0   1.0     1     3\n",
      "1        0   1   3.0   0.0   0.0   0.0   1.0     1     2\n",
      "2        0   0   2.0   0.0   0.0   0.0   0.0     0     2\n",
      "3        0   1   3.0   0.0   0.0   0.0   0.0     1     1\n",
      "4        0   1   3.0   0.0   1.0   0.0   1.0     0     0\n",
      "..     ...  ..   ...   ...   ...   ...   ...   ...   ...\n",
      "298      1   1   2.0   1.0   0.0   1.0   0.0     0     0\n",
      "299      1   1   2.0   1.0   0.0   1.0   0.0     2     0\n",
      "300      1   1   2.0   1.0   0.0   1.0   0.0     2     0\n",
      "301      1   1   2.0   2.0   0.0   1.0   0.0     2     4\n",
      "302      1   1   2.0   2.0   0.0   1.0   0.0     2     4\n",
      "\n",
      "[303 rows x 9 columns]\n"
     ]
    }
   ],
   "source": [
    "feature_names = data_df[['label','sex','num5','ord1','ord2','ord3','ord4','ord5','ord6']]\n",
    "\n",
    "print(f'feature_names: {feature_names}')"
   ]
  },
  {
   "cell_type": "markdown",
   "metadata": {},
   "source": [
    "# (̶◉͛‿◉̶) Model Seection (̶◉͛‿◉̶) \n",
    "## Decision Tree"
   ]
  },
  {
   "cell_type": "code",
   "execution_count": 14,
   "metadata": {},
   "outputs": [],
   "source": [
    "# # Create a decision tree model, named model, using DecisionTreeClassifier from sklearn.tree\n",
    "# from sklearn.tree import DecisionTreeClassifier\n",
    "# model = DecisionTreeClassifier()\n",
    "\n",
    "# # Model with the training set X_train and y_train.\n",
    "# model.fit(X_train, y_train)\n",
    "\n",
    "# # Make sure that the predictions are stored in y_pred.\n",
    "# y_pred = model.predict(X_test)\n",
    "\n",
    "# # Accuracy which is the closeness of a measured value to a standard or known value.\n",
    "# print(\"Accuracy:\", np.mean(y_pred == y_test))"
   ]
  },
  {
   "cell_type": "markdown",
   "metadata": {},
   "source": [
    "## Random Forest"
   ]
  },
  {
   "cell_type": "code",
   "execution_count": 15,
   "metadata": {},
   "outputs": [],
   "source": [
    "# # Create a random forest model, named model, using RandomForest from sklearn.tree\n",
    "# from sklearn.ensemble import RandomForestClassifier\n",
    "\n",
    "# #Create a Gaussian Classifier\n",
    "# clf = RandomForestClassifier(n_estimators=100)\n",
    "\n",
    "# #Train the model using the training sets y_pred=clf.predict(X_test)\n",
    "# clf.fit(X_train,y_train)\n",
    "\n",
    "# y_pred = clf.predict(X_test)\n",
    "\n",
    "# #Import scikit-learn metrics module for accuracy calculation\n",
    "# from sklearn import metrics\n",
    "\n",
    "# # Model Accuracy, how often is the classifier correct?\n",
    "# print(\"Accuracy:\", metrics.accuracy_score(y_test, y_pred))"
   ]
  },
  {
   "cell_type": "markdown",
   "metadata": {},
   "source": [
    "## Logistic Regression"
   ]
  },
  {
   "cell_type": "code",
   "execution_count": 16,
   "metadata": {},
   "outputs": [
    {
     "name": "stdout",
     "output_type": "stream",
     "text": [
      "Accuracy: 0.8677685950413223\n"
     ]
    }
   ],
   "source": [
    "# Create a logistic regression model, named model, using LogisticRegression from sklearn.tree\n",
    "from sklearn.linear_model import LogisticRegression\n",
    "\n",
    "model = LogisticRegression(solver = 'liblinear', random_state = 42)\n",
    "\n",
    "model.fit(X_train,y_train)\n",
    "\n",
    "print(\"Accuracy:\", model.score(X_train,y_train))"
   ]
  },
  {
   "cell_type": "code",
   "execution_count": 17,
   "metadata": {},
   "outputs": [
    {
     "data": {
      "text/plain": [
       "['model.joblib']"
      ]
     },
     "execution_count": 17,
     "metadata": {},
     "output_type": "execute_result"
    }
   ],
   "source": [
    "#save model\n",
    "import joblib\n",
    "joblib.dump(model,'model.joblib')"
   ]
  },
  {
   "cell_type": "markdown",
   "metadata": {},
   "source": [
    "## ** OPTUNA **"
   ]
  },
  {
   "cell_type": "code",
   "execution_count": 18,
   "metadata": {},
   "outputs": [
    {
     "name": "stderr",
     "output_type": "stream",
     "text": [
      "\u001b[32m[I 2021-04-05 20:39:10,050]\u001b[0m A new study created in memory with name: no-name-cd6e51ef-1377-43d7-b2e7-808d3f273bf7\u001b[0m\n",
      "\u001b[32m[I 2021-04-05 20:39:10,052]\u001b[0m Trial 0 finished with value: 1.373480292949155 and parameters: {'x': 0.8280442444575158}. Best is trial 0 with value: 1.373480292949155.\u001b[0m\n",
      "\u001b[32m[I 2021-04-05 20:39:10,054]\u001b[0m Trial 1 finished with value: 39.9920950928671 and parameters: {'x': 8.323930351677436}. Best is trial 0 with value: 1.373480292949155.\u001b[0m\n",
      "\u001b[32m[I 2021-04-05 20:39:10,056]\u001b[0m Trial 2 finished with value: 28.581136320972732 and parameters: {'x': 7.346132837946765}. Best is trial 0 with value: 1.373480292949155.\u001b[0m\n",
      "\u001b[32m[I 2021-04-05 20:39:10,058]\u001b[0m Trial 3 finished with value: 0.8430948140582453 and parameters: {'x': 2.9182019462287396}. Best is trial 3 with value: 0.8430948140582453.\u001b[0m\n",
      "\u001b[32m[I 2021-04-05 20:39:10,061]\u001b[0m Trial 4 finished with value: 16.282372394013642 and parameters: {'x': -2.035142177670279}. Best is trial 3 with value: 0.8430948140582453.\u001b[0m\n",
      "\u001b[32m[I 2021-04-05 20:39:10,063]\u001b[0m Trial 5 finished with value: 1.2444438589142537 and parameters: {'x': 3.11554643960449}. Best is trial 3 with value: 0.8430948140582453.\u001b[0m\n",
      "\u001b[32m[I 2021-04-05 20:39:10,065]\u001b[0m Trial 6 finished with value: 8.803931689513208 and parameters: {'x': -0.9671420069678511}. Best is trial 3 with value: 0.8430948140582453.\u001b[0m\n",
      "\u001b[32m[I 2021-04-05 20:39:10,067]\u001b[0m Trial 7 finished with value: 31.445264024771802 and parameters: {'x': 7.607607691767658}. Best is trial 3 with value: 0.8430948140582453.\u001b[0m\n",
      "\u001b[32m[I 2021-04-05 20:39:10,069]\u001b[0m Trial 8 finished with value: 57.75035366129577 and parameters: {'x': -5.599365345954606}. Best is trial 3 with value: 0.8430948140582453.\u001b[0m\n",
      "\u001b[32m[I 2021-04-05 20:39:10,071]\u001b[0m Trial 9 finished with value: 29.865757282343285 and parameters: {'x': 7.464957207732123}. Best is trial 3 with value: 0.8430948140582453.\u001b[0m\n",
      "\u001b[32m[I 2021-04-05 20:39:10,081]\u001b[0m Trial 10 finished with value: 89.15037875084982 and parameters: {'x': -7.441947826102929}. Best is trial 3 with value: 0.8430948140582453.\u001b[0m\n",
      "\u001b[32m[I 2021-04-05 20:39:10,091]\u001b[0m Trial 11 finished with value: 0.4786733292237144 and parameters: {'x': 2.6918622183814596}. Best is trial 11 with value: 0.4786733292237144.\u001b[0m\n",
      "\u001b[32m[I 2021-04-05 20:39:10,103]\u001b[0m Trial 12 finished with value: 6.424444739124234 and parameters: {'x': 4.53464883941035}. Best is trial 11 with value: 0.4786733292237144.\u001b[0m\n",
      "\u001b[32m[I 2021-04-05 20:39:10,112]\u001b[0m Trial 13 finished with value: 0.673514780182277 and parameters: {'x': 2.820679462507913}. Best is trial 11 with value: 0.4786733292237144.\u001b[0m\n",
      "\u001b[32m[I 2021-04-05 20:39:10,120]\u001b[0m Trial 14 finished with value: 31.914699657446057 and parameters: {'x': -3.649309662024738}. Best is trial 11 with value: 0.4786733292237144.\u001b[0m\n",
      "\u001b[32m[I 2021-04-05 20:39:10,130]\u001b[0m Trial 15 finished with value: 7.187251171519464 and parameters: {'x': 4.680904916538344}. Best is trial 11 with value: 0.4786733292237144.\u001b[0m\n",
      "\u001b[32m[I 2021-04-05 20:39:10,140]\u001b[0m Trial 16 finished with value: 0.6275771810749861 and parameters: {'x': 1.207802309347606}. Best is trial 11 with value: 0.4786733292237144.\u001b[0m\n",
      "\u001b[32m[I 2021-04-05 20:39:10,151]\u001b[0m Trial 17 finished with value: 1.768691896004689 and parameters: {'x': 0.6700782368858351}. Best is trial 11 with value: 0.4786733292237144.\u001b[0m\n",
      "\u001b[32m[I 2021-04-05 20:39:10,161]\u001b[0m Trial 18 finished with value: 24.585335665655972 and parameters: {'x': -2.958360179097115}. Best is trial 11 with value: 0.4786733292237144.\u001b[0m\n",
      "\u001b[32m[I 2021-04-05 20:39:10,171]\u001b[0m Trial 19 finished with value: 12.920247834988002 and parameters: {'x': 5.594474625725991}. Best is trial 11 with value: 0.4786733292237144.\u001b[0m\n",
      "\u001b[32m[I 2021-04-05 20:39:10,179]\u001b[0m Trial 20 finished with value: 0.8381146685056474 and parameters: {'x': 1.0845139714306682}. Best is trial 11 with value: 0.4786733292237144.\u001b[0m\n",
      "\u001b[32m[I 2021-04-05 20:39:10,188]\u001b[0m Trial 21 finished with value: 0.5717522170018532 and parameters: {'x': 2.7561429871405627}. Best is trial 11 with value: 0.4786733292237144.\u001b[0m\n",
      "\u001b[32m[I 2021-04-05 20:39:10,198]\u001b[0m Trial 22 finished with value: 0.1380594976817621 and parameters: {'x': 2.371563584978079}. Best is trial 22 with value: 0.1380594976817621.\u001b[0m\n",
      "\u001b[32m[I 2021-04-05 20:39:10,207]\u001b[0m Trial 23 finished with value: 61.93891071145079 and parameters: {'x': 9.870127744290482}. Best is trial 22 with value: 0.1380594976817621.\u001b[0m\n",
      "\u001b[32m[I 2021-04-05 20:39:10,217]\u001b[0m Trial 24 finished with value: 13.98051046451047 and parameters: {'x': 5.739052081010703}. Best is trial 22 with value: 0.1380594976817621.\u001b[0m\n",
      "\u001b[32m[I 2021-04-05 20:39:10,229]\u001b[0m Trial 25 finished with value: 0.22640762816352086 and parameters: {'x': 2.475823105958003}. Best is trial 22 with value: 0.1380594976817621.\u001b[0m\n",
      "\u001b[32m[I 2021-04-05 20:39:10,239]\u001b[0m Trial 26 finished with value: 10.972128641153532 and parameters: {'x': -1.3124203599714712}. Best is trial 22 with value: 0.1380594976817621.\u001b[0m\n",
      "\u001b[32m[I 2021-04-05 20:39:10,262]\u001b[0m Trial 27 finished with value: 4.092999787288193 and parameters: {'x': 4.023116355350871}. Best is trial 22 with value: 0.1380594976817621.\u001b[0m\n",
      "\u001b[32m[I 2021-04-05 20:39:10,272]\u001b[0m Trial 28 finished with value: 4.732395799304685 and parameters: {'x': -0.17540704221179837}. Best is trial 22 with value: 0.1380594976817621.\u001b[0m\n",
      "\u001b[32m[I 2021-04-05 20:39:10,282]\u001b[0m Trial 29 finished with value: 0.058603210011150875 and parameters: {'x': 1.7579190011356718}. Best is trial 29 with value: 0.058603210011150875.\u001b[0m\n",
      "\u001b[32m[I 2021-04-05 20:39:10,295]\u001b[0m Trial 30 finished with value: 0.13949758509650118 and parameters: {'x': 1.626506244902942}. Best is trial 29 with value: 0.058603210011150875.\u001b[0m\n",
      "\u001b[32m[I 2021-04-05 20:39:10,309]\u001b[0m Trial 31 finished with value: 0.12262359307600035 and parameters: {'x': 1.649823482974657}. Best is trial 29 with value: 0.058603210011150875.\u001b[0m\n",
      "\u001b[32m[I 2021-04-05 20:39:10,320]\u001b[0m Trial 32 finished with value: 0.3182753403135015 and parameters: {'x': 1.4358410327633695}. Best is trial 29 with value: 0.058603210011150875.\u001b[0m\n",
      "\u001b[32m[I 2021-04-05 20:39:10,333]\u001b[0m Trial 33 finished with value: 4.639165880206269 and parameters: {'x': -0.15387229895513288}. Best is trial 29 with value: 0.058603210011150875.\u001b[0m\n",
      "\u001b[32m[I 2021-04-05 20:39:10,344]\u001b[0m Trial 34 finished with value: 0.1590192436189753 and parameters: {'x': 1.601227829934215}. Best is trial 29 with value: 0.058603210011150875.\u001b[0m\n",
      "\u001b[32m[I 2021-04-05 20:39:10,357]\u001b[0m Trial 35 finished with value: 14.859582323255802 and parameters: {'x': 5.854812877852283}. Best is trial 29 with value: 0.058603210011150875.\u001b[0m\n",
      "\u001b[32m[I 2021-04-05 20:39:10,369]\u001b[0m Trial 36 finished with value: 16.037749506362577 and parameters: {'x': -2.0047159083214097}. Best is trial 29 with value: 0.058603210011150875.\u001b[0m\n",
      "\u001b[32m[I 2021-04-05 20:39:10,381]\u001b[0m Trial 37 finished with value: 3.6873911742803673 and parameters: {'x': 3.9202581009542357}. Best is trial 29 with value: 0.058603210011150875.\u001b[0m\n",
      "\u001b[32m[I 2021-04-05 20:39:10,390]\u001b[0m Trial 38 finished with value: 5.45301129901172 and parameters: {'x': -0.3351683663093161}. Best is trial 29 with value: 0.058603210011150875.\u001b[0m\n",
      "\u001b[32m[I 2021-04-05 20:39:10,403]\u001b[0m Trial 39 finished with value: 0.016509229564850975 and parameters: {'x': 1.8715117532034506}. Best is trial 39 with value: 0.016509229564850975.\u001b[0m\n",
      "\u001b[32m[I 2021-04-05 20:39:10,414]\u001b[0m Trial 40 finished with value: 35.40434658835253 and parameters: {'x': -3.9501551734683806}. Best is trial 39 with value: 0.016509229564850975.\u001b[0m\n",
      "\u001b[32m[I 2021-04-05 20:39:10,425]\u001b[0m Trial 41 finished with value: 0.025768417923126785 and parameters: {'x': 1.8394745567733053}. Best is trial 39 with value: 0.016509229564850975.\u001b[0m\n",
      "\u001b[32m[I 2021-04-05 20:39:10,435]\u001b[0m Trial 42 finished with value: 2.938946322919941 and parameters: {'x': 3.7143355339372572}. Best is trial 39 with value: 0.016509229564850975.\u001b[0m\n",
      "\u001b[32m[I 2021-04-05 20:39:10,447]\u001b[0m Trial 43 finished with value: 0.0024029728915959617 and parameters: {'x': 2.049020127413094}. Best is trial 43 with value: 0.0024029728915959617.\u001b[0m\n",
      "\u001b[32m[I 2021-04-05 20:39:10,457]\u001b[0m Trial 44 finished with value: 2.0868412579319524 and parameters: {'x': 0.5554096574004268}. Best is trial 43 with value: 0.0024029728915959617.\u001b[0m\n"
     ]
    },
    {
     "name": "stderr",
     "output_type": "stream",
     "text": [
      "\u001b[32m[I 2021-04-05 20:39:10,466]\u001b[0m Trial 45 finished with value: 9.466439249231353 and parameters: {'x': -1.0767579120287238}. Best is trial 43 with value: 0.0024029728915959617.\u001b[0m\n",
      "\u001b[32m[I 2021-04-05 20:39:10,482]\u001b[0m Trial 46 finished with value: 8.991235451192727 and parameters: {'x': 4.998538886056462}. Best is trial 43 with value: 0.0024029728915959617.\u001b[0m\n",
      "\u001b[32m[I 2021-04-05 20:39:10,497]\u001b[0m Trial 47 finished with value: 22.68547711394495 and parameters: {'x': 6.762927368115637}. Best is trial 43 with value: 0.0024029728915959617.\u001b[0m\n",
      "\u001b[32m[I 2021-04-05 20:39:10,511]\u001b[0m Trial 48 finished with value: 0.0002344291451689229 and parameters: {'x': 1.9846889208359135}. Best is trial 48 with value: 0.0002344291451689229.\u001b[0m\n",
      "\u001b[32m[I 2021-04-05 20:39:10,526]\u001b[0m Trial 49 finished with value: 1.4830999541459977 and parameters: {'x': 3.217825912906273}. Best is trial 48 with value: 0.0002344291451689229.\u001b[0m\n",
      "\u001b[32m[I 2021-04-05 20:39:10,542]\u001b[0m Trial 50 finished with value: 1.8992376867200604 and parameters: {'x': 0.621871672622589}. Best is trial 48 with value: 0.0002344291451689229.\u001b[0m\n",
      "\u001b[32m[I 2021-04-05 20:39:10,558]\u001b[0m Trial 51 finished with value: 0.027228329282070682 and parameters: {'x': 2.1650100884251344}. Best is trial 48 with value: 0.0002344291451689229.\u001b[0m\n",
      "\u001b[32m[I 2021-04-05 20:39:10,572]\u001b[0m Trial 52 finished with value: 0.014634252822871386 and parameters: {'x': 1.879027884110133}. Best is trial 48 with value: 0.0002344291451689229.\u001b[0m\n",
      "\u001b[32m[I 2021-04-05 20:39:10,587]\u001b[0m Trial 53 finished with value: 2.303022298896081 and parameters: {'x': 3.5175711841281387}. Best is trial 48 with value: 0.0002344291451689229.\u001b[0m\n",
      "\u001b[32m[I 2021-04-05 20:39:10,602]\u001b[0m Trial 54 finished with value: 0.20073903237736812 and parameters: {'x': 2.4480390969294623}. Best is trial 48 with value: 0.0002344291451689229.\u001b[0m\n",
      "\u001b[32m[I 2021-04-05 20:39:10,617]\u001b[0m Trial 55 finished with value: 2.716578202302375 and parameters: {'x': 0.3517954610236098}. Best is trial 48 with value: 0.0002344291451689229.\u001b[0m\n",
      "\u001b[32m[I 2021-04-05 20:39:10,632]\u001b[0m Trial 56 finished with value: 0.003519013043688163 and parameters: {'x': 2.059321269741031}. Best is trial 48 with value: 0.0002344291451689229.\u001b[0m\n",
      "\u001b[32m[I 2021-04-05 20:39:10,644]\u001b[0m Trial 57 finished with value: 7.228683303129641 and parameters: {'x': 4.688621078383795}. Best is trial 48 with value: 0.0002344291451689229.\u001b[0m\n",
      "\u001b[32m[I 2021-04-05 20:39:10,657]\u001b[0m Trial 58 finished with value: 7.272750563507361 and parameters: {'x': -0.6968037680757122}. Best is trial 48 with value: 0.0002344291451689229.\u001b[0m\n",
      "\u001b[32m[I 2021-04-05 20:39:10,670]\u001b[0m Trial 59 finished with value: 14.494386682135568 and parameters: {'x': -1.8071494168387412}. Best is trial 48 with value: 0.0002344291451689229.\u001b[0m\n",
      "\u001b[32m[I 2021-04-05 20:39:10,683]\u001b[0m Trial 60 finished with value: 1.063614017606247 and parameters: {'x': 3.0313166427466625}. Best is trial 48 with value: 0.0002344291451689229.\u001b[0m\n",
      "\u001b[32m[I 2021-04-05 20:39:10,696]\u001b[0m Trial 61 finished with value: 0.00014695481253951335 and parameters: {'x': 1.9878775079897113}. Best is trial 61 with value: 0.00014695481253951335.\u001b[0m\n",
      "\u001b[32m[I 2021-04-05 20:39:10,708]\u001b[0m Trial 62 finished with value: 1.0609864378896972 and parameters: {'x': 0.9699580407140215}. Best is trial 61 with value: 0.00014695481253951335.\u001b[0m\n",
      "\u001b[32m[I 2021-04-05 20:39:10,720]\u001b[0m Trial 63 finished with value: 0.0251370898264969 and parameters: {'x': 2.158546806421627}. Best is trial 61 with value: 0.00014695481253951335.\u001b[0m\n",
      "\u001b[32m[I 2021-04-05 20:39:10,730]\u001b[0m Trial 64 finished with value: 5.044594478624043 and parameters: {'x': 4.2460174706854}. Best is trial 61 with value: 0.00014695481253951335.\u001b[0m\n",
      "\u001b[32m[I 2021-04-05 20:39:10,741]\u001b[0m Trial 65 finished with value: 139.42636407418772 and parameters: {'x': -9.80789414223331}. Best is trial 61 with value: 0.00014695481253951335.\u001b[0m\n",
      "\u001b[32m[I 2021-04-05 20:39:10,751]\u001b[0m Trial 66 finished with value: 1.3003151163826836 and parameters: {'x': 3.1403136044012996}. Best is trial 61 with value: 0.00014695481253951335.\u001b[0m\n",
      "\u001b[32m[I 2021-04-05 20:39:10,761]\u001b[0m Trial 67 finished with value: 0.9566497012422611 and parameters: {'x': 1.0219152893321248}. Best is trial 61 with value: 0.00014695481253951335.\u001b[0m\n",
      "\u001b[32m[I 2021-04-05 20:39:10,771]\u001b[0m Trial 68 finished with value: 0.13635245102673024 and parameters: {'x': 2.369259327609649}. Best is trial 61 with value: 0.00014695481253951335.\u001b[0m\n",
      "\u001b[32m[I 2021-04-05 20:39:10,784]\u001b[0m Trial 69 finished with value: 3.231095079078293 and parameters: {'x': 0.20247529110771523}. Best is trial 61 with value: 0.00014695481253951335.\u001b[0m\n",
      "\u001b[32m[I 2021-04-05 20:39:10,796]\u001b[0m Trial 70 finished with value: 9.737392528957022 and parameters: {'x': 5.120479535096653}. Best is trial 61 with value: 0.00014695481253951335.\u001b[0m\n",
      "\u001b[32m[I 2021-04-05 20:39:10,809]\u001b[0m Trial 71 finished with value: 1.2756398767718799e-06 and parameters: {'x': 2.0011294422857198}. Best is trial 71 with value: 1.2756398767718799e-06.\u001b[0m\n",
      "\u001b[32m[I 2021-04-05 20:39:10,818]\u001b[0m Trial 72 finished with value: 0.01647260552761549 and parameters: {'x': 2.1283456486508814}. Best is trial 71 with value: 1.2756398767718799e-06.\u001b[0m\n",
      "\u001b[32m[I 2021-04-05 20:39:10,830]\u001b[0m Trial 73 finished with value: 0.7097631111723558 and parameters: {'x': 1.1575256020671276}. Best is trial 71 with value: 1.2756398767718799e-06.\u001b[0m\n",
      "\u001b[32m[I 2021-04-05 20:39:10,839]\u001b[0m Trial 74 finished with value: 2.2371587788156764 and parameters: {'x': 3.4957134681534683}. Best is trial 71 with value: 1.2756398767718799e-06.\u001b[0m\n",
      "\u001b[32m[I 2021-04-05 20:39:10,850]\u001b[0m Trial 75 finished with value: 0.0038376802705311283 and parameters: {'x': 1.9380509865249564}. Best is trial 71 with value: 1.2756398767718799e-06.\u001b[0m\n",
      "\u001b[32m[I 2021-04-05 20:39:10,861]\u001b[0m Trial 76 finished with value: 0.5701539642025447 and parameters: {'x': 2.755085401926527}. Best is trial 71 with value: 1.2756398767718799e-06.\u001b[0m\n",
      "\u001b[32m[I 2021-04-05 20:39:10,870]\u001b[0m Trial 77 finished with value: 6.724821825215138 and parameters: {'x': -0.5932261423206304}. Best is trial 71 with value: 1.2756398767718799e-06.\u001b[0m\n",
      "\u001b[32m[I 2021-04-05 20:39:10,880]\u001b[0m Trial 78 finished with value: 3.7041502365491774 and parameters: {'x': 0.07538309356142836}. Best is trial 71 with value: 1.2756398767718799e-06.\u001b[0m\n",
      "\u001b[32m[I 2021-04-05 20:39:10,892]\u001b[0m Trial 79 finished with value: 0.21135064001442022 and parameters: {'x': 1.5402711233624538}. Best is trial 71 with value: 1.2756398767718799e-06.\u001b[0m\n",
      "\u001b[32m[I 2021-04-05 20:39:10,902]\u001b[0m Trial 80 finished with value: 5.049348285507282 and parameters: {'x': 4.247075496174368}. Best is trial 71 with value: 1.2756398767718799e-06.\u001b[0m\n",
      "\u001b[32m[I 2021-04-05 20:39:10,914]\u001b[0m Trial 81 finished with value: 9.232332786685362e-05 and parameters: {'x': 2.009608502894148}. Best is trial 71 with value: 1.2756398767718799e-06.\u001b[0m\n",
      "\u001b[32m[I 2021-04-05 20:39:10,924]\u001b[0m Trial 82 finished with value: 0.6657241101430827 and parameters: {'x': 2.8159191811344324}. Best is trial 71 with value: 1.2756398767718799e-06.\u001b[0m\n",
      "\u001b[32m[I 2021-04-05 20:39:10,935]\u001b[0m Trial 83 finished with value: 0.0005975595776883322 and parameters: {'x': 1.9755549682412084}. Best is trial 71 with value: 1.2756398767718799e-06.\u001b[0m\n",
      "\u001b[32m[I 2021-04-05 20:39:10,945]\u001b[0m Trial 84 finished with value: 1.852706134166756 and parameters: {'x': 0.6388585179465156}. Best is trial 71 with value: 1.2756398767718799e-06.\u001b[0m\n",
      "\u001b[32m[I 2021-04-05 20:39:10,955]\u001b[0m Trial 85 finished with value: 0.3690615192367981 and parameters: {'x': 1.3924956631950698}. Best is trial 71 with value: 1.2756398767718799e-06.\u001b[0m\n",
      "\u001b[32m[I 2021-04-05 20:39:10,966]\u001b[0m Trial 86 finished with value: 1.1959697117520498 and parameters: {'x': 3.0936040013423733}. Best is trial 71 with value: 1.2756398767718799e-06.\u001b[0m\n",
      "\u001b[32m[I 2021-04-05 20:39:10,978]\u001b[0m Trial 87 finished with value: 2.8022076088225774 and parameters: {'x': 3.673979572403014}. Best is trial 71 with value: 1.2756398767718799e-06.\u001b[0m\n",
      "\u001b[32m[I 2021-04-05 20:39:10,990]\u001b[0m Trial 88 finished with value: 0.016508611262871394 and parameters: {'x': 1.8715141592903273}. Best is trial 71 with value: 1.2756398767718799e-06.\u001b[0m\n",
      "\u001b[32m[I 2021-04-05 20:39:11,001]\u001b[0m Trial 89 finished with value: 0.748063322637263 and parameters: {'x': 1.1350934601719889}. Best is trial 71 with value: 1.2756398767718799e-06.\u001b[0m\n"
     ]
    },
    {
     "name": "stderr",
     "output_type": "stream",
     "text": [
      "\u001b[32m[I 2021-04-05 20:39:11,012]\u001b[0m Trial 90 finished with value: 0.40996992318703085 and parameters: {'x': 2.640288937267411}. Best is trial 71 with value: 1.2756398767718799e-06.\u001b[0m\n",
      "\u001b[32m[I 2021-04-05 20:39:11,024]\u001b[0m Trial 91 finished with value: 0.009148547444388717 and parameters: {'x': 2.09564803941738}. Best is trial 71 with value: 1.2756398767718799e-06.\u001b[0m\n",
      "\u001b[32m[I 2021-04-05 20:39:11,034]\u001b[0m Trial 92 finished with value: 0.01157900846679016 and parameters: {'x': 2.1076058012692167}. Best is trial 71 with value: 1.2756398767718799e-06.\u001b[0m\n",
      "\u001b[32m[I 2021-04-05 20:39:11,047]\u001b[0m Trial 93 finished with value: 0.14935650571049772 and parameters: {'x': 2.3864666941801036}. Best is trial 71 with value: 1.2756398767718799e-06.\u001b[0m\n",
      "\u001b[32m[I 2021-04-05 20:39:11,058]\u001b[0m Trial 94 finished with value: 1.5881735036603273 and parameters: {'x': 0.7397724397314875}. Best is trial 71 with value: 1.2756398767718799e-06.\u001b[0m\n",
      "\u001b[32m[I 2021-04-05 20:39:11,069]\u001b[0m Trial 95 finished with value: 1.9488111820947076 and parameters: {'x': 3.3959982743881554}. Best is trial 71 with value: 1.2756398767718799e-06.\u001b[0m\n",
      "\u001b[32m[I 2021-04-05 20:39:11,079]\u001b[0m Trial 96 finished with value: 4.500161762119058 and parameters: {'x': -0.12135847091411156}. Best is trial 71 with value: 1.2756398767718799e-06.\u001b[0m\n",
      "\u001b[32m[I 2021-04-05 20:39:11,090]\u001b[0m Trial 97 finished with value: 0.3539261606753211 and parameters: {'x': 1.405083064054047}. Best is trial 71 with value: 1.2756398767718799e-06.\u001b[0m\n",
      "\u001b[32m[I 2021-04-05 20:39:11,099]\u001b[0m Trial 98 finished with value: 3.639862060435027 and parameters: {'x': 3.9078422525028182}. Best is trial 71 with value: 1.2756398767718799e-06.\u001b[0m\n",
      "\u001b[32m[I 2021-04-05 20:39:11,110]\u001b[0m Trial 99 finished with value: 5.906333834718277e-05 and parameters: {'x': 1.992314732382852}. Best is trial 71 with value: 1.2756398767718799e-06.\u001b[0m\n"
     ]
    },
    {
     "data": {
      "text/plain": [
       "{'x': 2.0011294422857198}"
      ]
     },
     "execution_count": 18,
     "metadata": {},
     "output_type": "execute_result"
    }
   ],
   "source": [
    "import optuna\n",
    "\n",
    "def objective(trial):\n",
    "    x = trial.suggest_uniform('x', -10, 10)\n",
    "    return (x - 2) ** 2\n",
    "\n",
    "study = optuna.create_study()\n",
    "study.optimize(objective, n_trials = 100)\n",
    "\n",
    "study.best_params"
   ]
  },
  {
   "cell_type": "code",
   "execution_count": 19,
   "metadata": {},
   "outputs": [
    {
     "name": "stderr",
     "output_type": "stream",
     "text": [
      "\u001b[32m[I 2021-04-05 20:39:11,255]\u001b[0m A new study created in memory with name: no-name-ccc62fbe-2542-42f3-9111-011218d14bc3\u001b[0m\n",
      "\u001b[32m[I 2021-04-05 20:39:14,418]\u001b[0m Trial 0 finished with value: 0.9666666666666667 and parameters: {'classifier': 'DecisionTree', 'dt_max_depth': 21}. Best is trial 0 with value: 0.9666666666666667.\u001b[0m\n",
      "\u001b[32m[I 2021-04-05 20:39:15,910]\u001b[0m Trial 1 finished with value: 0.9666666666666667 and parameters: {'classifier': 'DecisionTree', 'dt_max_depth': 32}. Best is trial 0 with value: 0.9666666666666667.\u001b[0m\n",
      "\u001b[32m[I 2021-04-05 20:39:17,179]\u001b[0m Trial 2 finished with value: 0.96 and parameters: {'classifier': 'RandomForest', 'rf_max_depth': 26, 'dt_max_depth': 32}. Best is trial 0 with value: 0.9666666666666667.\u001b[0m\n",
      "\u001b[32m[I 2021-04-05 20:39:17,284]\u001b[0m Trial 3 finished with value: 0.9733333333333333 and parameters: {'classifier': 'LogisticRegression', 'lr_c': 29661.694430146435}. Best is trial 3 with value: 0.9733333333333333.\u001b[0m\n",
      "\u001b[32m[I 2021-04-05 20:39:17,303]\u001b[0m Trial 4 finished with value: 0.9666666666666667 and parameters: {'classifier': 'RandomForest', 'rf_max_depth': 7, 'dt_max_depth': 42}. Best is trial 3 with value: 0.9733333333333333.\u001b[0m\n",
      "\u001b[32m[I 2021-04-05 20:39:17,345]\u001b[0m Trial 5 finished with value: 0.32 and parameters: {'classifier': 'LogisticRegression', 'lr_c': 1.1907206325447518e-06}. Best is trial 3 with value: 0.9733333333333333.\u001b[0m\n",
      "\u001b[32m[I 2021-04-05 20:39:17,364]\u001b[0m Trial 6 finished with value: 0.9666666666666667 and parameters: {'classifier': 'RandomForest', 'rf_max_depth': 3, 'dt_max_depth': 33}. Best is trial 3 with value: 0.9733333333333333.\u001b[0m\n",
      "\u001b[32m[I 2021-04-05 20:39:17,382]\u001b[0m Trial 7 finished with value: 0.9733333333333333 and parameters: {'classifier': 'DecisionTree', 'dt_max_depth': 38}. Best is trial 3 with value: 0.9733333333333333.\u001b[0m\n",
      "\u001b[32m[I 2021-04-05 20:39:17,401]\u001b[0m Trial 8 finished with value: 0.9333333333333332 and parameters: {'classifier': 'RandomForest', 'rf_max_depth': 7, 'dt_max_depth': 2}. Best is trial 3 with value: 0.9733333333333333.\u001b[0m\n",
      "\u001b[32m[I 2021-04-05 20:39:17,421]\u001b[0m Trial 9 finished with value: 0.9666666666666667 and parameters: {'classifier': 'DecisionTree', 'dt_max_depth': 14}. Best is trial 3 with value: 0.9733333333333333.\u001b[0m\n",
      "\u001b[32m[I 2021-04-05 20:39:17,491]\u001b[0m Trial 10 finished with value: 0.9733333333333333 and parameters: {'classifier': 'LogisticRegression', 'lr_c': 879744125.332256}. Best is trial 3 with value: 0.9733333333333333.\u001b[0m\n",
      "\u001b[32m[I 2021-04-05 20:39:17,597]\u001b[0m Trial 11 finished with value: 0.9733333333333333 and parameters: {'classifier': 'LogisticRegression', 'lr_c': 484590.94227868755}. Best is trial 3 with value: 0.9733333333333333.\u001b[0m\n",
      "\u001b[32m[I 2021-04-05 20:39:17,622]\u001b[0m Trial 12 finished with value: 0.9666666666666667 and parameters: {'classifier': 'DecisionTree', 'dt_max_depth': 38}. Best is trial 3 with value: 0.9733333333333333.\u001b[0m\n",
      "\u001b[32m[I 2021-04-05 20:39:17,706]\u001b[0m Trial 13 finished with value: 0.98 and parameters: {'classifier': 'LogisticRegression', 'lr_c': 3.580007684149738}. Best is trial 13 with value: 0.98.\u001b[0m\n",
      "\u001b[32m[I 2021-04-05 20:39:17,799]\u001b[0m Trial 14 finished with value: 0.9733333333333333 and parameters: {'classifier': 'LogisticRegression', 'lr_c': 0.791918071949363}. Best is trial 13 with value: 0.98.\u001b[0m\n",
      "\u001b[32m[I 2021-04-05 20:39:17,893]\u001b[0m Trial 15 finished with value: 0.98 and parameters: {'classifier': 'LogisticRegression', 'lr_c': 24.911469547770675}. Best is trial 13 with value: 0.98.\u001b[0m\n",
      "\u001b[32m[I 2021-04-05 20:39:17,950]\u001b[0m Trial 16 finished with value: 0.9333333333333332 and parameters: {'classifier': 'LogisticRegression', 'lr_c': 0.051892256132578855}. Best is trial 13 with value: 0.98.\u001b[0m\n",
      "\u001b[32m[I 2021-04-05 20:39:17,989]\u001b[0m Trial 17 finished with value: 0.32 and parameters: {'classifier': 'LogisticRegression', 'lr_c': 4.0010740332950026e-05}. Best is trial 13 with value: 0.98.\u001b[0m\n",
      "\u001b[32m[I 2021-04-05 20:39:18,089]\u001b[0m Trial 18 finished with value: 0.9733333333333333 and parameters: {'classifier': 'LogisticRegression', 'lr_c': 1371.6658701505219}. Best is trial 13 with value: 0.98.\u001b[0m\n",
      "\u001b[32m[I 2021-04-05 20:39:18,124]\u001b[0m Trial 19 finished with value: 0.32 and parameters: {'classifier': 'LogisticRegression', 'lr_c': 1.8617753092699573e-10}. Best is trial 13 with value: 0.98.\u001b[0m\n",
      "\u001b[32m[I 2021-04-05 20:39:18,222]\u001b[0m Trial 20 finished with value: 0.98 and parameters: {'classifier': 'LogisticRegression', 'lr_c': 143.72875187619115}. Best is trial 13 with value: 0.98.\u001b[0m\n",
      "\u001b[32m[I 2021-04-05 20:39:18,314]\u001b[0m Trial 21 finished with value: 0.98 and parameters: {'classifier': 'LogisticRegression', 'lr_c': 29.93362338276423}. Best is trial 13 with value: 0.98.\u001b[0m\n",
      "\u001b[32m[I 2021-04-05 20:39:18,367]\u001b[0m Trial 22 finished with value: 0.9 and parameters: {'classifier': 'LogisticRegression', 'lr_c': 0.0270427447711139}. Best is trial 13 with value: 0.98.\u001b[0m\n",
      "\u001b[32m[I 2021-04-05 20:39:18,462]\u001b[0m Trial 23 finished with value: 0.9733333333333333 and parameters: {'classifier': 'LogisticRegression', 'lr_c': 1711418.6619088564}. Best is trial 13 with value: 0.98.\u001b[0m\n",
      "\u001b[32m[I 2021-04-05 20:39:18,561]\u001b[0m Trial 24 finished with value: 0.9733333333333333 and parameters: {'classifier': 'LogisticRegression', 'lr_c': 234.2274776651074}. Best is trial 13 with value: 0.98.\u001b[0m\n",
      "\u001b[32m[I 2021-04-05 20:39:18,646]\u001b[0m Trial 25 finished with value: 0.98 and parameters: {'classifier': 'LogisticRegression', 'lr_c': 61.73009467845753}. Best is trial 13 with value: 0.98.\u001b[0m\n",
      "\u001b[32m[I 2021-04-05 20:39:18,687]\u001b[0m Trial 26 finished with value: 0.7533333333333333 and parameters: {'classifier': 'LogisticRegression', 'lr_c': 0.0008592159938280821}. Best is trial 13 with value: 0.98.\u001b[0m\n",
      "\u001b[32m[I 2021-04-05 20:39:18,779]\u001b[0m Trial 27 finished with value: 0.98 and parameters: {'classifier': 'LogisticRegression', 'lr_c': 3.680422578280326}. Best is trial 13 with value: 0.98.\u001b[0m\n",
      "\u001b[32m[I 2021-04-05 20:39:18,842]\u001b[0m Trial 28 finished with value: 0.9666666666666667 and parameters: {'classifier': 'LogisticRegression', 'lr_c': 22319561.468800623}. Best is trial 13 with value: 0.98.\u001b[0m\n",
      "\u001b[32m[I 2021-04-05 20:39:18,933]\u001b[0m Trial 29 finished with value: 0.9733333333333333 and parameters: {'classifier': 'LogisticRegression', 'lr_c': 3426.5344180097054}. Best is trial 13 with value: 0.98.\u001b[0m\n",
      "\u001b[32m[I 2021-04-05 20:39:19,015]\u001b[0m Trial 30 finished with value: 0.9466666666666667 and parameters: {'classifier': 'LogisticRegression', 'lr_c': 0.16516073278803567}. Best is trial 13 with value: 0.98.\u001b[0m\n",
      "\u001b[32m[I 2021-04-05 20:39:19,108]\u001b[0m Trial 31 finished with value: 0.9733333333333333 and parameters: {'classifier': 'LogisticRegression', 'lr_c': 20.20130275762271}. Best is trial 13 with value: 0.98.\u001b[0m\n",
      "\u001b[32m[I 2021-04-05 20:39:19,204]\u001b[0m Trial 32 finished with value: 0.98 and parameters: {'classifier': 'LogisticRegression', 'lr_c': 30.05724544907292}. Best is trial 13 with value: 0.98.\u001b[0m\n",
      "\u001b[32m[I 2021-04-05 20:39:19,246]\u001b[0m Trial 33 finished with value: 0.7533333333333333 and parameters: {'classifier': 'LogisticRegression', 'lr_c': 0.0014667516661121189}. Best is trial 13 with value: 0.98.\u001b[0m\n",
      "\u001b[32m[I 2021-04-05 20:39:19,270]\u001b[0m Trial 34 finished with value: 0.9533333333333333 and parameters: {'classifier': 'DecisionTree', 'dt_max_depth': 4}. Best is trial 13 with value: 0.98.\u001b[0m\n",
      "\u001b[32m[I 2021-04-05 20:39:19,304]\u001b[0m Trial 35 finished with value: 0.96 and parameters: {'classifier': 'RandomForest', 'rf_max_depth': 30, 'dt_max_depth': 9}. Best is trial 13 with value: 0.98.\u001b[0m\n",
      "\u001b[32m[I 2021-04-05 20:39:19,418]\u001b[0m Trial 36 finished with value: 0.9733333333333333 and parameters: {'classifier': 'LogisticRegression', 'lr_c': 38740.63509707748}. Best is trial 13 with value: 0.98.\u001b[0m\n",
      "\u001b[32m[I 2021-04-05 20:39:19,518]\u001b[0m Trial 37 finished with value: 0.9733333333333333 and parameters: {'classifier': 'LogisticRegression', 'lr_c': 1.5494289277056297}. Best is trial 13 with value: 0.98.\u001b[0m\n",
      "\u001b[32m[I 2021-04-05 20:39:19,549]\u001b[0m Trial 38 finished with value: 0.9666666666666667 and parameters: {'classifier': 'RandomForest', 'rf_max_depth': 2, 'dt_max_depth': 23}. Best is trial 13 with value: 0.98.\u001b[0m\n",
      "\u001b[32m[I 2021-04-05 20:39:19,663]\u001b[0m Trial 39 finished with value: 0.9733333333333333 and parameters: {'classifier': 'LogisticRegression', 'lr_c': 381.3344704287194}. Best is trial 13 with value: 0.98.\u001b[0m\n"
     ]
    },
    {
     "name": "stderr",
     "output_type": "stream",
     "text": [
      "\u001b[32m[I 2021-04-05 20:39:19,692]\u001b[0m Trial 40 finished with value: 0.9666666666666667 and parameters: {'classifier': 'DecisionTree', 'dt_max_depth': 21}. Best is trial 13 with value: 0.98.\u001b[0m\n",
      "\u001b[32m[I 2021-04-05 20:39:19,790]\u001b[0m Trial 41 finished with value: 0.98 and parameters: {'classifier': 'LogisticRegression', 'lr_c': 4.185605203164229}. Best is trial 13 with value: 0.98.\u001b[0m\n",
      "\u001b[32m[I 2021-04-05 20:39:19,889]\u001b[0m Trial 42 finished with value: 0.9733333333333333 and parameters: {'classifier': 'LogisticRegression', 'lr_c': 189.7400720113546}. Best is trial 13 with value: 0.98.\u001b[0m\n",
      "\u001b[32m[I 2021-04-05 20:39:19,977]\u001b[0m Trial 43 finished with value: 0.9733333333333333 and parameters: {'classifier': 'LogisticRegression', 'lr_c': 8.182355804696048}. Best is trial 13 with value: 0.98.\u001b[0m\n",
      "\u001b[32m[I 2021-04-05 20:39:20,069]\u001b[0m Trial 44 finished with value: 0.9733333333333333 and parameters: {'classifier': 'LogisticRegression', 'lr_c': 26130.839267196938}. Best is trial 13 with value: 0.98.\u001b[0m\n",
      "\u001b[32m[I 2021-04-05 20:39:20,180]\u001b[0m Trial 45 finished with value: 0.9733333333333333 and parameters: {'classifier': 'LogisticRegression', 'lr_c': 11274.819755601015}. Best is trial 13 with value: 0.98.\u001b[0m\n",
      "\u001b[32m[I 2021-04-05 20:39:20,212]\u001b[0m Trial 46 finished with value: 0.96 and parameters: {'classifier': 'RandomForest', 'rf_max_depth': 17, 'dt_max_depth': 15}. Best is trial 13 with value: 0.98.\u001b[0m\n",
      "\u001b[32m[I 2021-04-05 20:39:20,306]\u001b[0m Trial 47 finished with value: 0.9733333333333333 and parameters: {'classifier': 'LogisticRegression', 'lr_c': 81.88352674428305}. Best is trial 13 with value: 0.98.\u001b[0m\n",
      "\u001b[32m[I 2021-04-05 20:39:20,356]\u001b[0m Trial 48 finished with value: 0.82 and parameters: {'classifier': 'LogisticRegression', 'lr_c': 0.006432848245975471}. Best is trial 13 with value: 0.98.\u001b[0m\n",
      "\u001b[32m[I 2021-04-05 20:39:20,442]\u001b[0m Trial 49 finished with value: 0.9733333333333333 and parameters: {'classifier': 'LogisticRegression', 'lr_c': 0.848579065311568}. Best is trial 13 with value: 0.98.\u001b[0m\n",
      "\u001b[32m[I 2021-04-05 20:39:20,464]\u001b[0m Trial 50 finished with value: 0.9666666666666667 and parameters: {'classifier': 'DecisionTree', 'dt_max_depth': 25}. Best is trial 13 with value: 0.98.\u001b[0m\n",
      "\u001b[32m[I 2021-04-05 20:39:20,559]\u001b[0m Trial 51 finished with value: 0.98 and parameters: {'classifier': 'LogisticRegression', 'lr_c': 34.232773297605604}. Best is trial 13 with value: 0.98.\u001b[0m\n",
      "\u001b[32m[I 2021-04-05 20:39:20,647]\u001b[0m Trial 52 finished with value: 0.96 and parameters: {'classifier': 'LogisticRegression', 'lr_c': 0.4964396685220536}. Best is trial 13 with value: 0.98.\u001b[0m\n",
      "\u001b[32m[I 2021-04-05 20:39:20,733]\u001b[0m Trial 53 finished with value: 0.98 and parameters: {'classifier': 'LogisticRegression', 'lr_c': 37.049987460247884}. Best is trial 13 with value: 0.98.\u001b[0m\n",
      "\u001b[32m[I 2021-04-05 20:39:20,824]\u001b[0m Trial 54 finished with value: 0.9733333333333333 and parameters: {'classifier': 'LogisticRegression', 'lr_c': 1198.448265243246}. Best is trial 13 with value: 0.98.\u001b[0m\n",
      "\u001b[32m[I 2021-04-05 20:39:20,921]\u001b[0m Trial 55 finished with value: 0.9733333333333333 and parameters: {'classifier': 'LogisticRegression', 'lr_c': 10.498575526990594}. Best is trial 13 with value: 0.98.\u001b[0m\n",
      "\u001b[32m[I 2021-04-05 20:39:21,009]\u001b[0m Trial 56 finished with value: 0.9733333333333333 and parameters: {'classifier': 'LogisticRegression', 'lr_c': 99037.43002562941}. Best is trial 13 with value: 0.98.\u001b[0m\n",
      "\u001b[32m[I 2021-04-05 20:39:21,077]\u001b[0m Trial 57 finished with value: 0.9466666666666667 and parameters: {'classifier': 'LogisticRegression', 'lr_c': 0.08886022595686531}. Best is trial 13 with value: 0.98.\u001b[0m\n",
      "\u001b[32m[I 2021-04-05 20:39:21,170]\u001b[0m Trial 58 finished with value: 0.98 and parameters: {'classifier': 'LogisticRegression', 'lr_c': 16.066320456745316}. Best is trial 13 with value: 0.98.\u001b[0m\n",
      "\u001b[32m[I 2021-04-05 20:39:21,259]\u001b[0m Trial 59 finished with value: 0.9733333333333333 and parameters: {'classifier': 'LogisticRegression', 'lr_c': 1658.4257390595826}. Best is trial 13 with value: 0.98.\u001b[0m\n",
      "\u001b[32m[I 2021-04-05 20:39:21,310]\u001b[0m Trial 60 finished with value: 0.8866666666666667 and parameters: {'classifier': 'LogisticRegression', 'lr_c': 0.0175175165523104}. Best is trial 13 with value: 0.98.\u001b[0m\n",
      "\u001b[32m[I 2021-04-05 20:39:21,392]\u001b[0m Trial 61 finished with value: 0.9666666666666667 and parameters: {'classifier': 'LogisticRegression', 'lr_c': 0.7326626043578358}. Best is trial 13 with value: 0.98.\u001b[0m\n",
      "\u001b[32m[I 2021-04-05 20:39:21,460]\u001b[0m Trial 62 finished with value: 0.98 and parameters: {'classifier': 'LogisticRegression', 'lr_c': 4.247067966506106}. Best is trial 13 with value: 0.98.\u001b[0m\n",
      "\u001b[32m[I 2021-04-05 20:39:21,548]\u001b[0m Trial 63 finished with value: 0.9733333333333333 and parameters: {'classifier': 'LogisticRegression', 'lr_c': 1.9451679826721993}. Best is trial 13 with value: 0.98.\u001b[0m\n",
      "\u001b[32m[I 2021-04-05 20:39:21,653]\u001b[0m Trial 64 finished with value: 0.9733333333333333 and parameters: {'classifier': 'LogisticRegression', 'lr_c': 475.66858558657617}. Best is trial 13 with value: 0.98.\u001b[0m\n",
      "\u001b[32m[I 2021-04-05 20:39:21,738]\u001b[0m Trial 65 finished with value: 0.9733333333333333 and parameters: {'classifier': 'LogisticRegression', 'lr_c': 175.16066732128868}. Best is trial 13 with value: 0.98.\u001b[0m\n",
      "\u001b[32m[I 2021-04-05 20:39:21,807]\u001b[0m Trial 66 finished with value: 0.9466666666666667 and parameters: {'classifier': 'LogisticRegression', 'lr_c': 0.07906138050205426}. Best is trial 13 with value: 0.98.\u001b[0m\n",
      "\u001b[32m[I 2021-04-05 20:39:21,834]\u001b[0m Trial 67 finished with value: 0.9666666666666667 and parameters: {'classifier': 'RandomForest', 'rf_max_depth': 3, 'dt_max_depth': 7}. Best is trial 13 with value: 0.98.\u001b[0m\n",
      "\u001b[32m[I 2021-04-05 20:39:21,918]\u001b[0m Trial 68 finished with value: 0.9733333333333333 and parameters: {'classifier': 'LogisticRegression', 'lr_c': 4985.824069618905}. Best is trial 13 with value: 0.98.\u001b[0m\n",
      "\u001b[32m[I 2021-04-05 20:39:22,023]\u001b[0m Trial 69 finished with value: 0.98 and parameters: {'classifier': 'LogisticRegression', 'lr_c': 45.091806034760666}. Best is trial 13 with value: 0.98.\u001b[0m\n",
      "\u001b[32m[I 2021-04-05 20:39:22,126]\u001b[0m Trial 70 finished with value: 0.98 and parameters: {'classifier': 'LogisticRegression', 'lr_c': 42.583371617203944}. Best is trial 13 with value: 0.98.\u001b[0m\n",
      "\u001b[32m[I 2021-04-05 20:39:22,208]\u001b[0m Trial 71 finished with value: 0.98 and parameters: {'classifier': 'LogisticRegression', 'lr_c': 52.533680807626695}. Best is trial 13 with value: 0.98.\u001b[0m\n",
      "\u001b[32m[I 2021-04-05 20:39:22,303]\u001b[0m Trial 72 finished with value: 0.9733333333333333 and parameters: {'classifier': 'LogisticRegression', 'lr_c': 9.7898076976374}. Best is trial 13 with value: 0.98.\u001b[0m\n",
      "\u001b[32m[I 2021-04-05 20:39:22,375]\u001b[0m Trial 73 finished with value: 0.96 and parameters: {'classifier': 'LogisticRegression', 'lr_c': 0.2622060257044719}. Best is trial 13 with value: 0.98.\u001b[0m\n",
      "\u001b[32m[I 2021-04-05 20:39:22,454]\u001b[0m Trial 74 finished with value: 0.98 and parameters: {'classifier': 'LogisticRegression', 'lr_c': 3.5950379645318664}. Best is trial 13 with value: 0.98.\u001b[0m\n",
      "\u001b[32m[I 2021-04-05 20:39:22,478]\u001b[0m Trial 75 finished with value: 0.96 and parameters: {'classifier': 'DecisionTree', 'dt_max_depth': 42}. Best is trial 13 with value: 0.98.\u001b[0m\n",
      "\u001b[32m[I 2021-04-05 20:39:22,515]\u001b[0m Trial 76 finished with value: 0.32 and parameters: {'classifier': 'LogisticRegression', 'lr_c': 4.056761092392274e-09}. Best is trial 13 with value: 0.98.\u001b[0m\n",
      "\u001b[32m[I 2021-04-05 20:39:22,599]\u001b[0m Trial 77 finished with value: 0.9733333333333333 and parameters: {'classifier': 'LogisticRegression', 'lr_c': 643.6902341497795}. Best is trial 13 with value: 0.98.\u001b[0m\n",
      "\u001b[32m[I 2021-04-05 20:39:22,700]\u001b[0m Trial 78 finished with value: 0.98 and parameters: {'classifier': 'LogisticRegression', 'lr_c': 11.032128080795875}. Best is trial 13 with value: 0.98.\u001b[0m\n",
      "\u001b[32m[I 2021-04-05 20:39:22,794]\u001b[0m Trial 79 finished with value: 0.98 and parameters: {'classifier': 'LogisticRegression', 'lr_c': 166.2366169293131}. Best is trial 13 with value: 0.98.\u001b[0m\n",
      "\u001b[32m[I 2021-04-05 20:39:22,873]\u001b[0m Trial 80 finished with value: 0.9733333333333333 and parameters: {'classifier': 'LogisticRegression', 'lr_c': 569570.4434690733}. Best is trial 13 with value: 0.98.\u001b[0m\n"
     ]
    },
    {
     "name": "stderr",
     "output_type": "stream",
     "text": [
      "\u001b[32m[I 2021-04-05 20:39:22,972]\u001b[0m Trial 81 finished with value: 0.98 and parameters: {'classifier': 'LogisticRegression', 'lr_c': 91.36654032357967}. Best is trial 13 with value: 0.98.\u001b[0m\n",
      "\u001b[32m[I 2021-04-05 20:39:23,062]\u001b[0m Trial 82 finished with value: 0.9733333333333333 and parameters: {'classifier': 'LogisticRegression', 'lr_c': 1.819468112940401}. Best is trial 13 with value: 0.98.\u001b[0m\n",
      "\u001b[32m[I 2021-04-05 20:39:23,158]\u001b[0m Trial 83 finished with value: 0.9733333333333333 and parameters: {'classifier': 'LogisticRegression', 'lr_c': 5325.293560877057}. Best is trial 13 with value: 0.98.\u001b[0m\n",
      "\u001b[32m[I 2021-04-05 20:39:23,253]\u001b[0m Trial 84 finished with value: 0.98 and parameters: {'classifier': 'LogisticRegression', 'lr_c': 4.012764168769587}. Best is trial 13 with value: 0.98.\u001b[0m\n",
      "\u001b[32m[I 2021-04-05 20:39:23,332]\u001b[0m Trial 85 finished with value: 0.98 and parameters: {'classifier': 'LogisticRegression', 'lr_c': 15.286991414702026}. Best is trial 13 with value: 0.98.\u001b[0m\n",
      "\u001b[32m[I 2021-04-05 20:39:23,366]\u001b[0m Trial 86 finished with value: 0.9666666666666667 and parameters: {'classifier': 'RandomForest', 'rf_max_depth': 11, 'dt_max_depth': 27}. Best is trial 13 with value: 0.98.\u001b[0m\n",
      "\u001b[32m[I 2021-04-05 20:39:23,491]\u001b[0m Trial 87 finished with value: 0.9733333333333333 and parameters: {'classifier': 'LogisticRegression', 'lr_c': 51.36855268273868}. Best is trial 13 with value: 0.98.\u001b[0m\n",
      "\u001b[32m[I 2021-04-05 20:39:23,552]\u001b[0m Trial 88 finished with value: 0.9733333333333333 and parameters: {'classifier': 'LogisticRegression', 'lr_c': 8710664570.994576}. Best is trial 13 with value: 0.98.\u001b[0m\n",
      "\u001b[32m[I 2021-04-05 20:39:23,637]\u001b[0m Trial 89 finished with value: 0.96 and parameters: {'classifier': 'LogisticRegression', 'lr_c': 0.3584024401241715}. Best is trial 13 with value: 0.98.\u001b[0m\n",
      "\u001b[32m[I 2021-04-05 20:39:23,754]\u001b[0m Trial 90 finished with value: 0.98 and parameters: {'classifier': 'LogisticRegression', 'lr_c': 35.955894803689}. Best is trial 13 with value: 0.98.\u001b[0m\n",
      "\u001b[32m[I 2021-04-05 20:39:23,861]\u001b[0m Trial 91 finished with value: 0.98 and parameters: {'classifier': 'LogisticRegression', 'lr_c': 40.16380684924993}. Best is trial 13 with value: 0.98.\u001b[0m\n",
      "\u001b[32m[I 2021-04-05 20:39:23,976]\u001b[0m Trial 92 finished with value: 0.9733333333333333 and parameters: {'classifier': 'LogisticRegression', 'lr_c': 679.6811660197067}. Best is trial 13 with value: 0.98.\u001b[0m\n",
      "\u001b[32m[I 2021-04-05 20:39:24,101]\u001b[0m Trial 93 finished with value: 0.9733333333333333 and parameters: {'classifier': 'LogisticRegression', 'lr_c': 190.68951701030716}. Best is trial 13 with value: 0.98.\u001b[0m\n",
      "\u001b[32m[I 2021-04-05 20:39:24,208]\u001b[0m Trial 94 finished with value: 0.9733333333333333 and parameters: {'classifier': 'LogisticRegression', 'lr_c': 1.9862192055767947}. Best is trial 13 with value: 0.98.\u001b[0m\n",
      "\u001b[32m[I 2021-04-05 20:39:24,235]\u001b[0m Trial 95 finished with value: 0.9666666666666667 and parameters: {'classifier': 'DecisionTree', 'dt_max_depth': 15}. Best is trial 13 with value: 0.98.\u001b[0m\n",
      "\u001b[32m[I 2021-04-05 20:39:24,333]\u001b[0m Trial 96 finished with value: 0.98 and parameters: {'classifier': 'LogisticRegression', 'lr_c': 16.880453501585887}. Best is trial 13 with value: 0.98.\u001b[0m\n",
      "\u001b[32m[I 2021-04-05 20:39:24,439]\u001b[0m Trial 97 finished with value: 0.98 and parameters: {'classifier': 'LogisticRegression', 'lr_c': 3.6010429705955596}. Best is trial 13 with value: 0.98.\u001b[0m\n",
      "\u001b[32m[I 2021-04-05 20:39:24,541]\u001b[0m Trial 98 finished with value: 0.9733333333333333 and parameters: {'classifier': 'LogisticRegression', 'lr_c': 164.02302692128268}. Best is trial 13 with value: 0.98.\u001b[0m\n",
      "\u001b[32m[I 2021-04-05 20:39:24,593]\u001b[0m Trial 99 finished with value: 0.88 and parameters: {'classifier': 'LogisticRegression', 'lr_c': 0.020868879645174393}. Best is trial 13 with value: 0.98.\u001b[0m\n"
     ]
    },
    {
     "name": "stdout",
     "output_type": "stream",
     "text": [
      "FrozenTrial(number=13, values=[0.98], datetime_start=datetime.datetime(2021, 4, 5, 20, 39, 17, 624709), datetime_complete=datetime.datetime(2021, 4, 5, 20, 39, 17, 705331), params={'classifier': 'LogisticRegression', 'lr_c': 3.580007684149738}, distributions={'classifier': CategoricalDistribution(choices=('RandomForest', 'LogisticRegression', 'DecisionTree')), 'lr_c': LogUniformDistribution(high=10000000000.0, low=1e-10)}, user_attrs={}, system_attrs={}, intermediate_values={}, trial_id=13, state=TrialState.COMPLETE, value=None)\n"
     ]
    }
   ],
   "source": [
    "import sklearn.datasets\n",
    "import sklearn.ensemble\n",
    "import sklearn.model_selection\n",
    "\n",
    "\n",
    "def objective(trial):\n",
    "    iris = sklearn.datasets.load_iris()\n",
    "    x, y = iris.data, iris.target\n",
    "\n",
    "    classifier_name = trial.suggest_categorical(\"classifier\", [\"RandomForest\",\"LogisticRegression\",\"DecisionTree\"])\n",
    "    \n",
    "    # Random Forest Classifier: try to change n_estimators, max_depth, min_samples_leaf. \n",
    "    if classifier_name == \"RandomForest\":\n",
    "    \n",
    "        rf_max_depth = trial.suggest_int(\"rf_max_depth\", 2, 32, log=True)\n",
    "        classifier_obj = sklearn.ensemble.RandomForestClassifier( max_depth = rf_max_depth, n_estimators = 10 )\n",
    "            \n",
    "    #Logistic Regression: try to change C and penalty.\n",
    "    if classifier_name == \"LogisticRegression\": \n",
    "        \n",
    "        lr_c = trial.suggest_float(\"lr_c\", 1e-10, 1e10, log = True)\n",
    "        classifier_obj = LogisticRegression(C = lr_c)\n",
    "        \n",
    "    #Decision Tree\n",
    "    else:\n",
    "        dt_max_depth = trial.suggest_int(\"dt_max_depth\", 2, 42)\n",
    "        classifier_obj = sklearn.tree.DecisionTreeClassifier( max_depth = dt_max_depth)\n",
    "        \n",
    "    # optuna use cross validation    \n",
    "    score = sklearn.model_selection.cross_val_score(classifier_obj, x, y, n_jobs = -1, cv = 3)\n",
    "    accuracy = score.mean()\n",
    "    return accuracy\n",
    "\n",
    "\n",
    "if __name__ == \"__main__\":\n",
    "    study = optuna.create_study(direction=\"maximize\")\n",
    "    study.optimize(objective, n_trials = 100)\n",
    "    print(study.best_trial)"
   ]
  },
  {
   "cell_type": "code",
   "execution_count": 20,
   "metadata": {},
   "outputs": [
    {
     "name": "stdout",
     "output_type": "stream",
     "text": [
      "The best trial is : \n",
      "FrozenTrial(number=13, values=[0.98], datetime_start=datetime.datetime(2021, 4, 5, 20, 39, 17, 624709), datetime_complete=datetime.datetime(2021, 4, 5, 20, 39, 17, 705331), params={'classifier': 'LogisticRegression', 'lr_c': 3.580007684149738}, distributions={'classifier': CategoricalDistribution(choices=('RandomForest', 'LogisticRegression', 'DecisionTree')), 'lr_c': LogUniformDistribution(high=10000000000.0, low=1e-10)}, user_attrs={}, system_attrs={}, intermediate_values={}, trial_id=13, state=TrialState.COMPLETE, value=None)\n"
     ]
    }
   ],
   "source": [
    "print(f\"The best trial is : \\n{study.best_trial}\")"
   ]
  },
  {
   "cell_type": "code",
   "execution_count": 21,
   "metadata": {},
   "outputs": [
    {
     "name": "stdout",
     "output_type": "stream",
     "text": [
      "The best value is : 0.98\n"
     ]
    }
   ],
   "source": [
    "print(f\"The best value is : {study.best_value}\")"
   ]
  },
  {
   "cell_type": "code",
   "execution_count": 22,
   "metadata": {},
   "outputs": [
    {
     "name": "stdout",
     "output_type": "stream",
     "text": [
      "The best parameters are : \n",
      "{'classifier': 'LogisticRegression', 'lr_c': 3.580007684149738}\n"
     ]
    }
   ],
   "source": [
    "print(f\"The best parameters are : \\n{study.best_params}\")"
   ]
  },
  {
   "cell_type": "markdown",
   "metadata": {},
   "source": [
    "# ʕ•́ᴥ•̀ʔっ  QUESTION & ANSWER  ʕ•́ᴥ•̀ʔっ"
   ]
  },
  {
   "cell_type": "markdown",
   "metadata": {},
   "source": [
    "### 1. Why do you choose these features? Any preprocessing techniques you apply? If so, why?"
   ]
  },
  {
   "cell_type": "markdown",
   "metadata": {},
   "source": [
    "I choose {'label','sex','num5','ord1','ord2','ord3','ord4','ord5','ord6'} to be my features because they are all categorical data that can use and most effective with a 'target'. I apply preprocessing technique by convert all variable in 'sex' column to become a same type of data (F,M --> 0,1).\n"
   ]
  },
  {
   "cell_type": "markdown",
   "metadata": {},
   "source": [
    "### 2. Which approach do you choose to evaluate your model: (1) Train/Valid/Test split or (2) cross-validation?Why?"
   ]
  },
  {
   "cell_type": "markdown",
   "metadata": {},
   "source": [
    "I choose Train/Valid/Test split to evaluate my model because it is easy for me to understand, set up both train and test section."
   ]
  },
  {
   "cell_type": "markdown",
   "metadata": {},
   "source": [
    "###  3. Why do you choose this model (e.g., decision tree, logistic regression, etc.)? How do you come up with the hyperparameters for the model (e.g., tree depth, etc.)?"
   ]
  },
  {
   "cell_type": "markdown",
   "metadata": {},
   "source": [
    "I choose 'Logistic Regression' Model because I use 'OPTUNA' to evaluate all 3 models and print out the best model because when I directly print out an accuracy. Both Random Forest Classifier and Logistic Regression give a very similar accuracy. So, I need to use a tools to help me on evaluate that is 'OPTUNA'.   \n",
    "\n",
    "For their hyperparameters for each model I read from a source from an internet that which parameters can be change and I try to play with them.\n"
   ]
  },
  {
   "cell_type": "markdown",
   "metadata": {},
   "source": [
    "### 4. What are the performance metrics that you use to evaluate your model? Why?"
   ]
  },
  {
   "cell_type": "markdown",
   "metadata": {},
   "source": [
    "I use it's accuracy to evaluate a model because it gives us an accurate values to compare each model easily."
   ]
  }
 ],
 "metadata": {
  "kernelspec": {
   "display_name": "Python 3",
   "language": "python",
   "name": "python3"
  },
  "language_info": {
   "codemirror_mode": {
    "name": "ipython",
    "version": 3
   },
   "file_extension": ".py",
   "mimetype": "text/x-python",
   "name": "python",
   "nbconvert_exporter": "python",
   "pygments_lexer": "ipython3",
   "version": "3.8.3"
  }
 },
 "nbformat": 4,
 "nbformat_minor": 4
}
