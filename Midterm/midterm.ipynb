{
 "cells": [
  {
   "cell_type": "markdown",
   "metadata": {},
   "source": [
    "# 6188025 Alisa Uthikamporn\n",
    "# 6188089 Nattawipa Saetae\n",
    "# 6188147 Soksedtha Ly"
   ]
  },
  {
   "cell_type": "code",
   "execution_count": 1,
   "metadata": {},
   "outputs": [],
   "source": [
    "# Import libraries\n",
    "import pandas as pd\n",
    "import numpy as np\n",
    "import matplotlib.pyplot as plt\n",
    "%matplotlib inline\n",
    "import seaborn as sns"
   ]
  },
  {
   "cell_type": "markdown",
   "metadata": {},
   "source": [
    "## 1. Data Preparation"
   ]
  },
  {
   "cell_type": "code",
   "execution_count": 2,
   "metadata": {},
   "outputs": [
    {
     "data": {
      "text/html": [
       "<div>\n",
       "<style scoped>\n",
       "    .dataframe tbody tr th:only-of-type {\n",
       "        vertical-align: middle;\n",
       "    }\n",
       "\n",
       "    .dataframe tbody tr th {\n",
       "        vertical-align: top;\n",
       "    }\n",
       "\n",
       "    .dataframe thead th {\n",
       "        text-align: right;\n",
       "    }\n",
       "</style>\n",
       "<table border=\"1\" class=\"dataframe\">\n",
       "  <thead>\n",
       "    <tr style=\"text-align: right;\">\n",
       "      <th></th>\n",
       "      <th>sub_category</th>\n",
       "      <th>category</th>\n",
       "      <th>deadline</th>\n",
       "      <th>launched</th>\n",
       "      <th>backers</th>\n",
       "      <th>country</th>\n",
       "      <th>pledged</th>\n",
       "      <th>goal</th>\n",
       "      <th>target</th>\n",
       "    </tr>\n",
       "  </thead>\n",
       "  <tbody>\n",
       "    <tr>\n",
       "      <th>0</th>\n",
       "      <td>Fashion</td>\n",
       "      <td>Fashion</td>\n",
       "      <td>2016-05-25 00:00:00</td>\n",
       "      <td>2016-04-25 16:09:19</td>\n",
       "      <td>1</td>\n",
       "      <td>SE</td>\n",
       "      <td>0.60</td>\n",
       "      <td>2410.19</td>\n",
       "      <td>failed</td>\n",
       "    </tr>\n",
       "    <tr>\n",
       "      <th>1</th>\n",
       "      <td>Interactive Design</td>\n",
       "      <td>Design</td>\n",
       "      <td>2014-09-27 00:00:00</td>\n",
       "      <td>2014-08-28 05:19:04</td>\n",
       "      <td>3</td>\n",
       "      <td>AU</td>\n",
       "      <td>70.02</td>\n",
       "      <td>8751.97</td>\n",
       "      <td>failed</td>\n",
       "    </tr>\n",
       "    <tr>\n",
       "      <th>2</th>\n",
       "      <td>Musical</td>\n",
       "      <td>Theater</td>\n",
       "      <td>2015-07-12 00:00:00</td>\n",
       "      <td>2015-05-13 09:04:55</td>\n",
       "      <td>7</td>\n",
       "      <td>AU</td>\n",
       "      <td>251.65</td>\n",
       "      <td>5551.03</td>\n",
       "      <td>canceled</td>\n",
       "    </tr>\n",
       "    <tr>\n",
       "      <th>3</th>\n",
       "      <td>Children's Books</td>\n",
       "      <td>Publishing</td>\n",
       "      <td>2016-03-21 00:00:00</td>\n",
       "      <td>2016-02-20 23:45:40</td>\n",
       "      <td>0</td>\n",
       "      <td>US</td>\n",
       "      <td>0.00</td>\n",
       "      <td>10000.00</td>\n",
       "      <td>canceled</td>\n",
       "    </tr>\n",
       "    <tr>\n",
       "      <th>4</th>\n",
       "      <td>Fashion</td>\n",
       "      <td>Fashion</td>\n",
       "      <td>2016-01-09 00:00:00</td>\n",
       "      <td>2015-12-02 11:24:16</td>\n",
       "      <td>131</td>\n",
       "      <td>US</td>\n",
       "      <td>21231.00</td>\n",
       "      <td>20000.00</td>\n",
       "      <td>successful</td>\n",
       "    </tr>\n",
       "  </tbody>\n",
       "</table>\n",
       "</div>"
      ],
      "text/plain": [
       "         sub_category    category             deadline             launched  \\\n",
       "0             Fashion     Fashion  2016-05-25 00:00:00  2016-04-25 16:09:19   \n",
       "1  Interactive Design      Design  2014-09-27 00:00:00  2014-08-28 05:19:04   \n",
       "2             Musical     Theater  2015-07-12 00:00:00  2015-05-13 09:04:55   \n",
       "3    Children's Books  Publishing  2016-03-21 00:00:00  2016-02-20 23:45:40   \n",
       "4             Fashion     Fashion  2016-01-09 00:00:00  2015-12-02 11:24:16   \n",
       "\n",
       "   backers country   pledged      goal      target  \n",
       "0        1      SE      0.60   2410.19      failed  \n",
       "1        3      AU     70.02   8751.97      failed  \n",
       "2        7      AU    251.65   5551.03    canceled  \n",
       "3        0      US      0.00  10000.00    canceled  \n",
       "4      131      US  21231.00  20000.00  successful  "
      ]
     },
     "execution_count": 2,
     "metadata": {},
     "output_type": "execute_result"
    }
   ],
   "source": [
    "# Read csv file\n",
    "df = pd.read_csv('startup-train.csv')\n",
    "df.head()"
   ]
  },
  {
   "cell_type": "code",
   "execution_count": 3,
   "metadata": {},
   "outputs": [
    {
     "data": {
      "text/html": [
       "<div>\n",
       "<style scoped>\n",
       "    .dataframe tbody tr th:only-of-type {\n",
       "        vertical-align: middle;\n",
       "    }\n",
       "\n",
       "    .dataframe tbody tr th {\n",
       "        vertical-align: top;\n",
       "    }\n",
       "\n",
       "    .dataframe thead th {\n",
       "        text-align: right;\n",
       "    }\n",
       "</style>\n",
       "<table border=\"1\" class=\"dataframe\">\n",
       "  <thead>\n",
       "    <tr style=\"text-align: right;\">\n",
       "      <th></th>\n",
       "      <th>backers</th>\n",
       "      <th>pledged</th>\n",
       "      <th>goal</th>\n",
       "    </tr>\n",
       "  </thead>\n",
       "  <tbody>\n",
       "    <tr>\n",
       "      <th>count</th>\n",
       "      <td>297840.000000</td>\n",
       "      <td>2.978400e+05</td>\n",
       "      <td>2.978400e+05</td>\n",
       "    </tr>\n",
       "    <tr>\n",
       "      <th>mean</th>\n",
       "      <td>107.948660</td>\n",
       "      <td>9.278561e+03</td>\n",
       "      <td>4.555210e+04</td>\n",
       "    </tr>\n",
       "    <tr>\n",
       "      <th>std</th>\n",
       "      <td>953.618936</td>\n",
       "      <td>9.642201e+04</td>\n",
       "      <td>1.131919e+06</td>\n",
       "    </tr>\n",
       "    <tr>\n",
       "      <th>min</th>\n",
       "      <td>0.000000</td>\n",
       "      <td>0.000000e+00</td>\n",
       "      <td>1.000000e-02</td>\n",
       "    </tr>\n",
       "    <tr>\n",
       "      <th>25%</th>\n",
       "      <td>2.000000</td>\n",
       "      <td>3.148000e+01</td>\n",
       "      <td>2.000000e+03</td>\n",
       "    </tr>\n",
       "    <tr>\n",
       "      <th>50%</th>\n",
       "      <td>12.000000</td>\n",
       "      <td>6.275100e+02</td>\n",
       "      <td>5.500000e+03</td>\n",
       "    </tr>\n",
       "    <tr>\n",
       "      <th>75%</th>\n",
       "      <td>57.000000</td>\n",
       "      <td>4.066000e+03</td>\n",
       "      <td>1.600000e+04</td>\n",
       "    </tr>\n",
       "    <tr>\n",
       "      <th>max</th>\n",
       "      <td>219382.000000</td>\n",
       "      <td>2.033899e+07</td>\n",
       "      <td>1.663614e+08</td>\n",
       "    </tr>\n",
       "  </tbody>\n",
       "</table>\n",
       "</div>"
      ],
      "text/plain": [
       "             backers       pledged          goal\n",
       "count  297840.000000  2.978400e+05  2.978400e+05\n",
       "mean      107.948660  9.278561e+03  4.555210e+04\n",
       "std       953.618936  9.642201e+04  1.131919e+06\n",
       "min         0.000000  0.000000e+00  1.000000e-02\n",
       "25%         2.000000  3.148000e+01  2.000000e+03\n",
       "50%        12.000000  6.275100e+02  5.500000e+03\n",
       "75%        57.000000  4.066000e+03  1.600000e+04\n",
       "max    219382.000000  2.033899e+07  1.663614e+08"
      ]
     },
     "execution_count": 3,
     "metadata": {},
     "output_type": "execute_result"
    }
   ],
   "source": [
    "df.describe()"
   ]
  },
  {
   "cell_type": "code",
   "execution_count": 4,
   "metadata": {},
   "outputs": [
    {
     "data": {
      "text/plain": [
       "sub_category    0\n",
       "category        0\n",
       "deadline        0\n",
       "launched        0\n",
       "backers         0\n",
       "country         0\n",
       "pledged         0\n",
       "goal            0\n",
       "target          0\n",
       "dtype: int64"
      ]
     },
     "execution_count": 4,
     "metadata": {},
     "output_type": "execute_result"
    }
   ],
   "source": [
    "# Find missing values\n",
    "df.isnull().sum()"
   ]
  },
  {
   "cell_type": "code",
   "execution_count": 5,
   "metadata": {},
   "outputs": [
    {
     "data": {
      "text/plain": [
       "sub_category     object\n",
       "category         object\n",
       "deadline         object\n",
       "launched         object\n",
       "backers           int64\n",
       "country          object\n",
       "pledged         float64\n",
       "goal            float64\n",
       "target           object\n",
       "dtype: object"
      ]
     },
     "execution_count": 5,
     "metadata": {},
     "output_type": "execute_result"
    }
   ],
   "source": [
    "df.dtypes"
   ]
  },
  {
   "cell_type": "code",
   "execution_count": 6,
   "metadata": {},
   "outputs": [
    {
     "data": {
      "text/plain": [
       "159"
      ]
     },
     "execution_count": 6,
     "metadata": {},
     "output_type": "execute_result"
    }
   ],
   "source": [
    "df['sub_category'].nunique()"
   ]
  },
  {
   "cell_type": "code",
   "execution_count": 7,
   "metadata": {},
   "outputs": [
    {
     "data": {
      "text/plain": [
       "15"
      ]
     },
     "execution_count": 7,
     "metadata": {},
     "output_type": "execute_result"
    }
   ],
   "source": [
    "df['category'].nunique()"
   ]
  },
  {
   "cell_type": "markdown",
   "metadata": {},
   "source": [
    "Since there are quite many categories and sub categories, we cannot manually encode the labels. As a result, we will use \"LabelEncoder\" to encode these features."
   ]
  },
  {
   "cell_type": "code",
   "execution_count": 8,
   "metadata": {},
   "outputs": [
    {
     "data": {
      "text/html": [
       "<div>\n",
       "<style scoped>\n",
       "    .dataframe tbody tr th:only-of-type {\n",
       "        vertical-align: middle;\n",
       "    }\n",
       "\n",
       "    .dataframe tbody tr th {\n",
       "        vertical-align: top;\n",
       "    }\n",
       "\n",
       "    .dataframe thead th {\n",
       "        text-align: right;\n",
       "    }\n",
       "</style>\n",
       "<table border=\"1\" class=\"dataframe\">\n",
       "  <thead>\n",
       "    <tr style=\"text-align: right;\">\n",
       "      <th></th>\n",
       "      <th>sub_category</th>\n",
       "      <th>category</th>\n",
       "      <th>deadline</th>\n",
       "      <th>launched</th>\n",
       "      <th>backers</th>\n",
       "      <th>country</th>\n",
       "      <th>pledged</th>\n",
       "      <th>goal</th>\n",
       "      <th>target</th>\n",
       "      <th>sub_cat_code</th>\n",
       "      <th>cat_code</th>\n",
       "      <th>country_code</th>\n",
       "    </tr>\n",
       "  </thead>\n",
       "  <tbody>\n",
       "    <tr>\n",
       "      <th>0</th>\n",
       "      <td>Fashion</td>\n",
       "      <td>Fashion</td>\n",
       "      <td>2016-05-25 00:00:00</td>\n",
       "      <td>2016-04-25 16:09:19</td>\n",
       "      <td>1</td>\n",
       "      <td>SE</td>\n",
       "      <td>0.60</td>\n",
       "      <td>2410.19</td>\n",
       "      <td>failed</td>\n",
       "      <td>52</td>\n",
       "      <td>5</td>\n",
       "      <td>20</td>\n",
       "    </tr>\n",
       "    <tr>\n",
       "      <th>1</th>\n",
       "      <td>Interactive Design</td>\n",
       "      <td>Design</td>\n",
       "      <td>2014-09-27 00:00:00</td>\n",
       "      <td>2014-08-28 05:19:04</td>\n",
       "      <td>3</td>\n",
       "      <td>AU</td>\n",
       "      <td>70.02</td>\n",
       "      <td>8751.97</td>\n",
       "      <td>failed</td>\n",
       "      <td>74</td>\n",
       "      <td>4</td>\n",
       "      <td>1</td>\n",
       "    </tr>\n",
       "    <tr>\n",
       "      <th>2</th>\n",
       "      <td>Musical</td>\n",
       "      <td>Theater</td>\n",
       "      <td>2015-07-12 00:00:00</td>\n",
       "      <td>2015-05-13 09:04:55</td>\n",
       "      <td>7</td>\n",
       "      <td>AU</td>\n",
       "      <td>251.65</td>\n",
       "      <td>5551.03</td>\n",
       "      <td>canceled</td>\n",
       "      <td>92</td>\n",
       "      <td>14</td>\n",
       "      <td>1</td>\n",
       "    </tr>\n",
       "    <tr>\n",
       "      <th>3</th>\n",
       "      <td>Children's Books</td>\n",
       "      <td>Publishing</td>\n",
       "      <td>2016-03-21 00:00:00</td>\n",
       "      <td>2016-02-20 23:45:40</td>\n",
       "      <td>0</td>\n",
       "      <td>US</td>\n",
       "      <td>0.00</td>\n",
       "      <td>10000.00</td>\n",
       "      <td>canceled</td>\n",
       "      <td>19</td>\n",
       "      <td>12</td>\n",
       "      <td>22</td>\n",
       "    </tr>\n",
       "    <tr>\n",
       "      <th>4</th>\n",
       "      <td>Fashion</td>\n",
       "      <td>Fashion</td>\n",
       "      <td>2016-01-09 00:00:00</td>\n",
       "      <td>2015-12-02 11:24:16</td>\n",
       "      <td>131</td>\n",
       "      <td>US</td>\n",
       "      <td>21231.00</td>\n",
       "      <td>20000.00</td>\n",
       "      <td>successful</td>\n",
       "      <td>52</td>\n",
       "      <td>5</td>\n",
       "      <td>22</td>\n",
       "    </tr>\n",
       "  </tbody>\n",
       "</table>\n",
       "</div>"
      ],
      "text/plain": [
       "         sub_category    category             deadline             launched  \\\n",
       "0             Fashion     Fashion  2016-05-25 00:00:00  2016-04-25 16:09:19   \n",
       "1  Interactive Design      Design  2014-09-27 00:00:00  2014-08-28 05:19:04   \n",
       "2             Musical     Theater  2015-07-12 00:00:00  2015-05-13 09:04:55   \n",
       "3    Children's Books  Publishing  2016-03-21 00:00:00  2016-02-20 23:45:40   \n",
       "4             Fashion     Fashion  2016-01-09 00:00:00  2015-12-02 11:24:16   \n",
       "\n",
       "   backers country   pledged      goal      target  sub_cat_code  cat_code  \\\n",
       "0        1      SE      0.60   2410.19      failed            52         5   \n",
       "1        3      AU     70.02   8751.97      failed            74         4   \n",
       "2        7      AU    251.65   5551.03    canceled            92        14   \n",
       "3        0      US      0.00  10000.00    canceled            19        12   \n",
       "4      131      US  21231.00  20000.00  successful            52         5   \n",
       "\n",
       "   country_code  \n",
       "0            20  \n",
       "1             1  \n",
       "2             1  \n",
       "3            22  \n",
       "4            22  "
      ]
     },
     "execution_count": 8,
     "metadata": {},
     "output_type": "execute_result"
    }
   ],
   "source": [
    "from sklearn.preprocessing import LabelEncoder\n",
    "lb_make = LabelEncoder()\n",
    "df['sub_cat_code'] = lb_make.fit_transform(df['sub_category'])\n",
    "df['cat_code'] = lb_make.fit_transform(df['category'])\n",
    "df['country_code'] = lb_make.fit_transform(df['country'])\n",
    "df.head()"
   ]
  },
  {
   "cell_type": "code",
   "execution_count": 9,
   "metadata": {},
   "outputs": [
    {
     "data": {
      "text/html": [
       "<div>\n",
       "<style scoped>\n",
       "    .dataframe tbody tr th:only-of-type {\n",
       "        vertical-align: middle;\n",
       "    }\n",
       "\n",
       "    .dataframe tbody tr th {\n",
       "        vertical-align: top;\n",
       "    }\n",
       "\n",
       "    .dataframe thead th {\n",
       "        text-align: right;\n",
       "    }\n",
       "</style>\n",
       "<table border=\"1\" class=\"dataframe\">\n",
       "  <thead>\n",
       "    <tr style=\"text-align: right;\">\n",
       "      <th></th>\n",
       "      <th>sub_category</th>\n",
       "      <th>category</th>\n",
       "      <th>deadline</th>\n",
       "      <th>launched</th>\n",
       "      <th>backers</th>\n",
       "      <th>country</th>\n",
       "      <th>pledged</th>\n",
       "      <th>goal</th>\n",
       "      <th>target</th>\n",
       "      <th>sub_cat_code</th>\n",
       "      <th>cat_code</th>\n",
       "      <th>country_code</th>\n",
       "    </tr>\n",
       "  </thead>\n",
       "  <tbody>\n",
       "    <tr>\n",
       "      <th>0</th>\n",
       "      <td>Fashion</td>\n",
       "      <td>Fashion</td>\n",
       "      <td>2016-05-25 00:00:00</td>\n",
       "      <td>2016-04-25 16:09:19</td>\n",
       "      <td>1</td>\n",
       "      <td>SE</td>\n",
       "      <td>0.60</td>\n",
       "      <td>2410.19</td>\n",
       "      <td>1</td>\n",
       "      <td>52</td>\n",
       "      <td>5</td>\n",
       "      <td>20</td>\n",
       "    </tr>\n",
       "    <tr>\n",
       "      <th>1</th>\n",
       "      <td>Interactive Design</td>\n",
       "      <td>Design</td>\n",
       "      <td>2014-09-27 00:00:00</td>\n",
       "      <td>2014-08-28 05:19:04</td>\n",
       "      <td>3</td>\n",
       "      <td>AU</td>\n",
       "      <td>70.02</td>\n",
       "      <td>8751.97</td>\n",
       "      <td>1</td>\n",
       "      <td>74</td>\n",
       "      <td>4</td>\n",
       "      <td>1</td>\n",
       "    </tr>\n",
       "    <tr>\n",
       "      <th>2</th>\n",
       "      <td>Musical</td>\n",
       "      <td>Theater</td>\n",
       "      <td>2015-07-12 00:00:00</td>\n",
       "      <td>2015-05-13 09:04:55</td>\n",
       "      <td>7</td>\n",
       "      <td>AU</td>\n",
       "      <td>251.65</td>\n",
       "      <td>5551.03</td>\n",
       "      <td>0</td>\n",
       "      <td>92</td>\n",
       "      <td>14</td>\n",
       "      <td>1</td>\n",
       "    </tr>\n",
       "    <tr>\n",
       "      <th>3</th>\n",
       "      <td>Children's Books</td>\n",
       "      <td>Publishing</td>\n",
       "      <td>2016-03-21 00:00:00</td>\n",
       "      <td>2016-02-20 23:45:40</td>\n",
       "      <td>0</td>\n",
       "      <td>US</td>\n",
       "      <td>0.00</td>\n",
       "      <td>10000.00</td>\n",
       "      <td>0</td>\n",
       "      <td>19</td>\n",
       "      <td>12</td>\n",
       "      <td>22</td>\n",
       "    </tr>\n",
       "    <tr>\n",
       "      <th>4</th>\n",
       "      <td>Fashion</td>\n",
       "      <td>Fashion</td>\n",
       "      <td>2016-01-09 00:00:00</td>\n",
       "      <td>2015-12-02 11:24:16</td>\n",
       "      <td>131</td>\n",
       "      <td>US</td>\n",
       "      <td>21231.00</td>\n",
       "      <td>20000.00</td>\n",
       "      <td>3</td>\n",
       "      <td>52</td>\n",
       "      <td>5</td>\n",
       "      <td>22</td>\n",
       "    </tr>\n",
       "  </tbody>\n",
       "</table>\n",
       "</div>"
      ],
      "text/plain": [
       "         sub_category    category             deadline             launched  \\\n",
       "0             Fashion     Fashion  2016-05-25 00:00:00  2016-04-25 16:09:19   \n",
       "1  Interactive Design      Design  2014-09-27 00:00:00  2014-08-28 05:19:04   \n",
       "2             Musical     Theater  2015-07-12 00:00:00  2015-05-13 09:04:55   \n",
       "3    Children's Books  Publishing  2016-03-21 00:00:00  2016-02-20 23:45:40   \n",
       "4             Fashion     Fashion  2016-01-09 00:00:00  2015-12-02 11:24:16   \n",
       "\n",
       "   backers country   pledged      goal  target  sub_cat_code  cat_code  \\\n",
       "0        1      SE      0.60   2410.19       1            52         5   \n",
       "1        3      AU     70.02   8751.97       1            74         4   \n",
       "2        7      AU    251.65   5551.03       0            92        14   \n",
       "3        0      US      0.00  10000.00       0            19        12   \n",
       "4      131      US  21231.00  20000.00       3            52         5   \n",
       "\n",
       "   country_code  \n",
       "0            20  \n",
       "1             1  \n",
       "2             1  \n",
       "3            22  \n",
       "4            22  "
      ]
     },
     "execution_count": 9,
     "metadata": {},
     "output_type": "execute_result"
    }
   ],
   "source": [
    "# Encode 'target' manually\n",
    "df['target'] = df['target'].replace({'canceled': 0})\n",
    "df['target'] = df['target'].replace({'failed': 1})\n",
    "df['target'] = df['target'].replace({'suspended': 2})\n",
    "df['target'] = df['target'].replace({'successful': 3})\n",
    "df.head()"
   ]
  },
  {
   "cell_type": "code",
   "execution_count": 10,
   "metadata": {},
   "outputs": [
    {
     "data": {
      "text/plain": [
       "sub_category            object\n",
       "category                object\n",
       "deadline        datetime64[ns]\n",
       "launched        datetime64[ns]\n",
       "backers                  int64\n",
       "country                 object\n",
       "pledged                float64\n",
       "goal                   float64\n",
       "target                   int64\n",
       "sub_cat_code             int32\n",
       "cat_code                 int32\n",
       "country_code             int32\n",
       "dtype: object"
      ]
     },
     "execution_count": 10,
     "metadata": {},
     "output_type": "execute_result"
    }
   ],
   "source": [
    "# Convert the strings to datetime objects\n",
    "df['deadline'] = pd.to_datetime(df['deadline'])\n",
    "df['launched'] = pd.to_datetime(df['launched'])\n",
    "df.dtypes"
   ]
  },
  {
   "cell_type": "code",
   "execution_count": 11,
   "metadata": {},
   "outputs": [
    {
     "data": {
      "text/html": [
       "<div>\n",
       "<style scoped>\n",
       "    .dataframe tbody tr th:only-of-type {\n",
       "        vertical-align: middle;\n",
       "    }\n",
       "\n",
       "    .dataframe tbody tr th {\n",
       "        vertical-align: top;\n",
       "    }\n",
       "\n",
       "    .dataframe thead th {\n",
       "        text-align: right;\n",
       "    }\n",
       "</style>\n",
       "<table border=\"1\" class=\"dataframe\">\n",
       "  <thead>\n",
       "    <tr style=\"text-align: right;\">\n",
       "      <th></th>\n",
       "      <th>sub_category</th>\n",
       "      <th>category</th>\n",
       "      <th>deadline</th>\n",
       "      <th>launched</th>\n",
       "      <th>backers</th>\n",
       "      <th>country</th>\n",
       "      <th>pledged</th>\n",
       "      <th>goal</th>\n",
       "      <th>target</th>\n",
       "      <th>sub_cat_code</th>\n",
       "      <th>cat_code</th>\n",
       "      <th>country_code</th>\n",
       "    </tr>\n",
       "  </thead>\n",
       "  <tbody>\n",
       "  </tbody>\n",
       "</table>\n",
       "</div>"
      ],
      "text/plain": [
       "Empty DataFrame\n",
       "Columns: [sub_category, category, deadline, launched, backers, country, pledged, goal, target, sub_cat_code, cat_code, country_code]\n",
       "Index: []"
      ]
     },
     "execution_count": 11,
     "metadata": {},
     "output_type": "execute_result"
    }
   ],
   "source": [
    "# Find duplicate rows in the dataset\n",
    "df[df.duplicated(keep=False)==True]"
   ]
  },
  {
   "cell_type": "code",
   "execution_count": 12,
   "metadata": {},
   "outputs": [],
   "source": [
    "# Drop unnecessary columns\n",
    "df = df.drop(columns=['sub_category', 'category',  'country'])\n",
    "\n",
    "# Store year of the launched date into launched_year column\n",
    "df['launched_year'] = df['launched'].dt.year"
   ]
  },
  {
   "cell_type": "code",
   "execution_count": 13,
   "metadata": {},
   "outputs": [
    {
     "data": {
      "text/html": [
       "<div>\n",
       "<style scoped>\n",
       "    .dataframe tbody tr th:only-of-type {\n",
       "        vertical-align: middle;\n",
       "    }\n",
       "\n",
       "    .dataframe tbody tr th {\n",
       "        vertical-align: top;\n",
       "    }\n",
       "\n",
       "    .dataframe thead th {\n",
       "        text-align: right;\n",
       "    }\n",
       "</style>\n",
       "<table border=\"1\" class=\"dataframe\">\n",
       "  <thead>\n",
       "    <tr style=\"text-align: right;\">\n",
       "      <th></th>\n",
       "      <th>deadline</th>\n",
       "      <th>launched</th>\n",
       "      <th>backers</th>\n",
       "      <th>pledged</th>\n",
       "      <th>goal</th>\n",
       "      <th>target</th>\n",
       "      <th>sub_cat_code</th>\n",
       "      <th>cat_code</th>\n",
       "      <th>country_code</th>\n",
       "      <th>launched_year</th>\n",
       "    </tr>\n",
       "  </thead>\n",
       "  <tbody>\n",
       "    <tr>\n",
       "      <th>0</th>\n",
       "      <td>2016-05-25</td>\n",
       "      <td>2016-04-25 16:09:19</td>\n",
       "      <td>1</td>\n",
       "      <td>0.60</td>\n",
       "      <td>2410.19</td>\n",
       "      <td>1</td>\n",
       "      <td>52</td>\n",
       "      <td>5</td>\n",
       "      <td>20</td>\n",
       "      <td>2016</td>\n",
       "    </tr>\n",
       "    <tr>\n",
       "      <th>1</th>\n",
       "      <td>2014-09-27</td>\n",
       "      <td>2014-08-28 05:19:04</td>\n",
       "      <td>3</td>\n",
       "      <td>70.02</td>\n",
       "      <td>8751.97</td>\n",
       "      <td>1</td>\n",
       "      <td>74</td>\n",
       "      <td>4</td>\n",
       "      <td>1</td>\n",
       "      <td>2014</td>\n",
       "    </tr>\n",
       "    <tr>\n",
       "      <th>2</th>\n",
       "      <td>2015-07-12</td>\n",
       "      <td>2015-05-13 09:04:55</td>\n",
       "      <td>7</td>\n",
       "      <td>251.65</td>\n",
       "      <td>5551.03</td>\n",
       "      <td>0</td>\n",
       "      <td>92</td>\n",
       "      <td>14</td>\n",
       "      <td>1</td>\n",
       "      <td>2015</td>\n",
       "    </tr>\n",
       "    <tr>\n",
       "      <th>3</th>\n",
       "      <td>2016-03-21</td>\n",
       "      <td>2016-02-20 23:45:40</td>\n",
       "      <td>0</td>\n",
       "      <td>0.00</td>\n",
       "      <td>10000.00</td>\n",
       "      <td>0</td>\n",
       "      <td>19</td>\n",
       "      <td>12</td>\n",
       "      <td>22</td>\n",
       "      <td>2016</td>\n",
       "    </tr>\n",
       "    <tr>\n",
       "      <th>4</th>\n",
       "      <td>2016-01-09</td>\n",
       "      <td>2015-12-02 11:24:16</td>\n",
       "      <td>131</td>\n",
       "      <td>21231.00</td>\n",
       "      <td>20000.00</td>\n",
       "      <td>3</td>\n",
       "      <td>52</td>\n",
       "      <td>5</td>\n",
       "      <td>22</td>\n",
       "      <td>2015</td>\n",
       "    </tr>\n",
       "  </tbody>\n",
       "</table>\n",
       "</div>"
      ],
      "text/plain": [
       "    deadline            launched  backers   pledged      goal  target  \\\n",
       "0 2016-05-25 2016-04-25 16:09:19        1      0.60   2410.19       1   \n",
       "1 2014-09-27 2014-08-28 05:19:04        3     70.02   8751.97       1   \n",
       "2 2015-07-12 2015-05-13 09:04:55        7    251.65   5551.03       0   \n",
       "3 2016-03-21 2016-02-20 23:45:40        0      0.00  10000.00       0   \n",
       "4 2016-01-09 2015-12-02 11:24:16      131  21231.00  20000.00       3   \n",
       "\n",
       "   sub_cat_code  cat_code  country_code  launched_year  \n",
       "0            52         5            20           2016  \n",
       "1            74         4             1           2014  \n",
       "2            92        14             1           2015  \n",
       "3            19        12            22           2016  \n",
       "4            52         5            22           2015  "
      ]
     },
     "execution_count": 13,
     "metadata": {},
     "output_type": "execute_result"
    }
   ],
   "source": [
    "# morning version \n",
    "# data_df.head()\n",
    "\n",
    "#edit\n",
    "df.head()"
   ]
  },
  {
   "cell_type": "markdown",
   "metadata": {},
   "source": [
    "## 2. Feature Selection"
   ]
  },
  {
   "cell_type": "code",
   "execution_count": 14,
   "metadata": {},
   "outputs": [
    {
     "data": {
      "text/plain": [
       "<matplotlib.axes._subplots.AxesSubplot at 0x2a223c51670>"
      ]
     },
     "execution_count": 14,
     "metadata": {},
     "output_type": "execute_result"
    },
    {
     "data": {
      "image/png": "[encoded data removed]",
      "text/plain": [
       "<Figure size 720x576 with 2 Axes>"
      ]
     },
     "metadata": {
      "needs_background": "light"
     },
     "output_type": "display_data"
    }
   ],
   "source": [
    "# Check the correlation between features in the dataset\n",
    "fi, axis = plt.subplots(figsize=(10, 8))\n",
    "corr = df.corr()\n",
    "sns.heatmap(corr, mask=np.zeros_like(corr, dtype=np.bool), cmap=sns.diverging_palette(200,10,as_cmap=True), \n",
    "           square=True, ax=axis)"
   ]
  },
  {
   "cell_type": "code",
   "execution_count": 15,
   "metadata": {},
   "outputs": [
    {
     "data": {
      "text/html": [
       "<div>\n",
       "<style scoped>\n",
       "    .dataframe tbody tr th:only-of-type {\n",
       "        vertical-align: middle;\n",
       "    }\n",
       "\n",
       "    .dataframe tbody tr th {\n",
       "        vertical-align: top;\n",
       "    }\n",
       "\n",
       "    .dataframe thead th {\n",
       "        text-align: right;\n",
       "    }\n",
       "</style>\n",
       "<table border=\"1\" class=\"dataframe\">\n",
       "  <thead>\n",
       "    <tr style=\"text-align: right;\">\n",
       "      <th></th>\n",
       "      <th>backers</th>\n",
       "      <th>pledged</th>\n",
       "      <th>goal</th>\n",
       "      <th>target</th>\n",
       "      <th>sub_cat_code</th>\n",
       "      <th>cat_code</th>\n",
       "      <th>country_code</th>\n",
       "      <th>launched_year</th>\n",
       "    </tr>\n",
       "  </thead>\n",
       "  <tbody>\n",
       "    <tr>\n",
       "      <th>backers</th>\n",
       "      <td>1.000000</td>\n",
       "      <td>0.747901</td>\n",
       "      <td>0.005031</td>\n",
       "      <td>0.119352</td>\n",
       "      <td>0.040595</td>\n",
       "      <td>0.000672</td>\n",
       "      <td>0.011920</td>\n",
       "      <td>0.017403</td>\n",
       "    </tr>\n",
       "    <tr>\n",
       "      <th>pledged</th>\n",
       "      <td>0.747901</td>\n",
       "      <td>1.000000</td>\n",
       "      <td>0.005913</td>\n",
       "      <td>0.102105</td>\n",
       "      <td>0.029058</td>\n",
       "      <td>0.005733</td>\n",
       "      <td>0.010041</td>\n",
       "      <td>0.022443</td>\n",
       "    </tr>\n",
       "    <tr>\n",
       "      <th>goal</th>\n",
       "      <td>0.005031</td>\n",
       "      <td>0.005913</td>\n",
       "      <td>1.000000</td>\n",
       "      <td>-0.022937</td>\n",
       "      <td>0.002057</td>\n",
       "      <td>0.001798</td>\n",
       "      <td>-0.001258</td>\n",
       "      <td>0.013114</td>\n",
       "    </tr>\n",
       "    <tr>\n",
       "      <th>target</th>\n",
       "      <td>0.119352</td>\n",
       "      <td>0.102105</td>\n",
       "      <td>-0.022937</td>\n",
       "      <td>1.000000</td>\n",
       "      <td>0.011664</td>\n",
       "      <td>-0.030968</td>\n",
       "      <td>0.065655</td>\n",
       "      <td>-0.086781</td>\n",
       "    </tr>\n",
       "    <tr>\n",
       "      <th>sub_cat_code</th>\n",
       "      <td>0.040595</td>\n",
       "      <td>0.029058</td>\n",
       "      <td>0.002057</td>\n",
       "      <td>0.011664</td>\n",
       "      <td>1.000000</td>\n",
       "      <td>0.197787</td>\n",
       "      <td>-0.012775</td>\n",
       "      <td>-0.039183</td>\n",
       "    </tr>\n",
       "    <tr>\n",
       "      <th>cat_code</th>\n",
       "      <td>0.000672</td>\n",
       "      <td>0.005733</td>\n",
       "      <td>0.001798</td>\n",
       "      <td>-0.030968</td>\n",
       "      <td>0.197787</td>\n",
       "      <td>1.000000</td>\n",
       "      <td>-0.012954</td>\n",
       "      <td>-0.015004</td>\n",
       "    </tr>\n",
       "    <tr>\n",
       "      <th>country_code</th>\n",
       "      <td>0.011920</td>\n",
       "      <td>0.010041</td>\n",
       "      <td>-0.001258</td>\n",
       "      <td>0.065655</td>\n",
       "      <td>-0.012775</td>\n",
       "      <td>-0.012954</td>\n",
       "      <td>1.000000</td>\n",
       "      <td>-0.270615</td>\n",
       "    </tr>\n",
       "    <tr>\n",
       "      <th>launched_year</th>\n",
       "      <td>0.017403</td>\n",
       "      <td>0.022443</td>\n",
       "      <td>0.013114</td>\n",
       "      <td>-0.086781</td>\n",
       "      <td>-0.039183</td>\n",
       "      <td>-0.015004</td>\n",
       "      <td>-0.270615</td>\n",
       "      <td>1.000000</td>\n",
       "    </tr>\n",
       "  </tbody>\n",
       "</table>\n",
       "</div>"
      ],
      "text/plain": [
       "                backers   pledged      goal    target  sub_cat_code  cat_code  \\\n",
       "backers        1.000000  0.747901  0.005031  0.119352      0.040595  0.000672   \n",
       "pledged        0.747901  1.000000  0.005913  0.102105      0.029058  0.005733   \n",
       "goal           0.005031  0.005913  1.000000 -0.022937      0.002057  0.001798   \n",
       "target         0.119352  0.102105 -0.022937  1.000000      0.011664 -0.030968   \n",
       "sub_cat_code   0.040595  0.029058  0.002057  0.011664      1.000000  0.197787   \n",
       "cat_code       0.000672  0.005733  0.001798 -0.030968      0.197787  1.000000   \n",
       "country_code   0.011920  0.010041 -0.001258  0.065655     -0.012775 -0.012954   \n",
       "launched_year  0.017403  0.022443  0.013114 -0.086781     -0.039183 -0.015004   \n",
       "\n",
       "               country_code  launched_year  \n",
       "backers            0.011920       0.017403  \n",
       "pledged            0.010041       0.022443  \n",
       "goal              -0.001258       0.013114  \n",
       "target             0.065655      -0.086781  \n",
       "sub_cat_code      -0.012775      -0.039183  \n",
       "cat_code          -0.012954      -0.015004  \n",
       "country_code       1.000000      -0.270615  \n",
       "launched_year     -0.270615       1.000000  "
      ]
     },
     "execution_count": 15,
     "metadata": {},
     "output_type": "execute_result"
    }
   ],
   "source": [
    "corr"
   ]
  },
  {
   "cell_type": "code",
   "execution_count": 16,
   "metadata": {},
   "outputs": [
    {
     "data": {
      "text/plain": [
       "0    -2409.59\n",
       "1    -8681.95\n",
       "2    -5299.38\n",
       "3   -10000.00\n",
       "4     1231.00\n",
       "Name: gp_diff, dtype: float64"
      ]
     },
     "execution_count": 16,
     "metadata": {},
     "output_type": "execute_result"
    }
   ],
   "source": [
    "#add more in part 2\n",
    "diff = df.pledged- df.goal\n",
    "df['gp_diff'] = diff\n",
    "df['gp_diff'].head()"
   ]
  },
  {
   "cell_type": "code",
   "execution_count": 17,
   "metadata": {},
   "outputs": [
    {
     "data": {
      "image/png": "[encoded data removed]",
      "text/plain": [
       "<Figure size 864x576 with 1 Axes>"
      ]
     },
     "metadata": {
      "needs_background": "light"
     },
     "output_type": "display_data"
    }
   ],
   "source": [
    "#add more in part 2\n",
    "plt.subplots(figsize=(12, 8))\n",
    "sns.set(font_scale=1.2)\n",
    "ax = sns.scatterplot(x=\"gp_diff\", y=\"target\", hue='target', data=df)"
   ]
  },
  {
   "cell_type": "code",
   "execution_count": 18,
   "metadata": {},
   "outputs": [
    {
     "data": {
      "text/html": [
       "<div>\n",
       "<style scoped>\n",
       "    .dataframe tbody tr th:only-of-type {\n",
       "        vertical-align: middle;\n",
       "    }\n",
       "\n",
       "    .dataframe tbody tr th {\n",
       "        vertical-align: top;\n",
       "    }\n",
       "\n",
       "    .dataframe thead th {\n",
       "        text-align: right;\n",
       "    }\n",
       "</style>\n",
       "<table border=\"1\" class=\"dataframe\">\n",
       "  <thead>\n",
       "    <tr style=\"text-align: right;\">\n",
       "      <th></th>\n",
       "      <th>deadline</th>\n",
       "      <th>launched</th>\n",
       "      <th>backers</th>\n",
       "      <th>pledged</th>\n",
       "      <th>goal</th>\n",
       "      <th>target</th>\n",
       "      <th>sub_cat_code</th>\n",
       "      <th>cat_code</th>\n",
       "      <th>country_code</th>\n",
       "      <th>launched_year</th>\n",
       "      <th>gp_diff</th>\n",
       "    </tr>\n",
       "  </thead>\n",
       "  <tbody>\n",
       "    <tr>\n",
       "      <th>0</th>\n",
       "      <td>2016-05-25</td>\n",
       "      <td>2016-04-25 16:09:19</td>\n",
       "      <td>1</td>\n",
       "      <td>1</td>\n",
       "      <td>2410</td>\n",
       "      <td>1</td>\n",
       "      <td>52</td>\n",
       "      <td>5</td>\n",
       "      <td>20</td>\n",
       "      <td>2016</td>\n",
       "      <td>-2410</td>\n",
       "    </tr>\n",
       "    <tr>\n",
       "      <th>1</th>\n",
       "      <td>2014-09-27</td>\n",
       "      <td>2014-08-28 05:19:04</td>\n",
       "      <td>3</td>\n",
       "      <td>70</td>\n",
       "      <td>8752</td>\n",
       "      <td>1</td>\n",
       "      <td>74</td>\n",
       "      <td>4</td>\n",
       "      <td>1</td>\n",
       "      <td>2014</td>\n",
       "      <td>-8682</td>\n",
       "    </tr>\n",
       "    <tr>\n",
       "      <th>2</th>\n",
       "      <td>2015-07-12</td>\n",
       "      <td>2015-05-13 09:04:55</td>\n",
       "      <td>7</td>\n",
       "      <td>252</td>\n",
       "      <td>5551</td>\n",
       "      <td>0</td>\n",
       "      <td>92</td>\n",
       "      <td>14</td>\n",
       "      <td>1</td>\n",
       "      <td>2015</td>\n",
       "      <td>-5299</td>\n",
       "    </tr>\n",
       "    <tr>\n",
       "      <th>3</th>\n",
       "      <td>2016-03-21</td>\n",
       "      <td>2016-02-20 23:45:40</td>\n",
       "      <td>0</td>\n",
       "      <td>0</td>\n",
       "      <td>10000</td>\n",
       "      <td>0</td>\n",
       "      <td>19</td>\n",
       "      <td>12</td>\n",
       "      <td>22</td>\n",
       "      <td>2016</td>\n",
       "      <td>-10000</td>\n",
       "    </tr>\n",
       "    <tr>\n",
       "      <th>4</th>\n",
       "      <td>2016-01-09</td>\n",
       "      <td>2015-12-02 11:24:16</td>\n",
       "      <td>131</td>\n",
       "      <td>21231</td>\n",
       "      <td>20000</td>\n",
       "      <td>3</td>\n",
       "      <td>52</td>\n",
       "      <td>5</td>\n",
       "      <td>22</td>\n",
       "      <td>2015</td>\n",
       "      <td>1231</td>\n",
       "    </tr>\n",
       "  </tbody>\n",
       "</table>\n",
       "</div>"
      ],
      "text/plain": [
       "    deadline            launched  backers  pledged   goal  target  \\\n",
       "0 2016-05-25 2016-04-25 16:09:19        1        1   2410       1   \n",
       "1 2014-09-27 2014-08-28 05:19:04        3       70   8752       1   \n",
       "2 2015-07-12 2015-05-13 09:04:55        7      252   5551       0   \n",
       "3 2016-03-21 2016-02-20 23:45:40        0        0  10000       0   \n",
       "4 2016-01-09 2015-12-02 11:24:16      131    21231  20000       3   \n",
       "\n",
       "   sub_cat_code  cat_code  country_code  launched_year  gp_diff  \n",
       "0            52         5            20           2016    -2410  \n",
       "1            74         4             1           2014    -8682  \n",
       "2            92        14             1           2015    -5299  \n",
       "3            19        12            22           2016   -10000  \n",
       "4            52         5            22           2015     1231  "
      ]
     },
     "execution_count": 18,
     "metadata": {},
     "output_type": "execute_result"
    }
   ],
   "source": [
    "# Convert float to int\n",
    "df['pledged'] = df['pledged'].round().astype('int64')\n",
    "df['goal'] = df['goal'].round().astype('int64')\n",
    "df['gp_diff'] = df['gp_diff'].round().astype('int64')\n",
    "\n",
    "\n",
    "df.head()"
   ]
  },
  {
   "cell_type": "markdown",
   "metadata": {},
   "source": [
    "According to the correlation plot above, it shows that most features have quite a weak relation with the target because most of them are categorical. The features that have the strongest relation to the target include the backers and pledges."
   ]
  },
  {
   "cell_type": "code",
   "execution_count": 19,
   "metadata": {},
   "outputs": [
    {
     "data": {
      "text/plain": [
       "<seaborn.axisgrid.FacetGrid at 0x2a225450fd0>"
      ]
     },
     "execution_count": 19,
     "metadata": {},
     "output_type": "execute_result"
    },
    {
     "data": {
      "image/png": "[encoded data removed]",
      "text/plain": [
       "<Figure size 414.895x360 with 1 Axes>"
      ]
     },
     "metadata": {},
     "output_type": "display_data"
    }
   ],
   "source": [
    "sns.catplot(data=df, hue='target', x='cat_code', kind='count', palette='Set1')"
   ]
  },
  {
   "cell_type": "markdown",
   "metadata": {},
   "source": [
    "It seems that there is an extremely high failure rate for category 6. However, the success rate is also a bit higher than other categories. For category 10, it has similar success rate to category 6, but it come with a lot less failure rate, which is better for people to invest in."
   ]
  },
  {
   "cell_type": "code",
   "execution_count": 20,
   "metadata": {},
   "outputs": [
    {
     "data": {
      "text/plain": [
       "<seaborn.axisgrid.FacetGrid at 0x2a224052e50>"
      ]
     },
     "execution_count": 20,
     "metadata": {},
     "output_type": "execute_result"
    },
    {
     "data": {
      "image/png": "[encoded data removed]",
      "text/plain": [
       "<Figure size 414.895x360 with 1 Axes>"
      ]
     },
     "metadata": {},
     "output_type": "display_data"
    }
   ],
   "source": [
    "sns.catplot(data=df, hue='target', x='launched_year', kind='count', palette='Set1')"
   ]
  },
  {
   "cell_type": "markdown",
   "metadata": {},
   "source": [
    "It appears that in 2014, the number of the start ups that fail starts increasing until it peaks in 2015. After that, the number greatly decreases. Therefore, the launched year also affects the status of the startups. "
   ]
  },
  {
   "cell_type": "code",
   "execution_count": 21,
   "metadata": {},
   "outputs": [
    {
     "data": {
      "text/plain": [
       "<seaborn.axisgrid.FacetGrid at 0x2a223fd5460>"
      ]
     },
     "execution_count": 21,
     "metadata": {},
     "output_type": "execute_result"
    },
    {
     "data": {
      "image/png": "[encoded data removed]",
      "text/plain": [
       "<Figure size 414.895x360 with 1 Axes>"
      ]
     },
     "metadata": {},
     "output_type": "display_data"
    }
   ],
   "source": [
    "sns.catplot(data = df, hue='target', x='country_code', kind='count', palette='Set1')"
   ]
  },
  {
   "cell_type": "markdown",
   "metadata": {},
   "source": [
    "It seems that most startups locate in only one country."
   ]
  },
  {
   "cell_type": "code",
   "execution_count": 22,
   "metadata": {},
   "outputs": [
    {
     "data": {
      "image/png": "[encoded data removed]",
      "text/plain": [
       "<Figure size 864x576 with 1 Axes>"
      ]
     },
     "metadata": {},
     "output_type": "display_data"
    }
   ],
   "source": [
    "plt.subplots(figsize=(12, 8))\n",
    "sns.set(font_scale=1.2)\n",
    "ax = sns.scatterplot(x=\"backers\", y=\"pledged\", hue='target', data=df[df['backers']<100000])"
   ]
  },
  {
   "cell_type": "code",
   "execution_count": 23,
   "metadata": {},
   "outputs": [
    {
     "data": {
      "image/png": "[encoded data removed]",
      "text/plain": [
       "<Figure size 864x576 with 1 Axes>"
      ]
     },
     "metadata": {},
     "output_type": "display_data"
    }
   ],
   "source": [
    "plt.subplots(figsize=(12, 8))\n",
    "sns.set(font_scale=1.2)\n",
    "ax = sns.scatterplot(x=\"backers\", y=\"pledged\", hue='target', data=df[df['target']!=3])"
   ]
  },
  {
   "cell_type": "markdown",
   "metadata": {},
   "source": [
    "It seems that the startups that did not succeed mostly had backers less than 5000."
   ]
  },
  {
   "cell_type": "code",
   "execution_count": 24,
   "metadata": {},
   "outputs": [
    {
     "data": {
      "image/png": "[encoded data removed]",
      "text/plain": [
       "<Figure size 864x576 with 1 Axes>"
      ]
     },
     "metadata": {},
     "output_type": "display_data"
    }
   ],
   "source": [
    "plt.subplots(figsize=(12, 8))\n",
    "sns.set(font_scale=1.2)\n",
    "ax = sns.scatterplot(x=\"backers\", y=\"pledged\", hue='target', data=df[df['target']==3])"
   ]
  },
  {
   "cell_type": "markdown",
   "metadata": {},
   "source": [
    "It seems that success of the startups are scattered all around the plot."
   ]
  },
  {
   "cell_type": "markdown",
   "metadata": {},
   "source": [
    "In summary, the features that affect the status of the startups are 'backers','pledged','launched_year', and 'cat_code'\n",
    "\n",
    "\"Backers\" : If smaller than 5000, it is likely to fail. <br>\n",
    "\"Pledged\" : The range between 0.0 to 0.25 is where most startups are successful.  <br>\n",
    "\"Launched year\" : In 2014, the number of the start ups that fail starts increasing until it peaks in 2015. After that, the number greatly decreases.  <br>\n",
    "\"Category\" : It seems that the most successful category with an acceptable failure rate is Category 10."
   ]
  },
  {
   "cell_type": "code",
   "execution_count": 29,
   "metadata": {},
   "outputs": [
    {
     "data": {
      "text/html": [
       "<div>\n",
       "<style scoped>\n",
       "    .dataframe tbody tr th:only-of-type {\n",
       "        vertical-align: middle;\n",
       "    }\n",
       "\n",
       "    .dataframe tbody tr th {\n",
       "        vertical-align: top;\n",
       "    }\n",
       "\n",
       "    .dataframe thead th {\n",
       "        text-align: right;\n",
       "    }\n",
       "</style>\n",
       "<table border=\"1\" class=\"dataframe\">\n",
       "  <thead>\n",
       "    <tr style=\"text-align: right;\">\n",
       "      <th></th>\n",
       "      <th>backers</th>\n",
       "      <th>pledged</th>\n",
       "      <th>launched_year</th>\n",
       "      <th>target</th>\n",
       "      <th>cat_code</th>\n",
       "      <th>gp_diff</th>\n",
       "    </tr>\n",
       "  </thead>\n",
       "  <tbody>\n",
       "    <tr>\n",
       "      <th>0</th>\n",
       "      <td>1</td>\n",
       "      <td>1</td>\n",
       "      <td>2016</td>\n",
       "      <td>1</td>\n",
       "      <td>5</td>\n",
       "      <td>-2410</td>\n",
       "    </tr>\n",
       "    <tr>\n",
       "      <th>1</th>\n",
       "      <td>3</td>\n",
       "      <td>70</td>\n",
       "      <td>2014</td>\n",
       "      <td>1</td>\n",
       "      <td>4</td>\n",
       "      <td>-8682</td>\n",
       "    </tr>\n",
       "    <tr>\n",
       "      <th>2</th>\n",
       "      <td>7</td>\n",
       "      <td>252</td>\n",
       "      <td>2015</td>\n",
       "      <td>0</td>\n",
       "      <td>14</td>\n",
       "      <td>-5299</td>\n",
       "    </tr>\n",
       "    <tr>\n",
       "      <th>3</th>\n",
       "      <td>0</td>\n",
       "      <td>0</td>\n",
       "      <td>2016</td>\n",
       "      <td>0</td>\n",
       "      <td>12</td>\n",
       "      <td>-10000</td>\n",
       "    </tr>\n",
       "    <tr>\n",
       "      <th>4</th>\n",
       "      <td>131</td>\n",
       "      <td>21231</td>\n",
       "      <td>2015</td>\n",
       "      <td>3</td>\n",
       "      <td>5</td>\n",
       "      <td>1231</td>\n",
       "    </tr>\n",
       "    <tr>\n",
       "      <th>...</th>\n",
       "      <td>...</td>\n",
       "      <td>...</td>\n",
       "      <td>...</td>\n",
       "      <td>...</td>\n",
       "      <td>...</td>\n",
       "      <td>...</td>\n",
       "    </tr>\n",
       "    <tr>\n",
       "      <th>297835</th>\n",
       "      <td>3</td>\n",
       "      <td>102</td>\n",
       "      <td>2014</td>\n",
       "      <td>1</td>\n",
       "      <td>13</td>\n",
       "      <td>-39898</td>\n",
       "    </tr>\n",
       "    <tr>\n",
       "      <th>297836</th>\n",
       "      <td>2</td>\n",
       "      <td>40</td>\n",
       "      <td>2016</td>\n",
       "      <td>1</td>\n",
       "      <td>4</td>\n",
       "      <td>-19960</td>\n",
       "    </tr>\n",
       "    <tr>\n",
       "      <th>297837</th>\n",
       "      <td>155</td>\n",
       "      <td>15745</td>\n",
       "      <td>2015</td>\n",
       "      <td>0</td>\n",
       "      <td>4</td>\n",
       "      <td>-9255</td>\n",
       "    </tr>\n",
       "    <tr>\n",
       "      <th>297838</th>\n",
       "      <td>36</td>\n",
       "      <td>5004</td>\n",
       "      <td>2014</td>\n",
       "      <td>3</td>\n",
       "      <td>6</td>\n",
       "      <td>30</td>\n",
       "    </tr>\n",
       "    <tr>\n",
       "      <th>297839</th>\n",
       "      <td>8</td>\n",
       "      <td>786</td>\n",
       "      <td>2014</td>\n",
       "      <td>1</td>\n",
       "      <td>9</td>\n",
       "      <td>-11733</td>\n",
       "    </tr>\n",
       "  </tbody>\n",
       "</table>\n",
       "<p>297840 rows × 6 columns</p>\n",
       "</div>"
      ],
      "text/plain": [
       "        backers  pledged  launched_year  target  cat_code  gp_diff\n",
       "0             1        1           2016       1         5    -2410\n",
       "1             3       70           2014       1         4    -8682\n",
       "2             7      252           2015       0        14    -5299\n",
       "3             0        0           2016       0        12   -10000\n",
       "4           131    21231           2015       3         5     1231\n",
       "...         ...      ...            ...     ...       ...      ...\n",
       "297835        3      102           2014       1        13   -39898\n",
       "297836        2       40           2016       1         4   -19960\n",
       "297837      155    15745           2015       0         4    -9255\n",
       "297838       36     5004           2014       3         6       30\n",
       "297839        8      786           2014       1         9   -11733\n",
       "\n",
       "[297840 rows x 6 columns]"
      ]
     },
     "execution_count": 29,
     "metadata": {},
     "output_type": "execute_result"
    }
   ],
   "source": [
    "# morning version \n",
    "# feature_names = data_df[['backers','pledged','launched_year','cat_code','target']]\n",
    "# feature_names\n",
    "\n",
    "#edit\n",
    "feature_names = df[['backers','pledged','launched_year','target','cat_code','gp_diff']]\n",
    "feature_names"
   ]
  },
  {
   "cell_type": "code",
   "execution_count": 30,
   "metadata": {},
   "outputs": [
    {
     "name": "stdout",
     "output_type": "stream",
     "text": [
      "<class 'pandas.core.frame.DataFrame'>\n",
      "RangeIndex: 297840 entries, 0 to 297839\n",
      "Data columns (total 6 columns):\n",
      " #   Column         Non-Null Count   Dtype\n",
      "---  ------         --------------   -----\n",
      " 0   backers        297840 non-null  int64\n",
      " 1   pledged        297840 non-null  int64\n",
      " 2   launched_year  297840 non-null  int64\n",
      " 3   target         297840 non-null  int64\n",
      " 4   cat_code       297840 non-null  int32\n",
      " 5   gp_diff        297840 non-null  int64\n",
      "dtypes: int32(1), int64(5)\n",
      "memory usage: 12.5 MB\n"
     ]
    }
   ],
   "source": [
    "feature_names.info()"
   ]
  },
  {
   "cell_type": "markdown",
   "metadata": {},
   "source": [
    "# 2nd Part : Individual  (Afternoon)"
   ]
  },
  {
   "cell_type": "markdown",
   "metadata": {},
   "source": [
    "Task 1"
   ]
  },
  {
   "cell_type": "code",
   "execution_count": 31,
   "metadata": {},
   "outputs": [
    {
     "data": {
      "text/html": [
       "<div>\n",
       "<style scoped>\n",
       "    .dataframe tbody tr th:only-of-type {\n",
       "        vertical-align: middle;\n",
       "    }\n",
       "\n",
       "    .dataframe tbody tr th {\n",
       "        vertical-align: top;\n",
       "    }\n",
       "\n",
       "    .dataframe thead th {\n",
       "        text-align: right;\n",
       "    }\n",
       "</style>\n",
       "<table border=\"1\" class=\"dataframe\">\n",
       "  <thead>\n",
       "    <tr style=\"text-align: right;\">\n",
       "      <th></th>\n",
       "      <th>sub_category</th>\n",
       "      <th>category</th>\n",
       "      <th>deadline</th>\n",
       "      <th>launched</th>\n",
       "      <th>backers</th>\n",
       "      <th>country</th>\n",
       "      <th>pledged</th>\n",
       "      <th>goal</th>\n",
       "    </tr>\n",
       "  </thead>\n",
       "  <tbody>\n",
       "    <tr>\n",
       "      <th>0</th>\n",
       "      <td>Apparel</td>\n",
       "      <td>Fashion</td>\n",
       "      <td>2015-04-13 00:00:00</td>\n",
       "      <td>2015-03-14 09:24:34</td>\n",
       "      <td>11</td>\n",
       "      <td>AU</td>\n",
       "      <td>870.31</td>\n",
       "      <td>781.25</td>\n",
       "    </tr>\n",
       "    <tr>\n",
       "      <th>1</th>\n",
       "      <td>Design</td>\n",
       "      <td>Design</td>\n",
       "      <td>2016-05-06 00:00:00</td>\n",
       "      <td>2016-03-22 18:16:15</td>\n",
       "      <td>4</td>\n",
       "      <td>US</td>\n",
       "      <td>17.00</td>\n",
       "      <td>5000.00</td>\n",
       "    </tr>\n",
       "    <tr>\n",
       "      <th>2</th>\n",
       "      <td>Technology</td>\n",
       "      <td>Technology</td>\n",
       "      <td>2017-12-09 00:00:00</td>\n",
       "      <td>2017-11-09 04:53:45</td>\n",
       "      <td>2</td>\n",
       "      <td>US</td>\n",
       "      <td>125.00</td>\n",
       "      <td>5950.00</td>\n",
       "    </tr>\n",
       "    <tr>\n",
       "      <th>3</th>\n",
       "      <td>Public Art</td>\n",
       "      <td>Art</td>\n",
       "      <td>2016-05-15 00:00:00</td>\n",
       "      <td>2016-04-15 21:12:25</td>\n",
       "      <td>13</td>\n",
       "      <td>US</td>\n",
       "      <td>1515.00</td>\n",
       "      <td>1500.00</td>\n",
       "    </tr>\n",
       "    <tr>\n",
       "      <th>4</th>\n",
       "      <td>Product Design</td>\n",
       "      <td>Design</td>\n",
       "      <td>2016-01-07 00:00:00</td>\n",
       "      <td>2015-12-11 10:21:40</td>\n",
       "      <td>1</td>\n",
       "      <td>IT</td>\n",
       "      <td>32.58</td>\n",
       "      <td>21721.89</td>\n",
       "    </tr>\n",
       "  </tbody>\n",
       "</table>\n",
       "</div>"
      ],
      "text/plain": [
       "     sub_category    category             deadline             launched  \\\n",
       "0         Apparel     Fashion  2015-04-13 00:00:00  2015-03-14 09:24:34   \n",
       "1          Design      Design  2016-05-06 00:00:00  2016-03-22 18:16:15   \n",
       "2      Technology  Technology  2017-12-09 00:00:00  2017-11-09 04:53:45   \n",
       "3      Public Art         Art  2016-05-15 00:00:00  2016-04-15 21:12:25   \n",
       "4  Product Design      Design  2016-01-07 00:00:00  2015-12-11 10:21:40   \n",
       "\n",
       "   backers country  pledged      goal  \n",
       "0       11      AU   870.31    781.25  \n",
       "1        4      US    17.00   5000.00  \n",
       "2        2      US   125.00   5950.00  \n",
       "3       13      US  1515.00   1500.00  \n",
       "4        1      IT    32.58  21721.89  "
      ]
     },
     "execution_count": 31,
     "metadata": {},
     "output_type": "execute_result"
    }
   ],
   "source": [
    "# Read csv file\n",
    "dff = pd.read_csv('startup-test.csv')\n",
    "dff.head()"
   ]
  },
  {
   "cell_type": "code",
   "execution_count": 32,
   "metadata": {},
   "outputs": [],
   "source": [
    "X_train = feature_names.drop(columns=['target'])\n",
    "y_train = feature_names['target'].values"
   ]
  },
  {
   "cell_type": "code",
   "execution_count": 33,
   "metadata": {},
   "outputs": [
    {
     "name": "stdout",
     "output_type": "stream",
     "text": [
      "Training set: (297840, 5), (297840,)\n"
     ]
    }
   ],
   "source": [
    "print(f'Training set: {X_train.shape}, {y_train.shape}')"
   ]
  },
  {
   "cell_type": "markdown",
   "metadata": {},
   "source": [
    "#### (̶◉͛‿◉̶) OPTUNA (̶◉͛‿◉̶)\n",
    "Model selection\n"
   ]
  },
  {
   "cell_type": "code",
   "execution_count": 34,
   "metadata": {},
   "outputs": [
    {
     "name": "stderr",
     "output_type": "stream",
     "text": [
      "\u001b[32m[I 2021-03-19 15:51:38,341]\u001b[0m A new study created in memory with name: no-name-fdab583d-8a03-4b18-9e0a-7a6b3dd61c77\u001b[0m\n",
      "\u001b[32m[I 2021-03-19 15:51:38,347]\u001b[0m Trial 0 finished with value: 3.8795588489187693 and parameters: {'x': 0.030340423088606627}. Best is trial 0 with value: 3.8795588489187693.\u001b[0m\n",
      "\u001b[32m[I 2021-03-19 15:51:38,349]\u001b[0m Trial 1 finished with value: 60.39440208461618 and parameters: {'x': -5.771383537351388}. Best is trial 0 with value: 3.8795588489187693.\u001b[0m\n",
      "\u001b[32m[I 2021-03-19 15:51:38,351]\u001b[0m Trial 2 finished with value: 1.6297562469270712 and parameters: {'x': 0.7233809311595447}. Best is trial 2 with value: 1.6297562469270712.\u001b[0m\n",
      "\u001b[32m[I 2021-03-19 15:51:38,354]\u001b[0m Trial 3 finished with value: 10.455051027696504 and parameters: {'x': -1.2334271335065683}. Best is trial 2 with value: 1.6297562469270712.\u001b[0m\n",
      "\u001b[32m[I 2021-03-19 15:51:38,357]\u001b[0m Trial 4 finished with value: 75.53419600824607 and parameters: {'x': -6.691041134884017}. Best is trial 2 with value: 1.6297562469270712.\u001b[0m\n",
      "\u001b[32m[I 2021-03-19 15:51:38,360]\u001b[0m Trial 5 finished with value: 24.16012721328218 and parameters: {'x': 6.915295231548374}. Best is trial 2 with value: 1.6297562469270712.\u001b[0m\n",
      "\u001b[32m[I 2021-03-19 15:51:38,363]\u001b[0m Trial 6 finished with value: 5.205944509436729 and parameters: {'x': 4.281653897819897}. Best is trial 2 with value: 1.6297562469270712.\u001b[0m\n",
      "\u001b[32m[I 2021-03-19 15:51:38,367]\u001b[0m Trial 7 finished with value: 6.735202470612098 and parameters: {'x': 4.595226863033769}. Best is trial 2 with value: 1.6297562469270712.\u001b[0m\n",
      "\u001b[32m[I 2021-03-19 15:51:38,372]\u001b[0m Trial 8 finished with value: 26.645705268916046 and parameters: {'x': -3.1619478173375644}. Best is trial 2 with value: 1.6297562469270712.\u001b[0m\n",
      "\u001b[32m[I 2021-03-19 15:51:38,375]\u001b[0m Trial 9 finished with value: 7.275322231687238 and parameters: {'x': -0.6972805252118732}. Best is trial 2 with value: 1.6297562469270712.\u001b[0m\n",
      "\u001b[32m[I 2021-03-19 15:51:38,388]\u001b[0m Trial 10 finished with value: 47.835598711452576 and parameters: {'x': 8.916328412637197}. Best is trial 2 with value: 1.6297562469270712.\u001b[0m\n",
      "\u001b[32m[I 2021-03-19 15:51:38,399]\u001b[0m Trial 11 finished with value: 0.3794774647341826 and parameters: {'x': 2.616017422427469}. Best is trial 11 with value: 0.3794774647341826.\u001b[0m\n",
      "\u001b[32m[I 2021-03-19 15:51:38,408]\u001b[0m Trial 12 finished with value: 0.06644438853306386 and parameters: {'x': 2.257768090602898}. Best is trial 12 with value: 0.06644438853306386.\u001b[0m\n",
      "\u001b[32m[I 2021-03-19 15:51:38,416]\u001b[0m Trial 13 finished with value: 1.3312831960142724 and parameters: {'x': 3.1538124613706824}. Best is trial 12 with value: 0.06644438853306386.\u001b[0m\n",
      "\u001b[32m[I 2021-03-19 15:51:38,426]\u001b[0m Trial 14 finished with value: 0.13964924232531942 and parameters: {'x': 2.3736967250663557}. Best is trial 12 with value: 0.06644438853306386.\u001b[0m\n",
      "\u001b[32m[I 2021-03-19 15:51:38,436]\u001b[0m Trial 15 finished with value: 20.676540849852145 and parameters: {'x': 6.547146451331004}. Best is trial 12 with value: 0.06644438853306386.\u001b[0m\n",
      "\u001b[32m[I 2021-03-19 15:51:38,446]\u001b[0m Trial 16 finished with value: 22.967483778760435 and parameters: {'x': -2.792440273885574}. Best is trial 12 with value: 0.06644438853306386.\u001b[0m\n",
      "\u001b[32m[I 2021-03-19 15:51:38,456]\u001b[0m Trial 17 finished with value: 62.92710512572406 and parameters: {'x': 9.932660658677142}. Best is trial 12 with value: 0.06644438853306386.\u001b[0m\n",
      "\u001b[32m[I 2021-03-19 15:51:38,466]\u001b[0m Trial 18 finished with value: 0.053975147552300026 and parameters: {'x': 1.767674479334921}. Best is trial 18 with value: 0.053975147552300026.\u001b[0m\n",
      "\u001b[32m[I 2021-03-19 15:51:38,476]\u001b[0m Trial 19 finished with value: 15.81179732261945 and parameters: {'x': 5.9764050752682945}. Best is trial 18 with value: 0.053975147552300026.\u001b[0m\n",
      "\u001b[32m[I 2021-03-19 15:51:38,485]\u001b[0m Trial 20 finished with value: 143.5078238434379 and parameters: {'x': -9.979475107175519}. Best is trial 18 with value: 0.053975147552300026.\u001b[0m\n",
      "\u001b[32m[I 2021-03-19 15:51:38,495]\u001b[0m Trial 21 finished with value: 0.0025204650643672524 and parameters: {'x': 1.9497957664696766}. Best is trial 21 with value: 0.0025204650643672524.\u001b[0m\n",
      "\u001b[32m[I 2021-03-19 15:51:38,506]\u001b[0m Trial 22 finished with value: 0.3980351888045843 and parameters: {'x': 1.3690996997903835}. Best is trial 21 with value: 0.0025204650643672524.\u001b[0m\n",
      "\u001b[32m[I 2021-03-19 15:51:38,517]\u001b[0m Trial 23 finished with value: 16.2989048641374 and parameters: {'x': -2.037190218968806}. Best is trial 21 with value: 0.0025204650643672524.\u001b[0m\n",
      "\u001b[32m[I 2021-03-19 15:51:38,529]\u001b[0m Trial 24 finished with value: 5.776547500015913 and parameters: {'x': 4.403444923441333}. Best is trial 21 with value: 0.0025204650643672524.\u001b[0m\n",
      "\u001b[32m[I 2021-03-19 15:51:38,540]\u001b[0m Trial 25 finished with value: 0.289245647668552 and parameters: {'x': 1.4621843739081655}. Best is trial 21 with value: 0.0025204650643672524.\u001b[0m\n",
      "\u001b[32m[I 2021-03-19 15:51:38,551]\u001b[0m Trial 26 finished with value: 41.210575663705924 and parameters: {'x': -4.419546375228231}. Best is trial 21 with value: 0.0025204650643672524.\u001b[0m\n",
      "\u001b[32m[I 2021-03-19 15:51:38,565]\u001b[0m Trial 27 finished with value: 1.801151634298621 and parameters: {'x': 3.3420699066362456}. Best is trial 21 with value: 0.0025204650643672524.\u001b[0m\n",
      "\u001b[32m[I 2021-03-19 15:51:38,584]\u001b[0m Trial 28 finished with value: 32.06335579372703 and parameters: {'x': 7.662451394380973}. Best is trial 21 with value: 0.0025204650643672524.\u001b[0m\n",
      "\u001b[32m[I 2021-03-19 15:51:38,600]\u001b[0m Trial 29 finished with value: 1.032214040109265 and parameters: {'x': 0.9840206497623758}. Best is trial 21 with value: 0.0025204650643672524.\u001b[0m\n",
      "\u001b[32m[I 2021-03-19 15:51:38,623]\u001b[0m Trial 30 finished with value: 7.926708891212163 and parameters: {'x': -0.8154411539245787}. Best is trial 21 with value: 0.0025204650643672524.\u001b[0m\n",
      "\u001b[32m[I 2021-03-19 15:51:38,642]\u001b[0m Trial 31 finished with value: 0.42990070264805724 and parameters: {'x': 2.655668134537631}. Best is trial 21 with value: 0.0025204650643672524.\u001b[0m\n",
      "\u001b[32m[I 2021-03-19 15:51:38,656]\u001b[0m Trial 32 finished with value: 4.117988035223439 and parameters: {'x': -0.02928264054651586}. Best is trial 21 with value: 0.0025204650643672524.\u001b[0m\n",
      "\u001b[32m[I 2021-03-19 15:51:38,668]\u001b[0m Trial 33 finished with value: 0.03546606972069272 and parameters: {'x': 2.188324373676624}. Best is trial 21 with value: 0.0025204650643672524.\u001b[0m\n",
      "\u001b[32m[I 2021-03-19 15:51:38,688]\u001b[0m Trial 34 finished with value: 8.986388575248377 and parameters: {'x': 4.997730570823265}. Best is trial 21 with value: 0.0025204650643672524.\u001b[0m\n",
      "\u001b[32m[I 2021-03-19 15:51:38,705]\u001b[0m Trial 35 finished with value: 3.071206281940083 and parameters: {'x': 0.24751425628050172}. Best is trial 21 with value: 0.0025204650643672524.\u001b[0m\n",
      "\u001b[32m[I 2021-03-19 15:51:38,721]\u001b[0m Trial 36 finished with value: 0.03564313675329427 and parameters: {'x': 1.8112060997984991}. Best is trial 21 with value: 0.0025204650643672524.\u001b[0m\n",
      "\u001b[32m[I 2021-03-19 15:51:38,739]\u001b[0m Trial 37 finished with value: 12.561097067153838 and parameters: {'x': 5.544163803657195}. Best is trial 21 with value: 0.0025204650643672524.\u001b[0m\n",
      "\u001b[32m[I 2021-03-19 15:51:38,752]\u001b[0m Trial 38 finished with value: 0.19568921902950798 and parameters: {'x': 1.557632258149955}. Best is trial 21 with value: 0.0025204650643672524.\u001b[0m\n",
      "\u001b[32m[I 2021-03-19 15:51:38,766]\u001b[0m Trial 39 finished with value: 3.149964648457806 and parameters: {'x': 3.774813975733177}. Best is trial 21 with value: 0.0025204650643672524.\u001b[0m\n",
      "\u001b[32m[I 2021-03-19 15:51:38,781]\u001b[0m Trial 40 finished with value: 15.205324193399004 and parameters: {'x': -1.8994004915370009}. Best is trial 21 with value: 0.0025204650643672524.\u001b[0m\n",
      "\u001b[32m[I 2021-03-19 15:51:38,797]\u001b[0m Trial 41 finished with value: 0.0033802810290009615 and parameters: {'x': 1.941859815712358}. Best is trial 21 with value: 0.0025204650643672524.\u001b[0m\n",
      "\u001b[32m[I 2021-03-19 15:51:38,812]\u001b[0m Trial 42 finished with value: 3.2324993607227888 and parameters: {'x': 0.20208471814637802}. Best is trial 21 with value: 0.0025204650643672524.\u001b[0m\n",
      "\u001b[32m[I 2021-03-19 15:51:38,825]\u001b[0m Trial 43 finished with value: 0.09027661157769526 and parameters: {'x': 1.6995393343918455}. Best is trial 21 with value: 0.0025204650643672524.\u001b[0m\n",
      "\u001b[32m[I 2021-03-19 15:51:38,838]\u001b[0m Trial 44 finished with value: 2.4895794016064867 and parameters: {'x': 3.5778401064767262}. Best is trial 21 with value: 0.0025204650643672524.\u001b[0m\n"
     ]
    },
    {
     "name": "stderr",
     "output_type": "stream",
     "text": [
      "\u001b[32m[I 2021-03-19 15:51:38,853]\u001b[0m Trial 45 finished with value: 6.076823060806446 and parameters: {'x': -0.46512130752351544}. Best is trial 21 with value: 0.0025204650643672524.\u001b[0m\n",
      "\u001b[32m[I 2021-03-19 15:51:38,868]\u001b[0m Trial 46 finished with value: 1.7195523731368527 and parameters: {'x': 0.6886829623859634}. Best is trial 21 with value: 0.0025204650643672524.\u001b[0m\n",
      "\u001b[32m[I 2021-03-19 15:51:38,880]\u001b[0m Trial 47 finished with value: 11.797264474053714 and parameters: {'x': -1.4347146131889494}. Best is trial 21 with value: 0.0025204650643672524.\u001b[0m\n",
      "\u001b[32m[I 2021-03-19 15:51:38,891]\u001b[0m Trial 48 finished with value: 0.04449819523140016 and parameters: {'x': 2.2109459533420828}. Best is trial 21 with value: 0.0025204650643672524.\u001b[0m\n",
      "\u001b[32m[I 2021-03-19 15:51:38,905]\u001b[0m Trial 49 finished with value: 0.6578734924805375 and parameters: {'x': 2.8110940096440964}. Best is trial 21 with value: 0.0025204650643672524.\u001b[0m\n",
      "\u001b[32m[I 2021-03-19 15:51:38,917]\u001b[0m Trial 50 finished with value: 4.634031766719672 and parameters: {'x': 4.152680135719116}. Best is trial 21 with value: 0.0025204650643672524.\u001b[0m\n",
      "\u001b[32m[I 2021-03-19 15:51:38,933]\u001b[0m Trial 51 finished with value: 0.04989175847814344 and parameters: {'x': 2.22336463121574}. Best is trial 21 with value: 0.0025204650643672524.\u001b[0m\n",
      "\u001b[32m[I 2021-03-19 15:51:38,946]\u001b[0m Trial 52 finished with value: 0.059243862350282735 and parameters: {'x': 2.243400621096748}. Best is trial 21 with value: 0.0025204650643672524.\u001b[0m\n",
      "\u001b[32m[I 2021-03-19 15:51:38,960]\u001b[0m Trial 53 finished with value: 8.78583127298653 and parameters: {'x': 4.964090294337629}. Best is trial 21 with value: 0.0025204650643672524.\u001b[0m\n",
      "\u001b[32m[I 2021-03-19 15:51:38,974]\u001b[0m Trial 54 finished with value: 1.4963977631444028 and parameters: {'x': 3.2232733803792195}. Best is trial 21 with value: 0.0025204650643672524.\u001b[0m\n",
      "\u001b[32m[I 2021-03-19 15:51:38,988]\u001b[0m Trial 55 finished with value: 1.8244287896480664 and parameters: {'x': 0.6492858223709701}. Best is trial 21 with value: 0.0025204650643672524.\u001b[0m\n",
      "\u001b[32m[I 2021-03-19 15:51:39,003]\u001b[0m Trial 56 finished with value: 0.036907468436042784 and parameters: {'x': 2.1921131657019965}. Best is trial 21 with value: 0.0025204650643672524.\u001b[0m\n",
      "\u001b[32m[I 2021-03-19 15:51:39,017]\u001b[0m Trial 57 finished with value: 0.9117318752991713 and parameters: {'x': 1.045153480762918}. Best is trial 21 with value: 0.0025204650643672524.\u001b[0m\n",
      "\u001b[32m[I 2021-03-19 15:51:39,029]\u001b[0m Trial 58 finished with value: 5.474130389463552 and parameters: {'x': -0.3396859595816597}. Best is trial 21 with value: 0.0025204650643672524.\u001b[0m\n",
      "\u001b[32m[I 2021-03-19 15:51:39,044]\u001b[0m Trial 59 finished with value: 3.339046713497088 and parameters: {'x': 3.827305862054048}. Best is trial 21 with value: 0.0025204650643672524.\u001b[0m\n",
      "\u001b[32m[I 2021-03-19 15:51:39,058]\u001b[0m Trial 60 finished with value: 14.55841815239658 and parameters: {'x': 5.815549521680538}. Best is trial 21 with value: 0.0025204650643672524.\u001b[0m\n",
      "\u001b[32m[I 2021-03-19 15:51:39,071]\u001b[0m Trial 61 finished with value: 0.21372132464086258 and parameters: {'x': 2.462300037465781}. Best is trial 21 with value: 0.0025204650643672524.\u001b[0m\n",
      "\u001b[32m[I 2021-03-19 15:51:39,086]\u001b[0m Trial 62 finished with value: 0.009389526349929893 and parameters: {'x': 2.09689956836813}. Best is trial 21 with value: 0.0025204650643672524.\u001b[0m\n",
      "\u001b[32m[I 2021-03-19 15:51:39,099]\u001b[0m Trial 63 finished with value: 0.00021625298321999346 and parameters: {'x': 1.9852944573979743}. Best is trial 63 with value: 0.00021625298321999346.\u001b[0m\n",
      "\u001b[32m[I 2021-03-19 15:51:39,111]\u001b[0m Trial 64 finished with value: 1.140267285337926 and parameters: {'x': 3.067832985694826}. Best is trial 63 with value: 0.00021625298321999346.\u001b[0m\n",
      "\u001b[32m[I 2021-03-19 15:51:39,123]\u001b[0m Trial 65 finished with value: 0.0733086267469142 and parameters: {'x': 1.7292443412467355}. Best is trial 63 with value: 0.00021625298321999346.\u001b[0m\n",
      "\u001b[32m[I 2021-03-19 15:51:39,134]\u001b[0m Trial 66 finished with value: 1.420899558820624 and parameters: {'x': 0.8079850844806413}. Best is trial 63 with value: 0.00021625298321999346.\u001b[0m\n",
      "\u001b[32m[I 2021-03-19 15:51:39,148]\u001b[0m Trial 67 finished with value: 7.093133282879176 and parameters: {'x': 4.66329369069188}. Best is trial 63 with value: 0.00021625298321999346.\u001b[0m\n",
      "\u001b[32m[I 2021-03-19 15:51:39,159]\u001b[0m Trial 68 finished with value: 8.246607195279593 and parameters: {'x': -0.8716906510415763}. Best is trial 63 with value: 0.00021625298321999346.\u001b[0m\n",
      "\u001b[32m[I 2021-03-19 15:51:39,171]\u001b[0m Trial 69 finished with value: 0.4836732197476335 and parameters: {'x': 1.3045338112117646}. Best is trial 63 with value: 0.00021625298321999346.\u001b[0m\n",
      "\u001b[32m[I 2021-03-19 15:51:39,183]\u001b[0m Trial 70 finished with value: 0.9849651522884652 and parameters: {'x': 2.992454105885237}. Best is trial 63 with value: 0.00021625298321999346.\u001b[0m\n",
      "\u001b[32m[I 2021-03-19 15:51:39,198]\u001b[0m Trial 71 finished with value: 1.9315697480091638e-05 and parameters: {'x': 1.9956050372606708}. Best is trial 71 with value: 1.9315697480091638e-05.\u001b[0m\n",
      "\u001b[32m[I 2021-03-19 15:51:39,210]\u001b[0m Trial 72 finished with value: 3.1380818010778486 and parameters: {'x': 0.2285368191582844}. Best is trial 71 with value: 1.9315697480091638e-05.\u001b[0m\n",
      "\u001b[32m[I 2021-03-19 15:51:39,222]\u001b[0m Trial 73 finished with value: 0.017309513005313602 and parameters: {'x': 1.868434377570303}. Best is trial 71 with value: 1.9315697480091638e-05.\u001b[0m\n",
      "\u001b[32m[I 2021-03-19 15:51:39,236]\u001b[0m Trial 74 finished with value: 3.9758040225315696 and parameters: {'x': 3.9939418302777967}. Best is trial 71 with value: 1.9315697480091638e-05.\u001b[0m\n",
      "\u001b[32m[I 2021-03-19 15:51:39,249]\u001b[0m Trial 75 finished with value: 0.00751597760748433 and parameters: {'x': 1.9133052619388908}. Best is trial 71 with value: 1.9315697480091638e-05.\u001b[0m\n",
      "\u001b[32m[I 2021-03-19 15:51:39,261]\u001b[0m Trial 76 finished with value: 1.8622774223413918 and parameters: {'x': 3.3646528578145403}. Best is trial 71 with value: 1.9315697480091638e-05.\u001b[0m\n",
      "\u001b[32m[I 2021-03-19 15:51:39,273]\u001b[0m Trial 77 finished with value: 1.0841744461675276 and parameters: {'x': 0.9587630211294225}. Best is trial 71 with value: 1.9315697480091638e-05.\u001b[0m\n",
      "\u001b[32m[I 2021-03-19 15:51:39,285]\u001b[0m Trial 78 finished with value: 135.27950688429095 and parameters: {'x': -9.630971880470305}. Best is trial 71 with value: 1.9315697480091638e-05.\u001b[0m\n",
      "\u001b[32m[I 2021-03-19 15:51:39,297]\u001b[0m Trial 79 finished with value: 0.008500901277925844 and parameters: {'x': 1.9077996676908058}. Best is trial 71 with value: 1.9315697480091638e-05.\u001b[0m\n",
      "\u001b[32m[I 2021-03-19 15:51:39,310]\u001b[0m Trial 80 finished with value: 3.834766973206251 and parameters: {'x': 0.04174389488855401}. Best is trial 71 with value: 1.9315697480091638e-05.\u001b[0m\n",
      "\u001b[32m[I 2021-03-19 15:51:39,325]\u001b[0m Trial 81 finished with value: 0.15176649892493188 and parameters: {'x': 1.6104278001128265}. Best is trial 71 with value: 1.9315697480091638e-05.\u001b[0m\n",
      "\u001b[32m[I 2021-03-19 15:51:39,338]\u001b[0m Trial 82 finished with value: 0.7384784523707296 and parameters: {'x': 2.859347690036303}. Best is trial 71 with value: 1.9315697480091638e-05.\u001b[0m\n",
      "\u001b[32m[I 2021-03-19 15:51:39,350]\u001b[0m Trial 83 finished with value: 0.002047235204095543 and parameters: {'x': 1.954753616673865}. Best is trial 71 with value: 1.9315697480091638e-05.\u001b[0m\n",
      "\u001b[32m[I 2021-03-19 15:51:39,363]\u001b[0m Trial 84 finished with value: 0.7547530137214828 and parameters: {'x': 1.1312347764087913}. Best is trial 71 with value: 1.9315697480091638e-05.\u001b[0m\n",
      "\u001b[32m[I 2021-03-19 15:51:39,375]\u001b[0m Trial 85 finished with value: 0.3887430644401821 and parameters: {'x': 2.623492633829929}. Best is trial 71 with value: 1.9315697480091638e-05.\u001b[0m\n",
      "\u001b[32m[I 2021-03-19 15:51:39,386]\u001b[0m Trial 86 finished with value: 0.05487527922033387 and parameters: {'x': 1.7657452685209243}. Best is trial 71 with value: 1.9315697480091638e-05.\u001b[0m\n",
      "\u001b[32m[I 2021-03-19 15:51:39,399]\u001b[0m Trial 87 finished with value: 2.2776443013757737 and parameters: {'x': 0.4908133642999042}. Best is trial 71 with value: 1.9315697480091638e-05.\u001b[0m\n",
      "\u001b[32m[I 2021-03-19 15:51:39,411]\u001b[0m Trial 88 finished with value: 4.878140771616153 and parameters: {'x': -0.2086513467761617}. Best is trial 71 with value: 1.9315697480091638e-05.\u001b[0m\n",
      "\u001b[32m[I 2021-03-19 15:51:39,425]\u001b[0m Trial 89 finished with value: 1.8451538325220815 and parameters: {'x': 3.3583643960742204}. Best is trial 71 with value: 1.9315697480091638e-05.\u001b[0m\n"
     ]
    },
    {
     "name": "stderr",
     "output_type": "stream",
     "text": [
      "\u001b[32m[I 2021-03-19 15:51:39,437]\u001b[0m Trial 90 finished with value: 9.724529705369783 and parameters: {'x': -1.118417820845979}. Best is trial 71 with value: 1.9315697480091638e-05.\u001b[0m\n",
      "\u001b[32m[I 2021-03-19 15:51:39,448]\u001b[0m Trial 91 finished with value: 0.020961730877161227 and parameters: {'x': 2.144781666232853}. Best is trial 71 with value: 1.9315697480091638e-05.\u001b[0m\n",
      "\u001b[32m[I 2021-03-19 15:51:39,461]\u001b[0m Trial 92 finished with value: 0.007447375915194481 and parameters: {'x': 2.086298180254247}. Best is trial 71 with value: 1.9315697480091638e-05.\u001b[0m\n",
      "\u001b[32m[I 2021-03-19 15:51:39,475]\u001b[0m Trial 93 finished with value: 0.4338697107350769 and parameters: {'x': 1.3413121295066404}. Best is trial 71 with value: 1.9315697480091638e-05.\u001b[0m\n",
      "\u001b[32m[I 2021-03-19 15:51:39,487]\u001b[0m Trial 94 finished with value: 0.4745361177976563 and parameters: {'x': 2.688865819879065}. Best is trial 71 with value: 1.9315697480091638e-05.\u001b[0m\n",
      "\u001b[32m[I 2021-03-19 15:51:39,499]\u001b[0m Trial 95 finished with value: 0.00244848874503527 and parameters: {'x': 1.950517793652311}. Best is trial 71 with value: 1.9315697480091638e-05.\u001b[0m\n",
      "\u001b[32m[I 2021-03-19 15:51:39,509]\u001b[0m Trial 96 finished with value: 4.964612984395864 and parameters: {'x': 4.228141150016278}. Best is trial 71 with value: 1.9315697480091638e-05.\u001b[0m\n",
      "\u001b[32m[I 2021-03-19 15:51:39,522]\u001b[0m Trial 97 finished with value: 1.9902572003234127 and parameters: {'x': 0.5892352427412242}. Best is trial 71 with value: 1.9315697480091638e-05.\u001b[0m\n",
      "\u001b[32m[I 2021-03-19 15:51:39,532]\u001b[0m Trial 98 finished with value: 2.5264264639289196 and parameters: {'x': 3.589473643672307}. Best is trial 71 with value: 1.9315697480091638e-05.\u001b[0m\n",
      "\u001b[32m[I 2021-03-19 15:51:39,543]\u001b[0m Trial 99 finished with value: 0.49430817188077864 and parameters: {'x': 1.2969294687723154}. Best is trial 71 with value: 1.9315697480091638e-05.\u001b[0m\n"
     ]
    },
    {
     "data": {
      "text/plain": [
       "{'x': 1.9956050372606708}"
      ]
     },
     "execution_count": 34,
     "metadata": {},
     "output_type": "execute_result"
    }
   ],
   "source": [
    "import optuna\n",
    "\n",
    "def objective(trial):\n",
    "    x = trial.suggest_uniform('x', -10, 10)\n",
    "    return (x - 2) ** 2\n",
    "\n",
    "study = optuna.create_study()\n",
    "study.optimize(objective, n_trials = 100)\n",
    "\n",
    "study.best_params"
   ]
  },
  {
   "cell_type": "code",
   "execution_count": 35,
   "metadata": {},
   "outputs": [
    {
     "name": "stderr",
     "output_type": "stream",
     "text": [
      "\u001b[32m[I 2021-03-19 15:51:39,725]\u001b[0m A new study created in memory with name: no-name-f6ceb571-23fc-4dad-8868-ae9e8c8c31f6\u001b[0m\n",
      "\u001b[32m[I 2021-03-19 15:51:43,458]\u001b[0m Trial 0 finished with value: 0.9733333333333333 and parameters: {'classifier': 'LogisticRegression', 'lr_c': 1603793.9241116052}. Best is trial 0 with value: 0.9733333333333333.\u001b[0m\n",
      "\u001b[32m[I 2021-03-19 15:51:45,083]\u001b[0m Trial 1 finished with value: 0.9733333333333333 and parameters: {'classifier': 'LogisticRegression', 'lr_c': 9257.26299594097}. Best is trial 0 with value: 0.9733333333333333.\u001b[0m\n",
      "\u001b[32m[I 2021-03-19 15:51:46,625]\u001b[0m Trial 2 finished with value: 0.96 and parameters: {'classifier': 'DecisionTree', 'dt_max_depth': 39}. Best is trial 0 with value: 0.9733333333333333.\u001b[0m\n",
      "\u001b[32m[I 2021-03-19 15:51:46,770]\u001b[0m Trial 3 finished with value: 0.9333333333333332 and parameters: {'classifier': 'DecisionTree', 'dt_max_depth': 2}. Best is trial 0 with value: 0.9733333333333333.\u001b[0m\n",
      "\u001b[32m[I 2021-03-19 15:51:46,807]\u001b[0m Trial 4 finished with value: 0.32 and parameters: {'classifier': 'LogisticRegression', 'lr_c': 1.1374013739725416e-09}. Best is trial 0 with value: 0.9733333333333333.\u001b[0m\n",
      "\u001b[32m[I 2021-03-19 15:51:46,958]\u001b[0m Trial 5 finished with value: 0.9733333333333333 and parameters: {'classifier': 'LogisticRegression', 'lr_c': 1237972.091023598}. Best is trial 0 with value: 0.9733333333333333.\u001b[0m\n",
      "\u001b[32m[I 2021-03-19 15:51:47,021]\u001b[0m Trial 6 finished with value: 0.9666666666666667 and parameters: {'classifier': 'LogisticRegression', 'lr_c': 15535615.294112908}. Best is trial 0 with value: 0.9733333333333333.\u001b[0m\n",
      "\u001b[32m[I 2021-03-19 15:51:47,141]\u001b[0m Trial 7 finished with value: 0.9666666666666667 and parameters: {'classifier': 'DecisionTree', 'dt_max_depth': 30}. Best is trial 0 with value: 0.9733333333333333.\u001b[0m\n",
      "\u001b[32m[I 2021-03-19 15:51:47,246]\u001b[0m Trial 8 finished with value: 0.9733333333333333 and parameters: {'classifier': 'LogisticRegression', 'lr_c': 126950.0733504175}. Best is trial 0 with value: 0.9733333333333333.\u001b[0m\n",
      "\u001b[32m[I 2021-03-19 15:51:47,370]\u001b[0m Trial 9 finished with value: 0.9733333333333333 and parameters: {'classifier': 'LogisticRegression', 'lr_c': 1903171.0205964453}. Best is trial 0 with value: 0.9733333333333333.\u001b[0m\n",
      "\u001b[32m[I 2021-03-19 15:51:47,412]\u001b[0m Trial 10 finished with value: 0.7400000000000001 and parameters: {'classifier': 'LogisticRegression', 'lr_c': 0.0005931081666252047}. Best is trial 0 with value: 0.9733333333333333.\u001b[0m\n",
      "\u001b[32m[I 2021-03-19 15:51:47,529]\u001b[0m Trial 11 finished with value: 0.98 and parameters: {'classifier': 'LogisticRegression', 'lr_c': 13.54390623051175}. Best is trial 11 with value: 0.98.\u001b[0m\n",
      "\u001b[32m[I 2021-03-19 15:51:47,605]\u001b[0m Trial 12 finished with value: 0.9466666666666667 and parameters: {'classifier': 'LogisticRegression', 'lr_c': 0.07100471469810898}. Best is trial 11 with value: 0.98.\u001b[0m\n",
      "\u001b[32m[I 2021-03-19 15:51:47,709]\u001b[0m Trial 13 finished with value: 0.98 and parameters: {'classifier': 'LogisticRegression', 'lr_c': 26.200166426470496}. Best is trial 11 with value: 0.98.\u001b[0m\n",
      "\u001b[32m[I 2021-03-19 15:51:47,841]\u001b[0m Trial 14 finished with value: 0.98 and parameters: {'classifier': 'LogisticRegression', 'lr_c': 14.333427732556352}. Best is trial 11 with value: 0.98.\u001b[0m\n",
      "\u001b[32m[I 2021-03-19 15:51:47,895]\u001b[0m Trial 15 finished with value: 0.6733333333333333 and parameters: {'classifier': 'LogisticRegression', 'lr_c': 0.000168626333765833}. Best is trial 11 with value: 0.98.\u001b[0m\n",
      "\u001b[32m[I 2021-03-19 15:51:48,019]\u001b[0m Trial 16 finished with value: 0.98 and parameters: {'classifier': 'LogisticRegression', 'lr_c': 24.073042741151788}. Best is trial 11 with value: 0.98.\u001b[0m\n",
      "\u001b[32m[I 2021-03-19 15:51:48,153]\u001b[0m Trial 17 finished with value: 0.9666666666666667 and parameters: {'classifier': 'DecisionTree', 'dt_max_depth': 6}. Best is trial 11 with value: 0.98.\u001b[0m\n",
      "\u001b[32m[I 2021-03-19 15:51:48,201]\u001b[0m Trial 18 finished with value: 0.32 and parameters: {'classifier': 'LogisticRegression', 'lr_c': 3.7675378881714993e-06}. Best is trial 11 with value: 0.98.\u001b[0m\n",
      "\u001b[32m[I 2021-03-19 15:51:48,280]\u001b[0m Trial 19 finished with value: 0.9733333333333333 and parameters: {'classifier': 'LogisticRegression', 'lr_c': 2497046108.455472}. Best is trial 11 with value: 0.98.\u001b[0m\n",
      "\u001b[32m[I 2021-03-19 15:51:48,402]\u001b[0m Trial 20 finished with value: 0.9733333333333333 and parameters: {'classifier': 'LogisticRegression', 'lr_c': 561.1267798754467}. Best is trial 11 with value: 0.98.\u001b[0m\n",
      "\u001b[32m[I 2021-03-19 15:51:48,516]\u001b[0m Trial 21 finished with value: 0.9733333333333333 and parameters: {'classifier': 'LogisticRegression', 'lr_c': 1.259946033336774}. Best is trial 11 with value: 0.98.\u001b[0m\n",
      "\u001b[32m[I 2021-03-19 15:51:48,614]\u001b[0m Trial 22 finished with value: 0.9733333333333333 and parameters: {'classifier': 'LogisticRegression', 'lr_c': 99.59577698868475}. Best is trial 11 with value: 0.98.\u001b[0m\n",
      "\u001b[32m[I 2021-03-19 15:51:48,684]\u001b[0m Trial 23 finished with value: 0.9466666666666667 and parameters: {'classifier': 'LogisticRegression', 'lr_c': 0.07832935218315662}. Best is trial 11 with value: 0.98.\u001b[0m\n",
      "\u001b[32m[I 2021-03-19 15:51:48,797]\u001b[0m Trial 24 finished with value: 0.9733333333333333 and parameters: {'classifier': 'LogisticRegression', 'lr_c': 1.9344174673157146}. Best is trial 11 with value: 0.98.\u001b[0m\n",
      "\u001b[32m[I 2021-03-19 15:51:48,927]\u001b[0m Trial 25 finished with value: 0.9733333333333333 and parameters: {'classifier': 'LogisticRegression', 'lr_c': 1347.4890250726805}. Best is trial 11 with value: 0.98.\u001b[0m\n",
      "\u001b[32m[I 2021-03-19 15:51:48,995]\u001b[0m Trial 26 finished with value: 0.8133333333333334 and parameters: {'classifier': 'LogisticRegression', 'lr_c': 0.005189618243017498}. Best is trial 11 with value: 0.98.\u001b[0m\n",
      "\u001b[32m[I 2021-03-19 15:51:49,033]\u001b[0m Trial 27 finished with value: 0.9733333333333333 and parameters: {'classifier': 'DecisionTree', 'dt_max_depth': 16}. Best is trial 11 with value: 0.98.\u001b[0m\n",
      "\u001b[32m[I 2021-03-19 15:51:49,090]\u001b[0m Trial 28 finished with value: 0.32 and parameters: {'classifier': 'LogisticRegression', 'lr_c': 2.883004961525416e-06}. Best is trial 11 with value: 0.98.\u001b[0m\n",
      "\u001b[32m[I 2021-03-19 15:51:49,229]\u001b[0m Trial 29 finished with value: 0.98 and parameters: {'classifier': 'LogisticRegression', 'lr_c': 51.32138779121152}. Best is trial 11 with value: 0.98.\u001b[0m\n",
      "\u001b[32m[I 2021-03-19 15:51:49,315]\u001b[0m Trial 30 finished with value: 0.9733333333333333 and parameters: {'classifier': 'LogisticRegression', 'lr_c': 196468458.3928268}. Best is trial 11 with value: 0.98.\u001b[0m\n",
      "\u001b[32m[I 2021-03-19 15:51:49,435]\u001b[0m Trial 31 finished with value: 0.98 and parameters: {'classifier': 'LogisticRegression', 'lr_c': 10.729949045127654}. Best is trial 11 with value: 0.98.\u001b[0m\n",
      "\u001b[32m[I 2021-03-19 15:51:49,563]\u001b[0m Trial 32 finished with value: 0.9733333333333333 and parameters: {'classifier': 'LogisticRegression', 'lr_c': 9996.197263313083}. Best is trial 11 with value: 0.98.\u001b[0m\n",
      "\u001b[32m[I 2021-03-19 15:51:49,656]\u001b[0m Trial 33 finished with value: 0.96 and parameters: {'classifier': 'LogisticRegression', 'lr_c': 0.4357340323584875}. Best is trial 11 with value: 0.98.\u001b[0m\n",
      "\u001b[32m[I 2021-03-19 15:51:49,765]\u001b[0m Trial 34 finished with value: 0.98 and parameters: {'classifier': 'LogisticRegression', 'lr_c': 11.433402857626334}. Best is trial 11 with value: 0.98.\u001b[0m\n",
      "\u001b[32m[I 2021-03-19 15:51:49,882]\u001b[0m Trial 35 finished with value: 0.9733333333333333 and parameters: {'classifier': 'LogisticRegression', 'lr_c': 1045.3453448624382}. Best is trial 11 with value: 0.98.\u001b[0m\n",
      "\u001b[32m[I 2021-03-19 15:51:49,913]\u001b[0m Trial 36 finished with value: 0.96 and parameters: {'classifier': 'DecisionTree', 'dt_max_depth': 39}. Best is trial 11 with value: 0.98.\u001b[0m\n",
      "\u001b[32m[I 2021-03-19 15:51:50,055]\u001b[0m Trial 37 finished with value: 0.9733333333333333 and parameters: {'classifier': 'LogisticRegression', 'lr_c': 48681.64083806956}. Best is trial 11 with value: 0.98.\u001b[0m\n",
      "\u001b[32m[I 2021-03-19 15:51:50,116]\u001b[0m Trial 38 finished with value: 0.8466666666666667 and parameters: {'classifier': 'LogisticRegression', 'lr_c': 0.008521694311642765}. Best is trial 11 with value: 0.98.\u001b[0m\n",
      "\u001b[32m[I 2021-03-19 15:51:50,242]\u001b[0m Trial 39 finished with value: 0.9733333333333333 and parameters: {'classifier': 'LogisticRegression', 'lr_c': 1.6500410142301265}. Best is trial 11 with value: 0.98.\u001b[0m\n"
     ]
    },
    {
     "name": "stderr",
     "output_type": "stream",
     "text": [
      "\u001b[32m[I 2021-03-19 15:51:50,276]\u001b[0m Trial 40 finished with value: 0.9533333333333333 and parameters: {'classifier': 'DecisionTree', 'dt_max_depth': 19}. Best is trial 11 with value: 0.98.\u001b[0m\n",
      "\u001b[32m[I 2021-03-19 15:51:50,396]\u001b[0m Trial 41 finished with value: 0.98 and parameters: {'classifier': 'LogisticRegression', 'lr_c': 47.65465779311918}. Best is trial 11 with value: 0.98.\u001b[0m\n",
      "\u001b[32m[I 2021-03-19 15:51:50,528]\u001b[0m Trial 42 finished with value: 0.9666666666666667 and parameters: {'classifier': 'LogisticRegression', 'lr_c': 136.1246747762004}. Best is trial 11 with value: 0.98.\u001b[0m\n",
      "\u001b[32m[I 2021-03-19 15:51:50,638]\u001b[0m Trial 43 finished with value: 0.98 and parameters: {'classifier': 'LogisticRegression', 'lr_c': 11.946805672859206}. Best is trial 11 with value: 0.98.\u001b[0m\n",
      "\u001b[32m[I 2021-03-19 15:51:50,751]\u001b[0m Trial 44 finished with value: 0.9733333333333333 and parameters: {'classifier': 'LogisticRegression', 'lr_c': 5824.383904928285}. Best is trial 11 with value: 0.98.\u001b[0m\n",
      "\u001b[32m[I 2021-03-19 15:51:50,888]\u001b[0m Trial 45 finished with value: 0.9733333333333333 and parameters: {'classifier': 'LogisticRegression', 'lr_c': 131220.5121957113}. Best is trial 11 with value: 0.98.\u001b[0m\n",
      "\u001b[32m[I 2021-03-19 15:51:50,990]\u001b[0m Trial 46 finished with value: 0.9466666666666667 and parameters: {'classifier': 'LogisticRegression', 'lr_c': 0.18968443533021884}. Best is trial 11 with value: 0.98.\u001b[0m\n",
      "\u001b[32m[I 2021-03-19 15:51:51,114]\u001b[0m Trial 47 finished with value: 0.9733333333333333 and parameters: {'classifier': 'LogisticRegression', 'lr_c': 8.884937111245481}. Best is trial 11 with value: 0.98.\u001b[0m\n",
      "\u001b[32m[I 2021-03-19 15:51:51,247]\u001b[0m Trial 48 finished with value: 0.9733333333333333 and parameters: {'classifier': 'LogisticRegression', 'lr_c': 198.35473543083128}. Best is trial 11 with value: 0.98.\u001b[0m\n",
      "\u001b[32m[I 2021-03-19 15:51:51,307]\u001b[0m Trial 49 finished with value: 0.8333333333333334 and parameters: {'classifier': 'LogisticRegression', 'lr_c': 0.007010292121462494}. Best is trial 11 with value: 0.98.\u001b[0m\n",
      "\u001b[32m[I 2021-03-19 15:51:51,429]\u001b[0m Trial 50 finished with value: 0.9733333333333333 and parameters: {'classifier': 'LogisticRegression', 'lr_c': 1590244.6266886417}. Best is trial 11 with value: 0.98.\u001b[0m\n",
      "\u001b[32m[I 2021-03-19 15:51:51,531]\u001b[0m Trial 51 finished with value: 0.9733333333333333 and parameters: {'classifier': 'LogisticRegression', 'lr_c': 9.870371392570176}. Best is trial 11 with value: 0.98.\u001b[0m\n",
      "\u001b[32m[I 2021-03-19 15:51:51,634]\u001b[0m Trial 52 finished with value: 0.9733333333333333 and parameters: {'classifier': 'LogisticRegression', 'lr_c': 54.34766344142026}. Best is trial 11 with value: 0.98.\u001b[0m\n",
      "\u001b[32m[I 2021-03-19 15:51:51,755]\u001b[0m Trial 53 finished with value: 0.9733333333333333 and parameters: {'classifier': 'LogisticRegression', 'lr_c': 4453.578320659168}. Best is trial 11 with value: 0.98.\u001b[0m\n",
      "\u001b[32m[I 2021-03-19 15:51:51,865]\u001b[0m Trial 54 finished with value: 0.9733333333333333 and parameters: {'classifier': 'LogisticRegression', 'lr_c': 3.0672429306400337}. Best is trial 11 with value: 0.98.\u001b[0m\n",
      "\u001b[32m[I 2021-03-19 15:51:51,929]\u001b[0m Trial 55 finished with value: 0.9 and parameters: {'classifier': 'LogisticRegression', 'lr_c': 0.024795491790554142}. Best is trial 11 with value: 0.98.\u001b[0m\n",
      "\u001b[32m[I 2021-03-19 15:51:52,033]\u001b[0m Trial 56 finished with value: 0.98 and parameters: {'classifier': 'LogisticRegression', 'lr_c': 37.46936585913591}. Best is trial 11 with value: 0.98.\u001b[0m\n",
      "\u001b[32m[I 2021-03-19 15:51:52,148]\u001b[0m Trial 57 finished with value: 0.9733333333333333 and parameters: {'classifier': 'LogisticRegression', 'lr_c': 46021.51428913485}. Best is trial 11 with value: 0.98.\u001b[0m\n",
      "\u001b[32m[I 2021-03-19 15:51:52,272]\u001b[0m Trial 58 finished with value: 0.9733333333333333 and parameters: {'classifier': 'LogisticRegression', 'lr_c': 433.45747498009814}. Best is trial 11 with value: 0.98.\u001b[0m\n",
      "\u001b[32m[I 2021-03-19 15:51:52,379]\u001b[0m Trial 59 finished with value: 0.96 and parameters: {'classifier': 'LogisticRegression', 'lr_c': 0.30505056976937023}. Best is trial 11 with value: 0.98.\u001b[0m\n",
      "\u001b[32m[I 2021-03-19 15:51:52,411]\u001b[0m Trial 60 finished with value: 0.9666666666666667 and parameters: {'classifier': 'DecisionTree', 'dt_max_depth': 28}. Best is trial 11 with value: 0.98.\u001b[0m\n",
      "\u001b[32m[I 2021-03-19 15:51:52,539]\u001b[0m Trial 61 finished with value: 0.98 and parameters: {'classifier': 'LogisticRegression', 'lr_c': 11.33597607064823}. Best is trial 11 with value: 0.98.\u001b[0m\n",
      "\u001b[32m[I 2021-03-19 15:51:52,664]\u001b[0m Trial 62 finished with value: 0.98 and parameters: {'classifier': 'LogisticRegression', 'lr_c': 5.7244693529627835}. Best is trial 11 with value: 0.98.\u001b[0m\n",
      "\u001b[32m[I 2021-03-19 15:51:52,791]\u001b[0m Trial 63 finished with value: 0.98 and parameters: {'classifier': 'LogisticRegression', 'lr_c': 35.848788765361164}. Best is trial 11 with value: 0.98.\u001b[0m\n",
      "\u001b[32m[I 2021-03-19 15:51:52,901]\u001b[0m Trial 64 finished with value: 0.98 and parameters: {'classifier': 'LogisticRegression', 'lr_c': 3.8307883053170415}. Best is trial 11 with value: 0.98.\u001b[0m\n",
      "\u001b[32m[I 2021-03-19 15:51:53,014]\u001b[0m Trial 65 finished with value: 0.96 and parameters: {'classifier': 'LogisticRegression', 'lr_c': 0.558549365913677}. Best is trial 11 with value: 0.98.\u001b[0m\n",
      "\u001b[32m[I 2021-03-19 15:51:53,057]\u001b[0m Trial 66 finished with value: 0.7400000000000001 and parameters: {'classifier': 'LogisticRegression', 'lr_c': 0.00034215422126728965}. Best is trial 11 with value: 0.98.\u001b[0m\n",
      "\u001b[32m[I 2021-03-19 15:51:53,159]\u001b[0m Trial 67 finished with value: 0.9733333333333333 and parameters: {'classifier': 'LogisticRegression', 'lr_c': 1532.5118644734025}. Best is trial 11 with value: 0.98.\u001b[0m\n",
      "\u001b[32m[I 2021-03-19 15:51:53,228]\u001b[0m Trial 68 finished with value: 0.9466666666666667 and parameters: {'classifier': 'LogisticRegression', 'lr_c': 0.06663372061277079}. Best is trial 11 with value: 0.98.\u001b[0m\n",
      "\u001b[32m[I 2021-03-19 15:51:53,327]\u001b[0m Trial 69 finished with value: 0.9733333333333333 and parameters: {'classifier': 'LogisticRegression', 'lr_c': 177.28551458341326}. Best is trial 11 with value: 0.98.\u001b[0m\n",
      "\u001b[32m[I 2021-03-19 15:51:53,450]\u001b[0m Trial 70 finished with value: 0.9733333333333333 and parameters: {'classifier': 'LogisticRegression', 'lr_c': 459.89388632538873}. Best is trial 11 with value: 0.98.\u001b[0m\n",
      "\u001b[32m[I 2021-03-19 15:51:53,545]\u001b[0m Trial 71 finished with value: 0.98 and parameters: {'classifier': 'LogisticRegression', 'lr_c': 5.107216296310102}. Best is trial 11 with value: 0.98.\u001b[0m\n",
      "\u001b[32m[I 2021-03-19 15:51:53,699]\u001b[0m Trial 72 finished with value: 0.98 and parameters: {'classifier': 'LogisticRegression', 'lr_c': 42.103502891379584}. Best is trial 11 with value: 0.98.\u001b[0m\n",
      "\u001b[32m[I 2021-03-19 15:51:53,812]\u001b[0m Trial 73 finished with value: 0.98 and parameters: {'classifier': 'LogisticRegression', 'lr_c': 77.47484349391466}. Best is trial 11 with value: 0.98.\u001b[0m\n",
      "\u001b[32m[I 2021-03-19 15:51:53,919]\u001b[0m Trial 74 finished with value: 0.98 and parameters: {'classifier': 'LogisticRegression', 'lr_c': 57.6706847081699}. Best is trial 11 with value: 0.98.\u001b[0m\n",
      "\u001b[32m[I 2021-03-19 15:51:54,032]\u001b[0m Trial 75 finished with value: 0.98 and parameters: {'classifier': 'LogisticRegression', 'lr_c': 66.9107652680452}. Best is trial 11 with value: 0.98.\u001b[0m\n",
      "\u001b[32m[I 2021-03-19 15:51:54,146]\u001b[0m Trial 76 finished with value: 0.9733333333333333 and parameters: {'classifier': 'LogisticRegression', 'lr_c': 0.9975030285973553}. Best is trial 11 with value: 0.98.\u001b[0m\n",
      "\u001b[32m[I 2021-03-19 15:51:54,179]\u001b[0m Trial 77 finished with value: 0.9733333333333333 and parameters: {'classifier': 'DecisionTree', 'dt_max_depth': 10}. Best is trial 11 with value: 0.98.\u001b[0m\n",
      "\u001b[32m[I 2021-03-19 15:51:54,246]\u001b[0m Trial 78 finished with value: 0.9466666666666667 and parameters: {'classifier': 'LogisticRegression', 'lr_c': 0.09764718452975235}. Best is trial 11 with value: 0.98.\u001b[0m\n",
      "\u001b[32m[I 2021-03-19 15:51:54,365]\u001b[0m Trial 79 finished with value: 0.9733333333333333 and parameters: {'classifier': 'LogisticRegression', 'lr_c': 2467.3272873074693}. Best is trial 11 with value: 0.98.\u001b[0m\n",
      "\u001b[32m[I 2021-03-19 15:51:54,414]\u001b[0m Trial 80 finished with value: 0.32 and parameters: {'classifier': 'LogisticRegression', 'lr_c': 4.028151720890463e-10}. Best is trial 11 with value: 0.98.\u001b[0m\n"
     ]
    },
    {
     "name": "stderr",
     "output_type": "stream",
     "text": [
      "\u001b[32m[I 2021-03-19 15:51:54,513]\u001b[0m Trial 81 finished with value: 0.98 and parameters: {'classifier': 'LogisticRegression', 'lr_c': 19.9599509900158}. Best is trial 11 with value: 0.98.\u001b[0m\n",
      "\u001b[32m[I 2021-03-19 15:51:54,625]\u001b[0m Trial 82 finished with value: 0.98 and parameters: {'classifier': 'LogisticRegression', 'lr_c': 14.428304429893142}. Best is trial 11 with value: 0.98.\u001b[0m\n",
      "\u001b[32m[I 2021-03-19 15:51:54,720]\u001b[0m Trial 83 finished with value: 0.9733333333333333 and parameters: {'classifier': 'LogisticRegression', 'lr_c': 1.415020811855268}. Best is trial 11 with value: 0.98.\u001b[0m\n",
      "\u001b[32m[I 2021-03-19 15:51:54,827]\u001b[0m Trial 84 finished with value: 0.98 and parameters: {'classifier': 'LogisticRegression', 'lr_c': 16.299519785505076}. Best is trial 11 with value: 0.98.\u001b[0m\n",
      "\u001b[32m[I 2021-03-19 15:51:54,940]\u001b[0m Trial 85 finished with value: 0.98 and parameters: {'classifier': 'LogisticRegression', 'lr_c': 6.774424923612829}. Best is trial 11 with value: 0.98.\u001b[0m\n",
      "\u001b[32m[I 2021-03-19 15:51:55,041]\u001b[0m Trial 86 finished with value: 0.98 and parameters: {'classifier': 'LogisticRegression', 'lr_c': 5.186577456797167}. Best is trial 11 with value: 0.98.\u001b[0m\n",
      "\u001b[32m[I 2021-03-19 15:51:55,137]\u001b[0m Trial 87 finished with value: 0.9733333333333333 and parameters: {'classifier': 'LogisticRegression', 'lr_c': 330.1785609372417}. Best is trial 11 with value: 0.98.\u001b[0m\n",
      "\u001b[32m[I 2021-03-19 15:51:55,244]\u001b[0m Trial 88 finished with value: 0.9733333333333333 and parameters: {'classifier': 'LogisticRegression', 'lr_c': 16297.06446837089}. Best is trial 11 with value: 0.98.\u001b[0m\n",
      "\u001b[32m[I 2021-03-19 15:51:55,341]\u001b[0m Trial 89 finished with value: 0.96 and parameters: {'classifier': 'LogisticRegression', 'lr_c': 0.5704591197565005}. Best is trial 11 with value: 0.98.\u001b[0m\n",
      "\u001b[32m[I 2021-03-19 15:51:55,438]\u001b[0m Trial 90 finished with value: 0.9733333333333333 and parameters: {'classifier': 'LogisticRegression', 'lr_c': 2.786912879149203}. Best is trial 11 with value: 0.98.\u001b[0m\n",
      "\u001b[32m[I 2021-03-19 15:51:55,552]\u001b[0m Trial 91 finished with value: 0.98 and parameters: {'classifier': 'LogisticRegression', 'lr_c': 4.154954464174067}. Best is trial 11 with value: 0.98.\u001b[0m\n",
      "\u001b[32m[I 2021-03-19 15:51:55,660]\u001b[0m Trial 92 finished with value: 0.9733333333333333 and parameters: {'classifier': 'LogisticRegression', 'lr_c': 2.147364571642789}. Best is trial 11 with value: 0.98.\u001b[0m\n",
      "\u001b[32m[I 2021-03-19 15:51:55,737]\u001b[0m Trial 93 finished with value: 0.88 and parameters: {'classifier': 'LogisticRegression', 'lr_c': 0.020062582451558675}. Best is trial 11 with value: 0.98.\u001b[0m\n",
      "\u001b[32m[I 2021-03-19 15:51:55,864]\u001b[0m Trial 94 finished with value: 0.98 and parameters: {'classifier': 'LogisticRegression', 'lr_c': 20.335321006641284}. Best is trial 11 with value: 0.98.\u001b[0m\n",
      "\u001b[32m[I 2021-03-19 15:51:55,986]\u001b[0m Trial 95 finished with value: 0.9733333333333333 and parameters: {'classifier': 'LogisticRegression', 'lr_c': 743.4765555469389}. Best is trial 11 with value: 0.98.\u001b[0m\n",
      "\u001b[32m[I 2021-03-19 15:51:56,092]\u001b[0m Trial 96 finished with value: 0.98 and parameters: {'classifier': 'LogisticRegression', 'lr_c': 39.7300535886694}. Best is trial 11 with value: 0.98.\u001b[0m\n",
      "\u001b[32m[I 2021-03-19 15:51:56,215]\u001b[0m Trial 97 finished with value: 0.9733333333333333 and parameters: {'classifier': 'LogisticRegression', 'lr_c': 166.49124717279744}. Best is trial 11 with value: 0.98.\u001b[0m\n",
      "\u001b[32m[I 2021-03-19 15:51:56,308]\u001b[0m Trial 98 finished with value: 0.9466666666666667 and parameters: {'classifier': 'LogisticRegression', 'lr_c': 0.19859296861406525}. Best is trial 11 with value: 0.98.\u001b[0m\n",
      "\u001b[32m[I 2021-03-19 15:51:56,430]\u001b[0m Trial 99 finished with value: 0.9733333333333333 and parameters: {'classifier': 'LogisticRegression', 'lr_c': 8.42391300347934}. Best is trial 11 with value: 0.98.\u001b[0m\n"
     ]
    },
    {
     "name": "stdout",
     "output_type": "stream",
     "text": [
      "FrozenTrial(number=11, values=[0.98], datetime_start=datetime.datetime(2021, 3, 19, 15, 51, 47, 414678), datetime_complete=datetime.datetime(2021, 3, 19, 15, 51, 47, 528685), params={'classifier': 'LogisticRegression', 'lr_c': 13.54390623051175}, distributions={'classifier': CategoricalDistribution(choices=('LogisticRegression', 'DecisionTree')), 'lr_c': LogUniformDistribution(high=10000000000.0, low=1e-10)}, user_attrs={}, system_attrs={}, intermediate_values={}, trial_id=11, state=TrialState.COMPLETE, value=None)\n"
     ]
    }
   ],
   "source": [
    "import sklearn.datasets\n",
    "import sklearn.ensemble\n",
    "import sklearn.model_selection\n",
    "\n",
    "from sklearn.tree import DecisionTreeClassifier\n",
    "from sklearn.ensemble import RandomForestClassifier\n",
    "from sklearn.linear_model import LogisticRegression\n",
    "\n",
    "\n",
    "def objective(trial):\n",
    "    iris = sklearn.datasets.load_iris()\n",
    "    x, y = iris.data, iris.target\n",
    "\n",
    "    classifier_name = trial.suggest_categorical(\"classifier\", [\"LogisticRegression\",\"DecisionTree\"])\n",
    "    \n",
    "              \n",
    "    #Logistic Regression: try to change C and penalty.\n",
    "    if classifier_name == \"LogisticRegression\": \n",
    "        \n",
    "        lr_c = trial.suggest_float(\"lr_c\", 1e-10, 1e10, log = True)\n",
    "        classifier_obj = LogisticRegression(C = lr_c)\n",
    "        \n",
    "    #Decision Tree\n",
    "    else:\n",
    "        dt_max_depth = trial.suggest_int(\"dt_max_depth\", 2, 42)\n",
    "        classifier_obj = sklearn.tree.DecisionTreeClassifier( max_depth = dt_max_depth)\n",
    "        \n",
    "    # optuna use cross validation    \n",
    "    score = sklearn.model_selection.cross_val_score(classifier_obj, x, y, n_jobs = -1, cv = 3)\n",
    "    accuracy = score.mean()\n",
    "    return accuracy\n",
    "\n",
    "if __name__ == \"__main__\":\n",
    "    study = optuna.create_study(direction=\"maximize\")\n",
    "    study.optimize(objective, n_trials = 100)\n",
    "    print(study.best_trial)"
   ]
  },
  {
   "cell_type": "code",
   "execution_count": 36,
   "metadata": {},
   "outputs": [
    {
     "name": "stdout",
     "output_type": "stream",
     "text": [
      "The best trial is : \n",
      "FrozenTrial(number=11, values=[0.98], datetime_start=datetime.datetime(2021, 3, 19, 15, 51, 47, 414678), datetime_complete=datetime.datetime(2021, 3, 19, 15, 51, 47, 528685), params={'classifier': 'LogisticRegression', 'lr_c': 13.54390623051175}, distributions={'classifier': CategoricalDistribution(choices=('LogisticRegression', 'DecisionTree')), 'lr_c': LogUniformDistribution(high=10000000000.0, low=1e-10)}, user_attrs={}, system_attrs={}, intermediate_values={}, trial_id=11, state=TrialState.COMPLETE, value=None)\n"
     ]
    }
   ],
   "source": [
    "# best trial result\n",
    "print(f\"The best trial is : \\n{study.best_trial}\")"
   ]
  },
  {
   "cell_type": "code",
   "execution_count": 37,
   "metadata": {},
   "outputs": [
    {
     "name": "stdout",
     "output_type": "stream",
     "text": [
      "The best value is : 0.98\n"
     ]
    }
   ],
   "source": [
    "# best value result\n",
    "print(f\"The best value is : {study.best_value}\")"
   ]
  },
  {
   "cell_type": "code",
   "execution_count": 38,
   "metadata": {},
   "outputs": [
    {
     "name": "stdout",
     "output_type": "stream",
     "text": [
      "The best parameters are : \n",
      "{'classifier': 'LogisticRegression', 'lr_c': 13.54390623051175}\n"
     ]
    }
   ],
   "source": [
    "# best parameters result\n",
    "print(f\"The best parameters are : \\n{study.best_params}\")"
   ]
  },
  {
   "cell_type": "markdown",
   "metadata": {},
   "source": [
    "By using an 'OPTUNA' to look for the best model prediction it show that 'LogisticRegression' is the best model"
   ]
  },
  {
   "cell_type": "code",
   "execution_count": 39,
   "metadata": {},
   "outputs": [
    {
     "name": "stderr",
     "output_type": "stream",
     "text": [
      "C:\\Users\\nammy\\anaconda3\\lib\\site-packages\\sklearn\\linear_model\\_logistic.py:762: ConvergenceWarning: lbfgs failed to converge (status=1):\n",
      "STOP: TOTAL NO. of ITERATIONS REACHED LIMIT.\n",
      "\n",
      "Increase the number of iterations (max_iter) or scale the data as shown in:\n",
      "    https://scikit-learn.org/stable/modules/preprocessing.html\n",
      "Please also refer to the documentation for alternative solver options:\n",
      "    https://scikit-learn.org/stable/modules/linear_model.html#logistic-regression\n",
      "  n_iter_i = _check_optimize_result(\n"
     ]
    }
   ],
   "source": [
    "from sklearn.linear_model import LogisticRegression\n",
    "from sklearn.preprocessing import RobustScaler\n",
    "\n",
    "model = LogisticRegression()\n",
    "model = model.fit(X_train, y_train)"
   ]
  },
  {
   "cell_type": "code",
   "execution_count": 40,
   "metadata": {},
   "outputs": [],
   "source": [
    "y_hat_train = model.predict(X_train)"
   ]
  },
  {
   "cell_type": "code",
   "execution_count": 41,
   "metadata": {},
   "outputs": [
    {
     "name": "stdout",
     "output_type": "stream",
     "text": [
      "Training Set\n",
      "[[     0  29190      0   1851]\n",
      " [     0 150819      0   7161]\n",
      " [     0   1040      0    451]\n",
      " [     0      0      0 107328]]\n",
      "Accuracy: 0.87\n",
      "F1-score: 0.87\n"
     ]
    }
   ],
   "source": [
    "from sklearn.metrics import confusion_matrix\n",
    "from sklearn.metrics import accuracy_score, precision_score, recall_score, f1_score\n",
    "\n",
    "print('Training Set')\n",
    "print(confusion_matrix(y_true=y_train, y_pred=y_hat_train))\n",
    "print(f'Accuracy: {accuracy_score(y_true=y_train, y_pred=y_hat_train):.2f}')\n",
    "# print(f'Precision: {precision_score(y_true=y_train, y_pred=y_hat_train):.2f}')\n",
    "# print(f'Recall: {recall_score(y_true=y_train, y_pred=y_hat_train):.2f}')\n",
    "print(f'F1-score: {f1_score(y_true=y_train, y_pred=y_hat_train,average=\"micro\"):.2f}')\n"
   ]
  },
  {
   "cell_type": "code",
   "execution_count": 42,
   "metadata": {},
   "outputs": [
    {
     "data": {
      "text/html": [
       "<div>\n",
       "<style scoped>\n",
       "    .dataframe tbody tr th:only-of-type {\n",
       "        vertical-align: middle;\n",
       "    }\n",
       "\n",
       "    .dataframe tbody tr th {\n",
       "        vertical-align: top;\n",
       "    }\n",
       "\n",
       "    .dataframe thead th {\n",
       "        text-align: right;\n",
       "    }\n",
       "</style>\n",
       "<table border=\"1\" class=\"dataframe\">\n",
       "  <thead>\n",
       "    <tr style=\"text-align: right;\">\n",
       "      <th></th>\n",
       "      <th>sub_category</th>\n",
       "      <th>category</th>\n",
       "      <th>deadline</th>\n",
       "      <th>launched</th>\n",
       "      <th>backers</th>\n",
       "      <th>country</th>\n",
       "      <th>pledged</th>\n",
       "      <th>goal</th>\n",
       "      <th>sub_cat_code</th>\n",
       "      <th>cat_code</th>\n",
       "      <th>country_code</th>\n",
       "    </tr>\n",
       "  </thead>\n",
       "  <tbody>\n",
       "    <tr>\n",
       "      <th>0</th>\n",
       "      <td>Apparel</td>\n",
       "      <td>Fashion</td>\n",
       "      <td>2015-04-13 00:00:00</td>\n",
       "      <td>2015-03-14 09:24:34</td>\n",
       "      <td>11</td>\n",
       "      <td>AU</td>\n",
       "      <td>870.31</td>\n",
       "      <td>781.25</td>\n",
       "      <td>7</td>\n",
       "      <td>5</td>\n",
       "      <td>1</td>\n",
       "    </tr>\n",
       "    <tr>\n",
       "      <th>1</th>\n",
       "      <td>Design</td>\n",
       "      <td>Design</td>\n",
       "      <td>2016-05-06 00:00:00</td>\n",
       "      <td>2016-03-22 18:16:15</td>\n",
       "      <td>4</td>\n",
       "      <td>US</td>\n",
       "      <td>17.00</td>\n",
       "      <td>5000.00</td>\n",
       "      <td>37</td>\n",
       "      <td>4</td>\n",
       "      <td>22</td>\n",
       "    </tr>\n",
       "    <tr>\n",
       "      <th>2</th>\n",
       "      <td>Technology</td>\n",
       "      <td>Technology</td>\n",
       "      <td>2017-12-09 00:00:00</td>\n",
       "      <td>2017-11-09 04:53:45</td>\n",
       "      <td>2</td>\n",
       "      <td>US</td>\n",
       "      <td>125.00</td>\n",
       "      <td>5950.00</td>\n",
       "      <td>138</td>\n",
       "      <td>13</td>\n",
       "      <td>22</td>\n",
       "    </tr>\n",
       "    <tr>\n",
       "      <th>3</th>\n",
       "      <td>Public Art</td>\n",
       "      <td>Art</td>\n",
       "      <td>2016-05-15 00:00:00</td>\n",
       "      <td>2016-04-15 21:12:25</td>\n",
       "      <td>13</td>\n",
       "      <td>US</td>\n",
       "      <td>1515.00</td>\n",
       "      <td>1500.00</td>\n",
       "      <td>114</td>\n",
       "      <td>0</td>\n",
       "      <td>22</td>\n",
       "    </tr>\n",
       "    <tr>\n",
       "      <th>4</th>\n",
       "      <td>Product Design</td>\n",
       "      <td>Design</td>\n",
       "      <td>2016-01-07 00:00:00</td>\n",
       "      <td>2015-12-11 10:21:40</td>\n",
       "      <td>1</td>\n",
       "      <td>IT</td>\n",
       "      <td>32.58</td>\n",
       "      <td>21721.89</td>\n",
       "      <td>113</td>\n",
       "      <td>4</td>\n",
       "      <td>12</td>\n",
       "    </tr>\n",
       "  </tbody>\n",
       "</table>\n",
       "</div>"
      ],
      "text/plain": [
       "     sub_category    category             deadline             launched  \\\n",
       "0         Apparel     Fashion  2015-04-13 00:00:00  2015-03-14 09:24:34   \n",
       "1          Design      Design  2016-05-06 00:00:00  2016-03-22 18:16:15   \n",
       "2      Technology  Technology  2017-12-09 00:00:00  2017-11-09 04:53:45   \n",
       "3      Public Art         Art  2016-05-15 00:00:00  2016-04-15 21:12:25   \n",
       "4  Product Design      Design  2016-01-07 00:00:00  2015-12-11 10:21:40   \n",
       "\n",
       "   backers country  pledged      goal  sub_cat_code  cat_code  country_code  \n",
       "0       11      AU   870.31    781.25             7         5             1  \n",
       "1        4      US    17.00   5000.00            37         4            22  \n",
       "2        2      US   125.00   5950.00           138        13            22  \n",
       "3       13      US  1515.00   1500.00           114         0            22  \n",
       "4        1      IT    32.58  21721.89           113         4            12  "
      ]
     },
     "execution_count": 42,
     "metadata": {},
     "output_type": "execute_result"
    }
   ],
   "source": [
    "lb_make = LabelEncoder()\n",
    "dff['sub_cat_code'] = lb_make.fit_transform(dff['sub_category'])\n",
    "dff['cat_code'] = lb_make.fit_transform(dff['category'])\n",
    "dff['country_code'] = lb_make.fit_transform(dff['country'])\n",
    "dff.head()"
   ]
  },
  {
   "cell_type": "code",
   "execution_count": 43,
   "metadata": {},
   "outputs": [
    {
     "data": {
      "text/plain": [
       "sub_category            object\n",
       "category                object\n",
       "deadline        datetime64[ns]\n",
       "launched        datetime64[ns]\n",
       "backers                  int64\n",
       "country                 object\n",
       "pledged                float64\n",
       "goal                   float64\n",
       "sub_cat_code             int32\n",
       "cat_code                 int32\n",
       "country_code             int32\n",
       "dtype: object"
      ]
     },
     "execution_count": 43,
     "metadata": {},
     "output_type": "execute_result"
    }
   ],
   "source": [
    "# Convert the strings to datetime objects\n",
    "dff['deadline'] = pd.to_datetime(dff['deadline'])\n",
    "dff['launched'] = pd.to_datetime(dff['launched'])\n",
    "dff.dtypes"
   ]
  },
  {
   "cell_type": "code",
   "execution_count": 44,
   "metadata": {},
   "outputs": [
    {
     "data": {
      "text/html": [
       "<div>\n",
       "<style scoped>\n",
       "    .dataframe tbody tr th:only-of-type {\n",
       "        vertical-align: middle;\n",
       "    }\n",
       "\n",
       "    .dataframe tbody tr th {\n",
       "        vertical-align: top;\n",
       "    }\n",
       "\n",
       "    .dataframe thead th {\n",
       "        text-align: right;\n",
       "    }\n",
       "</style>\n",
       "<table border=\"1\" class=\"dataframe\">\n",
       "  <thead>\n",
       "    <tr style=\"text-align: right;\">\n",
       "      <th></th>\n",
       "      <th>sub_category</th>\n",
       "      <th>category</th>\n",
       "      <th>deadline</th>\n",
       "      <th>launched</th>\n",
       "      <th>backers</th>\n",
       "      <th>country</th>\n",
       "      <th>pledged</th>\n",
       "      <th>goal</th>\n",
       "      <th>sub_cat_code</th>\n",
       "      <th>cat_code</th>\n",
       "      <th>country_code</th>\n",
       "    </tr>\n",
       "  </thead>\n",
       "  <tbody>\n",
       "  </tbody>\n",
       "</table>\n",
       "</div>"
      ],
      "text/plain": [
       "Empty DataFrame\n",
       "Columns: [sub_category, category, deadline, launched, backers, country, pledged, goal, sub_cat_code, cat_code, country_code]\n",
       "Index: []"
      ]
     },
     "execution_count": 44,
     "metadata": {},
     "output_type": "execute_result"
    }
   ],
   "source": [
    "# Find duplicate rows in the dataset\n",
    "dff[dff.duplicated(keep=False)==True]"
   ]
  },
  {
   "cell_type": "code",
   "execution_count": 45,
   "metadata": {},
   "outputs": [],
   "source": [
    "# # Drop unnecessary columns\n",
    "# dff = dff.drop(columns=['sub_category', 'category',  'country'])\n",
    "\n",
    "# # Store year of the launched date into launched_year column\n",
    "# dff['launched_year'] = dff['launched'].dt.year\n",
    "\n",
    "# dff.head()"
   ]
  },
  {
   "cell_type": "code",
   "execution_count": 46,
   "metadata": {},
   "outputs": [
    {
     "data": {
      "text/html": [
       "<div>\n",
       "<style scoped>\n",
       "    .dataframe tbody tr th:only-of-type {\n",
       "        vertical-align: middle;\n",
       "    }\n",
       "\n",
       "    .dataframe tbody tr th {\n",
       "        vertical-align: top;\n",
       "    }\n",
       "\n",
       "    .dataframe thead th {\n",
       "        text-align: right;\n",
       "    }\n",
       "</style>\n",
       "<table border=\"1\" class=\"dataframe\">\n",
       "  <thead>\n",
       "    <tr style=\"text-align: right;\">\n",
       "      <th></th>\n",
       "      <th>sub_category</th>\n",
       "      <th>category</th>\n",
       "      <th>deadline</th>\n",
       "      <th>launched</th>\n",
       "      <th>backers</th>\n",
       "      <th>country</th>\n",
       "      <th>pledged</th>\n",
       "      <th>goal</th>\n",
       "      <th>sub_cat_code</th>\n",
       "      <th>cat_code</th>\n",
       "      <th>country_code</th>\n",
       "    </tr>\n",
       "  </thead>\n",
       "  <tbody>\n",
       "    <tr>\n",
       "      <th>0</th>\n",
       "      <td>Apparel</td>\n",
       "      <td>Fashion</td>\n",
       "      <td>2015-04-13</td>\n",
       "      <td>2015-03-14 09:24:34</td>\n",
       "      <td>11</td>\n",
       "      <td>AU</td>\n",
       "      <td>870.31</td>\n",
       "      <td>781.25</td>\n",
       "      <td>7</td>\n",
       "      <td>5</td>\n",
       "      <td>1</td>\n",
       "    </tr>\n",
       "    <tr>\n",
       "      <th>1</th>\n",
       "      <td>Design</td>\n",
       "      <td>Design</td>\n",
       "      <td>2016-05-06</td>\n",
       "      <td>2016-03-22 18:16:15</td>\n",
       "      <td>4</td>\n",
       "      <td>US</td>\n",
       "      <td>17.00</td>\n",
       "      <td>5000.00</td>\n",
       "      <td>37</td>\n",
       "      <td>4</td>\n",
       "      <td>22</td>\n",
       "    </tr>\n",
       "    <tr>\n",
       "      <th>2</th>\n",
       "      <td>Technology</td>\n",
       "      <td>Technology</td>\n",
       "      <td>2017-12-09</td>\n",
       "      <td>2017-11-09 04:53:45</td>\n",
       "      <td>2</td>\n",
       "      <td>US</td>\n",
       "      <td>125.00</td>\n",
       "      <td>5950.00</td>\n",
       "      <td>138</td>\n",
       "      <td>13</td>\n",
       "      <td>22</td>\n",
       "    </tr>\n",
       "    <tr>\n",
       "      <th>3</th>\n",
       "      <td>Public Art</td>\n",
       "      <td>Art</td>\n",
       "      <td>2016-05-15</td>\n",
       "      <td>2016-04-15 21:12:25</td>\n",
       "      <td>13</td>\n",
       "      <td>US</td>\n",
       "      <td>1515.00</td>\n",
       "      <td>1500.00</td>\n",
       "      <td>114</td>\n",
       "      <td>0</td>\n",
       "      <td>22</td>\n",
       "    </tr>\n",
       "    <tr>\n",
       "      <th>4</th>\n",
       "      <td>Product Design</td>\n",
       "      <td>Design</td>\n",
       "      <td>2016-01-07</td>\n",
       "      <td>2015-12-11 10:21:40</td>\n",
       "      <td>1</td>\n",
       "      <td>IT</td>\n",
       "      <td>32.58</td>\n",
       "      <td>21721.89</td>\n",
       "      <td>113</td>\n",
       "      <td>4</td>\n",
       "      <td>12</td>\n",
       "    </tr>\n",
       "  </tbody>\n",
       "</table>\n",
       "</div>"
      ],
      "text/plain": [
       "     sub_category    category   deadline            launched  backers country  \\\n",
       "0         Apparel     Fashion 2015-04-13 2015-03-14 09:24:34       11      AU   \n",
       "1          Design      Design 2016-05-06 2016-03-22 18:16:15        4      US   \n",
       "2      Technology  Technology 2017-12-09 2017-11-09 04:53:45        2      US   \n",
       "3      Public Art         Art 2016-05-15 2016-04-15 21:12:25       13      US   \n",
       "4  Product Design      Design 2016-01-07 2015-12-11 10:21:40        1      IT   \n",
       "\n",
       "   pledged      goal  sub_cat_code  cat_code  country_code  \n",
       "0   870.31    781.25             7         5             1  \n",
       "1    17.00   5000.00            37         4            22  \n",
       "2   125.00   5950.00           138        13            22  \n",
       "3  1515.00   1500.00           114         0            22  \n",
       "4    32.58  21721.89           113         4            12  "
      ]
     },
     "execution_count": 46,
     "metadata": {},
     "output_type": "execute_result"
    }
   ],
   "source": [
    "dff.head()"
   ]
  },
  {
   "cell_type": "code",
   "execution_count": 47,
   "metadata": {},
   "outputs": [
    {
     "data": {
      "text/plain": [
       "0       89.06\n",
       "1    -4983.00\n",
       "2    -5825.00\n",
       "3       15.00\n",
       "4   -21689.31\n",
       "Name: gp_diff, dtype: float64"
      ]
     },
     "execution_count": 47,
     "metadata": {},
     "output_type": "execute_result"
    }
   ],
   "source": [
    "diff_f = dff.pledged- dff.goal\n",
    "dff['gp_diff'] = diff_f\n",
    "dff['gp_diff'].head()"
   ]
  },
  {
   "cell_type": "code",
   "execution_count": 48,
   "metadata": {},
   "outputs": [
    {
     "data": {
      "text/html": [
       "<div>\n",
       "<style scoped>\n",
       "    .dataframe tbody tr th:only-of-type {\n",
       "        vertical-align: middle;\n",
       "    }\n",
       "\n",
       "    .dataframe tbody tr th {\n",
       "        vertical-align: top;\n",
       "    }\n",
       "\n",
       "    .dataframe thead th {\n",
       "        text-align: right;\n",
       "    }\n",
       "</style>\n",
       "<table border=\"1\" class=\"dataframe\">\n",
       "  <thead>\n",
       "    <tr style=\"text-align: right;\">\n",
       "      <th></th>\n",
       "      <th>sub_category</th>\n",
       "      <th>category</th>\n",
       "      <th>deadline</th>\n",
       "      <th>launched</th>\n",
       "      <th>backers</th>\n",
       "      <th>country</th>\n",
       "      <th>pledged</th>\n",
       "      <th>goal</th>\n",
       "      <th>sub_cat_code</th>\n",
       "      <th>cat_code</th>\n",
       "      <th>country_code</th>\n",
       "      <th>gp_diff</th>\n",
       "    </tr>\n",
       "  </thead>\n",
       "  <tbody>\n",
       "    <tr>\n",
       "      <th>0</th>\n",
       "      <td>Apparel</td>\n",
       "      <td>Fashion</td>\n",
       "      <td>2015-04-13</td>\n",
       "      <td>2015-03-14 09:24:34</td>\n",
       "      <td>11</td>\n",
       "      <td>AU</td>\n",
       "      <td>870.31</td>\n",
       "      <td>781.25</td>\n",
       "      <td>7</td>\n",
       "      <td>5</td>\n",
       "      <td>1</td>\n",
       "      <td>89.06</td>\n",
       "    </tr>\n",
       "    <tr>\n",
       "      <th>1</th>\n",
       "      <td>Design</td>\n",
       "      <td>Design</td>\n",
       "      <td>2016-05-06</td>\n",
       "      <td>2016-03-22 18:16:15</td>\n",
       "      <td>4</td>\n",
       "      <td>US</td>\n",
       "      <td>17.00</td>\n",
       "      <td>5000.00</td>\n",
       "      <td>37</td>\n",
       "      <td>4</td>\n",
       "      <td>22</td>\n",
       "      <td>-4983.00</td>\n",
       "    </tr>\n",
       "    <tr>\n",
       "      <th>2</th>\n",
       "      <td>Technology</td>\n",
       "      <td>Technology</td>\n",
       "      <td>2017-12-09</td>\n",
       "      <td>2017-11-09 04:53:45</td>\n",
       "      <td>2</td>\n",
       "      <td>US</td>\n",
       "      <td>125.00</td>\n",
       "      <td>5950.00</td>\n",
       "      <td>138</td>\n",
       "      <td>13</td>\n",
       "      <td>22</td>\n",
       "      <td>-5825.00</td>\n",
       "    </tr>\n",
       "    <tr>\n",
       "      <th>3</th>\n",
       "      <td>Public Art</td>\n",
       "      <td>Art</td>\n",
       "      <td>2016-05-15</td>\n",
       "      <td>2016-04-15 21:12:25</td>\n",
       "      <td>13</td>\n",
       "      <td>US</td>\n",
       "      <td>1515.00</td>\n",
       "      <td>1500.00</td>\n",
       "      <td>114</td>\n",
       "      <td>0</td>\n",
       "      <td>22</td>\n",
       "      <td>15.00</td>\n",
       "    </tr>\n",
       "    <tr>\n",
       "      <th>4</th>\n",
       "      <td>Product Design</td>\n",
       "      <td>Design</td>\n",
       "      <td>2016-01-07</td>\n",
       "      <td>2015-12-11 10:21:40</td>\n",
       "      <td>1</td>\n",
       "      <td>IT</td>\n",
       "      <td>32.58</td>\n",
       "      <td>21721.89</td>\n",
       "      <td>113</td>\n",
       "      <td>4</td>\n",
       "      <td>12</td>\n",
       "      <td>-21689.31</td>\n",
       "    </tr>\n",
       "  </tbody>\n",
       "</table>\n",
       "</div>"
      ],
      "text/plain": [
       "     sub_category    category   deadline            launched  backers country  \\\n",
       "0         Apparel     Fashion 2015-04-13 2015-03-14 09:24:34       11      AU   \n",
       "1          Design      Design 2016-05-06 2016-03-22 18:16:15        4      US   \n",
       "2      Technology  Technology 2017-12-09 2017-11-09 04:53:45        2      US   \n",
       "3      Public Art         Art 2016-05-15 2016-04-15 21:12:25       13      US   \n",
       "4  Product Design      Design 2016-01-07 2015-12-11 10:21:40        1      IT   \n",
       "\n",
       "   pledged      goal  sub_cat_code  cat_code  country_code   gp_diff  \n",
       "0   870.31    781.25             7         5             1     89.06  \n",
       "1    17.00   5000.00            37         4            22  -4983.00  \n",
       "2   125.00   5950.00           138        13            22  -5825.00  \n",
       "3  1515.00   1500.00           114         0            22     15.00  \n",
       "4    32.58  21721.89           113         4            12 -21689.31  "
      ]
     },
     "execution_count": 48,
     "metadata": {},
     "output_type": "execute_result"
    }
   ],
   "source": [
    "dff.head()"
   ]
  },
  {
   "cell_type": "code",
   "execution_count": 49,
   "metadata": {},
   "outputs": [
    {
     "data": {
      "text/html": [
       "<div>\n",
       "<style scoped>\n",
       "    .dataframe tbody tr th:only-of-type {\n",
       "        vertical-align: middle;\n",
       "    }\n",
       "\n",
       "    .dataframe tbody tr th {\n",
       "        vertical-align: top;\n",
       "    }\n",
       "\n",
       "    .dataframe thead th {\n",
       "        text-align: right;\n",
       "    }\n",
       "</style>\n",
       "<table border=\"1\" class=\"dataframe\">\n",
       "  <thead>\n",
       "    <tr style=\"text-align: right;\">\n",
       "      <th></th>\n",
       "      <th>sub_category</th>\n",
       "      <th>category</th>\n",
       "      <th>backers</th>\n",
       "      <th>country</th>\n",
       "      <th>pledged</th>\n",
       "      <th>goal</th>\n",
       "      <th>sub_cat_code</th>\n",
       "      <th>cat_code</th>\n",
       "      <th>country_code</th>\n",
       "      <th>gp_diff</th>\n",
       "    </tr>\n",
       "  </thead>\n",
       "  <tbody>\n",
       "    <tr>\n",
       "      <th>0</th>\n",
       "      <td>Apparel</td>\n",
       "      <td>Fashion</td>\n",
       "      <td>11</td>\n",
       "      <td>AU</td>\n",
       "      <td>870.31</td>\n",
       "      <td>781.25</td>\n",
       "      <td>7</td>\n",
       "      <td>5</td>\n",
       "      <td>1</td>\n",
       "      <td>89.06</td>\n",
       "    </tr>\n",
       "    <tr>\n",
       "      <th>1</th>\n",
       "      <td>Design</td>\n",
       "      <td>Design</td>\n",
       "      <td>4</td>\n",
       "      <td>US</td>\n",
       "      <td>17.00</td>\n",
       "      <td>5000.00</td>\n",
       "      <td>37</td>\n",
       "      <td>4</td>\n",
       "      <td>22</td>\n",
       "      <td>-4983.00</td>\n",
       "    </tr>\n",
       "    <tr>\n",
       "      <th>2</th>\n",
       "      <td>Technology</td>\n",
       "      <td>Technology</td>\n",
       "      <td>2</td>\n",
       "      <td>US</td>\n",
       "      <td>125.00</td>\n",
       "      <td>5950.00</td>\n",
       "      <td>138</td>\n",
       "      <td>13</td>\n",
       "      <td>22</td>\n",
       "      <td>-5825.00</td>\n",
       "    </tr>\n",
       "    <tr>\n",
       "      <th>3</th>\n",
       "      <td>Public Art</td>\n",
       "      <td>Art</td>\n",
       "      <td>13</td>\n",
       "      <td>US</td>\n",
       "      <td>1515.00</td>\n",
       "      <td>1500.00</td>\n",
       "      <td>114</td>\n",
       "      <td>0</td>\n",
       "      <td>22</td>\n",
       "      <td>15.00</td>\n",
       "    </tr>\n",
       "    <tr>\n",
       "      <th>4</th>\n",
       "      <td>Product Design</td>\n",
       "      <td>Design</td>\n",
       "      <td>1</td>\n",
       "      <td>IT</td>\n",
       "      <td>32.58</td>\n",
       "      <td>21721.89</td>\n",
       "      <td>113</td>\n",
       "      <td>4</td>\n",
       "      <td>12</td>\n",
       "      <td>-21689.31</td>\n",
       "    </tr>\n",
       "  </tbody>\n",
       "</table>\n",
       "</div>"
      ],
      "text/plain": [
       "     sub_category    category  backers country  pledged      goal  \\\n",
       "0         Apparel     Fashion       11      AU   870.31    781.25   \n",
       "1          Design      Design        4      US    17.00   5000.00   \n",
       "2      Technology  Technology        2      US   125.00   5950.00   \n",
       "3      Public Art         Art       13      US  1515.00   1500.00   \n",
       "4  Product Design      Design        1      IT    32.58  21721.89   \n",
       "\n",
       "   sub_cat_code  cat_code  country_code   gp_diff  \n",
       "0             7         5             1     89.06  \n",
       "1            37         4            22  -4983.00  \n",
       "2           138        13            22  -5825.00  \n",
       "3           114         0            22     15.00  \n",
       "4           113         4            12 -21689.31  "
      ]
     },
     "execution_count": 49,
     "metadata": {},
     "output_type": "execute_result"
    }
   ],
   "source": [
    "dff = dff.drop(columns=['deadline', 'launched'])\n",
    "dff.head()"
   ]
  },
  {
   "cell_type": "code",
   "execution_count": 51,
   "metadata": {},
   "outputs": [
    {
     "data": {
      "text/html": [
       "<div>\n",
       "<style scoped>\n",
       "    .dataframe tbody tr th:only-of-type {\n",
       "        vertical-align: middle;\n",
       "    }\n",
       "\n",
       "    .dataframe tbody tr th {\n",
       "        vertical-align: top;\n",
       "    }\n",
       "\n",
       "    .dataframe thead th {\n",
       "        text-align: right;\n",
       "    }\n",
       "</style>\n",
       "<table border=\"1\" class=\"dataframe\">\n",
       "  <thead>\n",
       "    <tr style=\"text-align: right;\">\n",
       "      <th></th>\n",
       "      <th>sub_category</th>\n",
       "      <th>category</th>\n",
       "      <th>backers</th>\n",
       "      <th>country</th>\n",
       "      <th>pledged</th>\n",
       "      <th>gp_diff</th>\n",
       "    </tr>\n",
       "  </thead>\n",
       "  <tbody>\n",
       "    <tr>\n",
       "      <th>0</th>\n",
       "      <td>Apparel</td>\n",
       "      <td>Fashion</td>\n",
       "      <td>11</td>\n",
       "      <td>AU</td>\n",
       "      <td>870.31</td>\n",
       "      <td>89.06</td>\n",
       "    </tr>\n",
       "    <tr>\n",
       "      <th>1</th>\n",
       "      <td>Design</td>\n",
       "      <td>Design</td>\n",
       "      <td>4</td>\n",
       "      <td>US</td>\n",
       "      <td>17.00</td>\n",
       "      <td>-4983.00</td>\n",
       "    </tr>\n",
       "    <tr>\n",
       "      <th>2</th>\n",
       "      <td>Technology</td>\n",
       "      <td>Technology</td>\n",
       "      <td>2</td>\n",
       "      <td>US</td>\n",
       "      <td>125.00</td>\n",
       "      <td>-5825.00</td>\n",
       "    </tr>\n",
       "    <tr>\n",
       "      <th>3</th>\n",
       "      <td>Public Art</td>\n",
       "      <td>Art</td>\n",
       "      <td>13</td>\n",
       "      <td>US</td>\n",
       "      <td>1515.00</td>\n",
       "      <td>15.00</td>\n",
       "    </tr>\n",
       "    <tr>\n",
       "      <th>4</th>\n",
       "      <td>Product Design</td>\n",
       "      <td>Design</td>\n",
       "      <td>1</td>\n",
       "      <td>IT</td>\n",
       "      <td>32.58</td>\n",
       "      <td>-21689.31</td>\n",
       "    </tr>\n",
       "    <tr>\n",
       "      <th>...</th>\n",
       "      <td>...</td>\n",
       "      <td>...</td>\n",
       "      <td>...</td>\n",
       "      <td>...</td>\n",
       "      <td>...</td>\n",
       "      <td>...</td>\n",
       "    </tr>\n",
       "    <tr>\n",
       "      <th>74455</th>\n",
       "      <td>Nonfiction</td>\n",
       "      <td>Publishing</td>\n",
       "      <td>3</td>\n",
       "      <td>GB</td>\n",
       "      <td>183.34</td>\n",
       "      <td>-5877.63</td>\n",
       "    </tr>\n",
       "    <tr>\n",
       "      <th>74456</th>\n",
       "      <td>Photobooks</td>\n",
       "      <td>Photography</td>\n",
       "      <td>1</td>\n",
       "      <td>US</td>\n",
       "      <td>5.00</td>\n",
       "      <td>-1195.00</td>\n",
       "    </tr>\n",
       "    <tr>\n",
       "      <th>74457</th>\n",
       "      <td>Photography</td>\n",
       "      <td>Photography</td>\n",
       "      <td>27</td>\n",
       "      <td>US</td>\n",
       "      <td>1012.00</td>\n",
       "      <td>-7988.00</td>\n",
       "    </tr>\n",
       "    <tr>\n",
       "      <th>74458</th>\n",
       "      <td>Journalism</td>\n",
       "      <td>Journalism</td>\n",
       "      <td>0</td>\n",
       "      <td>AU</td>\n",
       "      <td>0.00</td>\n",
       "      <td>-7796.06</td>\n",
       "    </tr>\n",
       "    <tr>\n",
       "      <th>74459</th>\n",
       "      <td>Horror</td>\n",
       "      <td>Film &amp; Video</td>\n",
       "      <td>39</td>\n",
       "      <td>US</td>\n",
       "      <td>5035.00</td>\n",
       "      <td>35.00</td>\n",
       "    </tr>\n",
       "  </tbody>\n",
       "</table>\n",
       "<p>74460 rows × 6 columns</p>\n",
       "</div>"
      ],
      "text/plain": [
       "         sub_category      category  backers country  pledged   gp_diff\n",
       "0             Apparel       Fashion       11      AU   870.31     89.06\n",
       "1              Design        Design        4      US    17.00  -4983.00\n",
       "2          Technology    Technology        2      US   125.00  -5825.00\n",
       "3          Public Art           Art       13      US  1515.00     15.00\n",
       "4      Product Design        Design        1      IT    32.58 -21689.31\n",
       "...               ...           ...      ...     ...      ...       ...\n",
       "74455      Nonfiction    Publishing        3      GB   183.34  -5877.63\n",
       "74456      Photobooks   Photography        1      US     5.00  -1195.00\n",
       "74457     Photography   Photography       27      US  1012.00  -7988.00\n",
       "74458      Journalism    Journalism        0      AU     0.00  -7796.06\n",
       "74459          Horror  Film & Video       39      US  5035.00     35.00\n",
       "\n",
       "[74460 rows x 6 columns]"
      ]
     },
     "execution_count": 51,
     "metadata": {},
     "output_type": "execute_result"
    }
   ],
   "source": [
    "feature_names = dff[['sub_category','category','backers','country','pledged','gp_diff']]\n",
    "feature_names"
   ]
  },
  {
   "cell_type": "code",
   "execution_count": 55,
   "metadata": {},
   "outputs": [
    {
     "ename": "ValueError",
     "evalue": "could not convert string to float: 'Apparel'",
     "output_type": "error",
     "traceback": [
      "\u001b[1;31m---------------------------------------------------------------------------\u001b[0m",
      "\u001b[1;31mValueError\u001b[0m                                Traceback (most recent call last)",
      "\u001b[1;32m<ipython-input-55-a14668562657>\u001b[0m in \u001b[0;36m<module>\u001b[1;34m\u001b[0m\n\u001b[1;32m----> 1\u001b[1;33m \u001b[0my_pred\u001b[0m \u001b[1;33m=\u001b[0m \u001b[0mmodel\u001b[0m\u001b[1;33m.\u001b[0m\u001b[0mpredict\u001b[0m\u001b[1;33m(\u001b[0m\u001b[0mdff\u001b[0m\u001b[1;33m)\u001b[0m\u001b[1;33m\u001b[0m\u001b[1;33m\u001b[0m\u001b[0m\n\u001b[0m",
      "\u001b[1;32m~\\anaconda3\\lib\\site-packages\\sklearn\\linear_model\\_base.py\u001b[0m in \u001b[0;36mpredict\u001b[1;34m(self, X)\u001b[0m\n\u001b[0;32m    305\u001b[0m             \u001b[0mPredicted\u001b[0m \u001b[1;32mclass\u001b[0m \u001b[0mlabel\u001b[0m \u001b[0mper\u001b[0m \u001b[0msample\u001b[0m\u001b[1;33m.\u001b[0m\u001b[1;33m\u001b[0m\u001b[1;33m\u001b[0m\u001b[0m\n\u001b[0;32m    306\u001b[0m         \"\"\"\n\u001b[1;32m--> 307\u001b[1;33m         \u001b[0mscores\u001b[0m \u001b[1;33m=\u001b[0m \u001b[0mself\u001b[0m\u001b[1;33m.\u001b[0m\u001b[0mdecision_function\u001b[0m\u001b[1;33m(\u001b[0m\u001b[0mX\u001b[0m\u001b[1;33m)\u001b[0m\u001b[1;33m\u001b[0m\u001b[1;33m\u001b[0m\u001b[0m\n\u001b[0m\u001b[0;32m    308\u001b[0m         \u001b[1;32mif\u001b[0m \u001b[0mlen\u001b[0m\u001b[1;33m(\u001b[0m\u001b[0mscores\u001b[0m\u001b[1;33m.\u001b[0m\u001b[0mshape\u001b[0m\u001b[1;33m)\u001b[0m \u001b[1;33m==\u001b[0m \u001b[1;36m1\u001b[0m\u001b[1;33m:\u001b[0m\u001b[1;33m\u001b[0m\u001b[1;33m\u001b[0m\u001b[0m\n\u001b[0;32m    309\u001b[0m             \u001b[0mindices\u001b[0m \u001b[1;33m=\u001b[0m \u001b[1;33m(\u001b[0m\u001b[0mscores\u001b[0m \u001b[1;33m>\u001b[0m \u001b[1;36m0\u001b[0m\u001b[1;33m)\u001b[0m\u001b[1;33m.\u001b[0m\u001b[0mastype\u001b[0m\u001b[1;33m(\u001b[0m\u001b[0mnp\u001b[0m\u001b[1;33m.\u001b[0m\u001b[0mint\u001b[0m\u001b[1;33m)\u001b[0m\u001b[1;33m\u001b[0m\u001b[1;33m\u001b[0m\u001b[0m\n",
      "\u001b[1;32m~\\anaconda3\\lib\\site-packages\\sklearn\\linear_model\\_base.py\u001b[0m in \u001b[0;36mdecision_function\u001b[1;34m(self, X)\u001b[0m\n\u001b[0;32m    280\u001b[0m         \u001b[0mcheck_is_fitted\u001b[0m\u001b[1;33m(\u001b[0m\u001b[0mself\u001b[0m\u001b[1;33m)\u001b[0m\u001b[1;33m\u001b[0m\u001b[1;33m\u001b[0m\u001b[0m\n\u001b[0;32m    281\u001b[0m \u001b[1;33m\u001b[0m\u001b[0m\n\u001b[1;32m--> 282\u001b[1;33m         \u001b[0mX\u001b[0m \u001b[1;33m=\u001b[0m \u001b[0mcheck_array\u001b[0m\u001b[1;33m(\u001b[0m\u001b[0mX\u001b[0m\u001b[1;33m,\u001b[0m \u001b[0maccept_sparse\u001b[0m\u001b[1;33m=\u001b[0m\u001b[1;34m'csr'\u001b[0m\u001b[1;33m)\u001b[0m\u001b[1;33m\u001b[0m\u001b[1;33m\u001b[0m\u001b[0m\n\u001b[0m\u001b[0;32m    283\u001b[0m \u001b[1;33m\u001b[0m\u001b[0m\n\u001b[0;32m    284\u001b[0m         \u001b[0mn_features\u001b[0m \u001b[1;33m=\u001b[0m \u001b[0mself\u001b[0m\u001b[1;33m.\u001b[0m\u001b[0mcoef_\u001b[0m\u001b[1;33m.\u001b[0m\u001b[0mshape\u001b[0m\u001b[1;33m[\u001b[0m\u001b[1;36m1\u001b[0m\u001b[1;33m]\u001b[0m\u001b[1;33m\u001b[0m\u001b[1;33m\u001b[0m\u001b[0m\n",
      "\u001b[1;32m~\\anaconda3\\lib\\site-packages\\sklearn\\utils\\validation.py\u001b[0m in \u001b[0;36minner_f\u001b[1;34m(*args, **kwargs)\u001b[0m\n\u001b[0;32m     71\u001b[0m                           FutureWarning)\n\u001b[0;32m     72\u001b[0m         \u001b[0mkwargs\u001b[0m\u001b[1;33m.\u001b[0m\u001b[0mupdate\u001b[0m\u001b[1;33m(\u001b[0m\u001b[1;33m{\u001b[0m\u001b[0mk\u001b[0m\u001b[1;33m:\u001b[0m \u001b[0marg\u001b[0m \u001b[1;32mfor\u001b[0m \u001b[0mk\u001b[0m\u001b[1;33m,\u001b[0m \u001b[0marg\u001b[0m \u001b[1;32min\u001b[0m \u001b[0mzip\u001b[0m\u001b[1;33m(\u001b[0m\u001b[0msig\u001b[0m\u001b[1;33m.\u001b[0m\u001b[0mparameters\u001b[0m\u001b[1;33m,\u001b[0m \u001b[0margs\u001b[0m\u001b[1;33m)\u001b[0m\u001b[1;33m}\u001b[0m\u001b[1;33m)\u001b[0m\u001b[1;33m\u001b[0m\u001b[1;33m\u001b[0m\u001b[0m\n\u001b[1;32m---> 73\u001b[1;33m         \u001b[1;32mreturn\u001b[0m \u001b[0mf\u001b[0m\u001b[1;33m(\u001b[0m\u001b[1;33m**\u001b[0m\u001b[0mkwargs\u001b[0m\u001b[1;33m)\u001b[0m\u001b[1;33m\u001b[0m\u001b[1;33m\u001b[0m\u001b[0m\n\u001b[0m\u001b[0;32m     74\u001b[0m     \u001b[1;32mreturn\u001b[0m \u001b[0minner_f\u001b[0m\u001b[1;33m\u001b[0m\u001b[1;33m\u001b[0m\u001b[0m\n\u001b[0;32m     75\u001b[0m \u001b[1;33m\u001b[0m\u001b[0m\n",
      "\u001b[1;32m~\\anaconda3\\lib\\site-packages\\sklearn\\utils\\validation.py\u001b[0m in \u001b[0;36mcheck_array\u001b[1;34m(array, accept_sparse, accept_large_sparse, dtype, order, copy, force_all_finite, ensure_2d, allow_nd, ensure_min_samples, ensure_min_features, estimator)\u001b[0m\n\u001b[0;32m    597\u001b[0m                     \u001b[0marray\u001b[0m \u001b[1;33m=\u001b[0m \u001b[0marray\u001b[0m\u001b[1;33m.\u001b[0m\u001b[0mastype\u001b[0m\u001b[1;33m(\u001b[0m\u001b[0mdtype\u001b[0m\u001b[1;33m,\u001b[0m \u001b[0mcasting\u001b[0m\u001b[1;33m=\u001b[0m\u001b[1;34m\"unsafe\"\u001b[0m\u001b[1;33m,\u001b[0m \u001b[0mcopy\u001b[0m\u001b[1;33m=\u001b[0m\u001b[1;32mFalse\u001b[0m\u001b[1;33m)\u001b[0m\u001b[1;33m\u001b[0m\u001b[1;33m\u001b[0m\u001b[0m\n\u001b[0;32m    598\u001b[0m                 \u001b[1;32melse\u001b[0m\u001b[1;33m:\u001b[0m\u001b[1;33m\u001b[0m\u001b[1;33m\u001b[0m\u001b[0m\n\u001b[1;32m--> 599\u001b[1;33m                     \u001b[0marray\u001b[0m \u001b[1;33m=\u001b[0m \u001b[0mnp\u001b[0m\u001b[1;33m.\u001b[0m\u001b[0masarray\u001b[0m\u001b[1;33m(\u001b[0m\u001b[0marray\u001b[0m\u001b[1;33m,\u001b[0m \u001b[0morder\u001b[0m\u001b[1;33m=\u001b[0m\u001b[0morder\u001b[0m\u001b[1;33m,\u001b[0m \u001b[0mdtype\u001b[0m\u001b[1;33m=\u001b[0m\u001b[0mdtype\u001b[0m\u001b[1;33m)\u001b[0m\u001b[1;33m\u001b[0m\u001b[1;33m\u001b[0m\u001b[0m\n\u001b[0m\u001b[0;32m    600\u001b[0m             \u001b[1;32mexcept\u001b[0m \u001b[0mComplexWarning\u001b[0m\u001b[1;33m:\u001b[0m\u001b[1;33m\u001b[0m\u001b[1;33m\u001b[0m\u001b[0m\n\u001b[0;32m    601\u001b[0m                 raise ValueError(\"Complex data not supported\\n\"\n",
      "\u001b[1;32m~\\anaconda3\\lib\\site-packages\\numpy\\core\\_asarray.py\u001b[0m in \u001b[0;36masarray\u001b[1;34m(a, dtype, order)\u001b[0m\n\u001b[0;32m     83\u001b[0m \u001b[1;33m\u001b[0m\u001b[0m\n\u001b[0;32m     84\u001b[0m     \"\"\"\n\u001b[1;32m---> 85\u001b[1;33m     \u001b[1;32mreturn\u001b[0m \u001b[0marray\u001b[0m\u001b[1;33m(\u001b[0m\u001b[0ma\u001b[0m\u001b[1;33m,\u001b[0m \u001b[0mdtype\u001b[0m\u001b[1;33m,\u001b[0m \u001b[0mcopy\u001b[0m\u001b[1;33m=\u001b[0m\u001b[1;32mFalse\u001b[0m\u001b[1;33m,\u001b[0m \u001b[0morder\u001b[0m\u001b[1;33m=\u001b[0m\u001b[0morder\u001b[0m\u001b[1;33m)\u001b[0m\u001b[1;33m\u001b[0m\u001b[1;33m\u001b[0m\u001b[0m\n\u001b[0m\u001b[0;32m     86\u001b[0m \u001b[1;33m\u001b[0m\u001b[0m\n\u001b[0;32m     87\u001b[0m \u001b[1;33m\u001b[0m\u001b[0m\n",
      "\u001b[1;31mValueError\u001b[0m: could not convert string to float: 'Apparel'"
     ]
    }
   ],
   "source": [
    "y_pred = model.predict(dff)"
   ]
  },
  {
   "cell_type": "code",
   "execution_count": 56,
   "metadata": {},
   "outputs": [
    {
     "ename": "NameError",
     "evalue": "name 'y_pred' is not defined",
     "output_type": "error",
     "traceback": [
      "\u001b[1;31m---------------------------------------------------------------------------\u001b[0m",
      "\u001b[1;31mNameError\u001b[0m                                 Traceback (most recent call last)",
      "\u001b[1;32m<ipython-input-56-ca5ae2f9c2a0>\u001b[0m in \u001b[0;36m<module>\u001b[1;34m\u001b[0m\n\u001b[0;32m      3\u001b[0m \u001b[0mwtr\u001b[0m \u001b[1;33m=\u001b[0m \u001b[0mcsv\u001b[0m\u001b[1;33m.\u001b[0m\u001b[0mwriter\u001b[0m\u001b[1;33m(\u001b[0m\u001b[0mopen\u001b[0m \u001b[1;33m(\u001b[0m\u001b[1;34m'./labelx.csv'\u001b[0m\u001b[1;33m,\u001b[0m \u001b[1;34m'w'\u001b[0m\u001b[1;33m)\u001b[0m\u001b[1;33m,\u001b[0m \u001b[0mdelimiter\u001b[0m\u001b[1;33m=\u001b[0m\u001b[1;34m','\u001b[0m\u001b[1;33m,\u001b[0m \u001b[0mlineterminator\u001b[0m\u001b[1;33m=\u001b[0m\u001b[1;34m'\\n'\u001b[0m\u001b[1;33m)\u001b[0m\u001b[1;33m\u001b[0m\u001b[1;33m\u001b[0m\u001b[0m\n\u001b[0;32m      4\u001b[0m \u001b[1;33m\u001b[0m\u001b[0m\n\u001b[1;32m----> 5\u001b[1;33m \u001b[1;32mfor\u001b[0m \u001b[0my\u001b[0m \u001b[1;32min\u001b[0m \u001b[0my_pred\u001b[0m\u001b[1;33m:\u001b[0m \u001b[0mwtr\u001b[0m\u001b[1;33m.\u001b[0m\u001b[0mwriterow\u001b[0m\u001b[1;33m(\u001b[0m\u001b[1;33m[\u001b[0m\u001b[0my\u001b[0m\u001b[1;33m]\u001b[0m\u001b[1;33m)\u001b[0m\u001b[1;33m\u001b[0m\u001b[1;33m\u001b[0m\u001b[0m\n\u001b[0m",
      "\u001b[1;31mNameError\u001b[0m: name 'y_pred' is not defined"
     ]
    }
   ],
   "source": [
    "import csv\n",
    "\n",
    "wtr = csv.writer(open ('./labelx.csv', 'w'), delimiter=',', lineterminator='\\n')\n",
    "\n",
    "for y in y_pred: wtr.writerow([y])"
   ]
  },
  {
   "cell_type": "code",
   "execution_count": 57,
   "metadata": {},
   "outputs": [
    {
     "ename": "NameError",
     "evalue": "name 'y_pred' is not defined",
     "output_type": "error",
     "traceback": [
      "\u001b[1;31m---------------------------------------------------------------------------\u001b[0m",
      "\u001b[1;31mNameError\u001b[0m                                 Traceback (most recent call last)",
      "\u001b[1;32m<ipython-input-57-63f0ef26a497>\u001b[0m in \u001b[0;36m<module>\u001b[1;34m\u001b[0m\n\u001b[1;32m----> 1\u001b[1;33m \u001b[0mfile\u001b[0m \u001b[1;33m=\u001b[0m \u001b[0mpd\u001b[0m\u001b[1;33m.\u001b[0m\u001b[0mDataFrame\u001b[0m\u001b[1;33m(\u001b[0m\u001b[0my_pred\u001b[0m\u001b[1;33m)\u001b[0m\u001b[1;33m\u001b[0m\u001b[1;33m\u001b[0m\u001b[0m\n\u001b[0m\u001b[0;32m      2\u001b[0m \u001b[0mfile\u001b[0m\u001b[1;33m.\u001b[0m\u001b[0mto_csv\u001b[0m\u001b[1;33m(\u001b[0m\u001b[1;34m'label.csv'\u001b[0m\u001b[1;33m,\u001b[0m \u001b[0msep\u001b[0m\u001b[1;33m=\u001b[0m\u001b[1;34m'\\t'\u001b[0m\u001b[1;33m,\u001b[0m \u001b[0mencoding\u001b[0m\u001b[1;33m=\u001b[0m\u001b[1;34m'utf-8'\u001b[0m\u001b[1;33m,\u001b[0m \u001b[0mindex\u001b[0m\u001b[1;33m=\u001b[0m\u001b[1;32mFalse\u001b[0m\u001b[1;33m)\u001b[0m\u001b[1;33m\u001b[0m\u001b[1;33m\u001b[0m\u001b[0m\n",
      "\u001b[1;31mNameError\u001b[0m: name 'y_pred' is not defined"
     ]
    }
   ],
   "source": [
    "file = pd.DataFrame(y_pred)\n",
    "file.to_csv('label.csv', sep='\\t', encoding='utf-8', index=False)"
   ]
  },
  {
   "cell_type": "markdown",
   "metadata": {},
   "source": [
    "Task 2"
   ]
  },
  {
   "cell_type": "code",
   "execution_count": null,
   "metadata": {},
   "outputs": [],
   "source": []
  },
  {
   "cell_type": "code",
   "execution_count": null,
   "metadata": {},
   "outputs": [],
   "source": []
  },
  {
   "cell_type": "code",
   "execution_count": null,
   "metadata": {},
   "outputs": [],
   "source": []
  },
  {
   "cell_type": "code",
   "execution_count": null,
   "metadata": {},
   "outputs": [],
   "source": []
  },
  {
   "cell_type": "code",
   "execution_count": null,
   "metadata": {},
   "outputs": [],
   "source": []
  },
  {
   "cell_type": "code",
   "execution_count": null,
   "metadata": {},
   "outputs": [],
   "source": []
  },
  {
   "cell_type": "code",
   "execution_count": null,
   "metadata": {},
   "outputs": [],
   "source": []
  },
  {
   "cell_type": "code",
   "execution_count": null,
   "metadata": {},
   "outputs": [],
   "source": []
  }
 ],
 "metadata": {
  "kernelspec": {
   "display_name": "Python 3",
   "language": "python",
   "name": "python3"
  },
  "language_info": {
   "codemirror_mode": {
    "name": "ipython",
    "version": 3
   },
   "file_extension": ".py",
   "mimetype": "text/x-python",
   "name": "python",
   "nbconvert_exporter": "python",
   "pygments_lexer": "ipython3",
   "version": "3.8.3"
  }
 },
 "nbformat": 4,
 "nbformat_minor": 4
}
