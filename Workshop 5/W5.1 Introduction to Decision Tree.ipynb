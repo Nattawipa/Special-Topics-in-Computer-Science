{
 "cells": [
  {
   "cell_type": "markdown",
   "metadata": {
    "colab_type": "text",
    "id": "6aq9AcPXDZLJ"
   },
   "source": [
    "# Prepare Environment\n",
    "Thr first section is to import necesssary modules for this Colab notebook."
   ]
  },
  {
   "cell_type": "code",
   "execution_count": null,
   "metadata": {
    "colab": {},
    "colab_type": "code",
    "id": "1pCwUYEMgxQN"
   },
   "outputs": [],
   "source": [
    "# Load libraries\n",
    "import numpy as np\n",
    "import pandas as pd"
   ]
  },
  {
   "cell_type": "markdown",
   "metadata": {
    "colab_type": "text",
    "id": "fYCg2PgZDfwK"
   },
   "source": [
    "# Create a simple dataset\n",
    "We first start by creating a simple, small fruit dataset, which can be used to train a decision tree.\n",
    "Here, we will create the dataset using DataFrame from the Pandas library."
   ]
  },
  {
   "cell_type": "code",
   "execution_count": null,
   "metadata": {
    "colab": {},
    "colab_type": "code",
    "id": "1j4__QrAhIxx"
   },
   "outputs": [],
   "source": [
    "df = pd.DataFrame({\n",
    "    'color': ['green','yellow','red','red','yellow'],\n",
    "    'diameter': [3,3,1,1,3],\n",
    "    'label': ['apple','apple','grape','grape','lemon']  # 0: Apple, 1:Grape, 2: Lemon\n",
    "})\n",
    "df"
   ]
  },
  {
   "cell_type": "markdown",
   "metadata": {
    "colab_type": "text",
    "id": "-Zj4VtiTEh-v"
   },
   "source": [
    "As you can see from the output above, we have create the fruit dataset consisting of three columns: `color`, `diameter` and `label`.\n",
    "\n",
    "The first two columns (i.e., `color` and `diameter`) are the **features** or the characteristics of each fruit, while the last column (i.e., `label`) are the **label** or the answer that we expect the decision tree to know when it accepts the color and diameter values."
   ]
  },
  {
   "cell_type": "markdown",
   "metadata": {
    "colab_type": "text",
    "id": "oxUFoEdsFprL"
   },
   "source": [
    "# Categorical Columns\n",
    "\n",
    "It should be emphasize that most of the ML algorithms expect numerical features (e.g., integer and floating-point numbers) as input.\n",
    "\n",
    "However, there are two columns that are NOT numerical, which are `color` and `label`. We need to convert such columns into numerical ones. \n",
    "\n",
    "For categorical features (i.e., `color`), we commonly convert them into what is called **one-hot** format. We **DO NOT** use a number such as 0, 1, 2 as it brings in a natural order for different categories.\n",
    "\n",
    "```\n",
    "color=green  --> 0 --> [1, 0, 0]\n",
    "color=red    --> 1 --> [0, 1, 0]\n",
    "color=yellow --> 2 --> [0, 0, 1]\n",
    "```\n",
    "\n",
    "It should be noted that it **DOES NOT** matter which number you assign for `red`, `green` and `yellow` as long as they are consistent.\n",
    "\n",
    "The following code shows an example of how to use the `get_dummies` function to convert from the categorical feature into the one-hot format."
   ]
  },
  {
   "cell_type": "code",
   "execution_count": null,
   "metadata": {
    "colab": {},
    "colab_type": "code",
    "id": "TruXIjX3I79l"
   },
   "outputs": [],
   "source": [
    "pd.get_dummies(df['color'], prefix='color')"
   ]
  },
  {
   "cell_type": "markdown",
   "metadata": {
    "colab_type": "text",
    "id": "nocEQdM3I-jY"
   },
   "source": [
    "We append such one-hot features into the dataframe."
   ]
  },
  {
   "cell_type": "code",
   "execution_count": null,
   "metadata": {
    "colab": {},
    "colab_type": "code",
    "id": "qe1KfdH6O_hT"
   },
   "outputs": [],
   "source": [
    "color_code_df = pd.get_dummies(df['color'], prefix='color')\n",
    "df = pd.concat([df, color_code_df], axis=1)\n",
    "df"
   ]
  },
  {
   "cell_type": "markdown",
   "metadata": {
    "colab_type": "text",
    "id": "G0NHBnFbJVeZ"
   },
   "source": [
    "Next, we will convert the `label` column into integer numbers (e.g., 0, 1 and 2). Again, it **DOES NOT** matter which number you assign as long as you are consistent for the task.\n",
    "\n",
    "Here we will use `LabelEncoder` from scikit-learn to convert from string to class numbers, and then create a new column, named `label_code`, to keep the output."
   ]
  },
  {
   "cell_type": "code",
   "execution_count": null,
   "metadata": {
    "colab": {},
    "colab_type": "code",
    "id": "DQAnvI-KPcPv"
   },
   "outputs": [],
   "source": [
    "from sklearn.preprocessing import LabelEncoder\n",
    "\n",
    "label_enc = LabelEncoder()\n",
    "df['label_code'] = label_enc.fit_transform(df['label'])\n",
    "print(label_enc.classes_)\n",
    "\n",
    "df"
   ]
  },
  {
   "cell_type": "markdown",
   "metadata": {
    "colab_type": "text",
    "id": "LzPMaWV2Ljwy"
   },
   "source": [
    "Once we have successfully convert categorical columns into numerical ones. We will drop the categorical columns from the dataframe."
   ]
  },
  {
   "cell_type": "code",
   "execution_count": null,
   "metadata": {
    "colab": {},
    "colab_type": "code",
    "id": "_iquxiqDik3c"
   },
   "outputs": [],
   "source": [
    "data_df = df.drop(columns=['color','label'])\n",
    "data_df"
   ]
  },
  {
   "cell_type": "markdown",
   "metadata": {
    "colab_type": "text",
    "id": "7Y6u2wBoLwja"
   },
   "source": [
    "# Prepare a Training Set\n",
    "\n",
    "As mentioned in the slide that a training set consists of pairs of data (or features) and labels, we will extract features and labels from the dataframe.\n",
    "\n",
    "We typically use `X` for features and `y` for labels."
   ]
  },
  {
   "cell_type": "code",
   "execution_count": null,
   "metadata": {
    "colab": {},
    "colab_type": "code",
    "id": "rux1qXksh7l_"
   },
   "outputs": [],
   "source": [
    "# Prepare the training set\n",
    "X = data_df.drop(columns=['label_code']).values\n",
    "y = data_adf['label_code'].values\n",
    "print(X)\n",
    "print(y)"
   ]
  },
  {
   "cell_type": "markdown",
   "metadata": {
    "colab_type": "text",
    "id": "z6-8nQPHNWeJ"
   },
   "source": [
    "The following is the code to get the name of each feature column and store in a `feature_names` variable."
   ]
  },
  {
   "cell_type": "code",
   "execution_count": null,
   "metadata": {
    "colab": {},
    "colab_type": "code",
    "id": "qXrhe6yTGP7B"
   },
   "outputs": [],
   "source": [
    "feature_names = data_df.drop(columns=['label_code']).columns.values\n",
    "feature_names"
   ]
  },
  {
   "cell_type": "markdown",
   "metadata": {
    "colab_type": "text",
    "id": "x_CSYLnRNip7"
   },
   "source": [
    "# Train a Decision Tree\n",
    "\n",
    "In this section, we will create and train a decision tree model using [scikit-learn](https://scikit-learn.org/), which is one of the most popular Python package for machine learning.\n",
    "\n",
    "The module that we will use is [DecisionTreeClassifier](https://scikit-learn.org/stable/modules/generated/sklearn.tree.DecisionTreeClassifier.html)."
   ]
  },
  {
   "cell_type": "code",
   "execution_count": null,
   "metadata": {
    "colab": {},
    "colab_type": "code",
    "id": "IYhd6_Nlhi26"
   },
   "outputs": [],
   "source": [
    "from sklearn.tree import DecisionTreeClassifier\n",
    "\n",
    "# Create Decision Tree classifer object\n",
    "clf = DecisionTreeClassifier(random_state=42)"
   ]
  },
  {
   "cell_type": "markdown",
   "metadata": {
    "colab_type": "text",
    "id": "Je-eVO3mOpdC"
   },
   "source": [
    "To train the model, we simply call `fit` function with the training set that we have prepared: `X` and `y`."
   ]
  },
  {
   "cell_type": "code",
   "execution_count": null,
   "metadata": {
    "colab": {},
    "colab_type": "code",
    "id": "xmsYqtizhxnf"
   },
   "outputs": [],
   "source": [
    "# Train Decision Tree Classifer\n",
    "clf = clf.fit(X,y)"
   ]
  },
  {
   "cell_type": "markdown",
   "metadata": {
    "colab_type": "text",
    "id": "K2-nwr9rOz3p"
   },
   "source": [
    "# Prediction\n",
    "\n",
    "In this section, we will use the *trained* decision tree to predict the types of fruit based on the `color` and `diameter`.\n",
    "\n",
    "To make predictions, we call `predict` function with the input features. Let's have a try on the training set."
   ]
  },
  {
   "cell_type": "code",
   "execution_count": null,
   "metadata": {
    "colab": {},
    "colab_type": "code",
    "id": "fTt223Ynhxv-"
   },
   "outputs": [],
   "source": [
    "# Predict the response for test dataset\n",
    "y_pred = clf.predict(X)\n",
    "print(y_pred)"
   ]
  },
  {
   "cell_type": "markdown",
   "metadata": {
    "colab_type": "text",
    "id": "GvibILIfPbr1"
   },
   "source": [
    "It can be seen that the predictions are still the class number. If we want to know the name of each class, we can use the same `LabelEncoder` to inverse the predicted class from numbers back to string."
   ]
  },
  {
   "cell_type": "code",
   "execution_count": null,
   "metadata": {
    "colab": {},
    "colab_type": "code",
    "id": "YCesU52Mj4Ww"
   },
   "outputs": [],
   "source": [
    "print(label_enc.inverse_transform(y_pred))"
   ]
  },
  {
   "cell_type": "markdown",
   "metadata": {
    "colab_type": "text",
    "id": "PJV-QA3DQgHy"
   },
   "source": [
    "One of common metrics that we can use to evaluate the performance of the model is **accuracy**, which is the closeness of a measured value to a standard or known value."
   ]
  },
  {
   "cell_type": "code",
   "execution_count": null,
   "metadata": {
    "colab": {},
    "colab_type": "code",
    "id": "OWithFLRQ26l"
   },
   "outputs": [],
   "source": [
    "np.mean(y_pred == y)"
   ]
  },
  {
   "cell_type": "markdown",
   "metadata": {
    "colab_type": "text",
    "id": "qsX6WVFvRAl6"
   },
   "source": [
    "# Visualize the Trained Decision Tree\n",
    "\n",
    "It is also helpful to understand the criteria that the model uses to make predictions. For the decision tree, we can use `export_graphviz` module to visualize the tree."
   ]
  },
  {
   "cell_type": "code",
   "execution_count": null,
   "metadata": {
    "colab": {},
    "colab_type": "code",
    "id": "4fDhw-nDjeLL"
   },
   "outputs": [],
   "source": [
    "from sklearn.tree import export_graphviz\n",
    "from subprocess import call\n",
    "import matplotlib.pyplot as plt\n",
    "\n",
    "# Export the decision tree\n",
    "export_graphviz(\n",
    "    clf,                             # the trained decision tree here\n",
    "    feature_names=feature_names,     # the list of feature names here\n",
    "    class_names=label_enc.classes_,  # the list of labels here\n",
    "    out_file='tree.dot',\n",
    "    rounded=True, proportion=False, precision=2, filled=True)\n",
    "\n",
    "# Convert to png\n",
    "call(['dot', '-Tpng', 'tree.dot', '-o', 'tree.png', '-Gdpi=600'])\n",
    "\n",
    "# Display in python\n",
    "plt.figure(figsize=(10,12))\n",
    "plt.imshow(plt.imread('tree.png'))\n",
    "plt.axis('off')\n",
    "plt.show()"
   ]
  },
  {
   "cell_type": "markdown",
   "metadata": {
    "colab_type": "text",
    "id": "9IDOiV00Rt4k"
   },
   "source": [
    "We can also see which are the most importance features for predicting the type of the fruit based on the `color` and the `diameter`.\n",
    "\n",
    "Here we can use the attribute `feature_importances_` from the trained model `clf`."
   ]
  },
  {
   "cell_type": "code",
   "execution_count": null,
   "metadata": {
    "colab": {},
    "colab_type": "code",
    "id": "NXo_4aEqlWiM"
   },
   "outputs": [],
   "source": [
    "for i in range(len(feature_names)):\n",
    "    print(f'{feature_names[i]}: {clf.feature_importances_[i]}')"
   ]
  },
  {
   "cell_type": "code",
   "execution_count": null,
   "metadata": {
    "colab": {},
    "colab_type": "code",
    "id": "bqpo-nS8RckP"
   },
   "outputs": [],
   "source": []
  }
 ],
 "metadata": {
  "colab": {
   "authorship_tag": "ABX9TyPtkxu2z2yXI4+rOZ3wkJNZ",
   "collapsed_sections": [],
   "name": "W5.1 Introduction to Decision Tree",
   "provenance": []
  },
  "kernelspec": {
   "display_name": "Python 3",
   "language": "python",
   "name": "python3"
  },
  "language_info": {
   "codemirror_mode": {
    "name": "ipython",
    "version": 3
   },
   "file_extension": ".py",
   "mimetype": "text/x-python",
   "name": "python",
   "nbconvert_exporter": "python",
   "pygments_lexer": "ipython3",
   "version": "3.8.3"
  }
 },
 "nbformat": 4,
 "nbformat_minor": 1
}
