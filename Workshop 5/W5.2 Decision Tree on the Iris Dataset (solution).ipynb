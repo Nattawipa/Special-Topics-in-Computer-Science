{
 "cells": [
  {
   "cell_type": "markdown",
   "metadata": {
    "id": "UG3TJcIN0rqK"
   },
   "source": [
    "# Exercise: Decision Tree on the Iris Dataset\n",
    "\n",
    "Now it is your turn to train a Decision Tree by yourself !!\n",
    "\n",
    "In this exercise, you are asked to build and train a Decision Tree model to classify the species of Iris plants. You can reuse the code in the previous workshop 5.1 to do this exercise.\n",
    "\n",
    "![alt text](https://guopai.github.io/images/ml-blog04-iris-dataset.jpg)\n",
    "\n",
    "We will use the Iris dataset for this exercise, which can be downloaded from here ([iris.csv](https://drive.google.com/file/d/17puHR8AgB0zyGJdKncfBL6RLJ19qwBt2/view?usp=sharing)). This dataset consists of five columns.\n",
    "\n",
    "1. `sepal_length` (in cm)\n",
    "1. `sepal_width` (in cm)\n",
    "1. `petal_length` (in cm)\n",
    "1. `petal_width` (in cm)\n",
    "1. `species`\n",
    "\n",
    "where the `species` column is the **label**, specifying the corresponding Iris species.\n",
    "\n",
    "References\n",
    "*   https://archive.ics.uci.edu/ml/datasets/iris\n"
   ]
  },
  {
   "cell_type": "markdown",
   "metadata": {
    "id": "bBn7ZxpD0jk-"
   },
   "source": [
    "## Step 1: Prepare Environment\n",
    "\n",
    "Import any required libraries here. You can add and rerun this cell later when you found that you miss some libraries."
   ]
  },
  {
   "cell_type": "code",
   "execution_count": 1,
   "metadata": {
    "executionInfo": {
     "elapsed": 956,
     "status": "ok",
     "timestamp": 1613364425574,
     "user": {
      "displayName": "Akara Supratak",
      "photoUrl": "https://lh3.googleusercontent.com/a-/AOh14GiVfRuYPFy2nTZ604OWTDp5V1023qD33YzGgVKa=s64",
      "userId": "03364799826905916985"
     },
     "user_tz": -420
    },
    "id": "3iqtyjj4NNRV"
   },
   "outputs": [],
   "source": [
    "# YOUR CODE HERE\n",
    "import numpy as np\n",
    "import pandas as pd"
   ]
  },
  {
   "cell_type": "markdown",
   "metadata": {
    "id": "o7mKYoou6wUr"
   },
   "source": [
    "## Step 2: Load Dataset\n",
    "\n",
    "In this section, you will download the Iris dataset that we have prepared in the CSV format here ([iris.csv](https://drive.google.com/file/d/17puHR8AgB0zyGJdKncfBL6RLJ19qwBt2/view?usp=sharing)). Once you have download the `iris.csv` file, you then upload the csv file to the Google Colab notebook.\n",
    "\n",
    "Next, you have to read the data from the `iris.csv` file and store the data in `df`."
   ]
  },
  {
   "cell_type": "code",
   "execution_count": 2,
   "metadata": {
    "colab": {
     "base_uri": "https://localhost:8080/",
     "height": 415
    },
    "executionInfo": {
     "elapsed": 814,
     "status": "ok",
     "timestamp": 1613364438336,
     "user": {
      "displayName": "Akara Supratak",
      "photoUrl": "https://lh3.googleusercontent.com/a-/AOh14GiVfRuYPFy2nTZ604OWTDp5V1023qD33YzGgVKa=s64",
      "userId": "03364799826905916985"
     },
     "user_tz": -420
    },
    "id": "Frocfl7o64CN",
    "outputId": "8443f135-d19c-46c4-ef66-f4653308be5b"
   },
   "outputs": [
    {
     "data": {
      "text/html": [
       "<div>\n",
       "<style scoped>\n",
       "    .dataframe tbody tr th:only-of-type {\n",
       "        vertical-align: middle;\n",
       "    }\n",
       "\n",
       "    .dataframe tbody tr th {\n",
       "        vertical-align: top;\n",
       "    }\n",
       "\n",
       "    .dataframe thead th {\n",
       "        text-align: right;\n",
       "    }\n",
       "</style>\n",
       "<table border=\"1\" class=\"dataframe\">\n",
       "  <thead>\n",
       "    <tr style=\"text-align: right;\">\n",
       "      <th></th>\n",
       "      <th>sepal_length</th>\n",
       "      <th>sepal_width</th>\n",
       "      <th>petal_length</th>\n",
       "      <th>petal_width</th>\n",
       "      <th>species</th>\n",
       "    </tr>\n",
       "  </thead>\n",
       "  <tbody>\n",
       "    <tr>\n",
       "      <th>0</th>\n",
       "      <td>5.1</td>\n",
       "      <td>3.5</td>\n",
       "      <td>1.4</td>\n",
       "      <td>0.2</td>\n",
       "      <td>setosa</td>\n",
       "    </tr>\n",
       "    <tr>\n",
       "      <th>1</th>\n",
       "      <td>4.9</td>\n",
       "      <td>3.0</td>\n",
       "      <td>1.4</td>\n",
       "      <td>0.2</td>\n",
       "      <td>setosa</td>\n",
       "    </tr>\n",
       "    <tr>\n",
       "      <th>2</th>\n",
       "      <td>4.7</td>\n",
       "      <td>3.2</td>\n",
       "      <td>1.3</td>\n",
       "      <td>0.2</td>\n",
       "      <td>setosa</td>\n",
       "    </tr>\n",
       "    <tr>\n",
       "      <th>3</th>\n",
       "      <td>4.6</td>\n",
       "      <td>3.1</td>\n",
       "      <td>1.5</td>\n",
       "      <td>0.2</td>\n",
       "      <td>setosa</td>\n",
       "    </tr>\n",
       "    <tr>\n",
       "      <th>4</th>\n",
       "      <td>5.0</td>\n",
       "      <td>3.6</td>\n",
       "      <td>1.4</td>\n",
       "      <td>0.2</td>\n",
       "      <td>setosa</td>\n",
       "    </tr>\n",
       "    <tr>\n",
       "      <th>...</th>\n",
       "      <td>...</td>\n",
       "      <td>...</td>\n",
       "      <td>...</td>\n",
       "      <td>...</td>\n",
       "      <td>...</td>\n",
       "    </tr>\n",
       "    <tr>\n",
       "      <th>145</th>\n",
       "      <td>6.7</td>\n",
       "      <td>3.0</td>\n",
       "      <td>5.2</td>\n",
       "      <td>2.3</td>\n",
       "      <td>virginica</td>\n",
       "    </tr>\n",
       "    <tr>\n",
       "      <th>146</th>\n",
       "      <td>6.3</td>\n",
       "      <td>2.5</td>\n",
       "      <td>5.0</td>\n",
       "      <td>1.9</td>\n",
       "      <td>virginica</td>\n",
       "    </tr>\n",
       "    <tr>\n",
       "      <th>147</th>\n",
       "      <td>6.5</td>\n",
       "      <td>3.0</td>\n",
       "      <td>5.2</td>\n",
       "      <td>2.0</td>\n",
       "      <td>virginica</td>\n",
       "    </tr>\n",
       "    <tr>\n",
       "      <th>148</th>\n",
       "      <td>6.2</td>\n",
       "      <td>3.4</td>\n",
       "      <td>5.4</td>\n",
       "      <td>2.3</td>\n",
       "      <td>virginica</td>\n",
       "    </tr>\n",
       "    <tr>\n",
       "      <th>149</th>\n",
       "      <td>5.9</td>\n",
       "      <td>3.0</td>\n",
       "      <td>5.1</td>\n",
       "      <td>1.8</td>\n",
       "      <td>virginica</td>\n",
       "    </tr>\n",
       "  </tbody>\n",
       "</table>\n",
       "<p>150 rows × 5 columns</p>\n",
       "</div>"
      ],
      "text/plain": [
       "     sepal_length  sepal_width  petal_length  petal_width    species\n",
       "0             5.1          3.5           1.4          0.2     setosa\n",
       "1             4.9          3.0           1.4          0.2     setosa\n",
       "2             4.7          3.2           1.3          0.2     setosa\n",
       "3             4.6          3.1           1.5          0.2     setosa\n",
       "4             5.0          3.6           1.4          0.2     setosa\n",
       "..            ...          ...           ...          ...        ...\n",
       "145           6.7          3.0           5.2          2.3  virginica\n",
       "146           6.3          2.5           5.0          1.9  virginica\n",
       "147           6.5          3.0           5.2          2.0  virginica\n",
       "148           6.2          3.4           5.4          2.3  virginica\n",
       "149           5.9          3.0           5.1          1.8  virginica\n",
       "\n",
       "[150 rows x 5 columns]"
      ]
     },
     "execution_count": 2,
     "metadata": {
      "tags": []
     },
     "output_type": "execute_result"
    }
   ],
   "source": [
    "# YOUR CODE HERE\n",
    "df = pd.read_csv('iris.csv')\n",
    "df"
   ]
  },
  {
   "cell_type": "markdown",
   "metadata": {
    "id": "8FIssdLs8-C_"
   },
   "source": [
    "If you have successfully loaded the file, you should have a `df` variable, which consists of 150 rows and 5 columns."
   ]
  },
  {
   "cell_type": "code",
   "execution_count": null,
   "metadata": {
    "id": "_UrS31iN9l_Q"
   },
   "outputs": [],
   "source": [
    "df"
   ]
  },
  {
   "cell_type": "markdown",
   "metadata": {
    "id": "ddUPdIkq9Za4"
   },
   "source": [
    "## Step 3: Data Preparation\n",
    "\n",
    "As you can see from the table above, the `species` column is still not numerical. Please transform such column into numerical ones using `LabelEncoder`, which can be imported as follows:\n",
    "\n",
    "```python\n",
    "from sklearn.preprocessing import LabelEncoder\n",
    "```\n",
    "\n",
    "The output should be assigned into a new columns of `df`, named `label`."
   ]
  },
  {
   "cell_type": "code",
   "execution_count": 3,
   "metadata": {
    "executionInfo": {
     "elapsed": 1703,
     "status": "ok",
     "timestamp": 1613364637699,
     "user": {
      "displayName": "Akara Supratak",
      "photoUrl": "https://lh3.googleusercontent.com/a-/AOh14GiVfRuYPFy2nTZ604OWTDp5V1023qD33YzGgVKa=s64",
      "userId": "03364799826905916985"
     },
     "user_tz": -420
    },
    "id": "1oUnDcSO63_v"
   },
   "outputs": [],
   "source": [
    "# YOUR CODE HERE\n",
    "from sklearn.preprocessing import LabelEncoder\n",
    "\n",
    "label_enc = LabelEncoder()\n",
    "df['label'] = label_enc.fit_transform(df['species'])"
   ]
  },
  {
   "cell_type": "markdown",
   "metadata": {
    "id": "zNSw6h7n_P0H"
   },
   "source": [
    "If the conversion is success, your `df` should now contain 6 columns."
   ]
  },
  {
   "cell_type": "code",
   "execution_count": 4,
   "metadata": {
    "colab": {
     "base_uri": "https://localhost:8080/",
     "height": 415
    },
    "executionInfo": {
     "elapsed": 1205,
     "status": "ok",
     "timestamp": 1613364640341,
     "user": {
      "displayName": "Akara Supratak",
      "photoUrl": "https://lh3.googleusercontent.com/a-/AOh14GiVfRuYPFy2nTZ604OWTDp5V1023qD33YzGgVKa=s64",
      "userId": "03364799826905916985"
     },
     "user_tz": -420
    },
    "id": "0SvDPmOg639O",
    "outputId": "4579dc0e-f47e-42bf-ee91-1f55f65b4e21"
   },
   "outputs": [
    {
     "data": {
      "text/html": [
       "<div>\n",
       "<style scoped>\n",
       "    .dataframe tbody tr th:only-of-type {\n",
       "        vertical-align: middle;\n",
       "    }\n",
       "\n",
       "    .dataframe tbody tr th {\n",
       "        vertical-align: top;\n",
       "    }\n",
       "\n",
       "    .dataframe thead th {\n",
       "        text-align: right;\n",
       "    }\n",
       "</style>\n",
       "<table border=\"1\" class=\"dataframe\">\n",
       "  <thead>\n",
       "    <tr style=\"text-align: right;\">\n",
       "      <th></th>\n",
       "      <th>sepal_length</th>\n",
       "      <th>sepal_width</th>\n",
       "      <th>petal_length</th>\n",
       "      <th>petal_width</th>\n",
       "      <th>species</th>\n",
       "      <th>label</th>\n",
       "    </tr>\n",
       "  </thead>\n",
       "  <tbody>\n",
       "    <tr>\n",
       "      <th>0</th>\n",
       "      <td>5.1</td>\n",
       "      <td>3.5</td>\n",
       "      <td>1.4</td>\n",
       "      <td>0.2</td>\n",
       "      <td>setosa</td>\n",
       "      <td>0</td>\n",
       "    </tr>\n",
       "    <tr>\n",
       "      <th>1</th>\n",
       "      <td>4.9</td>\n",
       "      <td>3.0</td>\n",
       "      <td>1.4</td>\n",
       "      <td>0.2</td>\n",
       "      <td>setosa</td>\n",
       "      <td>0</td>\n",
       "    </tr>\n",
       "    <tr>\n",
       "      <th>2</th>\n",
       "      <td>4.7</td>\n",
       "      <td>3.2</td>\n",
       "      <td>1.3</td>\n",
       "      <td>0.2</td>\n",
       "      <td>setosa</td>\n",
       "      <td>0</td>\n",
       "    </tr>\n",
       "    <tr>\n",
       "      <th>3</th>\n",
       "      <td>4.6</td>\n",
       "      <td>3.1</td>\n",
       "      <td>1.5</td>\n",
       "      <td>0.2</td>\n",
       "      <td>setosa</td>\n",
       "      <td>0</td>\n",
       "    </tr>\n",
       "    <tr>\n",
       "      <th>4</th>\n",
       "      <td>5.0</td>\n",
       "      <td>3.6</td>\n",
       "      <td>1.4</td>\n",
       "      <td>0.2</td>\n",
       "      <td>setosa</td>\n",
       "      <td>0</td>\n",
       "    </tr>\n",
       "    <tr>\n",
       "      <th>...</th>\n",
       "      <td>...</td>\n",
       "      <td>...</td>\n",
       "      <td>...</td>\n",
       "      <td>...</td>\n",
       "      <td>...</td>\n",
       "      <td>...</td>\n",
       "    </tr>\n",
       "    <tr>\n",
       "      <th>145</th>\n",
       "      <td>6.7</td>\n",
       "      <td>3.0</td>\n",
       "      <td>5.2</td>\n",
       "      <td>2.3</td>\n",
       "      <td>virginica</td>\n",
       "      <td>2</td>\n",
       "    </tr>\n",
       "    <tr>\n",
       "      <th>146</th>\n",
       "      <td>6.3</td>\n",
       "      <td>2.5</td>\n",
       "      <td>5.0</td>\n",
       "      <td>1.9</td>\n",
       "      <td>virginica</td>\n",
       "      <td>2</td>\n",
       "    </tr>\n",
       "    <tr>\n",
       "      <th>147</th>\n",
       "      <td>6.5</td>\n",
       "      <td>3.0</td>\n",
       "      <td>5.2</td>\n",
       "      <td>2.0</td>\n",
       "      <td>virginica</td>\n",
       "      <td>2</td>\n",
       "    </tr>\n",
       "    <tr>\n",
       "      <th>148</th>\n",
       "      <td>6.2</td>\n",
       "      <td>3.4</td>\n",
       "      <td>5.4</td>\n",
       "      <td>2.3</td>\n",
       "      <td>virginica</td>\n",
       "      <td>2</td>\n",
       "    </tr>\n",
       "    <tr>\n",
       "      <th>149</th>\n",
       "      <td>5.9</td>\n",
       "      <td>3.0</td>\n",
       "      <td>5.1</td>\n",
       "      <td>1.8</td>\n",
       "      <td>virginica</td>\n",
       "      <td>2</td>\n",
       "    </tr>\n",
       "  </tbody>\n",
       "</table>\n",
       "<p>150 rows × 6 columns</p>\n",
       "</div>"
      ],
      "text/plain": [
       "     sepal_length  sepal_width  petal_length  petal_width    species  label\n",
       "0             5.1          3.5           1.4          0.2     setosa      0\n",
       "1             4.9          3.0           1.4          0.2     setosa      0\n",
       "2             4.7          3.2           1.3          0.2     setosa      0\n",
       "3             4.6          3.1           1.5          0.2     setosa      0\n",
       "4             5.0          3.6           1.4          0.2     setosa      0\n",
       "..            ...          ...           ...          ...        ...    ...\n",
       "145           6.7          3.0           5.2          2.3  virginica      2\n",
       "146           6.3          2.5           5.0          1.9  virginica      2\n",
       "147           6.5          3.0           5.2          2.0  virginica      2\n",
       "148           6.2          3.4           5.4          2.3  virginica      2\n",
       "149           5.9          3.0           5.1          1.8  virginica      2\n",
       "\n",
       "[150 rows x 6 columns]"
      ]
     },
     "execution_count": 4,
     "metadata": {
      "tags": []
     },
     "output_type": "execute_result"
    }
   ],
   "source": [
    "df"
   ]
  },
  {
   "cell_type": "markdown",
   "metadata": {
    "id": "PIpdhZ9EBAtT"
   },
   "source": [
    "Once you the `label` column, you can remove the `species` column from the `df`."
   ]
  },
  {
   "cell_type": "code",
   "execution_count": 5,
   "metadata": {
    "executionInfo": {
     "elapsed": 675,
     "status": "ok",
     "timestamp": 1613364667725,
     "user": {
      "displayName": "Akara Supratak",
      "photoUrl": "https://lh3.googleusercontent.com/a-/AOh14GiVfRuYPFy2nTZ604OWTDp5V1023qD33YzGgVKa=s64",
      "userId": "03364799826905916985"
     },
     "user_tz": -420
    },
    "id": "vjCPRWxBBJjd"
   },
   "outputs": [],
   "source": [
    "# YOUR CODE HERE\n",
    "df = df.drop(columns=['species'])"
   ]
  },
  {
   "cell_type": "code",
   "execution_count": 6,
   "metadata": {
    "colab": {
     "base_uri": "https://localhost:8080/",
     "height": 415
    },
    "executionInfo": {
     "elapsed": 869,
     "status": "ok",
     "timestamp": 1613364674851,
     "user": {
      "displayName": "Akara Supratak",
      "photoUrl": "https://lh3.googleusercontent.com/a-/AOh14GiVfRuYPFy2nTZ604OWTDp5V1023qD33YzGgVKa=s64",
      "userId": "03364799826905916985"
     },
     "user_tz": -420
    },
    "id": "g8CqwCKzBzEF",
    "outputId": "73508b8a-6b2e-4790-87de-3be69c87de01"
   },
   "outputs": [
    {
     "data": {
      "text/html": [
       "<div>\n",
       "<style scoped>\n",
       "    .dataframe tbody tr th:only-of-type {\n",
       "        vertical-align: middle;\n",
       "    }\n",
       "\n",
       "    .dataframe tbody tr th {\n",
       "        vertical-align: top;\n",
       "    }\n",
       "\n",
       "    .dataframe thead th {\n",
       "        text-align: right;\n",
       "    }\n",
       "</style>\n",
       "<table border=\"1\" class=\"dataframe\">\n",
       "  <thead>\n",
       "    <tr style=\"text-align: right;\">\n",
       "      <th></th>\n",
       "      <th>sepal_length</th>\n",
       "      <th>sepal_width</th>\n",
       "      <th>petal_length</th>\n",
       "      <th>petal_width</th>\n",
       "      <th>label</th>\n",
       "    </tr>\n",
       "  </thead>\n",
       "  <tbody>\n",
       "    <tr>\n",
       "      <th>0</th>\n",
       "      <td>5.1</td>\n",
       "      <td>3.5</td>\n",
       "      <td>1.4</td>\n",
       "      <td>0.2</td>\n",
       "      <td>0</td>\n",
       "    </tr>\n",
       "    <tr>\n",
       "      <th>1</th>\n",
       "      <td>4.9</td>\n",
       "      <td>3.0</td>\n",
       "      <td>1.4</td>\n",
       "      <td>0.2</td>\n",
       "      <td>0</td>\n",
       "    </tr>\n",
       "    <tr>\n",
       "      <th>2</th>\n",
       "      <td>4.7</td>\n",
       "      <td>3.2</td>\n",
       "      <td>1.3</td>\n",
       "      <td>0.2</td>\n",
       "      <td>0</td>\n",
       "    </tr>\n",
       "    <tr>\n",
       "      <th>3</th>\n",
       "      <td>4.6</td>\n",
       "      <td>3.1</td>\n",
       "      <td>1.5</td>\n",
       "      <td>0.2</td>\n",
       "      <td>0</td>\n",
       "    </tr>\n",
       "    <tr>\n",
       "      <th>4</th>\n",
       "      <td>5.0</td>\n",
       "      <td>3.6</td>\n",
       "      <td>1.4</td>\n",
       "      <td>0.2</td>\n",
       "      <td>0</td>\n",
       "    </tr>\n",
       "    <tr>\n",
       "      <th>...</th>\n",
       "      <td>...</td>\n",
       "      <td>...</td>\n",
       "      <td>...</td>\n",
       "      <td>...</td>\n",
       "      <td>...</td>\n",
       "    </tr>\n",
       "    <tr>\n",
       "      <th>145</th>\n",
       "      <td>6.7</td>\n",
       "      <td>3.0</td>\n",
       "      <td>5.2</td>\n",
       "      <td>2.3</td>\n",
       "      <td>2</td>\n",
       "    </tr>\n",
       "    <tr>\n",
       "      <th>146</th>\n",
       "      <td>6.3</td>\n",
       "      <td>2.5</td>\n",
       "      <td>5.0</td>\n",
       "      <td>1.9</td>\n",
       "      <td>2</td>\n",
       "    </tr>\n",
       "    <tr>\n",
       "      <th>147</th>\n",
       "      <td>6.5</td>\n",
       "      <td>3.0</td>\n",
       "      <td>5.2</td>\n",
       "      <td>2.0</td>\n",
       "      <td>2</td>\n",
       "    </tr>\n",
       "    <tr>\n",
       "      <th>148</th>\n",
       "      <td>6.2</td>\n",
       "      <td>3.4</td>\n",
       "      <td>5.4</td>\n",
       "      <td>2.3</td>\n",
       "      <td>2</td>\n",
       "    </tr>\n",
       "    <tr>\n",
       "      <th>149</th>\n",
       "      <td>5.9</td>\n",
       "      <td>3.0</td>\n",
       "      <td>5.1</td>\n",
       "      <td>1.8</td>\n",
       "      <td>2</td>\n",
       "    </tr>\n",
       "  </tbody>\n",
       "</table>\n",
       "<p>150 rows × 5 columns</p>\n",
       "</div>"
      ],
      "text/plain": [
       "     sepal_length  sepal_width  petal_length  petal_width  label\n",
       "0             5.1          3.5           1.4          0.2      0\n",
       "1             4.9          3.0           1.4          0.2      0\n",
       "2             4.7          3.2           1.3          0.2      0\n",
       "3             4.6          3.1           1.5          0.2      0\n",
       "4             5.0          3.6           1.4          0.2      0\n",
       "..            ...          ...           ...          ...    ...\n",
       "145           6.7          3.0           5.2          2.3      2\n",
       "146           6.3          2.5           5.0          1.9      2\n",
       "147           6.5          3.0           5.2          2.0      2\n",
       "148           6.2          3.4           5.4          2.3      2\n",
       "149           5.9          3.0           5.1          1.8      2\n",
       "\n",
       "[150 rows x 5 columns]"
      ]
     },
     "execution_count": 6,
     "metadata": {
      "tags": []
     },
     "output_type": "execute_result"
    }
   ],
   "source": [
    "df"
   ]
  },
  {
   "cell_type": "markdown",
   "metadata": {
    "id": "PZgFei3LAdaz"
   },
   "source": [
    "## Step 4: Split Data into Training and Test Sets\n",
    "\n",
    "In this section we will prepare a training set and a test set.\n",
    "\n",
    "*   The training set is used for training the model.\n",
    "*   The test set is used to evaluate the trained model.\n",
    "\n",
    "First, you need to extract the features and the label from the `df`.\n",
    "\n"
   ]
  },
  {
   "cell_type": "code",
   "execution_count": 7,
   "metadata": {
    "executionInfo": {
     "elapsed": 885,
     "status": "ok",
     "timestamp": 1613364705830,
     "user": {
      "displayName": "Akara Supratak",
      "photoUrl": "https://lh3.googleusercontent.com/a-/AOh14GiVfRuYPFy2nTZ604OWTDp5V1023qD33YzGgVKa=s64",
      "userId": "03364799826905916985"
     },
     "user_tz": -420
    },
    "id": "_JQzAb3a636j"
   },
   "outputs": [],
   "source": [
    "# X = # YOUR CODE\n",
    "# y = # YOUR CODE\n",
    "X = df.drop(columns=['label']).values\n",
    "y = df['label'].values"
   ]
  },
  {
   "cell_type": "markdown",
   "metadata": {
    "id": "cBdWclxyQo5s"
   },
   "source": [
    "The expected output are `(150, 4) (150,)`."
   ]
  },
  {
   "cell_type": "code",
   "execution_count": 8,
   "metadata": {
    "colab": {
     "base_uri": "https://localhost:8080/"
    },
    "executionInfo": {
     "elapsed": 841,
     "status": "ok",
     "timestamp": 1613364707262,
     "user": {
      "displayName": "Akara Supratak",
      "photoUrl": "https://lh3.googleusercontent.com/a-/AOh14GiVfRuYPFy2nTZ604OWTDp5V1023qD33YzGgVKa=s64",
      "userId": "03364799826905916985"
     },
     "user_tz": -420
    },
    "id": "qPIxO88xQmtl",
    "outputId": "e53d9d8e-c3b7-404a-f2ae-3b2f6344db7e"
   },
   "outputs": [
    {
     "name": "stdout",
     "output_type": "stream",
     "text": [
      "(150, 4) (150,)\n"
     ]
    }
   ],
   "source": [
    "print(X.shape, y.shape)"
   ]
  },
  {
   "cell_type": "markdown",
   "metadata": {
    "id": "HmQGjgu8CInO"
   },
   "source": [
    "Next we will split the dataset into two sets: **training set** and **test set**. Having a test set that contains different examples from the training set allows us to estimate the performance of our model on the **unseen data**.\n",
    "\n",
    "To do this, we will use `train_test_split` provided in `sklearn.model_selection`.\n",
    "\n",
    "The code below shows an example of how to use the `train_test_split`. You can try to change the proportion of the test set by changing the `test_size`."
   ]
  },
  {
   "cell_type": "code",
   "execution_count": 10,
   "metadata": {
    "colab": {
     "base_uri": "https://localhost:8080/"
    },
    "executionInfo": {
     "elapsed": 827,
     "status": "ok",
     "timestamp": 1613364807610,
     "user": {
      "displayName": "Akara Supratak",
      "photoUrl": "https://lh3.googleusercontent.com/a-/AOh14GiVfRuYPFy2nTZ604OWTDp5V1023qD33YzGgVKa=s64",
      "userId": "03364799826905916985"
     },
     "user_tz": -420
    },
    "id": "pHJT4I8I634N",
    "outputId": "f2990067-b56b-461d-e8ae-eb34875f82bf"
   },
   "outputs": [
    {
     "name": "stdout",
     "output_type": "stream",
     "text": [
      "Training set: (120, 4), (120,)\n",
      "Test set: (30, 4), (30,)\n"
     ]
    }
   ],
   "source": [
    "from sklearn.model_selection import train_test_split\n",
    "\n",
    "# Split the data into the training and test sets\n",
    "X_train, X_test, y_train, y_test = train_test_split(\n",
    "    X, y, \n",
    "    random_state=0,\n",
    "    test_size=0.2)  # try to change this number\n",
    "\n",
    "print(f'Training set: {X_train.shape}, {y_train.shape}')\n",
    "print(f'Test set: {X_test.shape}, {y_test.shape}')"
   ]
  },
  {
   "cell_type": "markdown",
   "metadata": {
    "id": "2Fvb32DuDiTe"
   },
   "source": [
    "**Note:** it should be mentioned here that, typically, step 1 to 4 are **application-specific**. These steps can varies depending on the characteristics of your dataset.\n",
    "Nevertheless, the purpose of these steps is to prepare the training (`X_train`,`y_train`) and the test (`X_test`,`y_test`) sets for training and evaluation a machine learning model."
   ]
  },
  {
   "cell_type": "markdown",
   "metadata": {
    "id": "1kDTHGvLDXF4"
   },
   "source": [
    "## Step 5: Model Training\n",
    "\n",
    "In this section, you will create and train a decision tree model using the training set.\n",
    "\n",
    "First, you create a decision tree model, named `model`, using `DecisionTreeClassifier` from `sklearn.tree`\n",
    "\n"
   ]
  },
  {
   "cell_type": "code",
   "execution_count": 19,
   "metadata": {
    "executionInfo": {
     "elapsed": 1254,
     "status": "ok",
     "timestamp": 1613365273347,
     "user": {
      "displayName": "Akara Supratak",
      "photoUrl": "https://lh3.googleusercontent.com/a-/AOh14GiVfRuYPFy2nTZ604OWTDp5V1023qD33YzGgVKa=s64",
      "userId": "03364799826905916985"
     },
     "user_tz": -420
    },
    "id": "2F2yeNY7631m"
   },
   "outputs": [],
   "source": [
    "# YOUR CODE HERE\n",
    "from sklearn.tree import DecisionTreeClassifier\n",
    "model = DecisionTreeClassifier()"
   ]
  },
  {
   "cell_type": "markdown",
   "metadata": {
    "id": "fZx9K8D0F8Uy"
   },
   "source": [
    "Next, you train the `model` with the training set `X_train` and `y_train`."
   ]
  },
  {
   "cell_type": "code",
   "execution_count": 20,
   "metadata": {
    "colab": {
     "base_uri": "https://localhost:8080/"
    },
    "executionInfo": {
     "elapsed": 706,
     "status": "ok",
     "timestamp": 1613365273893,
     "user": {
      "displayName": "Akara Supratak",
      "photoUrl": "https://lh3.googleusercontent.com/a-/AOh14GiVfRuYPFy2nTZ604OWTDp5V1023qD33YzGgVKa=s64",
      "userId": "03364799826905916985"
     },
     "user_tz": -420
    },
    "id": "5X3aKR8G63zC",
    "outputId": "3a17c6dc-45ca-43f0-ac72-8a712bacc1ff"
   },
   "outputs": [
    {
     "data": {
      "text/plain": [
       "DecisionTreeClassifier(ccp_alpha=0.0, class_weight=None, criterion='gini',\n",
       "                       max_depth=2, max_features=None, max_leaf_nodes=None,\n",
       "                       min_impurity_decrease=0.0, min_impurity_split=None,\n",
       "                       min_samples_leaf=1, min_samples_split=2,\n",
       "                       min_weight_fraction_leaf=0.0, presort='deprecated',\n",
       "                       random_state=None, splitter='best')"
      ]
     },
     "execution_count": 20,
     "metadata": {
      "tags": []
     },
     "output_type": "execute_result"
    }
   ],
   "source": [
    "# YOUR CODE HERE\n",
    "model.fit(X_train, y_train)"
   ]
  },
  {
   "cell_type": "markdown",
   "metadata": {
    "id": "UXCHUFBJGW9l"
   },
   "source": [
    "## Step 6: Prediction\n",
    "\n",
    "Once you have trained the model, you are now ready to apply it to the test set (`X_test`). Make sure that the predictions are stored in `y_pred`.\n",
    "\n",
    "**Note**: `y_test` should only be used for evaluation."
   ]
  },
  {
   "cell_type": "code",
   "execution_count": 21,
   "metadata": {
    "executionInfo": {
     "elapsed": 739,
     "status": "ok",
     "timestamp": 1613365276067,
     "user": {
      "displayName": "Akara Supratak",
      "photoUrl": "https://lh3.googleusercontent.com/a-/AOh14GiVfRuYPFy2nTZ604OWTDp5V1023qD33YzGgVKa=s64",
      "userId": "03364799826905916985"
     },
     "user_tz": -420
    },
    "id": "QMghrnZGGWrP"
   },
   "outputs": [],
   "source": [
    "# YOUR CODE HERE\n",
    "y_pred = model.predict(X_test)"
   ]
  },
  {
   "cell_type": "markdown",
   "metadata": {
    "id": "IIa5VbRYINgE"
   },
   "source": [
    "## Step 7: Performance Evaluation\n",
    "\n",
    "One of the most common metrics to determine the performance of our model is **accuracy**, which is the closeness of a measured value to a standard or known value."
   ]
  },
  {
   "cell_type": "code",
   "execution_count": 22,
   "metadata": {
    "colab": {
     "base_uri": "https://localhost:8080/"
    },
    "executionInfo": {
     "elapsed": 890,
     "status": "ok",
     "timestamp": 1613365279045,
     "user": {
      "displayName": "Akara Supratak",
      "photoUrl": "https://lh3.googleusercontent.com/a-/AOh14GiVfRuYPFy2nTZ604OWTDp5V1023qD33YzGgVKa=s64",
      "userId": "03364799826905916985"
     },
     "user_tz": -420
    },
    "id": "oNIrYU_4GWpD",
    "outputId": "91cdfaa5-2254-48e2-a31a-889afd6dce33"
   },
   "outputs": [
    {
     "data": {
      "text/plain": [
       "0.9666666666666667"
      ]
     },
     "execution_count": 22,
     "metadata": {
      "tags": []
     },
     "output_type": "execute_result"
    }
   ],
   "source": [
    "# YOUR CODE HERE\n",
    "np.mean(y_pred == y_test)"
   ]
  },
  {
   "cell_type": "markdown",
   "metadata": {
    "id": "z2Y21L4EInjK"
   },
   "source": [
    "If you have done all of the steps correctly, the accuracy on the test set should be more than 0.95."
   ]
  },
  {
   "cell_type": "markdown",
   "metadata": {
    "id": "KPP44tVmI5Xa"
   },
   "source": [
    "## Step 8: Visualize Decision Tree"
   ]
  },
  {
   "cell_type": "code",
   "execution_count": 23,
   "metadata": {
    "executionInfo": {
     "elapsed": 1174,
     "status": "ok",
     "timestamp": 1613365293410,
     "user": {
      "displayName": "Akara Supratak",
      "photoUrl": "https://lh3.googleusercontent.com/a-/AOh14GiVfRuYPFy2nTZ604OWTDp5V1023qD33YzGgVKa=s64",
      "userId": "03364799826905916985"
     },
     "user_tz": -420
    },
    "id": "jovKKwDmKvdV"
   },
   "outputs": [],
   "source": [
    "# feature_names = # YOUR CODE HERE\n",
    "# class_names = # YOUR CODE HERE\n",
    "feature_names = df.drop(columns=['label']).columns.values\n",
    "class_names = label_enc.classes_"
   ]
  },
  {
   "cell_type": "markdown",
   "metadata": {
    "id": "P4EMofpXNOMY"
   },
   "source": [
    "If you have done it correctly, the following code should print \n",
    "* `sepal_length`, `sepal_width`, `petal_length` and `petal_width` for `feature_names`\n",
    "* `setosa`, `versicolor` and `virginica` for `class_names`\n",
    "\n"
   ]
  },
  {
   "cell_type": "code",
   "execution_count": 24,
   "metadata": {
    "colab": {
     "base_uri": "https://localhost:8080/"
    },
    "executionInfo": {
     "elapsed": 913,
     "status": "ok",
     "timestamp": 1613365296920,
     "user": {
      "displayName": "Akara Supratak",
      "photoUrl": "https://lh3.googleusercontent.com/a-/AOh14GiVfRuYPFy2nTZ604OWTDp5V1023qD33YzGgVKa=s64",
      "userId": "03364799826905916985"
     },
     "user_tz": -420
    },
    "id": "X59BajwvNF3f",
    "outputId": "34afef9c-81fd-4c03-b8df-0591c2c15243"
   },
   "outputs": [
    {
     "name": "stdout",
     "output_type": "stream",
     "text": [
      "feature_names: ['sepal_length' 'sepal_width' 'petal_length' 'petal_width']\n",
      "class_names: ['setosa' 'versicolor' 'virginica']\n"
     ]
    }
   ],
   "source": [
    "print(f'feature_names: {feature_names}')\n",
    "print(f'class_names: {class_names}')"
   ]
  },
  {
   "cell_type": "code",
   "execution_count": 25,
   "metadata": {
    "colab": {
     "base_uri": "https://localhost:8080/",
     "height": 526
    },
    "executionInfo": {
     "elapsed": 3807,
     "status": "ok",
     "timestamp": 1613365300506,
     "user": {
      "displayName": "Akara Supratak",
      "photoUrl": "https://lh3.googleusercontent.com/a-/AOh14GiVfRuYPFy2nTZ604OWTDp5V1023qD33YzGgVKa=s64",
      "userId": "03364799826905916985"
     },
     "user_tz": -420
    },
    "id": "LEJBA8c_GWnG",
    "outputId": "43e298e8-020c-48d0-87e1-9dbac9eaed5f"
   },
   "outputs": [
    {
     "data": {
      "image/png": "[encoded data removed]",
      "text/plain": [
       "<Figure size 720x864 with 1 Axes>"
      ]
     },
     "metadata": {
      "needs_background": "light",
      "tags": []
     },
     "output_type": "display_data"
    }
   ],
   "source": [
    "from sklearn.tree import export_graphviz\n",
    "from subprocess import call\n",
    "import matplotlib.pyplot as plt\n",
    "\n",
    "# Export the decision tree\n",
    "export_graphviz(\n",
    "    model,                           # the trained decision tree here\n",
    "    feature_names=feature_names,     # the list of feature names here\n",
    "    class_names=class_names,         # the list of labels here\n",
    "    out_file='tree.dot',\n",
    "    rounded=True, proportion=False, precision=2, filled=True)\n",
    "\n",
    "# Convert to png\n",
    "call(['dot', '-Tpng', 'tree.dot', '-o', 'tree.png', '-Gdpi=600'])\n",
    "\n",
    "# Display in python\n",
    "plt.figure(figsize=(10,12))\n",
    "plt.imshow(plt.imread('tree.png'))\n",
    "plt.axis('off')\n",
    "plt.show()"
   ]
  },
  {
   "cell_type": "markdown",
   "metadata": {
    "id": "RLo5rwUYOxyJ"
   },
   "source": [
    "You can also investigate the important features that the model used to make predictions."
   ]
  },
  {
   "cell_type": "code",
   "execution_count": 18,
   "metadata": {
    "colab": {
     "base_uri": "https://localhost:8080/"
    },
    "executionInfo": {
     "elapsed": 2481,
     "status": "ok",
     "timestamp": 1613365079895,
     "user": {
      "displayName": "Akara Supratak",
      "photoUrl": "https://lh3.googleusercontent.com/a-/AOh14GiVfRuYPFy2nTZ604OWTDp5V1023qD33YzGgVKa=s64",
      "userId": "03364799826905916985"
     },
     "user_tz": -420
    },
    "id": "nikmBbn-PBq8",
    "outputId": "57a26d47-64ae-4a9d-cb4d-95bc862f0c41"
   },
   "outputs": [
    {
     "name": "stdout",
     "output_type": "stream",
     "text": [
      "sepal_length: 0.0\n",
      "sepal_width: 0.0\n",
      "petal_length: 0.0\n",
      "petal_width: 1.0\n"
     ]
    }
   ],
   "source": [
    "for i in range(len(feature_names)):\n",
    "    print(f'{feature_names[i]}: {model.feature_importances_[i]}')"
   ]
  },
  {
   "cell_type": "markdown",
   "metadata": {
    "id": "YJRzr20lLRTJ"
   },
   "source": [
    "## Step 9: Adjust Model Capability\n",
    "\n",
    "Currently, you may create a Decision Tree model using its default configuration. There are many parameters that you can specify to adjust the model capability. You can refer to [this website](https://scikit-learn.org/stable/modules/generated/sklearn.tree.DecisionTreeClassifier.html#sklearn.tree.DecisionTreeClassifier) for more information on how to adjust the capability of the decision tree.\n",
    "\n",
    "In particular, you can try to specify:\n",
    "*   `min_samples_split` to 30, 50, etc. \n",
    "*   `max_depth` to 2, 1, etc.\n",
    "\n",
    "and then see how this affects the trained decision tree model.\n",
    "\n"
   ]
  },
  {
   "cell_type": "markdown",
   "metadata": {
    "id": "bgmMRmnDK91I"
   },
   "source": [
    "Congratulations! You have successfully gone through the whole process for building a supervised ML model for classification. You will learn how to select the best model in the next lecture."
   ]
  },
  {
   "cell_type": "code",
   "execution_count": null,
   "metadata": {
    "id": "R7DVg0lYGWk5"
   },
   "outputs": [],
   "source": []
  }
 ],
 "metadata": {
  "colab": {
   "collapsed_sections": [],
   "name": "W5.2 Decision Tree on the Iris Dataset (solution).ipynb",
   "provenance": [],
   "toc_visible": true
  },
  "kernelspec": {
   "display_name": "Python 3",
   "language": "python",
   "name": "python3"
  },
  "language_info": {
   "codemirror_mode": {
    "name": "ipython",
    "version": 3
   },
   "file_extension": ".py",
   "mimetype": "text/x-python",
   "name": "python",
   "nbconvert_exporter": "python",
   "pygments_lexer": "ipython3",
   "version": "3.8.3"
  }
 },
 "nbformat": 4,
 "nbformat_minor": 1
}
