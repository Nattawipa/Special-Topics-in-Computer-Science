{
 "cells": [
  {
   "cell_type": "markdown",
   "metadata": {},
   "source": [
    "# Introduction to Python"
   ]
  },
  {
   "cell_type": "markdown",
   "metadata": {},
   "source": [
    "This document provides some tips for getting started with python and using the basic data types and data structures.\n",
    "\n",
    "It covers\n",
    "\n",
    "- Whitespace\n",
    "- variable\n",
    "- output\n",
    "- Basic Operators\n",
    "- module\n",
    "- 0-indexing\n",
    "- data structure\n",
    "    - lists \n",
    "    - tuples\n",
    "    - dicts\n"
   ]
  },
  {
   "cell_type": "markdown",
   "metadata": {},
   "source": [
    "## Whitespace\n",
    "\n",
    "In python, whitespace matters. python uses whitespace to describe structure. Lines of code in the same block should have the same indent size. This makes the python easy to read, but if you are copying and pasting from other programs that don't handle spacing consistently, you may run into trouble."
   ]
  },
  {
   "cell_type": "code",
   "execution_count": 1,
   "metadata": {},
   "outputs": [
    {
     "name": "stdout",
     "output_type": "stream",
     "text": [
      "1\n",
      "2\n",
      "3\n",
      "4\n",
      "5\n",
      "6\n",
      "7\n",
      "8\n",
      "9\n",
      "10\n"
     ]
    }
   ],
   "source": [
    "for x in range(0,10):\n",
    "    x=x+1\n",
    "    print(x)\n",
    "\n"
   ]
  },
  {
   "cell_type": "code",
   "execution_count": 6,
   "metadata": {},
   "outputs": [
    {
     "name": "stdout",
     "output_type": "stream",
     "text": [
      "0\n",
      "1\n",
      "2\n",
      "3\n",
      "4\n",
      "5\n",
      "6\n",
      "7\n",
      "8\n",
      "9\n"
     ]
    }
   ],
   "source": [
    "for x in range(0,10):\n",
    "    print (x)"
   ]
  },
  {
   "cell_type": "markdown",
   "metadata": {},
   "source": [
    "## Variable\n",
    "\n",
    "Python variables do not need explicit declaration to reserve memory space. The declaration happens automatically when you assign a value to a variable. The equal sign (=) is used to assign values to variables.\n",
    "\n",
    "The operand to the left of the = operator is the name of the variable and the operand to the right of the = operator is the value stored in the variable."
   ]
  },
  {
   "cell_type": "code",
   "execution_count": 5,
   "metadata": {},
   "outputs": [
    {
     "name": "stdout",
     "output_type": "stream",
     "text": [
      "100\n",
      "1000.0\n",
      "John\n"
     ]
    }
   ],
   "source": [
    "counter = 100          # An integer assignment\n",
    "miles   = 1000.0       # A floating point\n",
    "name    = \"John\"       # A string\n",
    "\n",
    "print (counter)\n",
    "print (miles)\n",
    "print (name)"
   ]
  },
  {
   "cell_type": "markdown",
   "metadata": {},
   "source": [
    "## Output\n",
    "There are several ways to present the output of a program; data can be printed in a human-readable form, or written to a file for future use. In this introduction, we focus on **print()** function."
   ]
  },
  {
   "cell_type": "code",
   "execution_count": 8,
   "metadata": {},
   "outputs": [
    {
     "name": "stdout",
     "output_type": "stream",
     "text": [
      "hello world\n"
     ]
    }
   ],
   "source": [
    "print('hello world')"
   ]
  },
  {
   "cell_type": "markdown",
   "metadata": {},
   "source": [
    "### Formatted String Literals\n",
    "Formatted string literals (also called f-strings for short) let you include the value of Python expressions inside a string by prefixing the string with **f** or **F** and writing expressions as {expression}."
   ]
  },
  {
   "cell_type": "code",
   "execution_count": 11,
   "metadata": {},
   "outputs": [
    {
     "name": "stdout",
     "output_type": "stream",
     "text": [
      "The value of pi is approximately 3.142.\n"
     ]
    }
   ],
   "source": [
    "import math\n",
    "print(F'The value of pi is approximately {math.pi:.3f}.')"
   ]
  },
  {
   "cell_type": "code",
   "execution_count": 14,
   "metadata": {},
   "outputs": [
    {
     "name": "stdout",
     "output_type": "stream",
     "text": [
      "Sjoerd     ==>       4127\n",
      "Jack       ==>       4098\n",
      "Dcab       ==>       7678\n"
     ]
    }
   ],
   "source": [
    "table = {'Sjoerd': 4127, 'Jack': 4098, 'Dcab': 7678}\n",
    "for name, phone in table.items():\n",
    "    print(f'{name:10} ==> {phone:10d}')"
   ]
  },
  {
   "cell_type": "markdown",
   "metadata": {},
   "source": [
    "### The String format() Method\n",
    "Basic usage of the str.format() method looks like this:"
   ]
  },
  {
   "cell_type": "code",
   "execution_count": 15,
   "metadata": {
    "scrolled": true
   },
   "outputs": [
    {
     "name": "stdout",
     "output_type": "stream",
     "text": [
      "We are the knights who say \"Ni!\"\n"
     ]
    }
   ],
   "source": [
    "print('We are the {} who say \"{}!\"'.format('knights', 'Ni'))"
   ]
  },
  {
   "cell_type": "markdown",
   "metadata": {},
   "source": [
    "The brackets and characters within them (called format fields) are replaced with the objects passed into the str.format() method. A number in the brackets can be used to refer to the position of the object passed into the str.format() method."
   ]
  },
  {
   "cell_type": "code",
   "execution_count": 16,
   "metadata": {},
   "outputs": [
    {
     "name": "stdout",
     "output_type": "stream",
     "text": [
      "spam and eggs\n",
      "eggs and spam\n"
     ]
    }
   ],
   "source": [
    "print('{0} and {1}'.format('spam', 'eggs'))\n",
    "print('{1} and {0}'.format('spam', 'eggs'))"
   ]
  },
  {
   "cell_type": "markdown",
   "metadata": {},
   "source": [
    "### Output data with str() and repr() function\n",
    "When you don’t need fancy output but just want a quick display of some variables for debugging purposes, you can convert any value to a string with the repr() or str() functions. \n",
    "\n",
    "The str() function is meant to return representations of values which are fairly human-readable, while repr() is meant to generate representations which can be read by the interpreter (or will force a SyntaxError if there is no equivalent syntax)."
   ]
  },
  {
   "cell_type": "code",
   "execution_count": 17,
   "metadata": {},
   "outputs": [
    {
     "data": {
      "text/plain": [
       "'Hello, world.'"
      ]
     },
     "execution_count": 17,
     "metadata": {},
     "output_type": "execute_result"
    }
   ],
   "source": [
    "s = 'Hello, world.'\n",
    "str(s)"
   ]
  },
  {
   "cell_type": "code",
   "execution_count": 18,
   "metadata": {},
   "outputs": [
    {
     "data": {
      "text/plain": [
       "\"'Hello, world.'\""
      ]
     },
     "execution_count": 18,
     "metadata": {},
     "output_type": "execute_result"
    }
   ],
   "source": [
    "repr(s)"
   ]
  },
  {
   "cell_type": "code",
   "execution_count": 19,
   "metadata": {},
   "outputs": [
    {
     "data": {
      "text/plain": [
       "'0.14285714285714285'"
      ]
     },
     "execution_count": 19,
     "metadata": {},
     "output_type": "execute_result"
    }
   ],
   "source": [
    "str(1/7)"
   ]
  },
  {
   "cell_type": "code",
   "execution_count": 20,
   "metadata": {},
   "outputs": [
    {
     "name": "stdout",
     "output_type": "stream",
     "text": [
      "The value of x is 32.5, and y is 40000...\n"
     ]
    }
   ],
   "source": [
    "x = 10 * 3.25\n",
    "y = 200 * 200\n",
    "s = 'The value of x is ' + repr(x) + ', and y is ' + repr(y) + '...'\n",
    "print(s)"
   ]
  },
  {
   "cell_type": "code",
   "execution_count": 21,
   "metadata": {},
   "outputs": [
    {
     "data": {
      "text/plain": [
       "\"(32.5, 40000, ('spam', 'eggs'))\""
      ]
     },
     "execution_count": 21,
     "metadata": {},
     "output_type": "execute_result"
    }
   ],
   "source": [
    "# The argument to repr() may be any Python object:\n",
    "repr((x, y, ('spam', 'eggs')))"
   ]
  },
  {
   "cell_type": "markdown",
   "metadata": {},
   "source": [
    "### Show data in a variable\n",
    "If we want to see data in a variable, we just call the variable name."
   ]
  },
  {
   "cell_type": "code",
   "execution_count": 22,
   "metadata": {},
   "outputs": [
    {
     "data": {
      "text/plain": [
       "30"
      ]
     },
     "execution_count": 22,
     "metadata": {},
     "output_type": "execute_result"
    }
   ],
   "source": [
    "temperature = 30\n",
    "# call the variable name to show it's data\n",
    "temperature"
   ]
  },
  {
   "cell_type": "markdown",
   "metadata": {},
   "source": [
    "## Modules\n",
    "\n",
    "If you quit from the Python interpreter and enter it again, the definitions you have made (functions and variables) are lost. Therefore, if you want to write a somewhat longer program, you are better off using a text editor to prepare the input for the interpreter and running it with that file as input instead. This is known as creating a script. As your program gets longer, you may want to split it into several files for easier maintenance. You may also want to use a handy function that you’ve written in several programs without copying its definition into each program.\n",
    "\n",
    "To support this, Python has a way to put definitions in a file and use them in a script or in an interactive instance of the interpreter. Such a file is called a module; definitions from a module can be imported into other modules or into the main module (the collection of variables that you have access to in a script executed at the top level and in calculator mode)."
   ]
  },
  {
   "cell_type": "markdown",
   "metadata": {},
   "source": [
    "The code of fibo module\n",
    "\n",
    "```python\n",
    "# file name: fibo.py\n",
    "\n",
    "# Fibonacci numbers module\n",
    "\n",
    "def fib(n):    # write Fibonacci series up to n\n",
    "    a, b = 0, 1\n",
    "    while a < n:\n",
    "        print(a, end=' ')\n",
    "        a, b = b, a+b\n",
    "    print()\n",
    "\n",
    "def fib2(n):   # return Fibonacci series up to n\n",
    "    result = []\n",
    "    a, b = 0, 1\n",
    "    while a < n:\n",
    "        result.append(a)\n",
    "        a, b = b, a+b\n",
    "    return result\n",
    "```"
   ]
  },
  {
   "cell_type": "markdown",
   "metadata": {},
   "source": [
    "### The import Statement\n",
    "You can use any Python source file as a module by executing an import statement in some other Python source file. The import has the following syntax −\n",
    "\n",
    "```python\n",
    "import module1[, module2[,... moduleN]\n",
    "```"
   ]
  },
  {
   "cell_type": "code",
   "execution_count": 23,
   "metadata": {},
   "outputs": [
    {
     "name": "stdout",
     "output_type": "stream",
     "text": [
      "0 1 1 2 3 5 8 13 21 34 55 89 144 233 377 610 987 \n"
     ]
    }
   ],
   "source": [
    "import fibo\n",
    "fibo.fib(1000)"
   ]
  },
  {
   "cell_type": "code",
   "execution_count": 24,
   "metadata": {},
   "outputs": [
    {
     "data": {
      "text/plain": [
       "[0, 1, 1, 2, 3, 5, 8, 13, 21, 34, 55, 89]"
      ]
     },
     "execution_count": 24,
     "metadata": {},
     "output_type": "execute_result"
    }
   ],
   "source": [
    "fibo.fib2(100)"
   ]
  },
  {
   "cell_type": "code",
   "execution_count": 25,
   "metadata": {},
   "outputs": [
    {
     "data": {
      "text/plain": [
       "'fibo'"
      ]
     },
     "execution_count": 25,
     "metadata": {},
     "output_type": "execute_result"
    }
   ],
   "source": [
    "fibo.__name__"
   ]
  },
  {
   "cell_type": "markdown",
   "metadata": {},
   "source": [
    "### The from...import Statement\n",
    "Python's from statement lets you import specific attributes from a module into the current namespace. The from...import has the following syntax −\n",
    "```python\n",
    "from modname import name1[, name2[, ... nameN]]\n",
    "```"
   ]
  },
  {
   "cell_type": "code",
   "execution_count": 26,
   "metadata": {},
   "outputs": [
    {
     "name": "stdout",
     "output_type": "stream",
     "text": [
      "0 1 1 2 3 5 8 13 21 34 55 89 144 233 377 \n"
     ]
    }
   ],
   "source": [
    "from fibo import fib, fib2\n",
    "fib(500)"
   ]
  },
  {
   "cell_type": "code",
   "execution_count": 27,
   "metadata": {},
   "outputs": [
    {
     "data": {
      "text/plain": [
       "[0, 1, 1, 2, 3, 5, 8, 13, 21, 34, 55, 89, 144, 233, 377, 610]"
      ]
     },
     "execution_count": 27,
     "metadata": {},
     "output_type": "execute_result"
    }
   ],
   "source": [
    "fib2(700)"
   ]
  },
  {
   "cell_type": "markdown",
   "metadata": {},
   "source": [
    "There is even a variant to import all names that a module defines:"
   ]
  },
  {
   "cell_type": "code",
   "execution_count": 28,
   "metadata": {},
   "outputs": [
    {
     "name": "stdout",
     "output_type": "stream",
     "text": [
      "0 1 1 2 3 5 8 13 21 34 55 89 144 233 377 \n",
      "[0, 1, 1, 2, 3, 5, 8, 13, 21, 34, 55, 89, 144, 233, 377, 610]\n"
     ]
    }
   ],
   "source": [
    "from fibo import *\n",
    "fib(500)\n",
    "print(fib2(700))"
   ]
  },
  {
   "cell_type": "markdown",
   "metadata": {},
   "source": [
    "If the module name is followed by as, then the name following as is bound directly to the imported module"
   ]
  },
  {
   "cell_type": "code",
   "execution_count": 29,
   "metadata": {},
   "outputs": [
    {
     "name": "stdout",
     "output_type": "stream",
     "text": [
      "0 1 1 2 3 5 8 13 21 34 55 89 144 233 377 \n"
     ]
    }
   ],
   "source": [
    "import fibo as fib\n",
    "fib.fib(500)"
   ]
  },
  {
   "cell_type": "markdown",
   "metadata": {},
   "source": [
    "## Zero-indexing\n",
    "\n",
    "Python, like most programming languages, is 0-indexed. That means that the first element in any indexible data type is the 0th element. Indexing element 1 will get you the second element in an object. So remember to start your loops from 0!"
   ]
  },
  {
   "cell_type": "code",
   "execution_count": 30,
   "metadata": {},
   "outputs": [
    {
     "name": "stdout",
     "output_type": "stream",
     "text": [
      "hello\n",
      "this\n",
      "strings\n"
     ]
    }
   ],
   "source": [
    "mylist = [\"hello\", \"this\", \"is\", \"a\", \"list\", \"of\", \"strings\"]\n",
    "\n",
    "print (mylist[0])\n",
    "print (mylist[1])\n",
    "print (mylist[6])"
   ]
  },
  {
   "cell_type": "markdown",
   "metadata": {},
   "source": [
    "## Basic Operators\n",
    "### Arithmetic Operators\n",
    "<table class=\"table table-bordered\">\n",
    "<tr>\n",
    "<th style=\"text-align:center; width:21%\">Operator</th>\n",
    "<th style=\"text-align:center; width:45%\">Description</th>\n",
    "<th style=\"text-align:center;\">Example</th>\n",
    "</tr>\n",
    "<tr>\n",
    "<td class=\"ts\">&plus; Addition</td>\n",
    "<td>Adds values on either side of the operator.</td>\n",
    "<td class=\"ts\">a &plus; b = 31</td>\n",
    "</tr>\n",
    "<tr>\n",
    "<td class=\"ts\">- Subtraction</td>\n",
    "<td>Subtracts right hand operand from left hand operand.</td>\n",
    "<td class=\"ts\">a – b = -11</td>\n",
    "</tr>\n",
    "<tr>\n",
    "<td class=\"ts\">* Multiplication</td>\n",
    "<td>Multiplies values on either side of the operator</td>\n",
    "<td class=\"ts\">a * b = 210</td>\n",
    "</tr>\n",
    "<tr>\n",
    "<td class=\"ts\">/ Division</td>\n",
    "<td>Divides left hand operand by right hand operand</td>\n",
    "<td class=\"ts\">b / a = 2.1</td>\n",
    "</tr>\n",
    "<tr>\n",
    "<td class=\"ts\">% Modulus</td>\n",
    "<td>Divides left hand operand by right hand operand and returns remainder</td>\n",
    "<td class=\"ts\">b % a = 1</td>\n",
    "</tr>\n",
    "<tr>\n",
    "<td class=\"ts\">\\*\\* Exponent</td>\n",
    "<td>Performs exponential (power) calculation on operators</td>\n",
    "<td class=\"ts\">a**b =10 to the power 20</td>\n",
    "</tr>\n",
    "<tr>\n",
    "<td class=\"ts\">//</td>\n",
    "<td>Floor Division - The division of operands where the result is the quotient in which the digits after the decimal point are removed. But if one of the operands is negative, the result is floored, i.e., rounded away from zero (towards negative infinity):</td>\n",
    "<td class=\"ts\">9//2 = 4 and 9.0//2.0 = 4.0, -11//3 = -4, -11.0//3 = -4.0</td>\n",
    "</tr>\n",
    "</table>\n"
   ]
  },
  {
   "cell_type": "code",
   "execution_count": 31,
   "metadata": {},
   "outputs": [
    {
     "name": "stdout",
     "output_type": "stream",
     "text": [
      "Line 1 - Value of c is  31\n",
      "Line 2 - Value of c is  11\n",
      "Line 3 - Value of c is  210\n",
      "Line 4 - Value of c is  2.1\n",
      "Line 5 - Value of c is  1\n",
      "Line 6 - Value of c is  8\n",
      "Line 7 - Value of c is  2\n"
     ]
    }
   ],
   "source": [
    "a = 21\n",
    "b = 10\n",
    "c = 0\n",
    "\n",
    "c = a + b\n",
    "print (\"Line 1 - Value of c is \", c)\n",
    "\n",
    "c = a - b\n",
    "print (\"Line 2 - Value of c is \", c )\n",
    "\n",
    "c = a * b\n",
    "print (\"Line 3 - Value of c is \", c)\n",
    "\n",
    "c = a / b\n",
    "print (\"Line 4 - Value of c is \", c )\n",
    "\n",
    "c = a % b\n",
    "print (\"Line 5 - Value of c is \", c)\n",
    "\n",
    "a = 2\n",
    "b = 3\n",
    "c = a**b \n",
    "print (\"Line 6 - Value of c is \", c)\n",
    "\n",
    "a = 10\n",
    "b = 5\n",
    "c = a//b \n",
    "print (\"Line 7 - Value of c is \", c)"
   ]
  },
  {
   "cell_type": "markdown",
   "metadata": {},
   "source": [
    "### Comparison Operators\n",
    "\n",
    "<table class=\"table table-bordered\">\n",
    "<tr>\n",
    "<th style=\"text-align:center; width:21%\">Operator</th>\n",
    "<th style=\"text-align:center; width:45%\">Description</th>\n",
    "<th style=\"text-align:center;\">Example</th>\n",
    "</tr>\n",
    "<tr>\n",
    "<td class=\"ts\">==</td>\n",
    "<td>If the values of two operands are equal, then the condition becomes true.</td>\n",
    "<td class=\"ts\">(a == b) is not true.</td>\n",
    "</tr>\n",
    "<tr>\n",
    "<td class=\"ts\">!=</td>\n",
    "<td>If values of two operands are not equal, then condition becomes true.</td>\n",
    "<td class=\"ts\">(a!= b) is true. </td>\n",
    "</tr>\n",
    "<tr>\n",
    "<td class=\"ts\">&gt;</td>\n",
    "<td>If the value of left operand is greater than the value of right operand, then condition becomes true.</td>\n",
    "<td class=\"ts\">(a &gt; b) is not true.</td>\n",
    "</tr>\n",
    "<tr>\n",
    "<td class=\"ts\">&lt;</td>\n",
    "<td>If the value of left operand is less than the value of right operand, then condition becomes true.</td>\n",
    "<td class=\"ts\">(a &lt; b) is true.</td>\n",
    "</tr>\n",
    "<tr>\n",
    "<td class=\"ts\">&gt;=</td>\n",
    "<td>If the value of left operand is greater than or equal to the value of right operand, then condition becomes true.</td>\n",
    "<td class=\"ts\">(a &gt;= b) is not true.</td>\n",
    "</tr>\n",
    "<tr>\n",
    "<td class=\"ts\">&lt;=</td>\n",
    "<td>If the value of left operand is less than or equal to the value of right operand, then condition becomes true.</td>\n",
    "<td class=\"ts\">(a &lt;= b) is true.</td>\n",
    "</tr>\n",
    "</table>\n"
   ]
  },
  {
   "cell_type": "code",
   "execution_count": 32,
   "metadata": {},
   "outputs": [
    {
     "name": "stdout",
     "output_type": "stream",
     "text": [
      "Line 1 - a is not equal to b\n",
      "Line 2 - a is not equal to b\n",
      "Line 3 - a is not less than b\n",
      "Line 4 - a is greater than b\n",
      "Line 5 - a is either less than or equal to  b\n",
      "Line 6 - b is either greater than  or equal to b\n"
     ]
    }
   ],
   "source": [
    "a = 21\n",
    "b = 10\n",
    "\n",
    "if ( a == b ):\n",
    "   print (\"Line 1 - a is equal to b\")\n",
    "else:\n",
    "   print (\"Line 1 - a is not equal to b\")\n",
    "\n",
    "if ( a != b ):\n",
    "   print (\"Line 2 - a is not equal to b\")\n",
    "else:\n",
    "   print (\"Line 2 - a is equal to b\")\n",
    "\n",
    "if ( a < b ):\n",
    "   print (\"Line 3 - a is less than b\" )\n",
    "else:\n",
    "   print (\"Line 3 - a is not less than b\")\n",
    "\n",
    "if ( a > b ):\n",
    "   print (\"Line 4 - a is greater than b\")\n",
    "else:\n",
    "   print (\"Line 4 - a is not greater than b\")\n",
    "\n",
    "a,b = b,a #values of a and b swapped. a becomes 10, b becomes 21\n",
    "\n",
    "if ( a <= b ):\n",
    "   print (\"Line 5 - a is either less than or equal to  b\")\n",
    "else:\n",
    "   print (\"Line 5 - a is neither less than nor equal to  b\")\n",
    "\n",
    "if ( b >= a ):\n",
    "   print (\"Line 6 - b is either greater than  or equal to b\")\n",
    "else:\n",
    "   print (\"Line 6 - b is neither greater than  nor equal to b\")"
   ]
  },
  {
   "cell_type": "markdown",
   "metadata": {},
   "source": [
    "## Data Structures\n",
    "The most basic data structure in Python is the sequence. Each element of a sequence is assigned a number - its position or index. The first index is zero, the second index is one, and so forth.\n",
    "\n",
    "This tutorial provides a brief introduction to the basic python collection data structures, including:\n",
    "\n",
    "- lists \n",
    "- tuples\n",
    "- dicts\n",
    "\n",
    "\n",
    "Many tasks can be accomplished in several different ways, but selecting appropriate data structures can make a huge difference in the efficiency and speed of your code, and cut down on unnecessary work. You should choose the structure that is optimized for the particular task you need it to do. Some things to think about:\n",
    "\n",
    "- What is the primary purpose of this collection? Does it simply need to store items, or does it need to be searchable?\n",
    "\n",
    "- Will you need to modify the collection as you work with it, or will it remain static?\n",
    "\n",
    "- Do you need to preserve the ordering of the elements?\n",
    "\n",
    "- How big is your data? Many of the differences between these structures are trivial with small ammounts of data, but become important as your data grows.\n",
    "\n",
    "Some general tips:\n",
    "\n",
    "1. Searching is always more efficient with hashed objects. Searching a hashed object will always be faster than looping over an unhashed `list`.\n",
    "\n",
    "2. Take advantage of python's native hierarchical data structures. `Dicts` are extraordinarily efficient and useful (when appropriate) and it is well worth the effort to learn how to use them.\n",
    "\n",
    "3. Don't underestimate the difference that efficient code can make. Inefficient code on big data will eat up all of your RAM and cause your code to crash. "
   ]
  },
  {
   "cell_type": "markdown",
   "metadata": {},
   "source": [
    "### Lists\n",
    "\n",
    "The workhorse data structure in python is the `list`. `List`s are instantiated using square brackets, with elements separated by commas."
   ]
  },
  {
   "cell_type": "code",
   "execution_count": 33,
   "metadata": {},
   "outputs": [],
   "source": [
    "mylist = [\"This\", \"is\", \"a\", \"list\", \"of\", \"strings.\"]"
   ]
  },
  {
   "cell_type": "markdown",
   "metadata": {},
   "source": [
    "Python lists can contain heterogenous data types."
   ]
  },
  {
   "cell_type": "code",
   "execution_count": 34,
   "metadata": {},
   "outputs": [],
   "source": [
    "myHeterogenousList = [\"string\", 15, \"another string\", 2.0]"
   ]
  },
  {
   "cell_type": "markdown",
   "metadata": {},
   "source": [
    "Lists are nestable, and a list can contain any type of collection as an element, and you can easily iterate over list elements."
   ]
  },
  {
   "cell_type": "code",
   "execution_count": 35,
   "metadata": {},
   "outputs": [],
   "source": [
    "#we'll discuss these other data structures a bit later\n",
    "nestedList = [\"apple\", 2.0, [1,2,3], {'dictionaryKey': 'dictionaryValue'}, set(['setElement']) ]"
   ]
  },
  {
   "cell_type": "code",
   "execution_count": 36,
   "metadata": {},
   "outputs": [
    {
     "name": "stdout",
     "output_type": "stream",
     "text": [
      "<class 'str'>\n",
      "<class 'float'>\n",
      "<class 'list'>\n",
      "<class 'dict'>\n",
      "<class 'set'>\n"
     ]
    }
   ],
   "source": [
    "for element in nestedList:\n",
    "    print (type(element))"
   ]
  },
  {
   "cell_type": "markdown",
   "metadata": {},
   "source": [
    "You may come across example of list comprehension, which is a handy syntax for creating a list from another list. It is basically a one line for loop. For our purposes, there is no reason to use this syntax instead of a for loop unless you care about saving a little bit of typing. If you find it confusing, just use a for loop. There are analagous methods for sets and dicts as well."
   ]
  },
  {
   "cell_type": "code",
   "execution_count": 7,
   "metadata": {},
   "outputs": [
    {
     "name": "stdout",
     "output_type": "stream",
     "text": [
      "['CARROT', 'POTATO', 'SPINACH', 'TURNIP']\n"
     ]
    }
   ],
   "source": [
    "veggies = [\"carrot\", \"potato\",\"spinach\", \"turnip\"]\n",
    "VEGGIES = [x.upper() for x in veggies]\n",
    "print (VEGGIES)"
   ]
  },
  {
   "cell_type": "markdown",
   "metadata": {},
   "source": [
    "`Lists` are ordered, which means they are indexible. You can locate a particular object using the `index` method."
   ]
  },
  {
   "cell_type": "code",
   "execution_count": 8,
   "metadata": {},
   "outputs": [
    {
     "name": "stdout",
     "output_type": "stream",
     "text": [
      "['potato', 'spinach']\n"
     ]
    },
    {
     "data": {
      "text/plain": [
       "2"
      ]
     },
     "execution_count": 8,
     "metadata": {},
     "output_type": "execute_result"
    }
   ],
   "source": [
    "print (veggies[1:3])\n",
    "veggies.index(\"spinach\")"
   ]
  },
  {
   "cell_type": "code",
   "execution_count": 9,
   "metadata": {},
   "outputs": [
    {
     "name": "stdout",
     "output_type": "stream",
     "text": [
      "carrot\n"
     ]
    }
   ],
   "source": [
    "print(veggies[0])"
   ]
  },
  {
   "cell_type": "markdown",
   "metadata": {},
   "source": [
    "Lists are mutable, which means they can be modified and those changes will persist without being explicitly saved. You can add to the end of a list using append, or at a specific index using `insert`"
   ]
  },
  {
   "cell_type": "code",
   "execution_count": 39,
   "metadata": {},
   "outputs": [
    {
     "name": "stdout",
     "output_type": "stream",
     "text": [
      "['carrot', 'potato', 'spinach', 'turnip', 'zucchini']\n"
     ]
    }
   ],
   "source": [
    "veggies.append(\"zucchini\")\n",
    "print (veggies)"
   ]
  },
  {
   "cell_type": "code",
   "execution_count": 40,
   "metadata": {},
   "outputs": [
    {
     "name": "stdout",
     "output_type": "stream",
     "text": [
      "['carrot', 'potato', 'spinach', 'kale', 'turnip', 'zucchini']\n"
     ]
    }
   ],
   "source": [
    "veggies.insert(3, \"kale\")\n",
    "print (veggies)"
   ]
  },
  {
   "cell_type": "markdown",
   "metadata": {},
   "source": [
    "You can reverse a list or sort it."
   ]
  },
  {
   "cell_type": "code",
   "execution_count": 41,
   "metadata": {},
   "outputs": [
    {
     "name": "stdout",
     "output_type": "stream",
     "text": [
      "['zucchini', 'turnip', 'kale', 'spinach', 'potato', 'carrot']\n"
     ]
    }
   ],
   "source": [
    "veggies.reverse()\n",
    "print (veggies)"
   ]
  },
  {
   "cell_type": "code",
   "execution_count": 42,
   "metadata": {},
   "outputs": [
    {
     "name": "stdout",
     "output_type": "stream",
     "text": [
      "['carrot', 'kale', 'potato', 'spinach', 'turnip', 'zucchini']\n"
     ]
    }
   ],
   "source": [
    "veggies.sort()\n",
    "print (veggies)"
   ]
  },
  {
   "cell_type": "markdown",
   "metadata": {},
   "source": [
    "`remove` will delete a particular item from a list."
   ]
  },
  {
   "cell_type": "code",
   "execution_count": 43,
   "metadata": {},
   "outputs": [
    {
     "name": "stdout",
     "output_type": "stream",
     "text": [
      "['carrot', 'kale', 'potato', 'spinach', 'zucchini']\n"
     ]
    }
   ],
   "source": [
    "veggies.remove(\"turnip\")\n",
    "print (veggies)"
   ]
  },
  {
   "cell_type": "markdown",
   "metadata": {},
   "source": [
    "`pop` will remove the last item from the list and return it."
   ]
  },
  {
   "cell_type": "code",
   "execution_count": 44,
   "metadata": {},
   "outputs": [
    {
     "name": "stdout",
     "output_type": "stream",
     "text": [
      "zucchini\n",
      "['carrot', 'kale', 'potato', 'spinach']\n"
     ]
    }
   ],
   "source": [
    "a = veggies.pop()\n",
    "print (a)\n",
    "print (veggies)"
   ]
  },
  {
   "cell_type": "markdown",
   "metadata": {},
   "source": [
    "You can count the number of times a particular object appears in a list with `count`."
   ]
  },
  {
   "cell_type": "code",
   "execution_count": 45,
   "metadata": {},
   "outputs": [
    {
     "data": {
      "text/plain": [
       "2"
      ]
     },
     "execution_count": 45,
     "metadata": {},
     "output_type": "execute_result"
    }
   ],
   "source": [
    "veggies.append(\"potato\")\n",
    "veggies.count(\"potato\")"
   ]
  },
  {
   "cell_type": "markdown",
   "metadata": {},
   "source": [
    "You can find the smallest element with `min`, the largest with `max`, and the total number of items with `len`. For string variables, the min and max correspond to their alphabetical order."
   ]
  },
  {
   "cell_type": "code",
   "execution_count": 46,
   "metadata": {},
   "outputs": [
    {
     "name": "stdout",
     "output_type": "stream",
     "text": [
      "carrot\n",
      "spinach\n",
      "5\n"
     ]
    }
   ],
   "source": [
    "print (min(veggies))\n",
    "print (max(veggies))\n",
    "print (len(veggies))"
   ]
  },
  {
   "cell_type": "markdown",
   "metadata": {},
   "source": [
    "### Tuples\n",
    "`Tuples` are variant on `lists`; the main difference is that they are immutable. If you have no need to change a `list`, or if you'd like to to use a `list` but can't because your purpose requires an immutable object (for instance, as a dictionary key -- more on this below), use a `tuple`. "
   ]
  },
  {
   "cell_type": "code",
   "execution_count": 48,
   "metadata": {},
   "outputs": [
    {
     "ename": "AttributeError",
     "evalue": "'tuple' object has no attribute 'append'",
     "output_type": "error",
     "traceback": [
      "\u001b[0;31m---------------------------------------------------------------------------\u001b[0m",
      "\u001b[0;31mAttributeError\u001b[0m                            Traceback (most recent call last)",
      "\u001b[0;32m<ipython-input-48-640d03f6031f>\u001b[0m in \u001b[0;36m<module>\u001b[0;34m\u001b[0m\n\u001b[1;32m      1\u001b[0m \u001b[0mmyTuple\u001b[0m \u001b[0;34m=\u001b[0m \u001b[0;34m(\u001b[0m\u001b[0;36m1\u001b[0m\u001b[0;34m,\u001b[0m \u001b[0;36m2\u001b[0m\u001b[0;34m,\u001b[0m \u001b[0;36m3\u001b[0m\u001b[0;34m,\u001b[0m \u001b[0;36m4\u001b[0m\u001b[0;34m,\u001b[0m \u001b[0;36m5\u001b[0m\u001b[0;34m)\u001b[0m\u001b[0;34m\u001b[0m\u001b[0;34m\u001b[0m\u001b[0m\n\u001b[0;32m----> 2\u001b[0;31m \u001b[0mmyTuple\u001b[0m\u001b[0;34m.\u001b[0m\u001b[0mappend\u001b[0m\u001b[0;34m(\u001b[0m\u001b[0;36m6\u001b[0m\u001b[0;34m)\u001b[0m\u001b[0;34m\u001b[0m\u001b[0;34m\u001b[0m\u001b[0m\n\u001b[0m",
      "\u001b[0;31mAttributeError\u001b[0m: 'tuple' object has no attribute 'append'"
     ]
    }
   ],
   "source": [
    "myTuple = (1, 2, 3, 4, 5)\n",
    "myTuple.append(6)"
   ]
  },
  {
   "cell_type": "markdown",
   "metadata": {},
   "source": [
    "You can, however, search, index, and find attributes of `tuples` just as you would `lists`."
   ]
  },
  {
   "cell_type": "code",
   "execution_count": 49,
   "metadata": {},
   "outputs": [
    {
     "data": {
      "text/plain": [
       "(2, 3)"
      ]
     },
     "execution_count": 49,
     "metadata": {},
     "output_type": "execute_result"
    }
   ],
   "source": [
    "myTuple[1:3]"
   ]
  },
  {
   "cell_type": "code",
   "execution_count": 50,
   "metadata": {},
   "outputs": [
    {
     "data": {
      "text/plain": [
       "5"
      ]
     },
     "execution_count": 50,
     "metadata": {},
     "output_type": "execute_result"
    }
   ],
   "source": [
    "max(myTuple)"
   ]
  },
  {
   "cell_type": "code",
   "execution_count": 51,
   "metadata": {},
   "outputs": [
    {
     "data": {
      "text/plain": [
       "2"
      ]
     },
     "execution_count": 51,
     "metadata": {},
     "output_type": "execute_result"
    }
   ],
   "source": [
    "myTuple.index(3)"
   ]
  },
  {
   "cell_type": "markdown",
   "metadata": {},
   "source": [
    "### Dicts\n",
    "Dictionaries or `dicts` are hierarchical data structures that map items, consisting of keys and their corresponding values. Unlike `lists`, `dicts` are hashed, which means they are much faster and more efficient to search through. A `dict` is created with curly braces. There are a few ways of adding to a dictionary:"
   ]
  },
  {
   "cell_type": "code",
   "execution_count": 10,
   "metadata": {},
   "outputs": [],
   "source": [
    "myDict = {\"peanut butter\": \"jelly\"}\n",
    "\n",
    "#is equivalent to \n",
    "myDict = {}\n",
    "myDict[\"peanut butter\"] = \"jelly\""
   ]
  },
  {
   "cell_type": "markdown",
   "metadata": {},
   "source": [
    "While values can be any data type or structure, keys may only be immutable objects."
   ]
  },
  {
   "cell_type": "code",
   "execution_count": 11,
   "metadata": {},
   "outputs": [
    {
     "ename": "TypeError",
     "evalue": "unhashable type: 'list'",
     "output_type": "error",
     "traceback": [
      "\u001b[0;31m---------------------------------------------------------------------------\u001b[0m",
      "\u001b[0;31mTypeError\u001b[0m                                 Traceback (most recent call last)",
      "\u001b[0;32m<ipython-input-11-e980e9738b5f>\u001b[0m in \u001b[0;36m<module>\u001b[0;34m\u001b[0m\n\u001b[0;32m----> 1\u001b[0;31m \u001b[0mnums\u001b[0m \u001b[0;34m=\u001b[0m \u001b[0;34m{\u001b[0m\u001b[0;34m[\u001b[0m\u001b[0;36m1\u001b[0m\u001b[0;34m,\u001b[0m\u001b[0;36m2\u001b[0m\u001b[0;34m]\u001b[0m \u001b[0;34m:\u001b[0m \u001b[0;34m\"one and two\"\u001b[0m\u001b[0;34m}\u001b[0m\u001b[0;34m\u001b[0m\u001b[0;34m\u001b[0m\u001b[0m\n\u001b[0m\u001b[1;32m      2\u001b[0m \u001b[0mnums\u001b[0m\u001b[0;34m\u001b[0m\u001b[0;34m\u001b[0m\u001b[0m\n",
      "\u001b[0;31mTypeError\u001b[0m: unhashable type: 'list'"
     ]
    }
   ],
   "source": [
    "nums = {[1,2] : \"one and two\"}\n",
    "nums"
   ]
  },
  {
   "cell_type": "markdown",
   "metadata": {},
   "source": [
    "The principle function of `dicts` is to facilitate quick searching of associated values. If, say, I had a `dict` of phone numbers like the following:"
   ]
  },
  {
   "cell_type": "code",
   "execution_count": 12,
   "metadata": {},
   "outputs": [],
   "source": [
    "phoneNumbers = { 'joe' : 123456, 'mary': 5436789, 'phil': 2463579}"
   ]
  },
  {
   "cell_type": "markdown",
   "metadata": {},
   "source": [
    "I can find Joe's number by looking up the value associated with his name. As your data gets larger, this becomes much, much faster than looping over a list and checking whether each item is what you are looking for."
   ]
  },
  {
   "cell_type": "code",
   "execution_count": 13,
   "metadata": {},
   "outputs": [
    {
     "data": {
      "text/plain": [
       "123456"
      ]
     },
     "execution_count": 13,
     "metadata": {},
     "output_type": "execute_result"
    }
   ],
   "source": [
    "phoneNumbers['joe']\n",
    "\n",
    "#is equivalent to\n",
    "#phoneNumbers.get(\"joe\")"
   ]
  },
  {
   "cell_type": "markdown",
   "metadata": {},
   "source": [
    "You can see all of the key value pairs in your `dict` with `items`."
   ]
  },
  {
   "cell_type": "code",
   "execution_count": 58,
   "metadata": {},
   "outputs": [
    {
     "data": {
      "text/plain": [
       "dict_items([('joe', 123456), ('mary', 5436789), ('phil', 2463579)])"
      ]
     },
     "execution_count": 58,
     "metadata": {},
     "output_type": "execute_result"
    }
   ],
   "source": [
    "phoneNumbers.items()"
   ]
  },
  {
   "cell_type": "markdown",
   "metadata": {},
   "source": [
    "`keys` and `values` return all of the keys contained in your dictionary and all of the values, respectively"
   ]
  },
  {
   "cell_type": "code",
   "execution_count": 71,
   "metadata": {},
   "outputs": [
    {
     "data": {
      "text/plain": [
       "dict_keys(['joe', 'mary', 'phil'])"
      ]
     },
     "execution_count": 71,
     "metadata": {},
     "output_type": "execute_result"
    }
   ],
   "source": [
    "phoneNumbers.keys()"
   ]
  },
  {
   "cell_type": "code",
   "execution_count": 72,
   "metadata": {},
   "outputs": [
    {
     "data": {
      "text/plain": [
       "dict_values([123456, 5436789, 2463579])"
      ]
     },
     "execution_count": 72,
     "metadata": {},
     "output_type": "execute_result"
    }
   ],
   "source": [
    "phoneNumbers.values()"
   ]
  },
  {
   "cell_type": "markdown",
   "metadata": {},
   "source": [
    "You can check whether a key already exists in your dictionary with `in` operator. Note that keys must be unique, but values need not be."
   ]
  },
  {
   "cell_type": "code",
   "execution_count": 74,
   "metadata": {},
   "outputs": [
    {
     "data": {
      "text/plain": [
       "False"
      ]
     },
     "execution_count": 74,
     "metadata": {},
     "output_type": "execute_result"
    }
   ],
   "source": [
    "\"louise\" in phoneNumbers"
   ]
  },
  {
   "cell_type": "markdown",
   "metadata": {},
   "source": [
    "`Dicts` can be nested, which means that they can contain other `dicts` as values."
   ]
  },
  {
   "cell_type": "code",
   "execution_count": 75,
   "metadata": {},
   "outputs": [],
   "source": [
    "phoneNumbers[\"bill\"] = {}"
   ]
  },
  {
   "cell_type": "code",
   "execution_count": 76,
   "metadata": {},
   "outputs": [
    {
     "data": {
      "text/plain": [
       "{'joe': 123456,\n",
       " 'mary': 5436789,\n",
       " 'phil': 2463579,\n",
       " 'bill': {'home': 1234567, 'cell': 9876543}}"
      ]
     },
     "execution_count": 76,
     "metadata": {},
     "output_type": "execute_result"
    }
   ],
   "source": [
    "phoneNumbers[\"bill\"][\"home\"] = 1234567\n",
    "phoneNumbers[\"bill\"][\"cell\"] = 9876543\n",
    "phoneNumbers"
   ]
  },
  {
   "cell_type": "markdown",
   "metadata": {},
   "source": [
    "`Dicts` are unordered, which means they cannot be indexed. It does not make sense to ask for the \"first\" or \"last\" item in a dictionary because there is no inherent ordering to them. "
   ]
  },
  {
   "cell_type": "code",
   "execution_count": 77,
   "metadata": {},
   "outputs": [
    {
     "ename": "KeyError",
     "evalue": "2",
     "output_type": "error",
     "traceback": [
      "\u001b[1;31m---------------------------------------------------------------------------\u001b[0m",
      "\u001b[1;31mKeyError\u001b[0m                                  Traceback (most recent call last)",
      "\u001b[1;32m<ipython-input-77-f55013bbedde>\u001b[0m in \u001b[0;36m<module>\u001b[1;34m()\u001b[0m\n\u001b[1;32m----> 1\u001b[1;33m \u001b[0mphoneNumbers\u001b[0m\u001b[1;33m[\u001b[0m\u001b[1;36m2\u001b[0m\u001b[1;33m]\u001b[0m\u001b[1;33m\u001b[0m\u001b[0m\n\u001b[0m",
      "\u001b[1;31mKeyError\u001b[0m: 2"
     ]
    }
   ],
   "source": [
    "phoneNumbers[2]"
   ]
  },
  {
   "cell_type": "markdown",
   "metadata": {},
   "source": [
    "You can iterate over dictionaries using `tems` operator, but since they are unordered, the order they will follow is not defined, and not reliable."
   ]
  },
  {
   "cell_type": "code",
   "execution_count": 80,
   "metadata": {},
   "outputs": [
    {
     "name": "stdout",
     "output_type": "stream",
     "text": [
      "('joe', 123456)\n",
      "('mary', 5436789)\n",
      "('phil', 2463579)\n",
      "('bill', {'home': 1234567, 'cell': 9876543})\n"
     ]
    }
   ],
   "source": [
    "for a in phoneNumbers.items():\n",
    "    print (a)"
   ]
  },
  {
   "cell_type": "code",
   "execution_count": null,
   "metadata": {},
   "outputs": [],
   "source": []
  }
 ],
 "metadata": {
  "kernelspec": {
   "display_name": "Python 3",
   "language": "python",
   "name": "python3"
  },
  "language_info": {
   "codemirror_mode": {
    "name": "ipython",
    "version": 3
   },
   "file_extension": ".py",
   "mimetype": "text/x-python",
   "name": "python",
   "nbconvert_exporter": "python",
   "pygments_lexer": "ipython3",
   "version": "3.8.3"
  }
 },
 "nbformat": 4,
 "nbformat_minor": 2
}
