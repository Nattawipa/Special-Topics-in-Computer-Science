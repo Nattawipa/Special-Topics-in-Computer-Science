{
 "cells": [
  {
   "cell_type": "markdown",
   "metadata": {},
   "source": [
    "# Introduction to Jupyter notebook\n"
   ]
  },
  {
   "cell_type": "markdown",
   "metadata": {},
   "source": [
    "### Jupyter Notebook is a web application that allows you to create and share documents that contain:\n",
    " - live code (e.g. Python code)\n",
    " - visualizations\n",
    " - explanatory text (written in markdown syntax)\n",
    "\n",
    "\n",
    "### Jupyter Notebook is great for the following use cases:\n",
    "\n",
    "- learn and try out Python\n",
    "- data processing / transformation\n",
    "- numeric simulation\n",
    "- statistical modeling\n",
    "- machine learning"
   ]
  },
  {
   "cell_type": "markdown",
   "metadata": {},
   "source": [
    "#### we can now start Jupyter Notebook by using the following step:\n",
    "\n",
    "- open a `terminal` window such as Anaconda Prompt, Command Prompt, and MacOS Terminal \n",
    "        \n",
    "    \n",
    "- Enter the startup folder by typing `cd /some_folder_name`\n",
    "\n",
    "    &nbsp;&nbsp;&nbsp;&nbsp; $ cd &nbsp;C:\\Users\\myuser\\mynotebook\n",
    "    \n",
    "\n",
    "- Type `jupyter notebook` to launch the Jupyter Notebook App The notebook interface will appear in a new browser window or tab.\n",
    " \n",
    "    &nbsp;&nbsp;&nbsp;&nbsp; $ jupyter notebook\n",
    "\n",
    "![title](images_intro_jupy/0_DEAK_sdiIeXHAKpu.png)"
   ]
  },
  {
   "cell_type": "markdown",
   "metadata": {},
   "source": [
    "The web server is started and the Jupyter Notebook application is opened in your default browser automatically.<br> You should be able to see a browser output which is similar to the following screenshot:\n",
    "\n",
    "![title](images_intro_jupy/0_1ld_s2rVcaBV4qz3.png)\n",
    "\n",
    "The user interface of Jupyter Notebook is split up into three sections (tabs):\n",
    "\n",
    "- Files\n",
    "- Running\n",
    "- Clusters\n",
    "\n",
    "The default view is the Files tab from where you can open or create notebooks."
   ]
  },
  {
   "cell_type": "markdown",
   "metadata": {},
   "source": [
    "### Creating A New Notebook\n",
    "Creating a new Jupyter Notebook is easy. Just use the New dropdown menu and you’ll see the following options:\n",
    "\n",
    "![title](images_intro_jupy/0_XWMjr2mHHkhT8Fow.png)\n",
    "\n",
    "Select option Python 3 to open a new Jupyter Notebook for Python. The notebook is created and you should be able to see something similar to:\n",
    "\n",
    "![title](images_intro_jupy/0_HfAWlucpUVr13tfx.png)\n",
    "\n",
    "The notebook is created but still untitled. By clicking into the text “Untitled” on the top you can give it a name. By giving it a name the notebook will also be saved as a file of the same name with extension .ipynb. E.g. name the notebook notebook01:\n",
    "\n",
    "![title](images_intro_jupy/0_RgWibyGwBWvxkojW.png)\n",
    "\n",
    "\n",
    "Switching back to the Files tab you’ll be able to see a new file notebook01.ipynb:\n",
    "\n",
    "![title](images_intro_jupy/0_-OaA94IkjQiEr6ng.png)"
   ]
  },
  {
   "cell_type": "markdown",
   "metadata": {},
   "source": [
    "\n",
    "### Working With The Notebook\n",
    "\n",
    "The notebook itself consists of cells. A first empty cell is already available after having created the new notebook:\n",
    "\n",
    "![title](images_intro_jupy/0_de6IV8Z4YTNOnAwm.png)\n",
    "\n",
    "This cell is of type “Code” and you can start typing in Python code directly. Executing code in this cell can be done by either clicking on the run cell button or hitting Shift + Return keys:\n",
    "\n",
    "![title](images_intro_jupy/0_j8Y_D5yYa82sWh7F.png)\n",
    "\n",
    "The resulting output becomes visible right underneath the cell.\n",
    "\n",
    "The next empty code cell is created automatically and you can continue to add further code to that cell. \n",
    "\n",
    "You can change the cell type from Code to Markdown to include explanatory text in your notebook. To change the type you can use the dropdown input control:\n",
    "\n",
    "![title](images_intro_jupy/0_n8dio2fBcZmHugRJ.png)\n",
    "\n",
    "Once switched the type to Markdown you can start typing in markdown code:\n",
    "![title](images_intro_jupy/0_3Nsgz0pFhHRU6xYB.png)\n",
    "If you want to change the markdown code again you can simply click into the compiled result and the editor mode opens again.\n"
   ]
  },
  {
   "cell_type": "markdown",
   "metadata": {},
   "source": [
    "### Edit And Command Mode\n",
    "If a cell is active <strong> two modes </strong> distinguished:\n",
    "\n",
    "edit mode\n",
    "command mode\n",
    "If you just click in one cell the cell is opened in command mode which is indicated by a <font color='blue'>blue border</font> on the left:\n",
    "\n",
    "![title](images_intro_jupy/0_qHAE46ifSao2wea3.png)\n",
    "\n",
    "The edit mode is entered if you click into the code area of that cell. This mode is indicated by a <font color='green'>green border</font> on the left side of the cell:\n",
    "\n",
    "![title](images_intro_jupy/0_B-UKUubEdSf2xacg.png)\n",
    "\n",
    "If you’d like to leave edit mode and return to command mode again you just need to hit ESC.\n",
    "\n",
    "To get an overview of functions which are available in command and in edit mode you can open up the overview of key shortcuts by using menu entry Help → Keyboard Shortcuts:\n",
    "\n",
    "![title](images_intro_jupy/0_ICOKkD4CeDvtRFHD.png)\n"
   ]
  },
  {
   "cell_type": "markdown",
   "metadata": {},
   "source": [
    "### Checkpoints\n",
    "Another cool function of Jupyter Notebook is the ability to create checkpoint. \n",
    "By creating a checkpoint you’re storing the current state of the notebook so that you can later on go back to this checkpoint and revert changes which have been made to the notebook in the meantime.\n",
    "\n",
    "To create a new checkpoint for your notebook select menu item Save and Checkpoint from the File menu. The checkpoint is created and the notebook file is saved. If you want to go back to that checkpoint at a later point in time you need to select the corresponding checkpoint entry from menu <font color='green'>File → Revert to Checkpoint</font>.\n"
   ]
  },
  {
   "cell_type": "markdown",
   "metadata": {},
   "source": [
    "### Exporting The Notebook\n",
    "\n",
    "Jupyter Notebook gives you several options to export your notebook. Those options can be found in menu File → Download as:\n",
    "\n",
    "![title](images_intro_jupy/0_YszvWzqXaC3E9feT.png)"
   ]
  },
  {
   "cell_type": "markdown",
   "metadata": {},
   "source": [
    "### Open Jupyter Notebook file .ipynb\n",
    "\n",
    "- Copy a .ipynb file to your notebook folder ex. C:\\Users\\myuser\\mynotebook\n",
    "- Open a terminal window and go to the notebook folder\n",
    "\n",
    "    &nbsp;&nbsp;&nbsp;&nbsp; $ cd &nbsp; C:\\Users\\myuser\\mynotebook\n",
    "    \n",
    "    \n",
    "- Type jupyter notebook to launch the Jupyter Notebook App\n",
    "\n",
    "    &nbsp;&nbsp;&nbsp;&nbsp; $ jupyter notebook\n",
    "    \n",
    "\n",
    "\n"
   ]
  },
  {
   "cell_type": "markdown",
   "metadata": {},
   "source": [
    "#### References:\n",
    "[1] https://medium.com/codingthesmartway-com-blog/getting-started-with-jupyter-notebook-for-python-4e7082bd5d46 <br>\n",
    "[2] https://medium.com/ibm-data-science-experience/markdown-for-jupyter-notebooks-cheatsheet-386c05aeebed"
   ]
  }
 ],
 "metadata": {
  "kernelspec": {
   "display_name": "Python 3",
   "language": "python",
   "name": "python3"
  },
  "language_info": {
   "codemirror_mode": {
    "name": "ipython",
    "version": 3
   },
   "file_extension": ".py",
   "mimetype": "text/x-python",
   "name": "python",
   "nbconvert_exporter": "python",
   "pygments_lexer": "ipython3",
   "version": "3.7.1"
  }
 },
 "nbformat": 4,
 "nbformat_minor": 2
}
